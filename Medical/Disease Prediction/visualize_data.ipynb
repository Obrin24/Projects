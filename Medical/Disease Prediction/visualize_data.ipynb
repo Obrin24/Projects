{
 "cells": [
  {
   "cell_type": "code",
   "execution_count": null,
   "metadata": {},
   "outputs": [],
   "source": [
    "import seaborn as sns\n",
    "import matplotlib.pyplot as plt"
   ]
  },
  {
   "cell_type": "code",
   "execution_count": null,
   "metadata": {},
   "outputs": [],
   "source": [
    "def FeaturePlotting(features):\n",
    "    for feature in features:\n",
    "        plt.figure(figsize=(16, 12))\n",
    "        sns.countplot(y=X[feature], orient='horizontal')\n",
    "        plt.title(f'Value Counts of {feature}')\n",
    "        plt.xlabel('Count')\n",
    "        plt.ylabel(feature)\n",
    "        plt.tight_layout()\n",
    "        plt.show()"
   ]
  },
  {
   "cell_type": "code",
   "execution_count": null,
   "metadata": {},
   "outputs": [],
   "source": [
    "def WordCloud(symptoms):\n",
    "    symptom_wordcloud = WordCloud(width=800, height=400, background_color='white').generate(' '.join(symptoms))\n",
    "    plt.figure(figsize=(10, 5))\n",
    "    plt.imshow(symptom_wordcloud, interpolation='bilinear')\n",
    "    plt.axis('off')\n",
    "    plt.title('Symptom Word Cloud')\n",
    "    plt.show()"
   ]
  },
  {
   "cell_type": "code",
   "execution_count": null,
   "metadata": {},
   "outputs": [],
   "source": [
    "def Graph_Accuracy(train_losses,val_losses):\n",
    "    plt.plot(train_losses, label='Training Loss')\n",
    "    plt.plot(val_losses, label='Validation Loss')\n",
    "    plt.xlabel('Epoch')\n",
    "    plt.ylabel('Accuracy')\n",
    "    plt.legend()\n",
    "    plt.show()"
   ]
  },
  {
   "cell_type": "code",
   "execution_count": null,
   "metadata": {},
   "outputs": [],
   "source": [
    "def Graph_Loss(train_losses,val_losses):\n",
    "    plt.plot(train_losses, label='Training Loss')\n",
    "    plt.plot(val_losses, label='Validation Loss')\n",
    "    plt.xlabel('Epoch')\n",
    "    plt.ylabel('Loss')\n",
    "    plt.legend()\n",
    "    plt.show()"
   ]
  }
 ],
 "metadata": {
  "language_info": {
   "name": "python"
  }
 },
 "nbformat": 4,
 "nbformat_minor": 2
}
