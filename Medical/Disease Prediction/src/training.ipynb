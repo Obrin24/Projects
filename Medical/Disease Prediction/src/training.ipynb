{
 "cells": [
  {
   "cell_type": "code",
   "execution_count": null,
   "metadata": {},
   "outputs": [],
   "source": [
    "import torch\n",
    "import torch.nn as nn\n",
    "import torch.optim as optim\n",
    "from torch.utils.data import TensorDataset, DataLoader\n",
    "from sklearn.metrics import accuracy_score\n",
    "from sklearn.linear_model import LogisticRegression\n",
    "from sklearn.svm import SVC"
   ]
  },
  {
   "cell_type": "markdown",
   "metadata": {},
   "source": [
    "Train Logistic Regression:"
   ]
  },
  {
   "cell_type": "code",
   "execution_count": null,
   "metadata": {},
   "outputs": [],
   "source": [
    "def train_logistic_regression(X_train, y_train):\n",
    "    \"\"\"\n",
    "    Train a logistic regression model.\n",
    "\n",
    "    Parameters:\n",
    "    - X_train (array-like): Features of the training set.\n",
    "    - y_train (array-like): Target of the training set.\n",
    "\n",
    "    Returns:\n",
    "    - model: Trained logistic regression model.\n",
    "    \"\"\"\n",
    "    model = LogisticRegression()\n",
    "    model.fit(X_train, y_train)\n",
    "    return model"
   ]
  },
  {
   "cell_type": "markdown",
   "metadata": {},
   "source": [
    "Train SVM:"
   ]
  },
  {
   "cell_type": "code",
   "execution_count": null,
   "metadata": {},
   "outputs": [],
   "source": [
    "def train_svm(X_train, y_train, kernel='linear'):\n",
    "    \"\"\"\n",
    "    Train an SVM model.\n",
    "\n",
    "    Parameters:\n",
    "    - X_train (array-like): Features of the training set.\n",
    "    - y_train (array-like): Target of the training set.\n",
    "    - kernel (str): Kernel function for SVM (default='linear').\n",
    "\n",
    "    Returns:\n",
    "    - model: Trained SVM model.\n",
    "    \"\"\"\n",
    "    model = SVC(kernel=kernel)\n",
    "    model.fit(X_train, y_train)\n",
    "    return model"
   ]
  },
  {
   "cell_type": "markdown",
   "metadata": {},
   "source": [
    "Train FNN:"
   ]
  },
  {
   "cell_type": "code",
   "execution_count": null,
   "metadata": {},
   "outputs": [],
   "source": [
    "def train_fnn(X_train, y_train, input_size, num_epochs=10, batch_size=32):\n",
    "    \"\"\"\n",
    "    Train a feedforward neural network model using PyTorch.\n",
    "\n",
    "    Parameters:\n",
    "    - X_train (array-like): Features of the training set.\n",
    "    - y_train (array-like): Target of the training set.\n",
    "    - input_size (int): Number of input features.\n",
    "    - num_epochs (int): Number of training epochs (default=10).\n",
    "    - batch_size (int): Batch size for training (default=32).\n",
    "\n",
    "    Returns:\n",
    "    - model: Trained feedforward neural network model.\n",
    "    \"\"\"\n",
    "    # Convert numpy arrays to PyTorch tensors\n",
    "    X_train_tensor = torch.tensor(X_train, dtype=torch.float32)\n",
    "    y_train_tensor = torch.tensor(y_train, dtype=torch.float32).unsqueeze(1)  # Add a dimension for the single output\n",
    "\n",
    "    # Instantiate the model\n",
    "    model = FNNModel(input_size)\n",
    "\n",
    "    # Define loss function and optimizer\n",
    "    criterion = nn.BCELoss()  # Binary cross-entropy loss for binary classification\n",
    "    optimizer = optim.Adam(model.parameters())\n",
    "\n",
    "    # Define DataLoader for training\n",
    "    train_dataset = TensorDataset(X_train_tensor, y_train_tensor)\n",
    "    train_loader = DataLoader(train_dataset, batch_size=batch_size, shuffle=True)\n",
    "\n",
    "    # Train the model\n",
    "    for epoch in range(num_epochs):\n",
    "        for inputs, labels in train_loader:\n",
    "            optimizer.zero_grad()\n",
    "            outputs = model(inputs)\n",
    "            loss = criterion(outputs, labels)\n",
    "            loss.backward()\n",
    "            optimizer.step()\n",
    "\n",
    "    return model"
   ]
  },
  {
   "cell_type": "markdown",
   "metadata": {},
   "source": []
  }
 ],
 "metadata": {
  "kernelspec": {
   "display_name": "Python 3",
   "language": "python",
   "name": "python3"
  },
  "language_info": {
   "name": "python",
   "version": "3.12.2"
  }
 },
 "nbformat": 4,
 "nbformat_minor": 2
}
