{
 "cells": [
  {
   "cell_type": "code",
   "execution_count": null,
   "metadata": {},
   "outputs": [],
   "source": [
    "import torch\n",
    "from sklearn.metrics import accuracy_score"
   ]
  },
  {
   "cell_type": "code",
   "execution_count": null,
   "metadata": {},
   "outputs": [],
   "source": [
    "# Evaluation function for FNN\n",
    "def evaluate_fnn(model, X_test, y_test):\n",
    "    with torch.no_grad():\n",
    "        X_test_tensor = torch.tensor(X_test, dtype=torch.float32)\n",
    "        y_test_tensor = torch.tensor(y_test, dtype=torch.float32).unsqueeze(1)\n",
    "        outputs = model(X_test_tensor)\n",
    "        predicted = torch.round(outputs)\n",
    "        accuracy = accuracy_score(y_test_tensor.numpy(), predicted.numpy())\n",
    "        return accuracy"
   ]
  },
  {
   "cell_type": "code",
   "execution_count": null,
   "metadata": {},
   "outputs": [],
   "source": [
    "# Evaluation function for logistic regression\n",
    "def evaluate_logistic_regression(model, X_test, y_test):\n",
    "    \"\"\"\n",
    "    Evaluate a logistic regression model.\n",
    "\n",
    "    Parameters:\n",
    "    - model: Trained logistic regression model.\n",
    "    - X_test (array-like): Features of the testing set.\n",
    "    - y_test (array-like): Target of the testing set.\n",
    "\n",
    "    Returns:\n",
    "    - accuracy (float): Accuracy of the logistic regression model on the testing set.\n",
    "    \"\"\"\n",
    "    y_pred = model.predict(X_test)\n",
    "    accuracy = accuracy_score(y_test, y_pred)\n",
    "    return accuracy"
   ]
  },
  {
   "cell_type": "code",
   "execution_count": null,
   "metadata": {},
   "outputs": [],
   "source": [
    "# Evaluation function for SVM\n",
    "def evaluate_svm(model, X_test, y_test):\n",
    "    \"\"\"\n",
    "    Evaluate an SVM model.\n",
    "\n",
    "    Parameters:\n",
    "    - model: Trained SVM model.\n",
    "    - X_test (array-like): Features of the testing set.\n",
    "    - y_test (array-like): Target of the testing set.\n",
    "\n",
    "    Returns:\n",
    "    - accuracy (float): Accuracy of the SVM model on the testing set.\n",
    "    \"\"\"\n",
    "    y_pred = model.predict(X_test)\n",
    "    accuracy = accuracy_score(y_test, y_pred)\n",
    "    return accuracy"
   ]
  }
 ],
 "metadata": {
  "kernelspec": {
   "display_name": "Python 3",
   "language": "python",
   "name": "python3"
  },
  "language_info": {
   "name": "python",
   "version": "3.12.2"
  }
 },
 "nbformat": 4,
 "nbformat_minor": 2
}
