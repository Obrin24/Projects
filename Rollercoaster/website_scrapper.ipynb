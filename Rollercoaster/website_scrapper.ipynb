{
 "cells": [
  {
   "cell_type": "code",
   "execution_count": 2,
   "metadata": {},
   "outputs": [
    {
     "name": "stderr",
     "output_type": "stream",
     "text": [
      "C:\\Users\\gabeb\\AppData\\Local\\Temp\\ipykernel_14184\\2226318540.py:15: TqdmWarning: IProgress not found. Please update jupyter and ipywidgets. See https://ipywidgets.readthedocs.io/en/stable/user_install.html\n",
      "  from tqdm.autonotebook import tqdm\n"
     ]
    }
   ],
   "source": [
    "\n",
    "import numpy as np\n",
    "import pandas as pd\n",
    "import json\n",
    "import os\n",
    "\n",
    "import requests\n",
    "from bs4 import BeautifulSoup\n",
    "from selenium import webdriver\n",
    "from selenium.webdriver.chrome.options import Options\n",
    "from selenium.webdriver.chrome.service import Service\n",
    "from selenium.webdriver.common.by import By\n",
    "from selenium.webdriver.support.ui import WebDriverWait\n",
    "from selenium.webdriver.support import expected_conditions as EC\n",
    "\n",
    "from tqdm.autonotebook import tqdm"
   ]
  },
  {
   "cell_type": "code",
   "execution_count": 3,
   "metadata": {},
   "outputs": [],
   "source": [
    "# CHROME_BINARY_LOCATION = \"/usr/bin/chrome-linux64/chrome\"\n",
    "# CHROMEDRIVER_BINARY_LOCATION = \"/usr/bin/chromedriver-linux64/chromedriver\"\n",
    "chromedriver_path = 'C:/Users/gabeb/Desktop/programming/chromedriver-win64/chromedriver.exe'\n",
    "\n",
    "def add_driver_options(options):\n",
    "    \"\"\"\n",
    "    Add configurable options\n",
    "    \"\"\"\n",
    "    chrome_options = Options()\n",
    "    for opt in options:\n",
    "        chrome_options.add_argument(opt)\n",
    "    return chrome_options\n",
    "\n",
    "def initialize_driver():\n",
    "    \"\"\"\n",
    "    Initialize the web driverpip \n",
    "    \"\"\"\n",
    "    driver_config = {\n",
    "        \"options\": [\n",
    "            \"--headless\",\n",
    "            \"--no-sandbox\",\n",
    "            \"--start-fullscreen\",\n",
    "            \"--allow-insecure-localhost\",\n",
    "            \"--disable-dev-shm-usage\",\n",
    "            \"user-agent=Chrome/116.0.5845.96\"\n",
    "        ],\n",
    "    }\n",
    "    options = add_driver_options(driver_config[\"options\"])\n",
    "    # options.binary_location = CHROME_BINARY_LOCATION\n",
    "    driver = webdriver.Chrome(\n",
    "        executable_path=chromedriver_path,\n",
    "        options=options)\n",
    "    return driver"
   ]
  },
  {
   "cell_type": "code",
   "execution_count": 4,
   "metadata": {},
   "outputs": [],
   "source": [
    "def parse_rollercoaster_page(soup):\n",
    "    # Initialize variables to store information\n",
    "    city = region = country = make = None\n",
    "    trackStats = {}\n",
    "    image_urls = []\n",
    "\n",
    "    # Find location information\n",
    "    feature = soup.find('div', {\"id\": \"feature\"})\n",
    "    if feature:\n",
    "        descList = feature.findAll('div')\n",
    "        if descList:\n",
    "            desc = descList[0]\n",
    "            locationLinks = desc.findAll('a')\n",
    "            if len(locationLinks) == 3: # amusement park, city, country\n",
    "                city = locationLinks[1].contents[0]\n",
    "                region = locationLinks[1].contents[0]  # Assuming region is the same as city\n",
    "                country = locationLinks[2].contents[0]\n",
    "            else:\n",
    "                city = locationLinks[-3].contents[0]\n",
    "                region = locationLinks[-2].contents[0]\n",
    "                country = locationLinks[-1].contents[0]\n",
    "\n",
    "            # Find make information\n",
    "            if len(descList) >= 2:\n",
    "                make_link = descList[1].find('a')\n",
    "                if make_link:\n",
    "                    make = make_link.contents[0]\n",
    "\n",
    "    # Find track information\n",
    "    trackStatsTable = soup.find('table', {'class': 'stat-tbl'})\n",
    "    if trackStatsTable:\n",
    "        trackStatsTag = trackStatsTable.findAll('tr')\n",
    "        for tr in trackStatsTag:\n",
    "            key = tr.find('th').text.strip()\n",
    "            valueTag = tr.find('td')\n",
    "            if valueTag:\n",
    "                value = valueTag.text.strip()\n",
    "                if key == \"Elements\": # list of links\n",
    "                    value = [a.contents[0] for a in valueTag.findAll('a')]\n",
    "                elif valueTag.find('span', {'class': 'float'}) is not None: # float value\n",
    "                    unit = valueTag.contents[1].strip() if len(valueTag.contents) >= 2 else \"\"\n",
    "                    key = f\"{key} ({unit})\"\n",
    "                    value = valueTag.find('span', {'class': 'float'}).text.strip()\n",
    "            else:\n",
    "                value = None\n",
    "            trackStats[key] = value\n",
    "\n",
    "    # Find images\n",
    "    image_container = soup.find('a', {'id': 'opfanchor'})\n",
    "    if image_container:\n",
    "        image_tags = image_container.findAll('img')\n",
    "        for img in image_tags:\n",
    "            if img.has_attr('data-original'):  # Check if 'data-original' attribute exists\n",
    "                image_url = urljoin(rcdb_url, img['data-original'])  # Use 'data-original' attribute if available\n",
    "            else:\n",
    "                image_url = urljoin(rcdb_url, img['src'])  # Otherwise, fallback to 'src' attribute\n",
    "            image_urls.append(image_url)\n",
    "\n",
    "    return city, region, country, make, trackStats, image_urls\n",
    "\n",
    "def parse_rollercoaster_table_row(row):\n",
    "    # Get data from the table row\n",
    "    elements = row.findAll('td')\n",
    "    coasterName = elements[1].find('a').text.strip()\n",
    "    coasterLink = elements[1].find('a')['href']\n",
    "    amusementPark = elements[2].find('a').text.strip()\n",
    "    coasterType = elements[3].find('a').text.strip()\n",
    "    coasterDesign = elements[4].find('a').text.strip()\n",
    "    statusTag = elements[5].find('a')\n",
    "    status = statusTag.contents[0] if statusTag else \"Removed\"\n",
    "    openedTag = elements[6].find('time')\n",
    "    opened = openedTag.contents[0] if openedTag else \"unknown\"\n",
    "\n",
    "    # Get data from the coaster specific link\n",
    "    driver.get(f\"{rcdb_url}{coasterLink}\")\n",
    "    coaster_soup = BeautifulSoup(driver.page_source, 'html')\n",
    "    city, region, country, make, trackStats, image_urls = parse_rollercoaster_page(coaster_soup)\n",
    "\n",
    "    return {\n",
    "        'Name': coasterName, \n",
    "        'Amusement Park': amusementPark, \n",
    "        'Type': coasterType, \n",
    "        'Design': coasterDesign, \n",
    "        'Status': status, \n",
    "        'Opened': opened, \n",
    "        'City': city, \n",
    "        'Region': region, \n",
    "        'Country': country, \n",
    "        'Make': make,\n",
    "        **trackStats,\n",
    "        'Image URLs': image_urls\n",
    "    }\n"
   ]
  },
  {
   "cell_type": "code",
   "execution_count": 5,
   "metadata": {},
   "outputs": [
    {
     "name": "stdout",
     "output_type": "stream",
     "text": [
      "Total number of pages to iterate through: 497\n"
     ]
    },
    {
     "name": "stderr",
     "output_type": "stream",
     "text": [
      "  0%|          | 0/497 [00:00<?, ?it/s]"
     ]
    },
    {
     "name": "stdout",
     "output_type": "stream",
     "text": [
      "Getting information for page 1\n"
     ]
    },
    {
     "name": "stderr",
     "output_type": "stream",
     "text": [
      "  0%|          | 1/497 [00:03<27:43,  3.35s/it, amusementPark=Parque de Atracciones de Madrid, coasterName=Abismo]            "
     ]
    },
    {
     "name": "stdout",
     "output_type": "stream",
     "text": [
      "Getting information for page 2\n"
     ]
    },
    {
     "name": "stderr",
     "output_type": "stream",
     "text": [
      "  0%|          | 2/497 [00:06<27:54,  3.38s/it, amusementPark=Tatzmania Löffingen, coasterName=Achterbahn]          "
     ]
    },
    {
     "name": "stdout",
     "output_type": "stream",
     "text": [
      "Getting information for page 3\n"
     ]
    },
    {
     "name": "stderr",
     "output_type": "stream",
     "text": [
      "  1%|          | 3/497 [00:10<27:45,  3.37s/it, amusementPark=Riverview Park, coasterName=Aerial Coaster]           "
     ]
    },
    {
     "name": "stdout",
     "output_type": "stream",
     "text": [
      "Getting information for page 4\n"
     ]
    },
    {
     "name": "stderr",
     "output_type": "stream",
     "text": [
      "  1%|          | 4/497 [00:13<27:33,  3.35s/it, amusementPark=Star Park Lunapark, coasterName=Air Coaster]                "
     ]
    },
    {
     "name": "stdout",
     "output_type": "stream",
     "text": [
      "Getting information for page 5\n"
     ]
    },
    {
     "name": "stderr",
     "output_type": "stream",
     "text": [
      "  1%|          | 5/497 [00:16<27:53,  3.40s/it, amusementPark=Bobbejaanland, coasterName=Alpenblitz]                                   "
     ]
    },
    {
     "name": "stdout",
     "output_type": "stream",
     "text": [
      "Getting information for page 6\n"
     ]
    },
    {
     "name": "stderr",
     "output_type": "stream",
     "text": [
      "  1%|          | 6/497 [00:20<27:47,  3.40s/it, amusementPark=Golm, coasterName=Alpine-Coaster]                  "
     ]
    },
    {
     "name": "stdout",
     "output_type": "stream",
     "text": [
      "Getting information for page 7\n"
     ]
    },
    {
     "name": "stderr",
     "output_type": "stream",
     "text": [
      "  1%|▏         | 7/497 [00:23<27:16,  3.34s/it, amusementPark=Jindian Park, coasterName=Alpine Coaster]                    "
     ]
    },
    {
     "name": "stdout",
     "output_type": "stream",
     "text": [
      "Getting information for page 8\n"
     ]
    },
    {
     "name": "stderr",
     "output_type": "stream",
     "text": [
      "  2%|▏         | 8/497 [00:26<27:03,  3.32s/it, amusementPark=AltmühlBOB, coasterName=AltmühlBOB]                                                  "
     ]
    },
    {
     "name": "stdout",
     "output_type": "stream",
     "text": [
      "Getting information for page 9\n"
     ]
    },
    {
     "name": "stderr",
     "output_type": "stream",
     "text": [
      "  2%|▏         | 9/497 [00:30<27:22,  3.37s/it, amusementPark=Fantasy World, coasterName=Anaconda]                         "
     ]
    },
    {
     "name": "stdout",
     "output_type": "stream",
     "text": [
      "Getting information for page 10\n"
     ]
    },
    {
     "name": "stderr",
     "output_type": "stream",
     "text": [
      "  2%|▏         | 10/497 [00:33<27:18,  3.36s/it, amusementPark=Fantasia Luna Park, coasterName=Apple Coaster]               "
     ]
    },
    {
     "name": "stdout",
     "output_type": "stream",
     "text": [
      "Getting information for page 11\n"
     ]
    },
    {
     "name": "stderr",
     "output_type": "stream",
     "text": [
      "  2%|▏         | 11/497 [00:37<27:15,  3.36s/it, amusementPark=Sans Souci Park, coasterName=Ariel Railway]                   "
     ]
    },
    {
     "name": "stdout",
     "output_type": "stream",
     "text": [
      "Getting information for page 12\n"
     ]
    },
    {
     "name": "stderr",
     "output_type": "stream",
     "text": [
      "  2%|▏         | 12/497 [00:40<27:31,  3.41s/it, amusementPark=Beijing Shijingshan Amusement Park, coasterName=Atomic Coaster]     "
     ]
    },
    {
     "name": "stdout",
     "output_type": "stream",
     "text": [
      "Getting information for page 13\n"
     ]
    },
    {
     "name": "stderr",
     "output_type": "stream",
     "text": [
      "  3%|▎         | 13/497 [00:43<27:28,  3.41s/it, amusementPark=Babylon Park, coasterName=Babylon Spinning Coaster]                                      "
     ]
    },
    {
     "name": "stdout",
     "output_type": "stream",
     "text": [
      "Getting information for page 14\n"
     ]
    },
    {
     "name": "stderr",
     "output_type": "stream",
     "text": [
      "  3%|▎         | 14/497 [00:47<28:05,  3.49s/it, amusementPark=Yas Waterworld, coasterName=Bandit Bomber]                     "
     ]
    },
    {
     "name": "stdout",
     "output_type": "stream",
     "text": [
      "Getting information for page 15\n"
     ]
    },
    {
     "name": "stderr",
     "output_type": "stream",
     "text": [
      "  3%|▎         | 15/497 [00:51<28:27,  3.54s/it, amusementPark=Hamanako Pal Pal, coasterName=Batflyer]                     "
     ]
    },
    {
     "name": "stdout",
     "output_type": "stream",
     "text": [
      "Getting information for page 16\n"
     ]
    },
    {
     "name": "stderr",
     "output_type": "stream",
     "text": [
      "  3%|▎         | 16/497 [00:54<28:09,  3.51s/it, amusementPark=Six Flags Fiesta Texas, coasterName=Batman The Ride]        "
     ]
    },
    {
     "name": "stdout",
     "output_type": "stream",
     "text": [
      "Getting information for page 17\n"
     ]
    },
    {
     "name": "stderr",
     "output_type": "stream",
     "text": [
      "  3%|▎         | 17/497 [00:58<27:56,  3.49s/it, amusementPark=Canada's Wonderland, coasterName=Behemoth]                         "
     ]
    },
    {
     "name": "stdout",
     "output_type": "stream",
     "text": [
      "Getting information for page 18\n"
     ]
    },
    {
     "name": "stderr",
     "output_type": "stream",
     "text": [
      "  4%|▎         | 18/497 [01:00<26:16,  3.29s/it, amusementPark=Southport Pleasureland, coasterName=Big Apple]                   "
     ]
    },
    {
     "name": "stdout",
     "output_type": "stream",
     "text": [
      "Getting information for page 19\n"
     ]
    },
    {
     "name": "stderr",
     "output_type": "stream",
     "text": [
      "  4%|▍         | 19/497 [01:04<27:05,  3.40s/it, amusementPark=Busch Gardens Williamsburg, coasterName=Big Bad Wolf]            "
     ]
    },
    {
     "name": "stdout",
     "output_type": "stream",
     "text": [
      "Getting information for page 20\n"
     ]
    },
    {
     "name": "stderr",
     "output_type": "stream",
     "text": [
      "  4%|▍         | 20/497 [01:08<27:18,  3.44s/it, amusementPark=Battersea Fun Fair, coasterName=Big Dipper]             "
     ]
    },
    {
     "name": "stdout",
     "output_type": "stream",
     "text": [
      "Getting information for page 21\n"
     ]
    },
    {
     "name": "stderr",
     "output_type": "stream",
     "text": [
      "  4%|▍         | 21/497 [01:11<26:18,  3.32s/it, amusementPark=Luna Park, coasterName=Big Dipper]                     "
     ]
    },
    {
     "name": "stdout",
     "output_type": "stream",
     "text": [
      "Getting information for page 22\n"
     ]
    },
    {
     "name": "stderr",
     "output_type": "stream",
     "text": [
      "  4%|▍         | 22/497 [01:14<26:34,  3.36s/it, amusementPark=Longhu Park, coasterName=Big Worm]                                           "
     ]
    },
    {
     "name": "stdout",
     "output_type": "stream",
     "text": [
      "Getting information for page 23\n"
     ]
    },
    {
     "name": "stderr",
     "output_type": "stream",
     "text": [
      "  5%|▍         | 23/497 [01:18<26:36,  3.37s/it, amusementPark=Magic Harbor, coasterName=Black Witch]                                                "
     ]
    },
    {
     "name": "stdout",
     "output_type": "stream",
     "text": [
      "Getting information for page 24\n"
     ]
    },
    {
     "name": "stderr",
     "output_type": "stream",
     "text": [
      "  5%|▍         | 24/497 [01:21<26:25,  3.35s/it, amusementPark=Lucky Star Park, coasterName=Blizzard]                     "
     ]
    },
    {
     "name": "stdout",
     "output_type": "stream",
     "text": [
      "Getting information for page 25\n"
     ]
    },
    {
     "name": "stderr",
     "output_type": "stream",
     "text": [
      "  5%|▌         | 25/497 [01:24<26:14,  3.34s/it, amusementPark=Wonderland, coasterName=Blue Streak Racer]                                       "
     ]
    },
    {
     "name": "stdout",
     "output_type": "stream",
     "text": [
      "Getting information for page 26\n"
     ]
    },
    {
     "name": "stderr",
     "output_type": "stream",
     "text": [
      "  5%|▌         | 26/497 [01:28<26:50,  3.42s/it, amusementPark=Artesina, coasterName=Bob Estivo]                            "
     ]
    },
    {
     "name": "stdout",
     "output_type": "stream",
     "text": [
      "Getting information for page 27\n"
     ]
    },
    {
     "name": "stderr",
     "output_type": "stream",
     "text": [
      "  5%|▌         | 27/497 [01:31<26:41,  3.41s/it, amusementPark=Bobovka Němčičky, coasterName=Bobovka]                            "
     ]
    },
    {
     "name": "stdout",
     "output_type": "stream",
     "text": [
      "Getting information for page 28\n"
     ]
    },
    {
     "name": "stderr",
     "output_type": "stream",
     "text": [
      "  6%|▌         | 28/497 [01:34<26:30,  3.39s/it, amusementPark=Sendaviva, coasterName=Bobsleigh]                                    "
     ]
    },
    {
     "name": "stdout",
     "output_type": "stream",
     "text": [
      "Getting information for page 29\n"
     ]
    },
    {
     "name": "stderr",
     "output_type": "stream",
     "text": [
      "  6%|▌         | 29/497 [01:38<26:24,  3.39s/it, amusementPark=Six Flags Darien Lake, coasterName=Boomerang]              "
     ]
    },
    {
     "name": "stdout",
     "output_type": "stream",
     "text": [
      "Getting information for page 30\n"
     ]
    },
    {
     "name": "stderr",
     "output_type": "stream",
     "text": [
      "  6%|▌         | 30/497 [01:42<26:57,  3.46s/it, amusementPark=Rafaela Padilla, coasterName=Boomerang]                  "
     ]
    },
    {
     "name": "stdout",
     "output_type": "stream",
     "text": [
      "Getting information for page 31\n"
     ]
    },
    {
     "name": "stderr",
     "output_type": "stream",
     "text": [
      "  6%|▌         | 31/497 [01:45<26:26,  3.40s/it, amusementPark=Wonder Zone, coasterName=Boramae Coaser]                                "
     ]
    },
    {
     "name": "stdout",
     "output_type": "stream",
     "text": [
      "Getting information for page 32\n"
     ]
    },
    {
     "name": "stderr",
     "output_type": "stream",
     "text": [
      "  6%|▋         | 32/497 [01:48<25:50,  3.33s/it, amusementPark=City Games, coasterName=Brocomela]                                "
     ]
    },
    {
     "name": "stdout",
     "output_type": "stream",
     "text": [
      "Getting information for page 33\n"
     ]
    },
    {
     "name": "stderr",
     "output_type": "stream",
     "text": [
      "  7%|▋         | 33/497 [01:51<25:24,  3.29s/it, amusementPark=Edenlandia, coasterName=Bruco]                                             "
     ]
    },
    {
     "name": "stdout",
     "output_type": "stream",
     "text": [
      "Getting information for page 34\n"
     ]
    },
    {
     "name": "stderr",
     "output_type": "stream",
     "text": [
      "  7%|▋         | 34/497 [01:54<25:33,  3.31s/it, amusementPark=Adventure City, coasterName=Brucomela]                 "
     ]
    },
    {
     "name": "stdout",
     "output_type": "stream",
     "text": [
      "Getting information for page 35\n"
     ]
    },
    {
     "name": "stderr",
     "output_type": "stream",
     "text": [
      "  7%|▋         | 35/497 [01:58<25:53,  3.36s/it, amusementPark=Peter Park, coasterName=Brucomela]             "
     ]
    },
    {
     "name": "stdout",
     "output_type": "stream",
     "text": [
      "Getting information for page 36\n"
     ]
    },
    {
     "name": "stderr",
     "output_type": "stream",
     "text": [
      "  7%|▋         | 36/497 [02:01<26:01,  3.39s/it, amusementPark=American Park, coasterName=Bufallo Bill]                         "
     ]
    },
    {
     "name": "stdout",
     "output_type": "stream",
     "text": [
      "Getting information for page 37\n"
     ]
    },
    {
     "name": "stderr",
     "output_type": "stream",
     "text": [
      "  7%|▋         | 37/497 [02:05<25:56,  3.38s/it, amusementPark=Sun Tribe, coasterName=Bull Fight in the Sky]           "
     ]
    },
    {
     "name": "stdout",
     "output_type": "stream",
     "text": [
      "Getting information for page 38\n"
     ]
    },
    {
     "name": "stderr",
     "output_type": "stream",
     "text": [
      "  8%|▊         | 38/497 [02:08<25:37,  3.35s/it, amusementPark=Sport+Freizeitzentrum Hohenbogen, coasterName=Butterfly]"
     ]
    },
    {
     "name": "stdout",
     "output_type": "stream",
     "text": [
      "Getting information for page 39\n"
     ]
    },
    {
     "name": "stderr",
     "output_type": "stream",
     "text": [
      "  8%|▊         | 39/497 [02:11<25:25,  3.33s/it, amusementPark=1. Kärntner Erlebnispark, coasterName=Butterfly]        "
     ]
    },
    {
     "name": "stdout",
     "output_type": "stream",
     "text": [
      "Getting information for page 40\n"
     ]
    },
    {
     "name": "stderr",
     "output_type": "stream",
     "text": [
      "  8%|▊         | 40/497 [02:15<25:26,  3.34s/it, amusementPark=Affen- und Vogelpark, coasterName=Butterfly]                "
     ]
    },
    {
     "name": "stdout",
     "output_type": "stream",
     "text": [
      "Getting information for page 41\n"
     ]
    },
    {
     "name": "stderr",
     "output_type": "stream",
     "text": [
      "  8%|▊         | 41/497 [02:18<25:34,  3.37s/it, amusementPark=Nasu Highland Park, coasterName=Camel Coaster]        "
     ]
    },
    {
     "name": "stdout",
     "output_type": "stream",
     "text": [
      "Getting information for page 42\n"
     ]
    },
    {
     "name": "stderr",
     "output_type": "stream",
     "text": [
      "  8%|▊         | 42/497 [02:21<25:21,  3.34s/it, amusementPark=Canobie Lake Park, coasterName=Canobie Corkscrew]                         "
     ]
    },
    {
     "name": "stdout",
     "output_type": "stream",
     "text": [
      "Getting information for page 43\n"
     ]
    },
    {
     "name": "stderr",
     "output_type": "stream",
     "text": [
      "  9%|▊         | 43/497 [02:25<25:39,  3.39s/it, amusementPark=Parque Fiesta Aventuras, coasterName=Catariños]                                     "
     ]
    },
    {
     "name": "stdout",
     "output_type": "stream",
     "text": [
      "Getting information for page 44\n"
     ]
    },
    {
     "name": "stderr",
     "output_type": "stream",
     "text": [
      "  9%|▉         | 44/497 [02:28<25:14,  3.34s/it, amusementPark=Flamingo Park, coasterName=Caterpillar]                   "
     ]
    },
    {
     "name": "stdout",
     "output_type": "stream",
     "text": [
      "Getting information for page 45\n"
     ]
    },
    {
     "name": "stderr",
     "output_type": "stream",
     "text": [
      "  9%|▉         | 45/497 [02:31<24:58,  3.32s/it, amusementPark=Gorky Park, coasterName=Caterpillar]                        "
     ]
    },
    {
     "name": "stdout",
     "output_type": "stream",
     "text": [
      "Getting information for page 46\n"
     ]
    },
    {
     "name": "stderr",
     "output_type": "stream",
     "text": [
      "  9%|▉         | 46/497 [02:35<25:32,  3.40s/it, amusementPark=PKiO im.Yu.Gagarina, coasterName=Caterpillar]                 "
     ]
    },
    {
     "name": "stdout",
     "output_type": "stream",
     "text": [
      "Getting information for page 47\n"
     ]
    },
    {
     "name": "stderr",
     "output_type": "stream",
     "text": [
      "  9%|▉         | 47/497 [02:38<24:57,  3.33s/it, amusementPark=Alabama Adventure & Splash Adventure, coasterName=Centi-SPEED]           "
     ]
    },
    {
     "name": "stdout",
     "output_type": "stream",
     "text": [
      "Getting information for page 48\n"
     ]
    },
    {
     "name": "stderr",
     "output_type": "stream",
     "text": [
      " 10%|▉         | 48/497 [02:42<25:12,  3.37s/it, amusementPark=Flamingo Park, coasterName=Chenille]                                      "
     ]
    },
    {
     "name": "stdout",
     "output_type": "stream",
     "text": [
      "Getting information for page 49\n"
     ]
    },
    {
     "name": "stderr",
     "output_type": "stream",
     "text": [
      " 10%|▉         | 49/497 [02:45<25:06,  3.36s/it, amusementPark=Nagashima Spa Land, coasterName=Children Coaster]        "
     ]
    },
    {
     "name": "stdout",
     "output_type": "stream",
     "text": [
      "Getting information for page 50\n"
     ]
    },
    {
     "name": "stderr",
     "output_type": "stream",
     "text": [
      " 10%|█         | 50/497 [02:48<24:56,  3.35s/it, amusementPark=Xetulul, coasterName=Choconoy]                                      "
     ]
    },
    {
     "name": "stdout",
     "output_type": "stream",
     "text": [
      "Getting information for page 51\n"
     ]
    },
    {
     "name": "stderr",
     "output_type": "stream",
     "text": [
      " 10%|█         | 51/497 [02:51<24:27,  3.29s/it, amusementPark=Sanaa City Park, coasterName=Circus Clown]                  "
     ]
    },
    {
     "name": "stdout",
     "output_type": "stream",
     "text": [
      "Getting information for page 52\n"
     ]
    },
    {
     "name": "stderr",
     "output_type": "stream",
     "text": [
      " 10%|█         | 52/497 [02:55<24:27,  3.30s/it, amusementPark=Fantawild Wonderland, coasterName=Cloud Shuttle]         "
     ]
    },
    {
     "name": "stdout",
     "output_type": "stream",
     "text": [
      "Getting information for page 53\n"
     ]
    },
    {
     "name": "stderr",
     "output_type": "stream",
     "text": [
      " 11%|█         | 53/497 [02:58<24:11,  3.27s/it, amusementPark=Noroyama Amusement Park, coasterName=Coaster]                     "
     ]
    },
    {
     "name": "stdout",
     "output_type": "stream",
     "text": [
      "Getting information for page 54\n"
     ]
    },
    {
     "name": "stderr",
     "output_type": "stream",
     "text": [
      " 11%|█         | 54/497 [03:01<24:18,  3.29s/it, amusementPark=West Midland Safari Park, coasterName=Cobra]                               "
     ]
    },
    {
     "name": "stdout",
     "output_type": "stream",
     "text": [
      "Getting information for page 55\n"
     ]
    },
    {
     "name": "stderr",
     "output_type": "stream",
     "text": [
      " 11%|█         | 55/497 [03:05<24:22,  3.31s/it, amusementPark=Walibi Belgium, coasterName=Coccinelle]                    "
     ]
    },
    {
     "name": "stdout",
     "output_type": "stream",
     "text": [
      "Getting information for page 56\n"
     ]
    },
    {
     "name": "stderr",
     "output_type": "stream",
     "text": [
      " 11%|█▏        | 56/497 [03:08<23:58,  3.26s/it, amusementPark=Crystal Beach, coasterName=Comet]                                                             "
     ]
    },
    {
     "name": "stdout",
     "output_type": "stream",
     "text": [
      "Getting information for page 57\n"
     ]
    },
    {
     "name": "stderr",
     "output_type": "stream",
     "text": [
      " 11%|█▏        | 57/497 [03:11<24:02,  3.28s/it, amusementPark=Forest Park, coasterName=Comet]                                    "
     ]
    },
    {
     "name": "stdout",
     "output_type": "stream",
     "text": [
      "Getting information for page 58\n"
     ]
    },
    {
     "name": "stderr",
     "output_type": "stream",
     "text": [
      " 12%|█▏        | 58/497 [03:14<23:25,  3.20s/it, amusementPark=Crescent Park, coasterName=Comet Jr.]                     "
     ]
    },
    {
     "name": "stdout",
     "output_type": "stream",
     "text": [
      "Getting information for page 59\n"
     ]
    },
    {
     "name": "stderr",
     "output_type": "stream",
     "text": [
      " 12%|█▏        | 59/497 [03:18<24:29,  3.35s/it, amusementPark=Nagashima Spa Land, coasterName=Corkscrew]                          "
     ]
    },
    {
     "name": "stdout",
     "output_type": "stream",
     "text": [
      "Getting information for page 60\n"
     ]
    },
    {
     "name": "stderr",
     "output_type": "stream",
     "text": [
      " 12%|█▏        | 60/497 [03:21<24:28,  3.36s/it, amusementPark=Agorix Temapark, coasterName=Cosmic Coaster]                                      "
     ]
    },
    {
     "name": "stdout",
     "output_type": "stream",
     "text": [
      "Getting information for page 61\n"
     ]
    },
    {
     "name": "stderr",
     "output_type": "stream",
     "text": [
      " 12%|█▏        | 61/497 [03:24<23:59,  3.30s/it, amusementPark=Trans Studio Mini, coasterName=Crazy Cab Coaster]                   "
     ]
    },
    {
     "name": "stdout",
     "output_type": "stream",
     "text": [
      "Getting information for page 62\n"
     ]
    },
    {
     "name": "stderr",
     "output_type": "stream",
     "text": [
      " 12%|█▏        | 62/497 [03:28<23:57,  3.31s/it, amusementPark=Jacquou Parc, coasterName=Crazy Coaster]                      "
     ]
    },
    {
     "name": "stdout",
     "output_type": "stream",
     "text": [
      "Getting information for page 63\n"
     ]
    },
    {
     "name": "stderr",
     "output_type": "stream",
     "text": [
      " 13%|█▎        | 63/497 [03:31<23:39,  3.27s/it, amusementPark=Tama Tech Motopia, coasterName=Crazy Loop]                      "
     ]
    },
    {
     "name": "stdout",
     "output_type": "stream",
     "text": [
      "Getting information for page 64\n"
     ]
    },
    {
     "name": "stderr",
     "output_type": "stream",
     "text": [
      " 13%|█▎        | 64/497 [03:34<23:25,  3.25s/it, amusementPark=Children's Grand Park, coasterName=Crazy Mouse]                "
     ]
    },
    {
     "name": "stdout",
     "output_type": "stream",
     "text": [
      "Getting information for page 65\n"
     ]
    },
    {
     "name": "stderr",
     "output_type": "stream",
     "text": [
      " 13%|█▎        | 65/497 [03:37<23:00,  3.19s/it, amusementPark=Longhu Park, coasterName=Crazy Mouse]                                                    "
     ]
    },
    {
     "name": "stdout",
     "output_type": "stream",
     "text": [
      "Getting information for page 66\n"
     ]
    },
    {
     "name": "stderr",
     "output_type": "stream",
     "text": [
      " 13%|█▎        | 66/497 [03:41<23:19,  3.25s/it, amusementPark=Da Wu Hot Spring Resort, coasterName=Crazy Mouse]           "
     ]
    },
    {
     "name": "stdout",
     "output_type": "stream",
     "text": [
      "Getting information for page 67\n"
     ]
    },
    {
     "name": "stderr",
     "output_type": "stream",
     "text": [
      " 13%|█▎        | 67/497 [03:44<22:49,  3.19s/it, amusementPark=Quan Lin Happy World, coasterName=Crazy Roller Coaster]       "
     ]
    },
    {
     "name": "stdout",
     "output_type": "stream",
     "text": [
      "Getting information for page 68\n"
     ]
    },
    {
     "name": "stderr",
     "output_type": "stream",
     "text": [
      " 14%|█▎        | 68/497 [03:47<22:45,  3.18s/it, amusementPark=Trans Studio Mini, coasterName=Crazy Taxi India]                 "
     ]
    },
    {
     "name": "stdout",
     "output_type": "stream",
     "text": [
      "Getting information for page 69\n"
     ]
    },
    {
     "name": "stderr",
     "output_type": "stream",
     "text": [
      " 14%|█▍        | 69/497 [03:50<22:47,  3.20s/it, amusementPark=Funtastic Park, coasterName=Creature Coaster]                      "
     ]
    },
    {
     "name": "stdout",
     "output_type": "stream",
     "text": [
      "Getting information for page 70\n"
     ]
    },
    {
     "name": "stderr",
     "output_type": "stream",
     "text": [
      " 14%|█▍        | 70/497 [03:53<22:52,  3.21s/it, amusementPark=Grove Land, coasterName=Cyber Space]                                          "
     ]
    },
    {
     "name": "stdout",
     "output_type": "stream",
     "text": [
      "Getting information for page 71\n"
     ]
    },
    {
     "name": "stderr",
     "output_type": "stream",
     "text": [
      " 14%|█▍        | 71/497 [03:56<22:34,  3.18s/it, amusementPark=Southport Pleasureland, coasterName=Cyclone]                        "
     ]
    },
    {
     "name": "stdout",
     "output_type": "stream",
     "text": [
      "Getting information for page 72\n"
     ]
    },
    {
     "name": "stderr",
     "output_type": "stream",
     "text": [
      " 14%|█▍        | 72/497 [04:00<22:31,  3.18s/it, amusementPark=Fantasy Forest at the Flushing Meadows Carousel, coasterName=Cyclone]"
     ]
    },
    {
     "name": "stdout",
     "output_type": "stream",
     "text": [
      "Getting information for page 73\n"
     ]
    },
    {
     "name": "stderr",
     "output_type": "stream",
     "text": [
      " 15%|█▍        | 73/497 [04:02<21:51,  3.09s/it, amusementPark=P-6 Farms, coasterName=Cyclone]                                      "
     ]
    },
    {
     "name": "stdout",
     "output_type": "stream",
     "text": [
      "Getting information for page 74\n"
     ]
    },
    {
     "name": "stderr",
     "output_type": "stream",
     "text": [
      " 15%|█▍        | 74/497 [04:06<22:11,  3.15s/it, amusementPark=Expoland, coasterName=Daidarasaurus]                         "
     ]
    },
    {
     "name": "stdout",
     "output_type": "stream",
     "text": [
      "Getting information for page 75\n"
     ]
    },
    {
     "name": "stderr",
     "output_type": "stream",
     "text": [
      " 15%|█▌        | 75/497 [04:09<22:36,  3.22s/it, amusementPark=Electric Park, coasterName=Dazy Dazer]                   "
     ]
    },
    {
     "name": "stdout",
     "output_type": "stream",
     "text": [
      "Getting information for page 76\n"
     ]
    },
    {
     "name": "stderr",
     "output_type": "stream",
     "text": [
      " 15%|█▌        | 76/497 [04:12<21:53,  3.12s/it, amusementPark=Kolmården, coasterName=Delfinexpressen]                      "
     ]
    },
    {
     "name": "stdout",
     "output_type": "stream",
     "text": [
      "Getting information for page 77\n"
     ]
    },
    {
     "name": "stderr",
     "output_type": "stream",
     "text": [
      " 15%|█▌        | 77/497 [04:16<23:19,  3.33s/it, amusementPark=Castles n' Coasters, coasterName=Desert Storm]   "
     ]
    },
    {
     "name": "stdout",
     "output_type": "stream",
     "text": [
      "Getting information for page 78\n"
     ]
    },
    {
     "name": "stderr",
     "output_type": "stream",
     "text": [
      " 16%|█▌        | 78/497 [04:19<23:45,  3.40s/it, amusementPark=RitterRost - Magic Park Verden, coasterName=Die! Wilde Maus]     "
     ]
    },
    {
     "name": "stdout",
     "output_type": "stream",
     "text": [
      "Getting information for page 79\n"
     ]
    },
    {
     "name": "stderr",
     "output_type": "stream",
     "text": [
      " 16%|█▌        | 79/497 [04:23<23:32,  3.38s/it, amusementPark=Wicksteed Park, coasterName=Dinosaur Valley]                "
     ]
    },
    {
     "name": "stdout",
     "output_type": "stream",
     "text": [
      "Getting information for page 80\n"
     ]
    },
    {
     "name": "stderr",
     "output_type": "stream",
     "text": [
      " 16%|█▌        | 80/497 [04:26<23:09,  3.33s/it, amusementPark=Mainstay Farm, coasterName=Dipsy Doodle]                "
     ]
    },
    {
     "name": "stdout",
     "output_type": "stream",
     "text": [
      "Getting information for page 81\n"
     ]
    },
    {
     "name": "stderr",
     "output_type": "stream",
     "text": [
      " 16%|█▋        | 81/497 [04:29<22:55,  3.31s/it, amusementPark=Janfusun Fancyworld, coasterName=Diving Machine G5]             "
     ]
    },
    {
     "name": "stdout",
     "output_type": "stream",
     "text": [
      "Getting information for page 82\n"
     ]
    },
    {
     "name": "stderr",
     "output_type": "stream",
     "text": [
      " 16%|█▋        | 82/497 [04:32<22:44,  3.29s/it, amusementPark=Jiguan Cave, coasterName=Dongtian Flying Dragon]                 "
     ]
    },
    {
     "name": "stdout",
     "output_type": "stream",
     "text": [
      "Getting information for page 83\n"
     ]
    },
    {
     "name": "stderr",
     "output_type": "stream",
     "text": [
      " 17%|█▋        | 83/497 [04:36<22:47,  3.30s/it, amusementPark=Freizeitpark Plohn, coasterName=Drachenwirbel]                        "
     ]
    },
    {
     "name": "stdout",
     "output_type": "stream",
     "text": [
      "Getting information for page 84\n"
     ]
    },
    {
     "name": "stderr",
     "output_type": "stream",
     "text": [
      " 17%|█▋        | 84/497 [04:39<22:55,  3.33s/it, amusementPark=Legoland Windsor, coasterName=Dragon]              "
     ]
    },
    {
     "name": "stdout",
     "output_type": "stream",
     "text": [
      "Getting information for page 85\n"
     ]
    },
    {
     "name": "stderr",
     "output_type": "stream",
     "text": [
      " 17%|█▋        | 85/497 [04:42<22:27,  3.27s/it, amusementPark=Gulf Shores Amusement Park, coasterName=Dragon]                "
     ]
    },
    {
     "name": "stdout",
     "output_type": "stream",
     "text": [
      "Getting information for page 86\n"
     ]
    },
    {
     "name": "stderr",
     "output_type": "stream",
     "text": [
      " 17%|█▋        | 86/497 [04:45<21:46,  3.18s/it, amusementPark=Black Thunder, coasterName=Dragon]                          "
     ]
    },
    {
     "name": "stdout",
     "output_type": "stream",
     "text": [
      "Getting information for page 87\n"
     ]
    },
    {
     "name": "stderr",
     "output_type": "stream",
     "text": [
      " 18%|█▊        | 87/497 [04:48<21:45,  3.18s/it, amusementPark=Parque J.M. Romo, coasterName=Dragon]       "
     ]
    },
    {
     "name": "stdout",
     "output_type": "stream",
     "text": [
      "Getting information for page 88\n"
     ]
    },
    {
     "name": "stderr",
     "output_type": "stream",
     "text": [
      " 18%|█▊        | 88/497 [04:52<21:54,  3.21s/it, amusementPark=Jannat Al-Ahlam, coasterName=Dragon]         "
     ]
    },
    {
     "name": "stdout",
     "output_type": "stream",
     "text": [
      "Getting information for page 89\n"
     ]
    },
    {
     "name": "stderr",
     "output_type": "stream",
     "text": [
      " 18%|█▊        | 89/497 [04:55<21:29,  3.16s/it, amusementPark=Tatrapolis Ostrov Fantázie, coasterName=Dragon]            "
     ]
    },
    {
     "name": "stdout",
     "output_type": "stream",
     "text": [
      "Getting information for page 90\n"
     ]
    },
    {
     "name": "stderr",
     "output_type": "stream",
     "text": [
      " 18%|█▊        | 90/497 [04:58<21:28,  3.17s/it, amusementPark=World Design Exposition 1989, coasterName=Dragon]                  "
     ]
    },
    {
     "name": "stdout",
     "output_type": "stream",
     "text": [
      "Getting information for page 91\n"
     ]
    },
    {
     "name": "stderr",
     "output_type": "stream",
     "text": [
      " 18%|█▊        | 91/497 [05:01<21:13,  3.14s/it, amusementPark=Vertical Endeavors, coasterName=Dragon Coaster]                      "
     ]
    },
    {
     "name": "stdout",
     "output_type": "stream",
     "text": [
      "Getting information for page 92\n"
     ]
    },
    {
     "name": "stderr",
     "output_type": "stream",
     "text": [
      " 19%|█▊        | 92/497 [05:05<21:56,  3.25s/it, amusementPark=EVP World, coasterName=Dragon Coaster]                               "
     ]
    },
    {
     "name": "stdout",
     "output_type": "stream",
     "text": [
      "Getting information for page 93\n"
     ]
    },
    {
     "name": "stderr",
     "output_type": "stream",
     "text": [
      " 19%|█▊        | 93/497 [05:08<22:03,  3.28s/it, amusementPark=Hiroshi Seto Ohashi '88, coasterName=Dragon Coaster]          "
     ]
    },
    {
     "name": "stdout",
     "output_type": "stream",
     "text": [
      "Getting information for page 94\n"
     ]
    },
    {
     "name": "stderr",
     "output_type": "stream",
     "text": [
      " 19%|█▉        | 94/497 [05:11<21:56,  3.27s/it, amusementPark=Motiongate, coasterName=Dragon Gliders]                           "
     ]
    },
    {
     "name": "stdout",
     "output_type": "stream",
     "text": [
      "Getting information for page 95\n"
     ]
    },
    {
     "name": "stderr",
     "output_type": "stream",
     "text": [
      " 19%|█▉        | 95/497 [05:14<22:08,  3.30s/it, amusementPark=Kolomenskoye, coasterName=Dragon Roller Coaster]                       "
     ]
    },
    {
     "name": "stdout",
     "output_type": "stream",
     "text": [
      "Getting information for page 96\n"
     ]
    },
    {
     "name": "stderr",
     "output_type": "stream",
     "text": [
      " 19%|█▉        | 96/497 [05:18<22:09,  3.31s/it, amusementPark=Istiqlol Bolalar Bog’i, coasterName=Dragon Train]                    "
     ]
    },
    {
     "name": "stdout",
     "output_type": "stream",
     "text": [
      "Getting information for page 97\n"
     ]
    },
    {
     "name": "stderr",
     "output_type": "stream",
     "text": [
      " 20%|█▉        | 97/497 [05:21<21:53,  3.28s/it, amusementPark=Gillian's Wonderland Pier, coasterName=Dragon Wagon]           "
     ]
    },
    {
     "name": "stdout",
     "output_type": "stream",
     "text": [
      "Getting information for page 98\n"
     ]
    },
    {
     "name": "stderr",
     "output_type": "stream",
     "text": [
      " 20%|█▉        | 98/497 [05:24<21:48,  3.28s/it, amusementPark=Carron Dream Park, coasterName=Dream Liner]                           "
     ]
    },
    {
     "name": "stdout",
     "output_type": "stream",
     "text": [
      "Getting information for page 99\n"
     ]
    },
    {
     "name": "stderr",
     "output_type": "stream",
     "text": [
      " 20%|█▉        | 99/497 [05:28<23:32,  3.55s/it, amusementPark=VinWonders, coasterName=Eagle Warrior]                       "
     ]
    },
    {
     "name": "stdout",
     "output_type": "stream",
     "text": [
      "Getting information for page 100\n"
     ]
    },
    {
     "name": "stderr",
     "output_type": "stream",
     "text": [
      " 20%|██        | 100/497 [05:32<23:07,  3.50s/it, amusementPark=SeaWorld San Diego, coasterName=Electric Eel]                 "
     ]
    },
    {
     "name": "stdout",
     "output_type": "stream",
     "text": [
      "Getting information for page 101\n"
     ]
    },
    {
     "name": "stderr",
     "output_type": "stream",
     "text": [
      " 20%|██        | 101/497 [05:35<23:01,  3.49s/it, amusementPark=Riyadh Winter Wonderland, coasterName=Energizer]                                "
     ]
    },
    {
     "name": "stdout",
     "output_type": "stream",
     "text": [
      "Getting information for page 102\n"
     ]
    },
    {
     "name": "stderr",
     "output_type": "stream",
     "text": [
      " 21%|██        | 102/497 [05:38<22:08,  3.36s/it, amusementPark=Fabrikus World, coasterName=EuroLoop]                           "
     ]
    },
    {
     "name": "stdout",
     "output_type": "stream",
     "text": [
      "Getting information for page 103\n"
     ]
    },
    {
     "name": "stderr",
     "output_type": "stream",
     "text": [
      " 21%|██        | 103/497 [05:42<22:04,  3.36s/it, amusementPark=Qatif Entertainment Castle, coasterName=Express Train]                      "
     ]
    },
    {
     "name": "stdout",
     "output_type": "stream",
     "text": [
      "Getting information for page 104\n"
     ]
    },
    {
     "name": "stderr",
     "output_type": "stream",
     "text": [
      " 21%|██        | 104/497 [05:45<21:23,  3.27s/it, amusementPark=Jagdmärchenpark Hirschalm, coasterName=Familienachterbahn]             "
     ]
    },
    {
     "name": "stdout",
     "output_type": "stream",
     "text": [
      "Getting information for page 105\n"
     ]
    },
    {
     "name": "stderr",
     "output_type": "stream",
     "text": [
      " 21%|██        | 105/497 [05:48<21:16,  3.26s/it, amusementPark=Sea Train Land, coasterName=Family Coaster]               "
     ]
    },
    {
     "name": "stdout",
     "output_type": "stream",
     "text": [
      "Getting information for page 106\n"
     ]
    },
    {
     "name": "stderr",
     "output_type": "stream",
     "text": [
      " 21%|██▏       | 106/497 [05:51<21:19,  3.27s/it, amusementPark=Al Zawraa Land, coasterName=Family Coaster]                    "
     ]
    },
    {
     "name": "stdout",
     "output_type": "stream",
     "text": [
      "Getting information for page 107\n"
     ]
    },
    {
     "name": "stderr",
     "output_type": "stream",
     "text": [
      " 22%|██▏       | 107/497 [05:55<21:26,  3.30s/it, amusementPark=Churpfalzpark, coasterName=Family Coaster]                        "
     ]
    },
    {
     "name": "stdout",
     "output_type": "stream",
     "text": [
      "Getting information for page 108\n"
     ]
    },
    {
     "name": "stderr",
     "output_type": "stream",
     "text": [
      " 22%|██▏       | 108/497 [05:58<21:19,  3.29s/it, amusementPark=Twina, coasterName=Family Ride]                        "
     ]
    },
    {
     "name": "stdout",
     "output_type": "stream",
     "text": [
      "Getting information for page 109\n"
     ]
    },
    {
     "name": "stderr",
     "output_type": "stream",
     "text": [
      " 22%|██▏       | 109/497 [06:01<20:59,  3.25s/it, amusementPark=Baghdad Island, coasterName=Family Roller Coaster]                   "
     ]
    },
    {
     "name": "stdout",
     "output_type": "stream",
     "text": [
      "Getting information for page 110\n"
     ]
    },
    {
     "name": "stderr",
     "output_type": "stream",
     "text": [
      " 22%|██▏       | 110/497 [06:04<21:11,  3.29s/it, amusementPark=Santa's Village AZoosment Park, coasterName=Farmers Fling]            "
     ]
    },
    {
     "name": "stdout",
     "output_type": "stream",
     "text": [
      "Getting information for page 111\n"
     ]
    },
    {
     "name": "stderr",
     "output_type": "stream",
     "text": [
      " 22%|██▏       | 111/497 [06:08<21:11,  3.29s/it, amusementPark=Austin's Park, coasterName=Fiesta Express]                           "
     ]
    },
    {
     "name": "stdout",
     "output_type": "stream",
     "text": [
      "Getting information for page 112\n"
     ]
    },
    {
     "name": "stderr",
     "output_type": "stream",
     "text": [
      " 23%|██▎       | 112/497 [06:11<20:43,  3.23s/it, amusementPark=Greater Island Park, coasterName=Figure 8]          "
     ]
    },
    {
     "name": "stdout",
     "output_type": "stream",
     "text": [
      "Getting information for page 113\n"
     ]
    },
    {
     "name": "stderr",
     "output_type": "stream",
     "text": [
      " 23%|██▎       | 113/497 [06:14<20:16,  3.17s/it, amusementPark=Silver Lake Amusement Park, coasterName=Figure 8]"
     ]
    },
    {
     "name": "stdout",
     "output_type": "stream",
     "text": [
      "Getting information for page 114\n"
     ]
    },
    {
     "name": "stderr",
     "output_type": "stream",
     "text": [
      " 23%|██▎       | 114/497 [06:17<20:03,  3.14s/it, amusementPark=Cleethorpes Promenade, coasterName=Figure 8]     "
     ]
    },
    {
     "name": "stdout",
     "output_type": "stream",
     "text": [
      "Getting information for page 115\n"
     ]
    },
    {
     "name": "stderr",
     "output_type": "stream",
     "text": [
      " 23%|██▎       | 115/497 [06:20<19:54,  3.13s/it, amusementPark=Buckeye Lake, coasterName=Figure Eight]              "
     ]
    },
    {
     "name": "stdout",
     "output_type": "stream",
     "text": [
      "Getting information for page 116\n"
     ]
    },
    {
     "name": "stderr",
     "output_type": "stream",
     "text": [
      " 23%|██▎       | 116/497 [06:23<19:46,  3.11s/it, amusementPark=Pabst Park, coasterName=Figure Eight Toboggan]                "
     ]
    },
    {
     "name": "stdout",
     "output_type": "stream",
     "text": [
      "Getting information for page 117\n"
     ]
    },
    {
     "name": "stderr",
     "output_type": "stream",
     "text": [
      " 24%|██▎       | 117/497 [06:27<20:34,  3.25s/it, amusementPark=Phoenix Fairlyland, coasterName=Five Ring Roller Coaster]     "
     ]
    },
    {
     "name": "stdout",
     "output_type": "stream",
     "text": [
      "Getting information for page 118\n"
     ]
    },
    {
     "name": "stderr",
     "output_type": "stream",
     "text": [
      " 24%|██▎       | 118/497 [06:30<20:28,  3.24s/it, amusementPark=Warner Bros. Movie World, coasterName=Flash: Speed Force]  "
     ]
    },
    {
     "name": "stdout",
     "output_type": "stream",
     "text": [
      "Getting information for page 119\n"
     ]
    },
    {
     "name": "stderr",
     "output_type": "stream",
     "text": [
      " 24%|██▍       | 119/497 [06:33<20:49,  3.31s/it, amusementPark=Jolly Roger at the Pier, coasterName=Flitzer]                                "
     ]
    },
    {
     "name": "stdout",
     "output_type": "stream",
     "text": [
      "Getting information for page 120\n"
     ]
    },
    {
     "name": "stderr",
     "output_type": "stream",
     "text": [
      " 24%|██▍       | 120/497 [06:37<20:56,  3.33s/it, amusementPark=Dinosaur Beach, coasterName=Flyer]                              "
     ]
    },
    {
     "name": "stdout",
     "output_type": "stream",
     "text": [
      "Getting information for page 121\n"
     ]
    },
    {
     "name": "stderr",
     "output_type": "stream",
     "text": [
      " 24%|██▍       | 121/497 [06:40<21:02,  3.36s/it, amusementPark=Walled Lake Park, coasterName=Flying Dragon]                                          "
     ]
    },
    {
     "name": "stdout",
     "output_type": "stream",
     "text": [
      "Getting information for page 122\n"
     ]
    },
    {
     "name": "stderr",
     "output_type": "stream",
     "text": [
      " 25%|██▍       | 122/497 [06:44<20:52,  3.34s/it, amusementPark=Wuhan Zhongshan Park, coasterName=Flying Saucer]                       "
     ]
    },
    {
     "name": "stdout",
     "output_type": "stream",
     "text": [
      "Getting information for page 123\n"
     ]
    },
    {
     "name": "stderr",
     "output_type": "stream",
     "text": [
      " 25%|██▍       | 123/497 [06:47<20:57,  3.36s/it, amusementPark=Happy Valley, coasterName=Fly Over Mediterranean]              "
     ]
    },
    {
     "name": "stdout",
     "output_type": "stream",
     "text": [
      "Getting information for page 124\n"
     ]
    },
    {
     "name": "stderr",
     "output_type": "stream",
     "text": [
      " 25%|██▍       | 124/497 [06:50<20:53,  3.36s/it, amusementPark=Park Attraktsionov, coasterName=Formula 1]                   "
     ]
    },
    {
     "name": "stdout",
     "output_type": "stream",
     "text": [
      "Getting information for page 125\n"
     ]
    },
    {
     "name": "stderr",
     "output_type": "stream",
     "text": [
      " 25%|██▌       | 125/497 [06:54<20:57,  3.38s/it, amusementPark=Shen Jun Ecological Culture Town, coasterName=Four Ring Roller Coaster]"
     ]
    },
    {
     "name": "stdout",
     "output_type": "stream",
     "text": [
      "Getting information for page 126\n"
     ]
    },
    {
     "name": "stderr",
     "output_type": "stream",
     "text": [
      " 25%|██▌       | 126/497 [06:58<22:51,  3.70s/it, amusementPark=Fanta Park Glorious Orient, coasterName=Frontline Charge]              "
     ]
    },
    {
     "name": "stdout",
     "output_type": "stream",
     "text": [
      "Getting information for page 127\n"
     ]
    },
    {
     "name": "stderr",
     "output_type": "stream",
     "text": [
      " 26%|██▌       | 127/497 [07:01<21:54,  3.55s/it, amusementPark=Crab Island Children's Theme Park, coasterName=Fruit Worm Coaster]"
     ]
    },
    {
     "name": "stdout",
     "output_type": "stream",
     "text": [
      "Getting information for page 128\n"
     ]
    },
    {
     "name": "stderr",
     "output_type": "stream",
     "text": [
      " 26%|██▌       | 128/497 [07:05<21:36,  3.51s/it, amusementPark=Nanhu Park, coasterName=Fruit Worm Coaster]                                     "
     ]
    },
    {
     "name": "stdout",
     "output_type": "stream",
     "text": [
      "Getting information for page 129\n"
     ]
    },
    {
     "name": "stderr",
     "output_type": "stream",
     "text": [
      " 26%|██▌       | 129/497 [07:08<21:04,  3.44s/it, amusementPark=Harbin Sunac Land, coasterName=Fruitworm Train]                      "
     ]
    },
    {
     "name": "stdout",
     "output_type": "stream",
     "text": [
      "Getting information for page 130\n"
     ]
    },
    {
     "name": "stderr",
     "output_type": "stream",
     "text": [
      " 26%|██▌       | 130/497 [07:11<20:37,  3.37s/it, amusementPark=Pipers Funfair, coasterName=Fun Mouse]                       "
     ]
    },
    {
     "name": "stdout",
     "output_type": "stream",
     "text": [
      "Getting information for page 131\n"
     ]
    },
    {
     "name": "stderr",
     "output_type": "stream",
     "text": [
      " 26%|██▋       | 131/497 [07:14<20:14,  3.32s/it, amusementPark=Joyland Amusement Park, coasterName=Galaxi]                 "
     ]
    },
    {
     "name": "stdout",
     "output_type": "stream",
     "text": [
      "Getting information for page 132\n"
     ]
    },
    {
     "name": "stderr",
     "output_type": "stream",
     "text": [
      " 27%|██▋       | 132/497 [07:18<19:59,  3.29s/it, amusementPark=Coney Island on the Boardwalk, coasterName=Galaxi] "
     ]
    },
    {
     "name": "stdout",
     "output_type": "stream",
     "text": [
      "Getting information for page 133\n"
     ]
    },
    {
     "name": "stderr",
     "output_type": "stream",
     "text": [
      " 27%|██▋       | 133/497 [07:21<19:16,  3.18s/it, amusementPark=Jolly Roger Amusement Park, coasterName=Gallassia]                    "
     ]
    },
    {
     "name": "stdout",
     "output_type": "stream",
     "text": [
      "Getting information for page 134\n"
     ]
    },
    {
     "name": "stderr",
     "output_type": "stream",
     "text": [
      " 27%|██▋       | 134/497 [07:24<19:31,  3.23s/it, amusementPark=Cedar Point, coasterName=Red]                               "
     ]
    },
    {
     "name": "stdout",
     "output_type": "stream",
     "text": [
      "Getting information for page 135\n"
     ]
    },
    {
     "name": "stderr",
     "output_type": "stream",
     "text": [
      " 27%|██▋       | 135/497 [07:27<19:55,  3.30s/it, amusementPark=Palisades Amusement Park, coasterName=Giant Coaster]           "
     ]
    },
    {
     "name": "stdout",
     "output_type": "stream",
     "text": [
      "Getting information for page 136\n"
     ]
    },
    {
     "name": "stderr",
     "output_type": "stream",
     "text": [
      " 27%|██▋       | 136/497 [07:31<19:54,  3.31s/it, amusementPark=Luna Park, coasterName=Giant Racer]                                  "
     ]
    },
    {
     "name": "stdout",
     "output_type": "stream",
     "text": [
      "Getting information for page 137\n"
     ]
    },
    {
     "name": "stderr",
     "output_type": "stream",
     "text": [
      " 28%|██▊       | 137/497 [07:35<20:43,  3.46s/it, amusementPark=Bogus Basin Mountain Recreation Area, coasterName=Glade Runner]      "
     ]
    },
    {
     "name": "stdout",
     "output_type": "stream",
     "text": [
      "Getting information for page 138\n"
     ]
    },
    {
     "name": "stderr",
     "output_type": "stream",
     "text": [
      " 28%|██▊       | 138/497 [07:38<21:21,  3.57s/it, amusementPark=Binhai Amusement Park, coasterName=Gliding Dragon]             "
     ]
    },
    {
     "name": "stdout",
     "output_type": "stream",
     "text": [
      "Getting information for page 139\n"
     ]
    },
    {
     "name": "stderr",
     "output_type": "stream",
     "text": [
      " 28%|██▊       | 139/497 [07:42<20:42,  3.47s/it, amusementPark=Bruce Lee Paradise, coasterName=Gliding Dragon]                             "
     ]
    },
    {
     "name": "stdout",
     "output_type": "stream",
     "text": [
      "Getting information for page 140\n"
     ]
    },
    {
     "name": "stderr",
     "output_type": "stream",
     "text": [
      " 28%|██▊       | 140/497 [07:45<20:10,  3.39s/it, amusementPark=Liuhua Park, coasterName=Gliding Dragon]                       "
     ]
    },
    {
     "name": "stdout",
     "output_type": "stream",
     "text": [
      "Getting information for page 141\n"
     ]
    },
    {
     "name": "stderr",
     "output_type": "stream",
     "text": [
      " 28%|██▊       | 141/497 [07:48<19:29,  3.29s/it, amusementPark=Yangpu Park, coasterName=Gliding Dragon]                         "
     ]
    },
    {
     "name": "stdout",
     "output_type": "stream",
     "text": [
      "Getting information for page 142\n"
     ]
    },
    {
     "name": "stderr",
     "output_type": "stream",
     "text": [
      " 29%|██▊       | 142/497 [07:51<19:19,  3.27s/it, amusementPark=Coney Beach Pleasure Park, coasterName=Go-Gator]                               "
     ]
    },
    {
     "name": "stdout",
     "output_type": "stream",
     "text": [
      "Getting information for page 143\n"
     ]
    },
    {
     "name": "stderr",
     "output_type": "stream",
     "text": [
      " 29%|██▉       | 143/497 [07:54<19:21,  3.28s/it, amusementPark=Jianghui Amusement Park, coasterName=Golden Dragon]       "
     ]
    },
    {
     "name": "stdout",
     "output_type": "stream",
     "text": [
      "Getting information for page 144\n"
     ]
    },
    {
     "name": "stderr",
     "output_type": "stream",
     "text": [
      " 29%|██▉       | 144/497 [07:58<19:28,  3.31s/it, amusementPark=Shiba Luohan Mountain Forest Park, coasterName=Golden Dragon Roller Coaster]"
     ]
    },
    {
     "name": "stdout",
     "output_type": "stream",
     "text": [
      "Getting information for page 145\n"
     ]
    },
    {
     "name": "stderr",
     "output_type": "stream",
     "text": [
      " 29%|██▉       | 145/497 [08:01<19:27,  3.32s/it, amusementPark=Starpark, coasterName=Gold mine coaster]                                    "
     ]
    },
    {
     "name": "stdout",
     "output_type": "stream",
     "text": [
      "Getting information for page 146\n"
     ]
    },
    {
     "name": "stderr",
     "output_type": "stream",
     "text": [
      " 29%|██▉       | 146/497 [08:04<19:21,  3.31s/it, amusementPark=Tatzmania Löffingen, coasterName=Gold Rusher]                   "
     ]
    },
    {
     "name": "stdout",
     "output_type": "stream",
     "text": [
      "Getting information for page 147\n"
     ]
    },
    {
     "name": "stderr",
     "output_type": "stream",
     "text": [
      " 30%|██▉       | 147/497 [08:08<19:45,  3.39s/it, amusementPark=Suzuka Circuit, coasterName=GP Racers]                                            "
     ]
    },
    {
     "name": "stdout",
     "output_type": "stream",
     "text": [
      "Getting information for page 148\n"
     ]
    },
    {
     "name": "stderr",
     "output_type": "stream",
     "text": [
      " 30%|██▉       | 148/497 [08:11<19:41,  3.39s/it, amusementPark=British Empire Exhibition, coasterName=Grand National]                 "
     ]
    },
    {
     "name": "stdout",
     "output_type": "stream",
     "text": [
      "Getting information for page 149\n"
     ]
    },
    {
     "name": "stderr",
     "output_type": "stream",
     "text": [
      " 30%|██▉       | 149/497 [08:15<19:37,  3.38s/it, amusementPark=Hill Szczęśliwicka, coasterName=Gravity Slide]                                     "
     ]
    },
    {
     "name": "stdout",
     "output_type": "stream",
     "text": [
      "Getting information for page 150\n"
     ]
    },
    {
     "name": "stderr",
     "output_type": "stream",
     "text": [
      " 30%|███       | 150/497 [08:18<19:15,  3.33s/it, amusementPark=SeaWorld San Antonio, coasterName=Great White]                        "
     ]
    },
    {
     "name": "stdout",
     "output_type": "stream",
     "text": [
      "Getting information for page 151\n"
     ]
    },
    {
     "name": "stderr",
     "output_type": "stream",
     "text": [
      " 30%|███       | 151/497 [08:21<19:11,  3.33s/it, amusementPark=Island Beach Park, coasterName=Greyhound]                         "
     ]
    },
    {
     "name": "stdout",
     "output_type": "stream",
     "text": [
      "Getting information for page 152\n"
     ]
    },
    {
     "name": "stderr",
     "output_type": "stream",
     "text": [
      " 31%|███       | 152/497 [08:25<19:18,  3.36s/it, amusementPark=Walt Disney World - Epcot, coasterName=Guardians of the Galaxy: Cosmic Rewind]"
     ]
    },
    {
     "name": "stdout",
     "output_type": "stream",
     "text": [
      "Getting information for page 153\n"
     ]
    },
    {
     "name": "stderr",
     "output_type": "stream",
     "text": [
      " 31%|███       | 153/497 [08:28<19:15,  3.36s/it, amusementPark=Parque Xochipilli, coasterName=Gusanito]                                      "
     ]
    },
    {
     "name": "stdout",
     "output_type": "stream",
     "text": [
      "Getting information for page 154\n"
     ]
    },
    {
     "name": "stderr",
     "output_type": "stream",
     "text": [
      " 31%|███       | 154/497 [08:31<19:02,  3.33s/it, amusementPark=Mundo Divertido, coasterName=Gusano Loco]         "
     ]
    },
    {
     "name": "stdout",
     "output_type": "stream",
     "text": [
      "Getting information for page 155\n"
     ]
    },
    {
     "name": "stderr",
     "output_type": "stream",
     "text": [
      " 31%|███       | 155/497 [08:35<18:58,  3.33s/it, amusementPark=Dunia Fantasi, coasterName=Halilintar]                                                             "
     ]
    },
    {
     "name": "stdout",
     "output_type": "stream",
     "text": [
      "Getting information for page 156\n"
     ]
    },
    {
     "name": "stderr",
     "output_type": "stream",
     "text": [
      " 31%|███▏      | 156/497 [08:38<19:04,  3.36s/it, amusementPark=KK-Park, coasterName=Happy Bus]                                  "
     ]
    },
    {
     "name": "stdout",
     "output_type": "stream",
     "text": [
      "Getting information for page 157\n"
     ]
    },
    {
     "name": "stderr",
     "output_type": "stream",
     "text": [
      " 32%|███▏      | 157/497 [08:41<18:51,  3.33s/it, amusementPark=Tivoli Park, coasterName=Happy Mountain]                      "
     ]
    },
    {
     "name": "stdout",
     "output_type": "stream",
     "text": [
      "Getting information for page 158\n"
     ]
    },
    {
     "name": "stderr",
     "output_type": "stream",
     "text": [
      " 32%|███▏      | 158/497 [08:45<18:40,  3.30s/it, amusementPark=HB World, coasterName=Heaven's Wing]                                              "
     ]
    },
    {
     "name": "stdout",
     "output_type": "stream",
     "text": [
      "Getting information for page 159\n"
     ]
    },
    {
     "name": "stderr",
     "output_type": "stream",
     "text": [
      " 32%|███▏      | 159/497 [08:49<20:54,  3.71s/it, amusementPark=Wheelgate Adventure Park, coasterName=High Hazel Mini Mine Coaster]"
     ]
    },
    {
     "name": "stdout",
     "output_type": "stream",
     "text": [
      "Getting information for page 160\n"
     ]
    },
    {
     "name": "stderr",
     "output_type": "stream",
     "text": [
      " 32%|███▏      | 160/497 [08:53<20:14,  3.60s/it, amusementPark=Parc d'Attractions d'Alger, coasterName=Himalaya]                     "
     ]
    },
    {
     "name": "stdout",
     "output_type": "stream",
     "text": [
      "Getting information for page 161\n"
     ]
    },
    {
     "name": "stderr",
     "output_type": "stream",
     "text": [
      " 32%|███▏      | 161/497 [08:56<20:07,  3.59s/it, amusementPark=Universal Studios Florida, coasterName=Hollywood Rip, Ride, Rockit]"
     ]
    },
    {
     "name": "stdout",
     "output_type": "stream",
     "text": [
      "Getting information for page 162\n"
     ]
    },
    {
     "name": "stderr",
     "output_type": "stream",
     "text": [
      " 33%|███▎      | 162/497 [08:59<19:30,  3.49s/it, amusementPark=Central Park, coasterName=Hoverla]                                          "
     ]
    },
    {
     "name": "stdout",
     "output_type": "stream",
     "text": [
      "Getting information for page 163\n"
     ]
    },
    {
     "name": "stderr",
     "output_type": "stream",
     "text": [
      " 33%|███▎      | 163/497 [09:03<19:29,  3.50s/it, amusementPark=Kings Dominion, coasterName=Hurler]                            "
     ]
    },
    {
     "name": "stdout",
     "output_type": "stream",
     "text": [
      "Getting information for page 164\n"
     ]
    },
    {
     "name": "stderr",
     "output_type": "stream",
     "text": [
      " 33%|███▎      | 164/497 [09:06<19:22,  3.49s/it, amusementPark=Särkänniemi Amusement Park, coasterName=Hype]                     "
     ]
    },
    {
     "name": "stdout",
     "output_type": "stream",
     "text": [
      "Getting information for page 165\n"
     ]
    },
    {
     "name": "stderr",
     "output_type": "stream",
     "text": [
      " 33%|███▎      | 165/497 [09:10<19:16,  3.48s/it, amusementPark=John's Incredible Pizza Company, coasterName=Incredible Express]"
     ]
    },
    {
     "name": "stdout",
     "output_type": "stream",
     "text": [
      "Getting information for page 166\n"
     ]
    },
    {
     "name": "stderr",
     "output_type": "stream",
     "text": [
      " 33%|███▎      | 166/497 [09:13<19:04,  3.46s/it, amusementPark=Cinecittà World, coasterName=Inferno]                                               "
     ]
    },
    {
     "name": "stdout",
     "output_type": "stream",
     "text": [
      "Getting information for page 167\n"
     ]
    },
    {
     "name": "stderr",
     "output_type": "stream",
     "text": [
      " 34%|███▎      | 167/497 [09:17<19:03,  3.47s/it, amusementPark=Movie Park Germany, coasterName=Iron Claw]                            "
     ]
    },
    {
     "name": "stdout",
     "output_type": "stream",
     "text": [
      "Getting information for page 168\n"
     ]
    },
    {
     "name": "stderr",
     "output_type": "stream",
     "text": [
      " 34%|███▍      | 168/497 [09:20<18:59,  3.46s/it, amusementPark=LeSourdsville Lake Amusement Park, coasterName=Jack Rabbit]      "
     ]
    },
    {
     "name": "stdout",
     "output_type": "stream",
     "text": [
      "Getting information for page 169\n"
     ]
    },
    {
     "name": "stderr",
     "output_type": "stream",
     "text": [
      " 34%|███▍      | 169/497 [09:24<18:57,  3.47s/it, amusementPark=Conneaut Lake Park, coasterName=Jack Rabbit]               "
     ]
    },
    {
     "name": "stdout",
     "output_type": "stream",
     "text": [
      "Getting information for page 170\n"
     ]
    },
    {
     "name": "stderr",
     "output_type": "stream",
     "text": [
      " 34%|███▍      | 170/497 [09:27<18:32,  3.40s/it, amusementPark=Teine Olympia, coasterName=Jet Coaster]                     "
     ]
    },
    {
     "name": "stdout",
     "output_type": "stream",
     "text": [
      "Getting information for page 171\n"
     ]
    },
    {
     "name": "stderr",
     "output_type": "stream",
     "text": [
      " 34%|███▍      | 171/497 [09:30<18:07,  3.34s/it, amusementPark=Jayuland Park, coasterName=Jet Coaster]                        "
     ]
    },
    {
     "name": "stdout",
     "output_type": "stream",
     "text": [
      "Getting information for page 172\n"
     ]
    },
    {
     "name": "stderr",
     "output_type": "stream",
     "text": [
      " 35%|███▍      | 172/497 [09:33<17:52,  3.30s/it, amusementPark=Tokyo Dome City, coasterName=Jet Coaster]            "
     ]
    },
    {
     "name": "stdout",
     "output_type": "stream",
     "text": [
      "Getting information for page 173\n"
     ]
    },
    {
     "name": "stderr",
     "output_type": "stream",
     "text": [
      " 35%|███▍      | 173/497 [09:37<17:37,  3.26s/it, amusementPark=Drievliet Family Park, coasterName=Jet Star]                       "
     ]
    },
    {
     "name": "stdout",
     "output_type": "stream",
     "text": [
      "Getting information for page 174\n"
     ]
    },
    {
     "name": "stderr",
     "output_type": "stream",
     "text": [
      " 35%|███▌      | 174/497 [09:40<17:23,  3.23s/it, amusementPark=Parken Zoo, coasterName=Jet Star 3]                   "
     ]
    },
    {
     "name": "stdout",
     "output_type": "stream",
     "text": [
      "Getting information for page 175\n"
     ]
    },
    {
     "name": "stderr",
     "output_type": "stream",
     "text": [
      " 35%|███▌      | 175/497 [09:43<17:23,  3.24s/it, amusementPark=Six Flags New England, coasterName=Joker]                    "
     ]
    },
    {
     "name": "stdout",
     "output_type": "stream",
     "text": [
      "Getting information for page 176\n"
     ]
    },
    {
     "name": "stderr",
     "output_type": "stream",
     "text": [
      " 35%|███▌      | 176/497 [09:46<17:14,  3.22s/it, amusementPark=Coney Island - Kaufman - East, coasterName=Jumbo Jet]         "
     ]
    },
    {
     "name": "stdout",
     "output_type": "stream",
     "text": [
      "Getting information for page 177\n"
     ]
    },
    {
     "name": "stderr",
     "output_type": "stream",
     "text": [
      " 36%|███▌      | 177/497 [09:49<17:19,  3.25s/it, amusementPark=Legoland Windsor, coasterName=Jungle Coaster]         "
     ]
    },
    {
     "name": "stdout",
     "output_type": "stream",
     "text": [
      "Getting information for page 178\n"
     ]
    },
    {
     "name": "stderr",
     "output_type": "stream",
     "text": [
      " 36%|███▌      | 178/497 [09:53<17:16,  3.25s/it, amusementPark=Binhai Amusement Park, coasterName=Jungle Flying Squirrel]       "
     ]
    },
    {
     "name": "stdout",
     "output_type": "stream",
     "text": [
      "Getting information for page 179\n"
     ]
    },
    {
     "name": "stderr",
     "output_type": "stream",
     "text": [
      " 36%|███▌      | 179/497 [09:56<17:14,  3.25s/it, amusementPark=Xiamen Horticulture Expo Garden, coasterName=Jungle Flying Squirrel]"
     ]
    },
    {
     "name": "stdout",
     "output_type": "stream",
     "text": [
      "Getting information for page 180\n"
     ]
    },
    {
     "name": "stderr",
     "output_type": "stream",
     "text": [
      " 36%|███▌      | 180/497 [09:59<17:11,  3.25s/it, amusementPark=Hamanako Pal Pal, coasterName=Jungle Mouse]                                         "
     ]
    },
    {
     "name": "stdout",
     "output_type": "stream",
     "text": [
      "Getting information for page 181\n"
     ]
    },
    {
     "name": "stderr",
     "output_type": "stream",
     "text": [
      " 36%|███▋      | 181/497 [10:02<17:09,  3.26s/it, amusementPark=Nara Dreamland, coasterName=Jungle Mouse]               "
     ]
    },
    {
     "name": "stdout",
     "output_type": "stream",
     "text": [
      "Getting information for page 182\n"
     ]
    },
    {
     "name": "stderr",
     "output_type": "stream",
     "text": [
      " 37%|███▋      | 182/497 [10:06<17:14,  3.28s/it, amusementPark=Oriental Heritage, coasterName=Jungle Trailblazer]              "
     ]
    },
    {
     "name": "stdout",
     "output_type": "stream",
     "text": [
      "Getting information for page 183\n"
     ]
    },
    {
     "name": "stderr",
     "output_type": "stream",
     "text": [
      " 37%|███▋      | 183/497 [10:09<17:01,  3.25s/it, amusementPark=Kijima Kogen, coasterName=Jupiter]                            "
     ]
    },
    {
     "name": "stdout",
     "output_type": "stream",
     "text": [
      "Getting information for page 184\n"
     ]
    },
    {
     "name": "stderr",
     "output_type": "stream",
     "text": [
      " 37%|███▋      | 184/497 [10:12<16:52,  3.23s/it, amusementPark=Tivoli Gardens, coasterName=Kamelen]                               "
     ]
    },
    {
     "name": "stdout",
     "output_type": "stream",
     "text": [
      "Getting information for page 185\n"
     ]
    },
    {
     "name": "stderr",
     "output_type": "stream",
     "text": [
      " 37%|███▋      | 185/497 [10:16<17:01,  3.28s/it, amusementPark=Dreamworld, coasterName=Kenny's Forest Flyer]              "
     ]
    },
    {
     "name": "stdout",
     "output_type": "stream",
     "text": [
      "Getting information for page 186\n"
     ]
    },
    {
     "name": "stderr",
     "output_type": "stream",
     "text": [
      " 37%|███▋      | 186/497 [10:19<16:58,  3.28s/it, amusementPark=Mountain Park, coasterName=Kiddie Coaster]                          "
     ]
    },
    {
     "name": "stdout",
     "output_type": "stream",
     "text": [
      "Getting information for page 187\n"
     ]
    },
    {
     "name": "stderr",
     "output_type": "stream",
     "text": [
      " 38%|███▊      | 187/497 [10:22<17:03,  3.30s/it, amusementPark=Sans Souci Park, coasterName=Kiddie Roller Coaster]                           "
     ]
    },
    {
     "name": "stdout",
     "output_type": "stream",
     "text": [
      "Getting information for page 188\n"
     ]
    },
    {
     "name": "stderr",
     "output_type": "stream",
     "text": [
      " 38%|███▊      | 188/497 [10:26<17:12,  3.34s/it, amusementPark=Akashi Park, coasterName=Kid's Coaster Kujira Ku-Chan]          "
     ]
    },
    {
     "name": "stdout",
     "output_type": "stream",
     "text": [
      "Getting information for page 189\n"
     ]
    },
    {
     "name": "stderr",
     "output_type": "stream",
     "text": [
      " 38%|███▊      | 189/497 [10:29<17:13,  3.36s/it, amusementPark=Wild Waves Theme & Water Park, coasterName=Klondike Gold Rusher]"
     ]
    },
    {
     "name": "stdout",
     "output_type": "stream",
     "text": [
      "Getting information for page 190\n"
     ]
    },
    {
     "name": "stderr",
     "output_type": "stream",
     "text": [
      " 38%|███▊      | 190/497 [10:32<16:56,  3.31s/it, amusementPark=Crocus Park, coasterName=Konvoy Araba]                                    "
     ]
    },
    {
     "name": "stdout",
     "output_type": "stream",
     "text": [
      "Getting information for page 191\n"
     ]
    },
    {
     "name": "stderr",
     "output_type": "stream",
     "text": [
      " 38%|███▊      | 191/497 [10:36<16:58,  3.33s/it, amusementPark=Superland, coasterName=Kumba]                                  "
     ]
    },
    {
     "name": "stdout",
     "output_type": "stream",
     "text": [
      "Getting information for page 192\n"
     ]
    },
    {
     "name": "stderr",
     "output_type": "stream",
     "text": [
      " 39%|███▊      | 192/497 [10:39<16:47,  3.30s/it, amusementPark=Hersheypark, coasterName=Laff Trakk]                         "
     ]
    },
    {
     "name": "stdout",
     "output_type": "stream",
     "text": [
      "Getting information for page 193\n"
     ]
    },
    {
     "name": "stderr",
     "output_type": "stream",
     "text": [
      " 39%|███▉      | 193/497 [10:42<16:52,  3.33s/it, amusementPark=Six Flags Over Texas, coasterName=La Vibora]                         "
     ]
    },
    {
     "name": "stdout",
     "output_type": "stream",
     "text": [
      "Getting information for page 194\n"
     ]
    },
    {
     "name": "stderr",
     "output_type": "stream",
     "text": [
      " 39%|███▉      | 194/497 [10:46<16:53,  3.34s/it, amusementPark=Fééryland, coasterName=Let's Race]                                 "
     ]
    },
    {
     "name": "stdout",
     "output_type": "stream",
     "text": [
      "Getting information for page 195\n"
     ]
    },
    {
     "name": "stderr",
     "output_type": "stream",
     "text": [
      " 39%|███▉      | 195/497 [10:49<16:42,  3.32s/it, amusementPark=Happy Valley, coasterName=Light Of Revenge]            "
     ]
    },
    {
     "name": "stdout",
     "output_type": "stream",
     "text": [
      "Getting information for page 196\n"
     ]
    },
    {
     "name": "stderr",
     "output_type": "stream",
     "text": [
      " 39%|███▉      | 196/497 [10:52<16:47,  3.35s/it, amusementPark=Island in Pigeon Forge, coasterName=Little D]                     "
     ]
    },
    {
     "name": "stdout",
     "output_type": "stream",
     "text": [
      "Getting information for page 197\n"
     ]
    },
    {
     "name": "stderr",
     "output_type": "stream",
     "text": [
      " 40%|███▉      | 197/497 [10:56<16:41,  3.34s/it, amusementPark=Kiddytown, coasterName=Little Dipper]                        "
     ]
    },
    {
     "name": "stdout",
     "output_type": "stream",
     "text": [
      "Getting information for page 198\n"
     ]
    },
    {
     "name": "stderr",
     "output_type": "stream",
     "text": [
      " 40%|███▉      | 198/497 [10:59<16:34,  3.33s/it, amusementPark=Hart Park, coasterName=Little Dipper]                            "
     ]
    },
    {
     "name": "stdout",
     "output_type": "stream",
     "text": [
      "Getting information for page 199\n"
     ]
    },
    {
     "name": "stderr",
     "output_type": "stream",
     "text": [
      " 40%|████      | 199/497 [11:02<16:30,  3.32s/it, amusementPark=Lightwater Valley, coasterName=Little Dipper]              "
     ]
    },
    {
     "name": "stdout",
     "output_type": "stream",
     "text": [
      "Getting information for page 200\n"
     ]
    },
    {
     "name": "stderr",
     "output_type": "stream",
     "text": [
      " 40%|████      | 200/497 [11:05<16:18,  3.30s/it, amusementPark=Myrtle Beach Pavilion, coasterName=Little Eagle]                 "
     ]
    },
    {
     "name": "stdout",
     "output_type": "stream",
     "text": [
      "Getting information for page 201\n"
     ]
    },
    {
     "name": "stderr",
     "output_type": "stream",
     "text": [
      " 40%|████      | 201/497 [11:10<18:16,  3.71s/it, amusementPark=Coney Island Park, coasterName=Loco Ratón]                              "
     ]
    },
    {
     "name": "stdout",
     "output_type": "stream",
     "text": [
      "Getting information for page 202\n"
     ]
    },
    {
     "name": "stderr",
     "output_type": "stream",
     "text": [
      " 41%|████      | 202/497 [11:13<17:37,  3.59s/it, amusementPark=Laodong Park, coasterName=Loop and Spiral Coaster]                       "
     ]
    },
    {
     "name": "stdout",
     "output_type": "stream",
     "text": [
      "Getting information for page 203\n"
     ]
    },
    {
     "name": "stderr",
     "output_type": "stream",
     "text": [
      " 41%|████      | 203/497 [11:17<16:55,  3.45s/it, amusementPark=Curry's Fun Park Portrush, coasterName=Looping Dipper]    "
     ]
    },
    {
     "name": "stdout",
     "output_type": "stream",
     "text": [
      "Getting information for page 204\n"
     ]
    },
    {
     "name": "stderr",
     "output_type": "stream",
     "text": [
      " 41%|████      | 204/497 [11:20<16:51,  3.45s/it, amusementPark=Xinghai Square, coasterName=Looping Star]                              "
     ]
    },
    {
     "name": "stdout",
     "output_type": "stream",
     "text": [
      "Getting information for page 205\n"
     ]
    },
    {
     "name": "stderr",
     "output_type": "stream",
     "text": [
      " 41%|████      | 205/497 [11:24<18:06,  3.72s/it, amusementPark=Luna Park Sunny Beach, coasterName=Loop Max Adrenaline]                        "
     ]
    },
    {
     "name": "stdout",
     "output_type": "stream",
     "text": [
      "Getting information for page 206\n"
     ]
    },
    {
     "name": "stderr",
     "output_type": "stream",
     "text": [
      " 41%|████▏     | 206/497 [11:28<17:18,  3.57s/it, amusementPark=Forest Park Highlands Amusement Park, coasterName=Loop the Loop]            "
     ]
    },
    {
     "name": "stdout",
     "output_type": "stream",
     "text": [
      "Getting information for page 207\n"
     ]
    },
    {
     "name": "stderr",
     "output_type": "stream",
     "text": [
      " 42%|████▏     | 207/497 [11:31<16:53,  3.50s/it, amusementPark=Birch Forest Carnival Valley, coasterName=Lucky Cat Roller Coaster]            "
     ]
    },
    {
     "name": "stdout",
     "output_type": "stream",
     "text": [
      "Getting information for page 208\n"
     ]
    },
    {
     "name": "stderr",
     "output_type": "stream",
     "text": [
      " 42%|████▏     | 208/497 [11:34<16:30,  3.43s/it, amusementPark=Syndicat Mixte des Monts Jura, coasterName=Luge Sur Rails]         "
     ]
    },
    {
     "name": "stdout",
     "output_type": "stream",
     "text": [
      "Getting information for page 209\n"
     ]
    },
    {
     "name": "stderr",
     "output_type": "stream",
     "text": [
      " 42%|████▏     | 209/497 [11:37<16:09,  3.37s/it, amusementPark=Michigan's Adventure, coasterName=Mad Mouse]              "
     ]
    },
    {
     "name": "stdout",
     "output_type": "stream",
     "text": [
      "Getting information for page 210\n"
     ]
    },
    {
     "name": "stderr",
     "output_type": "stream",
     "text": [
      " 42%|████▏     | 210/497 [11:41<15:57,  3.34s/it, amusementPark=Miyazaki City Phoenix Zoo, coasterName=Mad Mouse]       "
     ]
    },
    {
     "name": "stdout",
     "output_type": "stream",
     "text": [
      "Getting information for page 211\n"
     ]
    },
    {
     "name": "stderr",
     "output_type": "stream",
     "text": [
      " 42%|████▏     | 211/497 [11:44<15:29,  3.25s/it, amusementPark=Fuji-Q Highland, coasterName=Mad Mouse]              "
     ]
    },
    {
     "name": "stdout",
     "output_type": "stream",
     "text": [
      "Getting information for page 212\n"
     ]
    },
    {
     "name": "stderr",
     "output_type": "stream",
     "text": [
      " 43%|████▎     | 212/497 [11:47<15:28,  3.26s/it, amusementPark=Wenzhou Paradise, coasterName=Magic-Loop Roller Coaster]    "
     ]
    },
    {
     "name": "stdout",
     "output_type": "stream",
     "text": [
      "Getting information for page 213\n"
     ]
    },
    {
     "name": "stderr",
     "output_type": "stream",
     "text": [
      " 43%|████▎     | 213/497 [11:50<15:19,  3.24s/it, amusementPark=Flamingo Land, coasterName=Magnum Force]                                   "
     ]
    },
    {
     "name": "stdout",
     "output_type": "stream",
     "text": [
      "Getting information for page 214\n"
     ]
    },
    {
     "name": "stderr",
     "output_type": "stream",
     "text": [
      " 43%|████▎     | 214/497 [11:53<15:19,  3.25s/it, amusementPark=Kingoland, coasterName=Maranello Twist]                            "
     ]
    },
    {
     "name": "stdout",
     "output_type": "stream",
     "text": [
      "Getting information for page 215\n"
     ]
    },
    {
     "name": "stderr",
     "output_type": "stream",
     "text": [
      " 43%|████▎     | 215/497 [11:57<15:18,  3.26s/it, amusementPark=Oxygen Adrenalin Park, coasterName=Mátra Bob]                  "
     ]
    },
    {
     "name": "stdout",
     "output_type": "stream",
     "text": [
      "Getting information for page 216\n"
     ]
    },
    {
     "name": "stderr",
     "output_type": "stream",
     "text": [
      " 43%|████▎     | 216/497 [12:00<15:34,  3.33s/it, amusementPark=Hamanako Pal Pal, coasterName=Mega Coaster]                                "
     ]
    },
    {
     "name": "stdout",
     "output_type": "stream",
     "text": [
      "Getting information for page 217\n"
     ]
    },
    {
     "name": "stderr",
     "output_type": "stream",
     "text": [
      " 44%|████▎     | 217/497 [12:03<15:29,  3.32s/it, amusementPark=Etnaland, coasterName=Miao Coaster]                          "
     ]
    },
    {
     "name": "stdout",
     "output_type": "stream",
     "text": [
      "Getting information for page 218\n"
     ]
    },
    {
     "name": "stderr",
     "output_type": "stream",
     "text": [
      " 44%|████▍     | 218/497 [12:07<15:16,  3.28s/it, amusementPark=Dreamwood, coasterName=Mine 1771]                                   "
     ]
    },
    {
     "name": "stdout",
     "output_type": "stream",
     "text": [
      "Getting information for page 219\n"
     ]
    },
    {
     "name": "stderr",
     "output_type": "stream",
     "text": [
      " 44%|████▍     | 219/497 [12:10<15:12,  3.28s/it, amusementPark=Cherokee Fun Park, coasterName=Miner Mike]                        "
     ]
    },
    {
     "name": "stdout",
     "output_type": "stream",
     "text": [
      "Getting information for page 220\n"
     ]
    },
    {
     "name": "stderr",
     "output_type": "stream",
     "text": [
      " 44%|████▍     | 220/497 [12:13<14:53,  3.23s/it, amusementPark=Great Xingdong Tourist World, coasterName=Mine Roller Coaster]       "
     ]
    },
    {
     "name": "stdout",
     "output_type": "stream",
     "text": [
      "Getting information for page 221\n"
     ]
    },
    {
     "name": "stderr",
     "output_type": "stream",
     "text": [
      " 44%|████▍     | 221/497 [12:16<14:49,  3.22s/it, amusementPark=Dalmaland, coasterName=Mine Train Coaster]                    "
     ]
    },
    {
     "name": "stdout",
     "output_type": "stream",
     "text": [
      "Getting information for page 222\n"
     ]
    },
    {
     "name": "stderr",
     "output_type": "stream",
     "text": [
      " 45%|████▍     | 222/497 [12:19<14:36,  3.19s/it, amusementPark=Expoland, coasterName=Mini Coaster]                    "
     ]
    },
    {
     "name": "stdout",
     "output_type": "stream",
     "text": [
      "Getting information for page 223\n"
     ]
    },
    {
     "name": "stderr",
     "output_type": "stream",
     "text": [
      " 45%|████▍     | 223/497 [12:23<14:27,  3.17s/it, amusementPark=Beogradski Luna Park, coasterName=Mini Dragon]                    "
     ]
    },
    {
     "name": "stdout",
     "output_type": "stream",
     "text": [
      "Getting information for page 224\n"
     ]
    },
    {
     "name": "stderr",
     "output_type": "stream",
     "text": [
      " 45%|████▌     | 224/497 [12:26<14:13,  3.13s/it, amusementPark=Victorian Gardens, coasterName=Mini Mouse]                       "
     ]
    },
    {
     "name": "stdout",
     "output_type": "stream",
     "text": [
      "Getting information for page 225\n"
     ]
    },
    {
     "name": "stderr",
     "output_type": "stream",
     "text": [
      " 45%|████▌     | 225/497 [12:29<14:46,  3.26s/it, amusementPark=Central Park, coasterName=Minnie Mouse]                         "
     ]
    },
    {
     "name": "stdout",
     "output_type": "stream",
     "text": [
      "Getting information for page 226\n"
     ]
    },
    {
     "name": "stderr",
     "output_type": "stream",
     "text": [
      " 45%|████▌     | 226/497 [12:32<14:41,  3.25s/it, amusementPark=Japan Monkey Park, coasterName=Monkey Coaster]             "
     ]
    },
    {
     "name": "stdout",
     "output_type": "stream",
     "text": [
      "Getting information for page 227\n"
     ]
    },
    {
     "name": "stderr",
     "output_type": "stream",
     "text": [
      " 46%|████▌     | 227/497 [12:35<14:25,  3.21s/it, amusementPark=Parque Acuatico Rey Park, coasterName=Monster Mouse]                "
     ]
    },
    {
     "name": "stdout",
     "output_type": "stream",
     "text": [
      "Getting information for page 228\n"
     ]
    },
    {
     "name": "stderr",
     "output_type": "stream",
     "text": [
      " 46%|████▌     | 228/497 [12:38<13:59,  3.12s/it, amusementPark=Mampato, coasterName=Montaña Power Dragon]                        "
     ]
    },
    {
     "name": "stdout",
     "output_type": "stream",
     "text": [
      "Getting information for page 229\n"
     ]
    },
    {
     "name": "stderr",
     "output_type": "stream",
     "text": [
      " 46%|████▌     | 229/497 [12:41<13:55,  3.12s/it, amusementPark=Isla del Coco, coasterName=Montaña Rusa]         "
     ]
    },
    {
     "name": "stdout",
     "output_type": "stream",
     "text": [
      "Getting information for page 230\n"
     ]
    },
    {
     "name": "stderr",
     "output_type": "stream",
     "text": [
      " 46%|████▋     | 230/497 [12:45<13:50,  3.11s/it, amusementPark=Parque Luna, coasterName=Montaña Rusa]                      "
     ]
    },
    {
     "name": "stdout",
     "output_type": "stream",
     "text": [
      "Getting information for page 231\n"
     ]
    },
    {
     "name": "stderr",
     "output_type": "stream",
     "text": [
      " 46%|████▋     | 231/497 [12:48<13:55,  3.14s/it, amusementPark=American Park, coasterName=Montanha Russa]                           "
     ]
    },
    {
     "name": "stdout",
     "output_type": "stream",
     "text": [
      "Getting information for page 232\n"
     ]
    },
    {
     "name": "stderr",
     "output_type": "stream",
     "text": [
      " 47%|████▋     | 232/497 [12:51<14:03,  3.18s/it, amusementPark=Ilha do Tesouro, coasterName=Montanha Russa]                    "
     ]
    },
    {
     "name": "stdout",
     "output_type": "stream",
     "text": [
      "Getting information for page 233\n"
     ]
    },
    {
     "name": "stderr",
     "output_type": "stream",
     "text": [
      " 47%|████▋     | 233/497 [12:54<14:04,  3.20s/it, amusementPark=Hopi Hari, coasterName=Montezum]                                     "
     ]
    },
    {
     "name": "stdout",
     "output_type": "stream",
     "text": [
      "Getting information for page 234\n"
     ]
    },
    {
     "name": "stderr",
     "output_type": "stream",
     "text": [
      " 47%|████▋     | 234/497 [12:58<14:18,  3.26s/it, amusementPark=Sinma Kingdom, coasterName=Motorized Roller Coaster]                "
     ]
    },
    {
     "name": "stdout",
     "output_type": "stream",
     "text": [
      "Getting information for page 235\n"
     ]
    },
    {
     "name": "stderr",
     "output_type": "stream",
     "text": [
      " 47%|████▋     | 235/497 [13:01<14:16,  3.27s/it, amusementPark=Hautacam Parc de Loisirs, coasterName=Mountain-Luge]             "
     ]
    },
    {
     "name": "stdout",
     "output_type": "stream",
     "text": [
      "Getting information for page 236\n"
     ]
    },
    {
     "name": "stderr",
     "output_type": "stream",
     "text": [
      " 47%|████▋     | 236/497 [13:04<14:14,  3.27s/it, amusementPark=Happy Land, coasterName=Mouse Coaster]                                                  "
     ]
    },
    {
     "name": "stdout",
     "output_type": "stream",
     "text": [
      "Getting information for page 237\n"
     ]
    },
    {
     "name": "stderr",
     "output_type": "stream",
     "text": [
      " 48%|████▊     | 237/497 [13:08<14:23,  3.32s/it, amusementPark=Bobbejaanland, coasterName=Naga Bay]                                            "
     ]
    },
    {
     "name": "stdout",
     "output_type": "stream",
     "text": [
      "Getting information for page 238\n"
     ]
    },
    {
     "name": "stderr",
     "output_type": "stream",
     "text": [
      " 48%|████▊     | 238/497 [13:11<14:07,  3.27s/it, amusementPark=Winter Wonderland Kuwait, coasterName=Nessi Coaster]                         "
     ]
    },
    {
     "name": "stdout",
     "output_type": "stream",
     "text": [
      "Getting information for page 239\n"
     ]
    },
    {
     "name": "stderr",
     "output_type": "stream",
     "text": [
      " 48%|████▊     | 239/497 [13:14<14:10,  3.30s/it, amusementPark=Pleasure Beach Resort, coasterName=Nickelodeon Streak]                "
     ]
    },
    {
     "name": "stdout",
     "output_type": "stream",
     "text": [
      "Getting information for page 240\n"
     ]
    },
    {
     "name": "stderr",
     "output_type": "stream",
     "text": [
      " 48%|████▊     | 240/497 [13:18<14:17,  3.34s/it, amusementPark=Greek Peak Mountain Resort, coasterName=Nor'easter Mountain Coaster]"
     ]
    },
    {
     "name": "stdout",
     "output_type": "stream",
     "text": [
      "Getting information for page 241\n"
     ]
    },
    {
     "name": "stderr",
     "output_type": "stream",
     "text": [
      " 48%|████▊     | 241/497 [13:21<14:14,  3.34s/it, amusementPark=Happy Valley, coasterName=OCT Thrust SSC1000]                       "
     ]
    },
    {
     "name": "stdout",
     "output_type": "stream",
     "text": [
      "Getting information for page 242\n"
     ]
    },
    {
     "name": "stderr",
     "output_type": "stream",
     "text": [
      " 49%|████▊     | 242/497 [13:24<14:09,  3.33s/it, amusementPark=Revere Beach, coasterName=Oriental Ride]                                    "
     ]
    },
    {
     "name": "stdout",
     "output_type": "stream",
     "text": [
      "Getting information for page 243\n"
     ]
    },
    {
     "name": "stderr",
     "output_type": "stream",
     "text": [
      " 49%|████▉     | 243/497 [13:28<14:07,  3.34s/it, amusementPark=Parque Lenin, coasterName=Oruga]                                                       "
     ]
    },
    {
     "name": "stdout",
     "output_type": "stream",
     "text": [
      "Getting information for page 244\n"
     ]
    },
    {
     "name": "stderr",
     "output_type": "stream",
     "text": [
      " 49%|████▉     | 244/497 [13:31<13:44,  3.26s/it, amusementPark=Cultural Palace Amusement Park, coasterName=Outer Space Flying Car]    "
     ]
    },
    {
     "name": "stdout",
     "output_type": "stream",
     "text": [
      "Getting information for page 245\n"
     ]
    },
    {
     "name": "stderr",
     "output_type": "stream",
     "text": [
      " 49%|████▉     | 245/497 [13:34<13:42,  3.27s/it, amusementPark=Meyer's Lake Park, coasterName=Over The Top]                           "
     ]
    },
    {
     "name": "stdout",
     "output_type": "stream",
     "text": [
      "Getting information for page 246\n"
     ]
    },
    {
     "name": "stderr",
     "output_type": "stream",
     "text": [
      " 49%|████▉     | 246/497 [13:37<13:43,  3.28s/it, amusementPark=Oriental Heritage, coasterName=Parent-Child Roller Coaster]          "
     ]
    },
    {
     "name": "stdout",
     "output_type": "stream",
     "text": [
      "Getting information for page 247\n"
     ]
    },
    {
     "name": "stderr",
     "output_type": "stream",
     "text": [
      " 50%|████▉     | 247/497 [13:41<13:38,  3.28s/it, amusementPark=Erlebnispark Steinau, coasterName=Pendelbahn]                            "
     ]
    },
    {
     "name": "stdout",
     "output_type": "stream",
     "text": [
      "Getting information for page 248\n"
     ]
    },
    {
     "name": "stderr",
     "output_type": "stream",
     "text": [
      " 50%|████▉     | 248/497 [13:44<13:30,  3.25s/it, amusementPark=Lake Compounce, coasterName=Phobia Phear Coaster]       "
     ]
    },
    {
     "name": "stdout",
     "output_type": "stream",
     "text": [
      "Getting information for page 249\n"
     ]
    },
    {
     "name": "stderr",
     "output_type": "stream",
     "text": [
      " 50%|█████     | 249/497 [13:47<13:27,  3.26s/it, amusementPark=Shennong Park, coasterName=Pine Forest Flying Mouse]           "
     ]
    },
    {
     "name": "stdout",
     "output_type": "stream",
     "text": [
      "Getting information for page 250\n"
     ]
    },
    {
     "name": "stderr",
     "output_type": "stream",
     "text": [
      " 50%|█████     | 250/497 [13:50<13:14,  3.22s/it, amusementPark=Yutan Park, coasterName=Pine Forest Flying Mouse]                       "
     ]
    },
    {
     "name": "stdout",
     "output_type": "stream",
     "text": [
      "Getting information for page 251\n"
     ]
    },
    {
     "name": "stderr",
     "output_type": "stream",
     "text": [
      " 51%|█████     | 251/497 [13:53<13:14,  3.23s/it, amusementPark=Wild Water & Wheels, coasterName=Pipeline Express]                          "
     ]
    },
    {
     "name": "stdout",
     "output_type": "stream",
     "text": [
      "Getting information for page 252\n"
     ]
    },
    {
     "name": "stderr",
     "output_type": "stream",
     "text": [
      " 51%|█████     | 252/497 [13:57<13:11,  3.23s/it, amusementPark=Terra Encantada, coasterName=Piuí]                       "
     ]
    },
    {
     "name": "stdout",
     "output_type": "stream",
     "text": [
      "Getting information for page 253\n"
     ]
    },
    {
     "name": "stderr",
     "output_type": "stream",
     "text": [
      " 51%|█████     | 253/497 [14:02<15:28,  3.81s/it, amusementPark=Antibes Land, coasterName=Pomme]                              "
     ]
    },
    {
     "name": "stdout",
     "output_type": "stream",
     "text": [
      "Getting information for page 254\n"
     ]
    },
    {
     "name": "stderr",
     "output_type": "stream",
     "text": [
      " 51%|█████     | 254/497 [14:05<14:50,  3.66s/it, amusementPark=Lagoon, coasterName=Primordial]                                         "
     ]
    },
    {
     "name": "stdout",
     "output_type": "stream",
     "text": [
      "Getting information for page 255\n"
     ]
    },
    {
     "name": "stderr",
     "output_type": "stream",
     "text": [
      " 51%|█████▏    | 255/497 [14:09<14:28,  3.59s/it, amusementPark=Gagarin Park, coasterName=Puss in Boots]                              "
     ]
    },
    {
     "name": "stdout",
     "output_type": "stream",
     "text": [
      "Getting information for page 256\n"
     ]
    },
    {
     "name": "stderr",
     "output_type": "stream",
     "text": [
      " 52%|█████▏    | 256/497 [14:12<13:55,  3.47s/it, amusementPark=Jeepers, coasterName=Python Pit]                                      "
     ]
    },
    {
     "name": "stdout",
     "output_type": "stream",
     "text": [
      "Getting information for page 257\n"
     ]
    },
    {
     "name": "stderr",
     "output_type": "stream",
     "text": [
      " 52%|█████▏    | 257/497 [14:15<13:30,  3.38s/it, amusementPark=Gilroy Gardens Family Theme Park, coasterName=Quicksilver Express]"
     ]
    },
    {
     "name": "stdout",
     "output_type": "stream",
     "text": [
      "Getting information for page 258\n"
     ]
    },
    {
     "name": "stderr",
     "output_type": "stream",
     "text": [
      " 52%|█████▏    | 258/497 [14:18<13:23,  3.36s/it, amusementPark=White City, coasterName=Racing Coaster]                           "
     ]
    },
    {
     "name": "stdout",
     "output_type": "stream",
     "text": [
      "Getting information for page 259\n"
     ]
    },
    {
     "name": "stderr",
     "output_type": "stream",
     "text": [
      " 52%|█████▏    | 259/497 [14:22<13:13,  3.33s/it, amusementPark=Xiuquan Park, coasterName=Railcar]                                  "
     ]
    },
    {
     "name": "stdout",
     "output_type": "stream",
     "text": [
      "Getting information for page 260\n"
     ]
    },
    {
     "name": "stderr",
     "output_type": "stream",
     "text": [
      " 52%|█████▏    | 260/497 [14:25<12:46,  3.24s/it, amusementPark=Leolandia, coasterName=Ramses]                                  "
     ]
    },
    {
     "name": "stdout",
     "output_type": "stream",
     "text": [
      "Getting information for page 261\n"
     ]
    },
    {
     "name": "stderr",
     "output_type": "stream",
     "text": [
      " 53%|█████▎    | 261/497 [14:28<12:50,  3.27s/it, amusementPark=Baima Park, coasterName=Rattlesnake Roller Coaster]         "
     ]
    },
    {
     "name": "stdout",
     "output_type": "stream",
     "text": [
      "Getting information for page 262\n"
     ]
    },
    {
     "name": "stderr",
     "output_type": "stream",
     "text": [
      " 53%|█████▎    | 262/497 [14:31<12:50,  3.28s/it, amusementPark=Glücks Königreich, coasterName=Reindeer Coaster]                  "
     ]
    },
    {
     "name": "stdout",
     "output_type": "stream",
     "text": [
      "Getting information for page 263\n"
     ]
    },
    {
     "name": "stderr",
     "output_type": "stream",
     "text": [
      " 53%|█████▎    | 263/497 [14:34<12:49,  3.29s/it, amusementPark=West Midland Safari Park, coasterName=Rhino Coaster]                   "
     ]
    },
    {
     "name": "stdout",
     "output_type": "stream",
     "text": [
      "Getting information for page 264\n"
     ]
    },
    {
     "name": "stderr",
     "output_type": "stream",
     "text": [
      " 53%|█████▎    | 264/497 [14:38<12:47,  3.30s/it, amusementPark=Avonturenpark Hellendoorn, coasterName=Rioolrat]                   "
     ]
    },
    {
     "name": "stdout",
     "output_type": "stream",
     "text": [
      "Getting information for page 265\n"
     ]
    },
    {
     "name": "stderr",
     "output_type": "stream",
     "text": [
      " 53%|█████▎    | 265/497 [14:41<12:38,  3.27s/it, amusementPark=Zatorland, coasterName=RobalCoaster]                              "
     ]
    },
    {
     "name": "stdout",
     "output_type": "stream",
     "text": [
      "Getting information for page 266\n"
     ]
    },
    {
     "name": "stderr",
     "output_type": "stream",
     "text": [
      " 54%|█████▎    | 266/497 [14:44<12:35,  3.27s/it, amusementPark=Gulliver's Valley Resort, coasterName=Rocky Ridge Railway]                          "
     ]
    },
    {
     "name": "stdout",
     "output_type": "stream",
     "text": [
      "Getting information for page 267\n"
     ]
    },
    {
     "name": "stderr",
     "output_type": "stream",
     "text": [
      " 54%|█████▎    | 267/497 [14:48<12:39,  3.30s/it, amusementPark=Dream Land, coasterName=Roler Coaster]                             "
     ]
    },
    {
     "name": "stdout",
     "output_type": "stream",
     "text": [
      "Getting information for page 268\n"
     ]
    },
    {
     "name": "stderr",
     "output_type": "stream",
     "text": [
      " 54%|█████▍    | 268/497 [14:51<12:44,  3.34s/it, amusementPark=Hanayashiki, coasterName=Roller Coaster]                             "
     ]
    },
    {
     "name": "stdout",
     "output_type": "stream",
     "text": [
      "Getting information for page 269\n"
     ]
    },
    {
     "name": "stderr",
     "output_type": "stream",
     "text": [
      " 54%|█████▍    | 269/497 [14:54<12:46,  3.36s/it, amusementPark=Enchanted Forest, coasterName=Roller Coaster]             "
     ]
    },
    {
     "name": "stdout",
     "output_type": "stream",
     "text": [
      "Getting information for page 270\n"
     ]
    },
    {
     "name": "stderr",
     "output_type": "stream",
     "text": [
      " 54%|█████▍    | 270/497 [14:58<12:39,  3.35s/it, amusementPark=Tri-City Park, coasterName=Roller Coaster]                     "
     ]
    },
    {
     "name": "stdout",
     "output_type": "stream",
     "text": [
      "Getting information for page 271\n"
     ]
    },
    {
     "name": "stderr",
     "output_type": "stream",
     "text": [
      " 55%|█████▍    | 271/497 [15:01<12:35,  3.34s/it, amusementPark=Wuhan Zhongshan Park, coasterName=Roller Coaster]         "
     ]
    },
    {
     "name": "stdout",
     "output_type": "stream",
     "text": [
      "Getting information for page 272\n"
     ]
    },
    {
     "name": "stderr",
     "output_type": "stream",
     "text": [
      " 55%|█████▍    | 272/497 [15:05<12:35,  3.36s/it, amusementPark=Papéa Parc, coasterName=Roller Coaster]                                     "
     ]
    },
    {
     "name": "stdout",
     "output_type": "stream",
     "text": [
      "Getting information for page 273\n"
     ]
    },
    {
     "name": "stderr",
     "output_type": "stream",
     "text": [
      " 55%|█████▍    | 273/497 [15:08<12:32,  3.36s/it, amusementPark=Tashan Park, coasterName=Roller Coaster]                  "
     ]
    },
    {
     "name": "stdout",
     "output_type": "stream",
     "text": [
      "Getting information for page 274\n"
     ]
    },
    {
     "name": "stderr",
     "output_type": "stream",
     "text": [
      " 55%|█████▌    | 274/497 [15:11<12:25,  3.34s/it, amusementPark=Country Mercantile, coasterName=Roller Coaster]                     "
     ]
    },
    {
     "name": "stdout",
     "output_type": "stream",
     "text": [
      "Getting information for page 275\n"
     ]
    },
    {
     "name": "stderr",
     "output_type": "stream",
     "text": [
      " 55%|█████▌    | 275/497 [15:15<12:51,  3.48s/it, amusementPark=Woodlawn Park, coasterName=Roller Coaster]                     "
     ]
    },
    {
     "name": "stdout",
     "output_type": "stream",
     "text": [
      "Getting information for page 276\n"
     ]
    },
    {
     "name": "stderr",
     "output_type": "stream",
     "text": [
      " 56%|█████▌    | 276/497 [15:18<12:43,  3.45s/it, amusementPark=Khu vui chơi Phú Mỹ Hưng, coasterName=Roller Coaster]        "
     ]
    },
    {
     "name": "stdout",
     "output_type": "stream",
     "text": [
      "Getting information for page 277\n"
     ]
    },
    {
     "name": "stderr",
     "output_type": "stream",
     "text": [
      " 56%|█████▌    | 277/497 [15:22<12:40,  3.46s/it, amusementPark=Enchanted Forest Water Safari, coasterName=Roller Coaster]           "
     ]
    },
    {
     "name": "stdout",
     "output_type": "stream",
     "text": [
      "Getting information for page 278\n"
     ]
    },
    {
     "name": "stderr",
     "output_type": "stream",
     "text": [
      " 56%|█████▌    | 278/497 [15:25<12:32,  3.44s/it, amusementPark=New Saniro Dream Paradise, coasterName=Roller Coaster]           "
     ]
    },
    {
     "name": "stdout",
     "output_type": "stream",
     "text": [
      "Getting information for page 279\n"
     ]
    },
    {
     "name": "stderr",
     "output_type": "stream",
     "text": [
      " 56%|█████▌    | 279/497 [15:29<12:20,  3.40s/it, amusementPark=San Antonio Aquarium, coasterName=Roller Coaster]             "
     ]
    },
    {
     "name": "stdout",
     "output_type": "stream",
     "text": [
      "Getting information for page 280\n"
     ]
    },
    {
     "name": "stderr",
     "output_type": "stream",
     "text": [
      " 56%|█████▋    | 280/497 [15:32<12:10,  3.37s/it, amusementPark=Adventure World, coasterName=Roller Coaster]              "
     ]
    },
    {
     "name": "stdout",
     "output_type": "stream",
     "text": [
      "Getting information for page 281\n"
     ]
    },
    {
     "name": "stderr",
     "output_type": "stream",
     "text": [
      " 57%|█████▋    | 281/497 [15:35<12:04,  3.35s/it, amusementPark=Nanhu Park, coasterName=Roller Coaster]                      "
     ]
    },
    {
     "name": "stdout",
     "output_type": "stream",
     "text": [
      "Getting information for page 282\n"
     ]
    },
    {
     "name": "stderr",
     "output_type": "stream",
     "text": [
      " 57%|█████▋    | 282/497 [15:38<11:53,  3.32s/it, amusementPark=Adventure World, coasterName=Roller Coaster]                  "
     ]
    },
    {
     "name": "stdout",
     "output_type": "stream",
     "text": [
      "Getting information for page 283\n"
     ]
    },
    {
     "name": "stderr",
     "output_type": "stream",
     "text": [
      " 57%|█████▋    | 283/497 [15:42<11:48,  3.31s/it, amusementPark=Sunset Park, coasterName=Roller Coaster]               "
     ]
    },
    {
     "name": "stdout",
     "output_type": "stream",
     "text": [
      "Getting information for page 284\n"
     ]
    },
    {
     "name": "stderr",
     "output_type": "stream",
     "text": [
      " 57%|█████▋    | 284/497 [15:45<11:43,  3.30s/it, amusementPark=Energylandia, coasterName=Roller Coaster Mayan]                                 "
     ]
    },
    {
     "name": "stdout",
     "output_type": "stream",
     "text": [
      "Getting information for page 285\n"
     ]
    },
    {
     "name": "stderr",
     "output_type": "stream",
     "text": [
      " 57%|█████▋    | 285/497 [15:48<11:48,  3.34s/it, amusementPark=Six Flags Great Adventure, coasterName=Rolling Thunder]                     "
     ]
    },
    {
     "name": "stdout",
     "output_type": "stream",
     "text": [
      "Getting information for page 286\n"
     ]
    },
    {
     "name": "stderr",
     "output_type": "stream",
     "text": [
      " 58%|█████▊    | 286/497 [15:52<11:42,  3.33s/it, amusementPark=Panorama Park, coasterName=Rothaarblitz]                               "
     ]
    },
    {
     "name": "stdout",
     "output_type": "stream",
     "text": [
      "Getting information for page 287\n"
     ]
    },
    {
     "name": "stderr",
     "output_type": "stream",
     "text": [
      " 58%|█████▊    | 287/497 [15:55<11:39,  3.33s/it, amusementPark=Donley's Wild West Town, coasterName=Run Away Mine Cars]              "
     ]
    },
    {
     "name": "stdout",
     "output_type": "stream",
     "text": [
      "Getting information for page 288\n"
     ]
    },
    {
     "name": "stderr",
     "output_type": "stream",
     "text": [
      " 58%|█████▊    | 288/497 [15:58<11:27,  3.29s/it, amusementPark=Fort Fun Amusement Park, coasterName=Runaway Train]              "
     ]
    },
    {
     "name": "stdout",
     "output_type": "stream",
     "text": [
      "Getting information for page 289\n"
     ]
    },
    {
     "name": "stderr",
     "output_type": "stream",
     "text": [
      " 58%|█████▊    | 289/497 [16:01<11:12,  3.24s/it, amusementPark=Brean Theme Park, coasterName=Runaway Train]              "
     ]
    },
    {
     "name": "stdout",
     "output_type": "stream",
     "text": [
      "Getting information for page 290\n"
     ]
    },
    {
     "name": "stderr",
     "output_type": "stream",
     "text": [
      " 58%|█████▊    | 290/497 [16:05<11:10,  3.24s/it, amusementPark=Saunders County Fairgrounds, coasterName=Safari]                      "
     ]
    },
    {
     "name": "stdout",
     "output_type": "stream",
     "text": [
      "Getting information for page 291\n"
     ]
    },
    {
     "name": "stderr",
     "output_type": "stream",
     "text": [
      " 59%|█████▊    | 291/497 [16:08<11:06,  3.23s/it, amusementPark=Six Flags Qiddiya, coasterName=Saw Mill Falls]                       "
     ]
    },
    {
     "name": "stdout",
     "output_type": "stream",
     "text": [
      "Getting information for page 292\n"
     ]
    },
    {
     "name": "stderr",
     "output_type": "stream",
     "text": [
      " 59%|█████▉    | 292/497 [16:11<11:18,  3.31s/it, amusementPark=White City, coasterName=Scenic Railway]                            "
     ]
    },
    {
     "name": "stdout",
     "output_type": "stream",
     "text": [
      "Getting information for page 293\n"
     ]
    },
    {
     "name": "stderr",
     "output_type": "stream",
     "text": [
      " 59%|█████▉    | 293/497 [16:15<11:12,  3.30s/it, amusementPark=Lincoln Park, coasterName=Scenic Railway]                         "
     ]
    },
    {
     "name": "stdout",
     "output_type": "stream",
     "text": [
      "Getting information for page 294\n"
     ]
    },
    {
     "name": "stderr",
     "output_type": "stream",
     "text": [
      " 59%|█████▉    | 294/497 [16:18<11:10,  3.30s/it, amusementPark=Carnival Park, coasterName=Scenic Railway]                "
     ]
    },
    {
     "name": "stdout",
     "output_type": "stream",
     "text": [
      "Getting information for page 295\n"
     ]
    },
    {
     "name": "stderr",
     "output_type": "stream",
     "text": [
      " 59%|█████▉    | 295/497 [16:21<11:06,  3.30s/it, amusementPark=La Bresse Hohneck, coasterName=Schlitte Mountain]                         "
     ]
    },
    {
     "name": "stdout",
     "output_type": "stream",
     "text": [
      "Getting information for page 296\n"
     ]
    },
    {
     "name": "stderr",
     "output_type": "stream",
     "text": [
      " 60%|█████▉    | 296/497 [16:25<11:23,  3.40s/it, amusementPark=Opryland USA, coasterName=Screamin' Delta Demon]                                "
     ]
    },
    {
     "name": "stdout",
     "output_type": "stream",
     "text": [
      "Getting information for page 297\n"
     ]
    },
    {
     "name": "stderr",
     "output_type": "stream",
     "text": [
      " 60%|█████▉    | 297/497 [16:28<11:25,  3.43s/it, amusementPark=Deno's Wonder Wheel Amusement Park, coasterName=Sea Serpent]                     "
     ]
    },
    {
     "name": "stdout",
     "output_type": "stream",
     "text": [
      "Getting information for page 298\n"
     ]
    },
    {
     "name": "stderr",
     "output_type": "stream",
     "text": [
      " 60%|█████▉    | 298/497 [16:32<11:20,  3.42s/it, amusementPark=Gardaland, coasterName=Sequoia Magic Loop]                     "
     ]
    },
    {
     "name": "stdout",
     "output_type": "stream",
     "text": [
      "Getting information for page 299\n"
     ]
    },
    {
     "name": "stderr",
     "output_type": "stream",
     "text": [
      " 60%|██████    | 299/497 [16:35<11:18,  3.43s/it, amusementPark=Lunapark Payallar, coasterName=Shark]                                  "
     ]
    },
    {
     "name": "stdout",
     "output_type": "stream",
     "text": [
      "Getting information for page 300\n"
     ]
    },
    {
     "name": "stderr",
     "output_type": "stream",
     "text": [
      " 60%|██████    | 300/497 [16:38<11:10,  3.40s/it, amusementPark=Magic Park Land, coasterName=Shark Trip]               "
     ]
    },
    {
     "name": "stdout",
     "output_type": "stream",
     "text": [
      "Getting information for page 301\n"
     ]
    },
    {
     "name": "stderr",
     "output_type": "stream",
     "text": [
      " 61%|██████    | 301/497 [16:42<10:54,  3.34s/it, amusementPark=Chuanlord Holiday Manor, coasterName=West]                       "
     ]
    },
    {
     "name": "stdout",
     "output_type": "stream",
     "text": [
      "Getting information for page 302\n"
     ]
    },
    {
     "name": "stderr",
     "output_type": "stream",
     "text": [
      " 61%|██████    | 302/497 [16:45<10:48,  3.32s/it, amusementPark=Park Attraktsionov, coasterName=Shrek]                           "
     ]
    },
    {
     "name": "stdout",
     "output_type": "stream",
     "text": [
      "Getting information for page 303\n"
     ]
    },
    {
     "name": "stderr",
     "output_type": "stream",
     "text": [
      " 61%|██████    | 303/497 [16:48<10:43,  3.32s/it, amusementPark=Skyline Park, coasterName=Silberpfeil]                     "
     ]
    },
    {
     "name": "stdout",
     "output_type": "stream",
     "text": [
      "Getting information for page 304\n"
     ]
    },
    {
     "name": "stderr",
     "output_type": "stream",
     "text": [
      " 61%|██████    | 304/497 [16:52<10:43,  3.34s/it, amusementPark=Sabzevar Noor Land Amusement Park, coasterName=Skate Board]     "
     ]
    },
    {
     "name": "stdout",
     "output_type": "stream",
     "text": [
      "Getting information for page 305\n"
     ]
    },
    {
     "name": "stderr",
     "output_type": "stream",
     "text": [
      " 61%|██████▏   | 305/497 [16:55<10:36,  3.32s/it, amusementPark=Holiday Valley, coasterName=Sky High Mountain Coaster]                      "
     ]
    },
    {
     "name": "stdout",
     "output_type": "stream",
     "text": [
      "Getting information for page 306\n"
     ]
    },
    {
     "name": "stderr",
     "output_type": "stream",
     "text": [
      " 62%|██████▏   | 306/497 [16:58<10:25,  3.27s/it, amusementPark=Palisades Amusement Park, coasterName=Skyrocket]      "
     ]
    },
    {
     "name": "stdout",
     "output_type": "stream",
     "text": [
      "Getting information for page 307\n"
     ]
    },
    {
     "name": "stderr",
     "output_type": "stream",
     "text": [
      " 62%|██████▏   | 307/497 [17:01<10:26,  3.30s/it, amusementPark=Kyungyu Park, coasterName=Sky Train]                     "
     ]
    },
    {
     "name": "stdout",
     "output_type": "stream",
     "text": [
      "Getting information for page 308\n"
     ]
    },
    {
     "name": "stderr",
     "output_type": "stream",
     "text": [
      " 62%|██████▏   | 308/497 [17:05<10:27,  3.32s/it, amusementPark=Sun Park, coasterName=Sliding Dragon]                                    "
     ]
    },
    {
     "name": "stdout",
     "output_type": "stream",
     "text": [
      "Getting information for page 309\n"
     ]
    },
    {
     "name": "stderr",
     "output_type": "stream",
     "text": [
      " 62%|██████▏   | 309/497 [17:08<10:16,  3.28s/it, amusementPark=Universal Studios Japan, coasterName=Snoopy's Great Race]                   "
     ]
    },
    {
     "name": "stdout",
     "output_type": "stream",
     "text": [
      "Getting information for page 310\n"
     ]
    },
    {
     "name": "stderr",
     "output_type": "stream",
     "text": [
      " 62%|██████▏   | 310/497 [17:11<10:21,  3.32s/it, amusementPark=Alpincenter Bottrop, coasterName=Sommerrodelbahn]                  "
     ]
    },
    {
     "name": "stdout",
     "output_type": "stream",
     "text": [
      "Getting information for page 311\n"
     ]
    },
    {
     "name": "stderr",
     "output_type": "stream",
     "text": [
      " 63%|██████▎   | 311/497 [17:15<10:31,  3.39s/it, amusementPark=Jinxiangshan Amusement Park, coasterName=Space Car]           "
     ]
    },
    {
     "name": "stdout",
     "output_type": "stream",
     "text": [
      "Getting information for page 312\n"
     ]
    },
    {
     "name": "stderr",
     "output_type": "stream",
     "text": [
      " 63%|██████▎   | 312/497 [17:18<10:24,  3.38s/it, amusementPark=Animalia, coasterName=Space Moon]                             "
     ]
    },
    {
     "name": "stdout",
     "output_type": "stream",
     "text": [
      "Getting information for page 313\n"
     ]
    },
    {
     "name": "stderr",
     "output_type": "stream",
     "text": [
      " 63%|██████▎   | 313/497 [17:22<10:11,  3.33s/it, amusementPark=Beijing Shijingshan Amusement Park, coasterName=Space Trip]         "
     ]
    },
    {
     "name": "stdout",
     "output_type": "stream",
     "text": [
      "Getting information for page 314\n"
     ]
    },
    {
     "name": "stderr",
     "output_type": "stream",
     "text": [
      " 63%|██████▎   | 314/497 [17:25<10:06,  3.32s/it, amusementPark=Kingoland, coasterName=Speed Chenille]                     "
     ]
    },
    {
     "name": "stdout",
     "output_type": "stream",
     "text": [
      "Getting information for page 315\n"
     ]
    },
    {
     "name": "stderr",
     "output_type": "stream",
     "text": [
      " 63%|██████▎   | 315/497 [17:28<10:00,  3.30s/it, amusementPark=Shanghai Wanda Autopark, coasterName=Red]                "
     ]
    },
    {
     "name": "stdout",
     "output_type": "stream",
     "text": [
      "Getting information for page 316\n"
     ]
    },
    {
     "name": "stderr",
     "output_type": "stream",
     "text": [
      " 64%|██████▎   | 316/497 [17:31<09:58,  3.31s/it, amusementPark=Family Park, coasterName=Speedy Bruco]                           "
     ]
    },
    {
     "name": "stdout",
     "output_type": "stream",
     "text": [
      "Getting information for page 317\n"
     ]
    },
    {
     "name": "stderr",
     "output_type": "stream",
     "text": [
      " 64%|██████▍   | 317/497 [17:35<09:56,  3.31s/it, amusementPark=Dream World, coasterName=Speedy Mouse]                               "
     ]
    },
    {
     "name": "stdout",
     "output_type": "stream",
     "text": [
      "Getting information for page 318\n"
     ]
    },
    {
     "name": "stderr",
     "output_type": "stream",
     "text": [
      " 64%|██████▍   | 318/497 [17:40<11:57,  4.01s/it, amusementPark=Dream East World of Future, coasterName=Spinning Black Hole]      "
     ]
    },
    {
     "name": "stdout",
     "output_type": "stream",
     "text": [
      "Getting information for page 319\n"
     ]
    },
    {
     "name": "stderr",
     "output_type": "stream",
     "text": [
      " 64%|██████▍   | 319/497 [17:44<11:15,  3.80s/it, amusementPark=Happy World, coasterName=Spinning Coaster]                       "
     ]
    },
    {
     "name": "stdout",
     "output_type": "stream",
     "text": [
      "Getting information for page 320\n"
     ]
    },
    {
     "name": "stderr",
     "output_type": "stream",
     "text": [
      " 64%|██████▍   | 320/497 [17:47<10:47,  3.66s/it, amusementPark=Xinghai Square, coasterName=Spinning Coaster]                         "
     ]
    },
    {
     "name": "stdout",
     "output_type": "stream",
     "text": [
      "Getting information for page 321\n"
     ]
    },
    {
     "name": "stderr",
     "output_type": "stream",
     "text": [
      " 65%|██████▍   | 321/497 [17:50<10:27,  3.57s/it, amusementPark=People's Park, coasterName=Spinning Coaster]          "
     ]
    },
    {
     "name": "stdout",
     "output_type": "stream",
     "text": [
      "Getting information for page 322\n"
     ]
    },
    {
     "name": "stderr",
     "output_type": "stream",
     "text": [
      " 65%|██████▍   | 322/497 [17:54<10:10,  3.49s/it, amusementPark=Incredible Pizza Company, coasterName=Spinning Coaster]        "
     ]
    },
    {
     "name": "stdout",
     "output_type": "stream",
     "text": [
      "Getting information for page 323\n"
     ]
    },
    {
     "name": "stderr",
     "output_type": "stream",
     "text": [
      " 65%|██████▍   | 323/497 [17:57<09:57,  3.44s/it, amusementPark=Sparky's, coasterName=Spinning Coaster]                                  "
     ]
    },
    {
     "name": "stdout",
     "output_type": "stream",
     "text": [
      "Getting information for page 324\n"
     ]
    },
    {
     "name": "stderr",
     "output_type": "stream",
     "text": [
      " 65%|██████▌   | 324/497 [18:00<09:45,  3.39s/it, amusementPark=Canpol Wonderland, coasterName=Spinning Coaster]            "
     ]
    },
    {
     "name": "stdout",
     "output_type": "stream",
     "text": [
      "Getting information for page 325\n"
     ]
    },
    {
     "name": "stderr",
     "output_type": "stream",
     "text": [
      " 65%|██████▌   | 325/497 [18:04<09:42,  3.39s/it, amusementPark=Crab Island Children's Theme Park, coasterName=Spinning Yacht]    "
     ]
    },
    {
     "name": "stdout",
     "output_type": "stream",
     "text": [
      "Getting information for page 326\n"
     ]
    },
    {
     "name": "stderr",
     "output_type": "stream",
     "text": [
      " 66%|██████▌   | 326/497 [18:07<09:39,  3.39s/it, amusementPark=Robotland, coasterName=Splash Chute Ride]                                        "
     ]
    },
    {
     "name": "stdout",
     "output_type": "stream",
     "text": [
      "Getting information for page 327\n"
     ]
    },
    {
     "name": "stderr",
     "output_type": "stream",
     "text": [
      " 66%|██████▌   | 327/497 [18:10<09:30,  3.35s/it, amusementPark=Rusutsu Resort, coasterName=Standing Coaster]                              "
     ]
    },
    {
     "name": "stdout",
     "output_type": "stream",
     "text": [
      "Getting information for page 328\n"
     ]
    },
    {
     "name": "stderr",
     "output_type": "stream",
     "text": [
      " 66%|██████▌   | 328/497 [18:14<09:29,  3.37s/it, amusementPark=California's Great America, coasterName=Stealth]                                             "
     ]
    },
    {
     "name": "stdout",
     "output_type": "stream",
     "text": [
      "Getting information for page 329\n"
     ]
    },
    {
     "name": "stderr",
     "output_type": "stream",
     "text": [
      " 66%|██████▌   | 329/497 [18:17<09:31,  3.40s/it, amusementPark=Luna Park, coasterName=Steeplechase]                                       "
     ]
    },
    {
     "name": "stdout",
     "output_type": "stream",
     "text": [
      "Getting information for page 330\n"
     ]
    },
    {
     "name": "stderr",
     "output_type": "stream",
     "text": [
      " 66%|██████▋   | 330/497 [18:21<09:31,  3.42s/it, amusementPark=TusenFryd, coasterName=Storm - The Dragon Legend]                 "
     ]
    },
    {
     "name": "stdout",
     "output_type": "stream",
     "text": [
      "Getting information for page 331\n"
     ]
    },
    {
     "name": "stderr",
     "output_type": "stream",
     "text": [
      " 67%|██████▋   | 331/497 [18:24<09:28,  3.42s/it, amusementPark=Fyns Tivoli, coasterName=Super 8]                              "
     ]
    },
    {
     "name": "stdout",
     "output_type": "stream",
     "text": [
      "Getting information for page 332\n"
     ]
    },
    {
     "name": "stderr",
     "output_type": "stream",
     "text": [
      " 67%|██████▋   | 332/497 [18:27<09:21,  3.40s/it, amusementPark=Silence Beach Resort, coasterName=Super Dragon]                       "
     ]
    },
    {
     "name": "stdout",
     "output_type": "stream",
     "text": [
      "Getting information for page 333\n"
     ]
    },
    {
     "name": "stderr",
     "output_type": "stream",
     "text": [
      " 67%|██████▋   | 333/497 [18:31<09:15,  3.38s/it, amusementPark=Six Flags Mexico, coasterName=Superman Krypton Coaster]        "
     ]
    },
    {
     "name": "stdout",
     "output_type": "stream",
     "text": [
      "Getting information for page 334\n"
     ]
    },
    {
     "name": "stderr",
     "output_type": "stream",
     "text": [
      " 67%|██████▋   | 334/497 [18:34<09:15,  3.41s/it, amusementPark=Berjaya Times Square Theme Park, coasterName=Supersonic Odyssey]         "
     ]
    },
    {
     "name": "stdout",
     "output_type": "stream",
     "text": [
      "Getting information for page 335\n"
     ]
    },
    {
     "name": "stderr",
     "output_type": "stream",
     "text": [
      " 67%|██████▋   | 335/497 [18:38<09:10,  3.40s/it, amusementPark=Hangzhou Paradise, coasterName=Suspended Coaster]               "
     ]
    },
    {
     "name": "stdout",
     "output_type": "stream",
     "text": [
      "Getting information for page 336\n"
     ]
    },
    {
     "name": "stderr",
     "output_type": "stream",
     "text": [
      " 68%|██████▊   | 336/497 [18:41<09:12,  3.43s/it, amusementPark=Derwent Gardens, coasterName=Switchback]                                 "
     ]
    },
    {
     "name": "stdout",
     "output_type": "stream",
     "text": [
      "Getting information for page 337\n"
     ]
    },
    {
     "name": "stderr",
     "output_type": "stream",
     "text": [
      " 68%|██████▊   | 337/497 [18:44<09:03,  3.40s/it, amusementPark=Neshaminy Falls Amusement Park, coasterName=Switchback Railway]                           "
     ]
    },
    {
     "name": "stdout",
     "output_type": "stream",
     "text": [
      "Getting information for page 338\n"
     ]
    },
    {
     "name": "stderr",
     "output_type": "stream",
     "text": [
      " 68%|██████▊   | 338/497 [18:48<08:59,  3.40s/it, amusementPark=Six Flags Darien Lake, coasterName=Tantrum]                     "
     ]
    },
    {
     "name": "stdout",
     "output_type": "stream",
     "text": [
      "Getting information for page 339\n"
     ]
    },
    {
     "name": "stderr",
     "output_type": "stream",
     "text": [
      " 68%|██████▊   | 339/497 [18:51<08:50,  3.35s/it, amusementPark=Grimm's Fairy Tale World, coasterName=Tempestuous Waves]              "
     ]
    },
    {
     "name": "stdout",
     "output_type": "stream",
     "text": [
      "Getting information for page 340\n"
     ]
    },
    {
     "name": "stderr",
     "output_type": "stream",
     "text": [
      " 68%|██████▊   | 340/497 [18:54<08:43,  3.34s/it, amusementPark=Alton Towers, coasterName=Th13teen]                            "
     ]
    },
    {
     "name": "stdout",
     "output_type": "stream",
     "text": [
      "Getting information for page 341\n"
     ]
    },
    {
     "name": "stderr",
     "output_type": "stream",
     "text": [
      " 69%|██████▊   | 341/497 [18:58<08:37,  3.32s/it, amusementPark=Luneur Park, coasterName=Thriller]                                   "
     ]
    },
    {
     "name": "stdout",
     "output_type": "stream",
     "text": [
      "Getting information for page 342\n"
     ]
    },
    {
     "name": "stderr",
     "output_type": "stream",
     "text": [
      " 69%|██████▉   | 342/497 [19:01<08:34,  3.32s/it, amusementPark=Six Gun Territory, coasterName=Thunderbolt]                    "
     ]
    },
    {
     "name": "stdout",
     "output_type": "stream",
     "text": [
      "Getting information for page 343\n"
     ]
    },
    {
     "name": "stderr",
     "output_type": "stream",
     "text": [
      " 69%|██████▉   | 343/497 [19:04<08:36,  3.35s/it, amusementPark=Dollywood, coasterName=Thunderhead]                      "
     ]
    },
    {
     "name": "stdout",
     "output_type": "stream",
     "text": [
      "Getting information for page 344\n"
     ]
    },
    {
     "name": "stderr",
     "output_type": "stream",
     "text": [
      " 69%|██████▉   | 344/497 [19:08<08:24,  3.30s/it, amusementPark=Exposition Universelle Bruxelles 1910, coasterName=Tickler]"
     ]
    },
    {
     "name": "stdout",
     "output_type": "stream",
     "text": [
      "Getting information for page 345\n"
     ]
    },
    {
     "name": "stderr",
     "output_type": "stream",
     "text": [
      " 69%|██████▉   | 345/497 [19:11<08:23,  3.32s/it, amusementPark=Busch Gardens Tampa, coasterName=Tigris]                   "
     ]
    },
    {
     "name": "stdout",
     "output_type": "stream",
     "text": [
      "Getting information for page 346\n"
     ]
    },
    {
     "name": "stderr",
     "output_type": "stream",
     "text": [
      " 70%|██████▉   | 346/497 [19:14<08:24,  3.34s/it, amusementPark=Akasya Luna Park, coasterName=Tirtil]                                "
     ]
    },
    {
     "name": "stdout",
     "output_type": "stream",
     "text": [
      "Getting information for page 347\n"
     ]
    },
    {
     "name": "stderr",
     "output_type": "stream",
     "text": [
      " 70%|██████▉   | 347/497 [19:18<08:23,  3.36s/it, amusementPark=Great Yarmouth Pleasure Beach, coasterName=Toboggan]              "
     ]
    },
    {
     "name": "stdout",
     "output_type": "stream",
     "text": [
      "Getting information for page 348\n"
     ]
    },
    {
     "name": "stderr",
     "output_type": "stream",
     "text": [
      " 70%|███████   | 348/497 [19:21<08:16,  3.33s/it, amusementPark=Family Kingdom Amusement Park, coasterName=Toboggan]  "
     ]
    },
    {
     "name": "stdout",
     "output_type": "stream",
     "text": [
      "Getting information for page 349\n"
     ]
    },
    {
     "name": "stderr",
     "output_type": "stream",
     "text": [
      " 70%|███████   | 349/497 [19:24<08:09,  3.31s/it, amusementPark=Elitch Gardens, coasterName=Toboggan Slide]                      "
     ]
    },
    {
     "name": "stdout",
     "output_type": "stream",
     "text": [
      "Getting information for page 350\n"
     ]
    },
    {
     "name": "stderr",
     "output_type": "stream",
     "text": [
      " 70%|███████   | 350/497 [19:28<08:11,  3.35s/it, amusementPark=Parc Astérix, coasterName=Tonnerre 2 Zeus]                                "
     ]
    },
    {
     "name": "stdout",
     "output_type": "stream",
     "text": [
      "Getting information for page 351\n"
     ]
    },
    {
     "name": "stderr",
     "output_type": "stream",
     "text": [
      " 71%|███████   | 351/497 [19:31<08:11,  3.36s/it, amusementPark=Parque de Atracciones de Madrid, coasterName=Tornado]   "
     ]
    },
    {
     "name": "stdout",
     "output_type": "stream",
     "text": [
      "Getting information for page 352\n"
     ]
    },
    {
     "name": "stderr",
     "output_type": "stream",
     "text": [
      " 71%|███████   | 352/497 [19:34<08:07,  3.36s/it, amusementPark=Tuapse Park, coasterName=Tornado]                        "
     ]
    },
    {
     "name": "stdout",
     "output_type": "stream",
     "text": [
      "Getting information for page 353\n"
     ]
    },
    {
     "name": "stderr",
     "output_type": "stream",
     "text": [
      " 71%|███████   | 353/497 [19:38<08:05,  3.37s/it, amusementPark=Camelot Theme Park, coasterName=Tower of Terror]                              "
     ]
    },
    {
     "name": "stdout",
     "output_type": "stream",
     "text": [
      "Getting information for page 354\n"
     ]
    },
    {
     "name": "stderr",
     "output_type": "stream",
     "text": [
      " 71%|███████   | 354/497 [19:41<08:05,  3.40s/it, amusementPark=Lunapark Fréjus, coasterName=Train Gourmand]          "
     ]
    },
    {
     "name": "stdout",
     "output_type": "stream",
     "text": [
      "Getting information for page 355\n"
     ]
    },
    {
     "name": "stderr",
     "output_type": "stream",
     "text": [
      " 71%|███████▏  | 355/497 [19:45<08:15,  3.49s/it, amusementPark=Granja Villa, coasterName=Tren Minero]                                "
     ]
    },
    {
     "name": "stdout",
     "output_type": "stream",
     "text": [
      "Getting information for page 356\n"
     ]
    },
    {
     "name": "stderr",
     "output_type": "stream",
     "text": [
      " 72%|███████▏  | 356/497 [19:48<08:06,  3.45s/it, amusementPark=Jiangwan Sports Center, coasterName=Triple Looping Coaster]"
     ]
    },
    {
     "name": "stdout",
     "output_type": "stream",
     "text": [
      "Getting information for page 357\n"
     ]
    },
    {
     "name": "stderr",
     "output_type": "stream",
     "text": [
      " 72%|███████▏  | 357/497 [19:52<07:58,  3.42s/it, amusementPark=Gröna Lund, coasterName=Tuff-Tuff Tåget]                             "
     ]
    },
    {
     "name": "stdout",
     "output_type": "stream",
     "text": [
      "Getting information for page 358\n"
     ]
    },
    {
     "name": "stderr",
     "output_type": "stream",
     "text": [
      " 72%|███████▏  | 358/497 [19:55<07:49,  3.38s/it, amusementPark=Enchanted Kingdom, coasterName=Twin Spin]                    "
     ]
    },
    {
     "name": "stdout",
     "output_type": "stream",
     "text": [
      "Getting information for page 359\n"
     ]
    },
    {
     "name": "stderr",
     "output_type": "stream",
     "text": [
      " 72%|███████▏  | 359/497 [19:59<07:50,  3.41s/it, amusementPark=Luna Park Tel Aviv, coasterName=Twister]                      "
     ]
    },
    {
     "name": "stdout",
     "output_type": "stream",
     "text": [
      "Getting information for page 360\n"
     ]
    },
    {
     "name": "stderr",
     "output_type": "stream",
     "text": [
      " 72%|███████▏  | 360/497 [20:02<07:45,  3.40s/it, amusementPark=Malibu Jack's, coasterName=Twist-N-Shout]                       "
     ]
    },
    {
     "name": "stdout",
     "output_type": "stream",
     "text": [
      "Getting information for page 361\n"
     ]
    },
    {
     "name": "stderr",
     "output_type": "stream",
     "text": [
      " 73%|███████▎  | 361/497 [20:05<07:40,  3.38s/it, amusementPark=Do'stlik, coasterName=Uchar Pegas]                           "
     ]
    },
    {
     "name": "stdout",
     "output_type": "stream",
     "text": [
      "Getting information for page 362\n"
     ]
    },
    {
     "name": "stderr",
     "output_type": "stream",
     "text": [
      " 73%|███████▎  | 362/497 [20:09<07:32,  3.35s/it, amusementPark=Culture and Rest Park, coasterName=Underwater World]              "
     ]
    },
    {
     "name": "stdout",
     "output_type": "stream",
     "text": [
      "Getting information for page 363\n"
     ]
    },
    {
     "name": "stderr",
     "output_type": "stream",
     "text": [
      " 73%|███████▎  | 363/497 [20:12<07:34,  3.39s/it, amusementPark=Sesame Place, coasterName=Vapor Trail]                "
     ]
    },
    {
     "name": "stdout",
     "output_type": "stream",
     "text": [
      "Getting information for page 364\n"
     ]
    },
    {
     "name": "stderr",
     "output_type": "stream",
     "text": [
      " 73%|███████▎  | 364/497 [20:15<07:34,  3.42s/it, amusementPark=Space World, coasterName=Venus GP]                                     "
     ]
    },
    {
     "name": "stdout",
     "output_type": "stream",
     "text": [
      "Getting information for page 365\n"
     ]
    },
    {
     "name": "stderr",
     "output_type": "stream",
     "text": [
      " 73%|███████▎  | 365/497 [20:19<07:32,  3.42s/it, amusementPark=Luna Park Carousel on Poklonnaya Hill, coasterName=Victory Transport]"
     ]
    },
    {
     "name": "stdout",
     "output_type": "stream",
     "text": [
      "Getting information for page 366\n"
     ]
    },
    {
     "name": "stderr",
     "output_type": "stream",
     "text": [
      " 74%|███████▎  | 366/497 [20:22<07:27,  3.41s/it, amusementPark=Lightwater Valley, coasterName=Viper]                                "
     ]
    },
    {
     "name": "stdout",
     "output_type": "stream",
     "text": [
      "Getting information for page 367\n"
     ]
    },
    {
     "name": "stderr",
     "output_type": "stream",
     "text": [
      " 74%|███████▍  | 367/497 [20:26<07:17,  3.37s/it, amusementPark=D'Rodelbahn St. Englmar, coasterName=Voglwuide Sepp]   "
     ]
    },
    {
     "name": "stdout",
     "output_type": "stream",
     "text": [
      "Getting information for page 368\n"
     ]
    },
    {
     "name": "stderr",
     "output_type": "stream",
     "text": [
      " 74%|███████▍  | 368/497 [20:29<07:17,  3.39s/it, amusementPark=York's Wild Kingdom, coasterName=Wacky Mouse]               "
     ]
    },
    {
     "name": "stdout",
     "output_type": "stream",
     "text": [
      "Getting information for page 369\n"
     ]
    },
    {
     "name": "stderr",
     "output_type": "stream",
     "text": [
      " 74%|███████▍  | 369/497 [20:32<07:09,  3.36s/it, amusementPark=Family Park, coasterName=Wacky Worm]               "
     ]
    },
    {
     "name": "stdout",
     "output_type": "stream",
     "text": [
      "Getting information for page 370\n"
     ]
    },
    {
     "name": "stderr",
     "output_type": "stream",
     "text": [
      " 74%|███████▍  | 370/497 [20:35<06:58,  3.29s/it, amusementPark=Coney Beach Pleasure Park, coasterName=Wacky Worm]     "
     ]
    },
    {
     "name": "stdout",
     "output_type": "stream",
     "text": [
      "Getting information for page 371\n"
     ]
    },
    {
     "name": "stderr",
     "output_type": "stream",
     "text": [
      " 75%|███████▍  | 371/497 [20:39<06:53,  3.28s/it, amusementPark=Nicco Park, coasterName=Water Chute]                                             "
     ]
    },
    {
     "name": "stdout",
     "output_type": "stream",
     "text": [
      "Getting information for page 372\n"
     ]
    },
    {
     "name": "stderr",
     "output_type": "stream",
     "text": [
      " 75%|███████▍  | 372/497 [20:42<06:51,  3.29s/it, amusementPark=Dongpohu Park, coasterName=Wave Shuttle]                           "
     ]
    },
    {
     "name": "stdout",
     "output_type": "stream",
     "text": [
      "Getting information for page 373\n"
     ]
    },
    {
     "name": "stderr",
     "output_type": "stream",
     "text": [
      " 75%|███████▌  | 373/497 [20:45<06:51,  3.32s/it, amusementPark=Oaks Amusement Park, coasterName=Whirlwind]                               "
     ]
    },
    {
     "name": "stdout",
     "output_type": "stream",
     "text": [
      "Getting information for page 374\n"
     ]
    },
    {
     "name": "stderr",
     "output_type": "stream",
     "text": [
      " 75%|███████▌  | 374/497 [20:49<06:46,  3.31s/it, amusementPark=Carsonia Park, coasterName=Whiz Bang]                       "
     ]
    },
    {
     "name": "stdout",
     "output_type": "stream",
     "text": [
      "Getting information for page 375\n"
     ]
    },
    {
     "name": "stderr",
     "output_type": "stream",
     "text": [
      " 75%|███████▌  | 375/497 [20:52<06:49,  3.36s/it, amusementPark=Hersheypark, coasterName=Wildcat]                           "
     ]
    },
    {
     "name": "stdout",
     "output_type": "stream",
     "text": [
      "Getting information for page 376\n"
     ]
    },
    {
     "name": "stderr",
     "output_type": "stream",
     "text": [
      " 76%|███████▌  | 376/497 [20:56<06:47,  3.37s/it, amusementPark=Elitch Gardens, coasterName=Wildcat]                       "
     ]
    },
    {
     "name": "stdout",
     "output_type": "stream",
     "text": [
      "Getting information for page 377\n"
     ]
    },
    {
     "name": "stderr",
     "output_type": "stream",
     "text": [
      " 76%|███████▌  | 377/497 [20:59<06:42,  3.35s/it, amusementPark=North Georgia State Fair, coasterName=Wildcat] "
     ]
    },
    {
     "name": "stdout",
     "output_type": "stream",
     "text": [
      "Getting information for page 378\n"
     ]
    },
    {
     "name": "stderr",
     "output_type": "stream",
     "text": [
      " 76%|███████▌  | 378/497 [21:02<06:34,  3.32s/it, amusementPark=Toverland, coasterName=Wilde Maus]                              "
     ]
    },
    {
     "name": "stdout",
     "output_type": "stream",
     "text": [
      "Getting information for page 379\n"
     ]
    },
    {
     "name": "stderr",
     "output_type": "stream",
     "text": [
      " 76%|███████▋  | 379/497 [21:06<06:35,  3.35s/it, amusementPark=Busch Gardens Williamsburg, coasterName=Wild Maus]                       "
     ]
    },
    {
     "name": "stdout",
     "output_type": "stream",
     "text": [
      "Getting information for page 380\n"
     ]
    },
    {
     "name": "stderr",
     "output_type": "stream",
     "text": [
      " 76%|███████▋  | 380/497 [21:09<06:24,  3.29s/it, amusementPark=Conneaut Lake Park, coasterName=Wild Mouse]               "
     ]
    },
    {
     "name": "stdout",
     "output_type": "stream",
     "text": [
      "Getting information for page 381\n"
     ]
    },
    {
     "name": "stderr",
     "output_type": "stream",
     "text": [
      " 77%|███████▋  | 381/497 [21:12<06:25,  3.33s/it, amusementPark=Morey's Piers, coasterName=Wild Mouse]                        "
     ]
    },
    {
     "name": "stdout",
     "output_type": "stream",
     "text": [
      "Getting information for page 382\n"
     ]
    },
    {
     "name": "stderr",
     "output_type": "stream",
     "text": [
      " 77%|███████▋  | 382/497 [21:15<06:24,  3.34s/it, amusementPark=Butlin’s Bognor Regis, coasterName=Wild Mouse]          "
     ]
    },
    {
     "name": "stdout",
     "output_type": "stream",
     "text": [
      "Getting information for page 383\n"
     ]
    },
    {
     "name": "stderr",
     "output_type": "stream",
     "text": [
      " 77%|███████▋  | 383/497 [21:19<06:19,  3.33s/it, amusementPark=Fun -n- Games Park, coasterName=Wild Mouse]          "
     ]
    },
    {
     "name": "stdout",
     "output_type": "stream",
     "text": [
      "Getting information for page 384\n"
     ]
    },
    {
     "name": "stderr",
     "output_type": "stream",
     "text": [
      " 77%|███████▋  | 384/497 [21:22<06:21,  3.37s/it, amusementPark=Batu Night Spectacular, coasterName=Wild Mouse]                         "
     ]
    },
    {
     "name": "stdout",
     "output_type": "stream",
     "text": [
      "Getting information for page 385\n"
     ]
    },
    {
     "name": "stderr",
     "output_type": "stream",
     "text": [
      " 77%|███████▋  | 385/497 [21:26<06:17,  3.37s/it, amusementPark=Casino Pier, coasterName=Wild Mouse]                      "
     ]
    },
    {
     "name": "stdout",
     "output_type": "stream",
     "text": [
      "Getting information for page 386\n"
     ]
    },
    {
     "name": "stderr",
     "output_type": "stream",
     "text": [
      " 78%|███████▊  | 386/497 [21:29<06:10,  3.34s/it, amusementPark=Six Flags Great Adventure, coasterName=Wild Rider]       "
     ]
    },
    {
     "name": "stdout",
     "output_type": "stream",
     "text": [
      "Getting information for page 387\n"
     ]
    },
    {
     "name": "stderr",
     "output_type": "stream",
     "text": [
      " 78%|███████▊  | 387/497 [21:32<06:10,  3.37s/it, amusementPark=Fill Land, coasterName=Wild Wind]                              "
     ]
    },
    {
     "name": "stdout",
     "output_type": "stream",
     "text": [
      "Getting information for page 388\n"
     ]
    },
    {
     "name": "stderr",
     "output_type": "stream",
     "text": [
      " 78%|███████▊  | 388/497 [21:36<06:09,  3.39s/it, amusementPark=Michigan's Adventure, coasterName=Wolverine Wildcat]                    "
     ]
    },
    {
     "name": "stdout",
     "output_type": "stream",
     "text": [
      "Getting information for page 389\n"
     ]
    },
    {
     "name": "stderr",
     "output_type": "stream",
     "text": [
      " 78%|███████▊  | 389/497 [21:39<06:06,  3.39s/it, amusementPark=Kings Island, coasterName=Woodstock’s Air Rail]                       "
     ]
    },
    {
     "name": "stdout",
     "output_type": "stream",
     "text": [
      "Getting information for page 390\n"
     ]
    },
    {
     "name": "stderr",
     "output_type": "stream",
     "text": [
      " 78%|███████▊  | 390/497 [21:42<06:00,  3.37s/it, amusementPark=Natural World Amusement Park, coasterName=Worm Coaster]                    "
     ]
    },
    {
     "name": "stdout",
     "output_type": "stream",
     "text": [
      "Getting information for page 391\n"
     ]
    },
    {
     "name": "stderr",
     "output_type": "stream",
     "text": [
      " 79%|███████▊  | 391/497 [21:46<05:59,  3.39s/it, amusementPark=Movieland Park, coasterName=X Speed]                      "
     ]
    },
    {
     "name": "stdout",
     "output_type": "stream",
     "text": [
      "Getting information for page 392\n"
     ]
    },
    {
     "name": "stderr",
     "output_type": "stream",
     "text": [
      " 79%|███████▉  | 392/497 [21:49<05:55,  3.38s/it, amusementPark=Oaklands Amusement Park, coasterName=Zampala Roller Coaster]"
     ]
    },
    {
     "name": "stdout",
     "output_type": "stream",
     "text": [
      "Getting information for page 393\n"
     ]
    },
    {
     "name": "stderr",
     "output_type": "stream",
     "text": [
      " 79%|███████▉  | 393/497 [21:53<05:51,  3.38s/it, amusementPark=EsselWorld, coasterName=Zipper Dipper]                        "
     ]
    },
    {
     "name": "stdout",
     "output_type": "stream",
     "text": [
      "Getting information for page 394\n"
     ]
    },
    {
     "name": "stderr",
     "output_type": "stream",
     "text": [
      " 79%|███████▉  | 394/497 [21:56<05:48,  3.38s/it, amusementPark=Crystal World, coasterName=Zyclone]                            "
     ]
    },
    {
     "name": "stdout",
     "output_type": "stream",
     "text": [
      "Getting information for page 395\n"
     ]
    },
    {
     "name": "stderr",
     "output_type": "stream",
     "text": [
      " 79%|███████▉  | 395/497 [21:59<05:41,  3.35s/it, amusementPark=Expo 64, coasterName=Zyklon]                           "
     ]
    },
    {
     "name": "stdout",
     "output_type": "stream",
     "text": [
      "Getting information for page 396\n"
     ]
    },
    {
     "name": "stderr",
     "output_type": "stream",
     "text": [
      " 80%|███████▉  | 396/497 [22:03<05:40,  3.37s/it, amusementPark=Genkai Sculpture Cape Koinoura, coasterName=unknown]            "
     ]
    },
    {
     "name": "stdout",
     "output_type": "stream",
     "text": [
      "Getting information for page 397\n"
     ]
    },
    {
     "name": "stderr",
     "output_type": "stream",
     "text": [
      " 80%|███████▉  | 397/497 [22:09<07:04,  4.25s/it, amusementPark=Xiaogang Park, coasterName=unknown]                 "
     ]
    },
    {
     "name": "stdout",
     "output_type": "stream",
     "text": [
      "Getting information for page 398\n"
     ]
    },
    {
     "name": "stderr",
     "output_type": "stream",
     "text": [
      " 80%|████████  | 398/497 [22:12<06:34,  3.99s/it, amusementPark=Digital Land, coasterName=unknown]                  "
     ]
    },
    {
     "name": "stdout",
     "output_type": "stream",
     "text": [
      "Getting information for page 399\n"
     ]
    },
    {
     "name": "stderr",
     "output_type": "stream",
     "text": [
      " 80%|████████  | 399/497 [22:16<06:13,  3.82s/it, amusementPark=Parque Shanghai, coasterName=unknown]             "
     ]
    },
    {
     "name": "stdout",
     "output_type": "stream",
     "text": [
      "Getting information for page 400\n"
     ]
    },
    {
     "name": "stderr",
     "output_type": "stream",
     "text": [
      " 80%|████████  | 400/497 [22:19<05:57,  3.69s/it, amusementPark=McCorrough's Kiddie Park, coasterName=unknown]                      "
     ]
    },
    {
     "name": "stdout",
     "output_type": "stream",
     "text": [
      "Getting information for page 401\n"
     ]
    },
    {
     "name": "stderr",
     "output_type": "stream",
     "text": [
      " 81%|████████  | 401/497 [22:23<05:47,  3.62s/it, amusementPark=Chamran Amusement Park, coasterName=unknown]               "
     ]
    },
    {
     "name": "stdout",
     "output_type": "stream",
     "text": [
      "Getting information for page 402\n"
     ]
    },
    {
     "name": "stderr",
     "output_type": "stream",
     "text": [
      " 81%|████████  | 402/497 [22:26<05:32,  3.50s/it, amusementPark=Aquatic Paradise, coasterName=unknown]          "
     ]
    },
    {
     "name": "stdout",
     "output_type": "stream",
     "text": [
      "Getting information for page 403\n"
     ]
    },
    {
     "name": "stderr",
     "output_type": "stream",
     "text": [
      " 81%|████████  | 403/497 [22:29<05:26,  3.47s/it, amusementPark=Dizzyland, coasterName=unknown]                       "
     ]
    },
    {
     "name": "stdout",
     "output_type": "stream",
     "text": [
      "Getting information for page 404\n"
     ]
    },
    {
     "name": "stderr",
     "output_type": "stream",
     "text": [
      " 81%|████████▏ | 404/497 [22:33<05:21,  3.45s/it, amusementPark=Brazilian Park Washuzan Highland, coasterName=unknown] "
     ]
    },
    {
     "name": "stdout",
     "output_type": "stream",
     "text": [
      "Getting information for page 405\n"
     ]
    },
    {
     "name": "stderr",
     "output_type": "stream",
     "text": [
      " 81%|████████▏ | 405/497 [22:36<05:14,  3.41s/it, amusementPark=Gayway, coasterName=unknown]                          "
     ]
    },
    {
     "name": "stdout",
     "output_type": "stream",
     "text": [
      "Getting information for page 406\n"
     ]
    },
    {
     "name": "stderr",
     "output_type": "stream",
     "text": [
      " 82%|████████▏ | 406/497 [22:39<05:10,  3.42s/it, amusementPark=Happyland, coasterName=unknown]               "
     ]
    },
    {
     "name": "stdout",
     "output_type": "stream",
     "text": [
      "Getting information for page 407\n"
     ]
    },
    {
     "name": "stderr",
     "output_type": "stream",
     "text": [
      " 82%|████████▏ | 407/497 [22:43<05:04,  3.38s/it, amusementPark=Ganquan Park, coasterName=unknown]                  "
     ]
    },
    {
     "name": "stdout",
     "output_type": "stream",
     "text": [
      "Getting information for page 408\n"
     ]
    },
    {
     "name": "stderr",
     "output_type": "stream",
     "text": [
      " 82%|████████▏ | 408/497 [22:46<05:01,  3.38s/it, amusementPark=Kongque Park, coasterName=unknown]            "
     ]
    },
    {
     "name": "stdout",
     "output_type": "stream",
     "text": [
      "Getting information for page 409\n"
     ]
    },
    {
     "name": "stderr",
     "output_type": "stream",
     "text": [
      " 82%|████████▏ | 409/497 [22:49<04:56,  3.37s/it, amusementPark=Washington Park, coasterName=unknown]                   "
     ]
    },
    {
     "name": "stdout",
     "output_type": "stream",
     "text": [
      "Getting information for page 410\n"
     ]
    },
    {
     "name": "stderr",
     "output_type": "stream",
     "text": [
      " 82%|████████▏ | 410/497 [22:53<04:49,  3.33s/it, amusementPark=Quijang Park, coasterName=unknown]             "
     ]
    },
    {
     "name": "stdout",
     "output_type": "stream",
     "text": [
      "Getting information for page 411\n"
     ]
    },
    {
     "name": "stderr",
     "output_type": "stream",
     "text": [
      " 83%|████████▎ | 411/497 [22:56<04:48,  3.36s/it, amusementPark=Zezhou Park, coasterName=unknown]              "
     ]
    },
    {
     "name": "stdout",
     "output_type": "stream",
     "text": [
      "Getting information for page 412\n"
     ]
    },
    {
     "name": "stderr",
     "output_type": "stream",
     "text": [
      " 83%|████████▎ | 412/497 [23:00<04:47,  3.39s/it, amusementPark=People's Park, coasterName=unknown]                      "
     ]
    },
    {
     "name": "stdout",
     "output_type": "stream",
     "text": [
      "Getting information for page 413\n"
     ]
    },
    {
     "name": "stderr",
     "output_type": "stream",
     "text": [
      " 83%|████████▎ | 413/497 [23:03<04:39,  3.33s/it, amusementPark=Jinxing Amusement Park, coasterName=unknown]      "
     ]
    },
    {
     "name": "stdout",
     "output_type": "stream",
     "text": [
      "Getting information for page 414\n"
     ]
    },
    {
     "name": "stderr",
     "output_type": "stream",
     "text": [
      " 83%|████████▎ | 414/497 [23:06<04:35,  3.32s/it, amusementPark=Parque de Ferias San Jacinto, coasterName=unknown]   "
     ]
    },
    {
     "name": "stdout",
     "output_type": "stream",
     "text": [
      "Getting information for page 415\n"
     ]
    },
    {
     "name": "stderr",
     "output_type": "stream",
     "text": [
      " 84%|████████▎ | 415/497 [23:09<04:34,  3.35s/it, amusementPark=Fun City, coasterName=unknown]                    "
     ]
    },
    {
     "name": "stdout",
     "output_type": "stream",
     "text": [
      "Getting information for page 416\n"
     ]
    },
    {
     "name": "stderr",
     "output_type": "stream",
     "text": [
      " 84%|████████▎ | 416/497 [23:13<04:26,  3.29s/it, amusementPark=Songyang Park, coasterName=unknown]                            "
     ]
    },
    {
     "name": "stdout",
     "output_type": "stream",
     "text": [
      "Getting information for page 417\n"
     ]
    },
    {
     "name": "stderr",
     "output_type": "stream",
     "text": [
      " 84%|████████▍ | 417/497 [23:16<04:20,  3.26s/it, amusementPark=Mianzhu Park, coasterName=unknown]                     "
     ]
    },
    {
     "name": "stdout",
     "output_type": "stream",
     "text": [
      "Getting information for page 418\n"
     ]
    },
    {
     "name": "stderr",
     "output_type": "stream",
     "text": [
      " 84%|████████▍ | 418/497 [23:19<04:20,  3.30s/it, amusementPark=Dagang Park, coasterName=unknown]                     "
     ]
    },
    {
     "name": "stdout",
     "output_type": "stream",
     "text": [
      "Getting information for page 419\n"
     ]
    },
    {
     "name": "stderr",
     "output_type": "stream",
     "text": [
      " 84%|████████▍ | 419/497 [23:23<04:17,  3.31s/it, amusementPark=Paradise Park, coasterName=unknown]                   "
     ]
    },
    {
     "name": "stdout",
     "output_type": "stream",
     "text": [
      "Getting information for page 420\n"
     ]
    },
    {
     "name": "stderr",
     "output_type": "stream",
     "text": [
      " 85%|████████▍ | 420/497 [23:26<04:14,  3.31s/it, amusementPark=Baotou Leyuan, coasterName=unknown]               "
     ]
    },
    {
     "name": "stdout",
     "output_type": "stream",
     "text": [
      "Getting information for page 421\n"
     ]
    },
    {
     "name": "stderr",
     "output_type": "stream",
     "text": [
      " 85%|████████▍ | 421/497 [23:29<04:10,  3.30s/it, amusementPark=Children's Park, coasterName=unknown]                    "
     ]
    },
    {
     "name": "stdout",
     "output_type": "stream",
     "text": [
      "Getting information for page 422\n"
     ]
    },
    {
     "name": "stderr",
     "output_type": "stream",
     "text": [
      " 85%|████████▍ | 422/497 [23:32<04:08,  3.32s/it, amusementPark=Xingyuan Lake Park, coasterName=unknown]      "
     ]
    },
    {
     "name": "stdout",
     "output_type": "stream",
     "text": [
      "Getting information for page 423\n"
     ]
    },
    {
     "name": "stderr",
     "output_type": "stream",
     "text": [
      " 85%|████████▌ | 423/497 [23:36<04:09,  3.37s/it, amusementPark=Shanghu Park, coasterName=unknown]           "
     ]
    },
    {
     "name": "stdout",
     "output_type": "stream",
     "text": [
      "Getting information for page 424\n"
     ]
    },
    {
     "name": "stderr",
     "output_type": "stream",
     "text": [
      " 85%|████████▌ | 424/497 [23:39<04:06,  3.38s/it, amusementPark=Sky Bird, coasterName=unknown]                   "
     ]
    },
    {
     "name": "stdout",
     "output_type": "stream",
     "text": [
      "Getting information for page 425\n"
     ]
    },
    {
     "name": "stderr",
     "output_type": "stream",
     "text": [
      " 86%|████████▌ | 425/497 [23:43<04:02,  3.37s/it, amusementPark=Zhumadian Forest Park, coasterName=unknown]               "
     ]
    },
    {
     "name": "stdout",
     "output_type": "stream",
     "text": [
      "Getting information for page 426\n"
     ]
    },
    {
     "name": "stderr",
     "output_type": "stream",
     "text": [
      " 86%|████████▌ | 426/497 [23:46<03:56,  3.33s/it, amusementPark=Longquan Park, coasterName=unknown]                     "
     ]
    },
    {
     "name": "stdout",
     "output_type": "stream",
     "text": [
      "Getting information for page 427\n"
     ]
    },
    {
     "name": "stderr",
     "output_type": "stream",
     "text": [
      " 86%|████████▌ | 427/497 [23:49<03:54,  3.35s/it, amusementPark=Shenyang Forest Zoological Garden, coasterName=unknown] "
     ]
    },
    {
     "name": "stdout",
     "output_type": "stream",
     "text": [
      "Getting information for page 428\n"
     ]
    },
    {
     "name": "stderr",
     "output_type": "stream",
     "text": [
      " 86%|████████▌ | 428/497 [23:53<03:50,  3.34s/it, amusementPark=Iranland, coasterName=unknown]                         "
     ]
    },
    {
     "name": "stdout",
     "output_type": "stream",
     "text": [
      "Getting information for page 429\n"
     ]
    },
    {
     "name": "stderr",
     "output_type": "stream",
     "text": [
      " 86%|████████▋ | 429/497 [23:56<03:51,  3.41s/it, amusementPark=Orumieh Park, coasterName=unknown]                           "
     ]
    },
    {
     "name": "stdout",
     "output_type": "stream",
     "text": [
      "Getting information for page 430\n"
     ]
    },
    {
     "name": "stderr",
     "output_type": "stream",
     "text": [
      " 87%|████████▋ | 430/497 [24:00<03:45,  3.36s/it, amusementPark=Funny Park, coasterName=unknown]                  "
     ]
    },
    {
     "name": "stdout",
     "output_type": "stream",
     "text": [
      "Getting information for page 431\n"
     ]
    },
    {
     "name": "stderr",
     "output_type": "stream",
     "text": [
      " 87%|████████▋ | 431/497 [24:03<03:44,  3.40s/it, amusementPark=Lake George Amusement Park, coasterName=unknown]        "
     ]
    },
    {
     "name": "stdout",
     "output_type": "stream",
     "text": [
      "Getting information for page 432\n"
     ]
    },
    {
     "name": "stderr",
     "output_type": "stream",
     "text": [
      " 87%|████████▋ | 432/497 [24:06<03:40,  3.40s/it, amusementPark=Calhoun Park, coasterName=unknown]                          "
     ]
    },
    {
     "name": "stdout",
     "output_type": "stream",
     "text": [
      "Getting information for page 433\n"
     ]
    },
    {
     "name": "stderr",
     "output_type": "stream",
     "text": [
      " 87%|████████▋ | 433/497 [24:10<03:34,  3.35s/it, amusementPark=Wild West World, coasterName=unknown]              "
     ]
    },
    {
     "name": "stdout",
     "output_type": "stream",
     "text": [
      "Getting information for page 434\n"
     ]
    },
    {
     "name": "stderr",
     "output_type": "stream",
     "text": [
      " 87%|████████▋ | 434/497 [24:13<03:32,  3.37s/it, amusementPark=Lomond Park, coasterName=unknown]                           "
     ]
    },
    {
     "name": "stdout",
     "output_type": "stream",
     "text": [
      "Getting information for page 435\n"
     ]
    },
    {
     "name": "stderr",
     "output_type": "stream",
     "text": [
      " 88%|████████▊ | 435/497 [24:16<03:30,  3.40s/it, amusementPark=Taixing Park, coasterName=unknown]                 "
     ]
    },
    {
     "name": "stdout",
     "output_type": "stream",
     "text": [
      "Getting information for page 436\n"
     ]
    },
    {
     "name": "stderr",
     "output_type": "stream",
     "text": [
      " 88%|████████▊ | 436/497 [24:20<03:23,  3.33s/it, amusementPark=Longshan Park, coasterName=unknown]                 "
     ]
    },
    {
     "name": "stdout",
     "output_type": "stream",
     "text": [
      "Getting information for page 437\n"
     ]
    },
    {
     "name": "stderr",
     "output_type": "stream",
     "text": [
      " 88%|████████▊ | 437/497 [24:23<03:18,  3.31s/it, amusementPark=Yellow River Park, coasterName=unknown]                "
     ]
    },
    {
     "name": "stdout",
     "output_type": "stream",
     "text": [
      "Getting information for page 438\n"
     ]
    },
    {
     "name": "stderr",
     "output_type": "stream",
     "text": [
      " 88%|████████▊ | 438/497 [24:26<03:16,  3.34s/it, amusementPark=Dafeng Port Crossbones Theme Park, coasterName=unknown]"
     ]
    },
    {
     "name": "stdout",
     "output_type": "stream",
     "text": [
      "Getting information for page 439\n"
     ]
    },
    {
     "name": "stderr",
     "output_type": "stream",
     "text": [
      " 88%|████████▊ | 439/497 [24:30<03:10,  3.29s/it, amusementPark=Dalfak Amusement Park, coasterName=unknown]            "
     ]
    },
    {
     "name": "stdout",
     "output_type": "stream",
     "text": [
      "Getting information for page 440\n"
     ]
    },
    {
     "name": "stderr",
     "output_type": "stream",
     "text": [
      " 89%|████████▊ | 440/497 [24:33<03:07,  3.28s/it, amusementPark=Beidaihe Jifa Sightseeing Garden, coasterName=unknown]"
     ]
    },
    {
     "name": "stdout",
     "output_type": "stream",
     "text": [
      "Getting information for page 441\n"
     ]
    },
    {
     "name": "stderr",
     "output_type": "stream",
     "text": [
      " 89%|████████▊ | 441/497 [24:36<03:02,  3.26s/it, amusementPark=Taihu Lake Longemont Paradise, coasterName=unknown]         "
     ]
    },
    {
     "name": "stdout",
     "output_type": "stream",
     "text": [
      "Getting information for page 442\n"
     ]
    },
    {
     "name": "stderr",
     "output_type": "stream",
     "text": [
      " 89%|████████▉ | 442/497 [24:39<02:58,  3.25s/it, amusementPark=World Carnival, coasterName=unknown]               "
     ]
    },
    {
     "name": "stdout",
     "output_type": "stream",
     "text": [
      "Getting information for page 443\n"
     ]
    },
    {
     "name": "stderr",
     "output_type": "stream",
     "text": [
      " 89%|████████▉ | 443/497 [24:43<02:57,  3.29s/it, amusementPark=Sleigh Rides Namakabroud, coasterName=unknown]                "
     ]
    },
    {
     "name": "stdout",
     "output_type": "stream",
     "text": [
      "Getting information for page 444\n"
     ]
    },
    {
     "name": "stderr",
     "output_type": "stream",
     "text": [
      " 89%|████████▉ | 444/497 [24:46<02:53,  3.27s/it, amusementPark=Holiday Hill, coasterName=unknown]                            "
     ]
    },
    {
     "name": "stdout",
     "output_type": "stream",
     "text": [
      "Getting information for page 445\n"
     ]
    },
    {
     "name": "stderr",
     "output_type": "stream",
     "text": [
      " 90%|████████▉ | 445/497 [24:49<02:48,  3.24s/it, amusementPark=Linyi Riverside Amusement Park, coasterName=unknown]"
     ]
    },
    {
     "name": "stdout",
     "output_type": "stream",
     "text": [
      "Getting information for page 446\n"
     ]
    },
    {
     "name": "stderr",
     "output_type": "stream",
     "text": [
      " 90%|████████▉ | 446/497 [24:52<02:46,  3.27s/it, amusementPark=Lopatinsky Garden, coasterName=unknown]              "
     ]
    },
    {
     "name": "stdout",
     "output_type": "stream",
     "text": [
      "Getting information for page 447\n"
     ]
    },
    {
     "name": "stderr",
     "output_type": "stream",
     "text": [
      " 90%|████████▉ | 447/497 [24:56<02:45,  3.31s/it, amusementPark=Water Park, coasterName=unknown]                          "
     ]
    },
    {
     "name": "stdout",
     "output_type": "stream",
     "text": [
      "Getting information for page 448\n"
     ]
    },
    {
     "name": "stderr",
     "output_type": "stream",
     "text": [
      " 90%|█████████ | 448/497 [24:59<02:41,  3.30s/it, amusementPark=Rawabi Land Park, coasterName=unknown]                  "
     ]
    },
    {
     "name": "stdout",
     "output_type": "stream",
     "text": [
      "Getting information for page 449\n"
     ]
    },
    {
     "name": "stderr",
     "output_type": "stream",
     "text": [
      " 90%|█████████ | 449/497 [25:02<02:37,  3.27s/it, amusementPark=Dazu Sports Center, coasterName=unknown]             "
     ]
    },
    {
     "name": "stdout",
     "output_type": "stream",
     "text": [
      "Getting information for page 450\n"
     ]
    },
    {
     "name": "stderr",
     "output_type": "stream",
     "text": [
      " 91%|█████████ | 450/497 [25:06<02:34,  3.29s/it, amusementPark=Chitgar Lake, coasterName=unknown]                 "
     ]
    },
    {
     "name": "stdout",
     "output_type": "stream",
     "text": [
      "Getting information for page 451\n"
     ]
    },
    {
     "name": "stderr",
     "output_type": "stream",
     "text": [
      " 91%|█████████ | 451/497 [25:09<02:30,  3.28s/it, amusementPark=Al-Nawras Park and Restaurant, coasterName=unknown] "
     ]
    },
    {
     "name": "stdout",
     "output_type": "stream",
     "text": [
      "Getting information for page 452\n"
     ]
    },
    {
     "name": "stderr",
     "output_type": "stream",
     "text": [
      " 91%|█████████ | 452/497 [25:12<02:28,  3.30s/it, amusementPark=Quyoshcha Nuri, coasterName=unknown]               "
     ]
    },
    {
     "name": "stdout",
     "output_type": "stream",
     "text": [
      "Getting information for page 453\n"
     ]
    },
    {
     "name": "stderr",
     "output_type": "stream",
     "text": [
      " 91%|█████████ | 453/497 [25:16<02:26,  3.32s/it, amusementPark=Luna Park, coasterName=unknown]                      "
     ]
    },
    {
     "name": "stdout",
     "output_type": "stream",
     "text": [
      "Getting information for page 454\n"
     ]
    },
    {
     "name": "stderr",
     "output_type": "stream",
     "text": [
      " 91%|█████████▏| 454/497 [25:19<02:22,  3.31s/it, amusementPark=Jiangjin Amusement Park, coasterName=unknown]          "
     ]
    },
    {
     "name": "stdout",
     "output_type": "stream",
     "text": [
      "Getting information for page 455\n"
     ]
    },
    {
     "name": "stderr",
     "output_type": "stream",
     "text": [
      " 92%|█████████▏| 455/497 [25:22<02:15,  3.24s/it, amusementPark=Seven Stars Happy Park, coasterName=unknown]       "
     ]
    },
    {
     "name": "stdout",
     "output_type": "stream",
     "text": [
      "Getting information for page 456\n"
     ]
    },
    {
     "name": "stderr",
     "output_type": "stream",
     "text": [
      " 92%|█████████▏| 456/497 [25:25<02:14,  3.29s/it, amusementPark=Magic Island, coasterName=unknown]                     "
     ]
    },
    {
     "name": "stdout",
     "output_type": "stream",
     "text": [
      "Getting information for page 457\n"
     ]
    },
    {
     "name": "stderr",
     "output_type": "stream",
     "text": [
      " 92%|█████████▏| 457/497 [25:29<02:12,  3.31s/it, amusementPark=Delta Sidoarjo Fantasy, coasterName=unknown]      "
     ]
    },
    {
     "name": "stdout",
     "output_type": "stream",
     "text": [
      "Getting information for page 458\n"
     ]
    },
    {
     "name": "stderr",
     "output_type": "stream",
     "text": [
      " 92%|█████████▏| 458/497 [25:32<02:09,  3.31s/it, amusementPark=Horse Amusement Park, coasterName=unknown]                   "
     ]
    },
    {
     "name": "stdout",
     "output_type": "stream",
     "text": [
      "Getting information for page 459\n"
     ]
    },
    {
     "name": "stderr",
     "output_type": "stream",
     "text": [
      " 92%|█████████▏| 459/497 [25:35<02:05,  3.31s/it, amusementPark=Floraland Continent Park, coasterName=unknown]        "
     ]
    },
    {
     "name": "stdout",
     "output_type": "stream",
     "text": [
      "Getting information for page 460\n"
     ]
    },
    {
     "name": "stderr",
     "output_type": "stream",
     "text": [
      " 93%|█████████▎| 460/497 [25:39<02:02,  3.32s/it, amusementPark=Happy Island Amusement Park, coasterName=unknown]                 "
     ]
    },
    {
     "name": "stdout",
     "output_type": "stream",
     "text": [
      "Getting information for page 461\n"
     ]
    },
    {
     "name": "stderr",
     "output_type": "stream",
     "text": [
      " 93%|█████████▎| 461/497 [25:42<02:00,  3.34s/it, amusementPark=Yuanxiang International Vanilla Garden, coasterName=unknown]"
     ]
    },
    {
     "name": "stdout",
     "output_type": "stream",
     "text": [
      "Getting information for page 462\n"
     ]
    },
    {
     "name": "stderr",
     "output_type": "stream",
     "text": [
      " 93%|█████████▎| 462/497 [25:45<01:56,  3.32s/it, amusementPark=Park 50 Let Pobedy, coasterName=unknown]                       "
     ]
    },
    {
     "name": "stdout",
     "output_type": "stream",
     "text": [
      "Getting information for page 463\n"
     ]
    },
    {
     "name": "stderr",
     "output_type": "stream",
     "text": [
      " 93%|█████████▎| 463/497 [25:49<01:53,  3.32s/it, amusementPark=Omaezaki Land, coasterName=unknown]                         "
     ]
    },
    {
     "name": "stdout",
     "output_type": "stream",
     "text": [
      "Getting information for page 464\n"
     ]
    },
    {
     "name": "stderr",
     "output_type": "stream",
     "text": [
      " 93%|█████████▎| 464/497 [25:52<01:49,  3.30s/it, amusementPark=Mul'tilend, coasterName=unknown]                            "
     ]
    },
    {
     "name": "stdout",
     "output_type": "stream",
     "text": [
      "Getting information for page 465\n"
     ]
    },
    {
     "name": "stderr",
     "output_type": "stream",
     "text": [
      " 94%|█████████▎| 465/497 [25:55<01:45,  3.29s/it, amusementPark=Sparky's, coasterName=unknown]                            "
     ]
    },
    {
     "name": "stdout",
     "output_type": "stream",
     "text": [
      "Getting information for page 466\n"
     ]
    },
    {
     "name": "stderr",
     "output_type": "stream",
     "text": [
      " 94%|█████████▍| 466/497 [25:58<01:39,  3.21s/it, amusementPark=Daxing Amusement Park, coasterName=unknown]                   "
     ]
    },
    {
     "name": "stdout",
     "output_type": "stream",
     "text": [
      "Getting information for page 467\n"
     ]
    },
    {
     "name": "stderr",
     "output_type": "stream",
     "text": [
      " 94%|█████████▍| 467/497 [26:01<01:37,  3.24s/it, amusementPark=Wanda Holiday Resort, coasterName=unknown]                 "
     ]
    },
    {
     "name": "stdout",
     "output_type": "stream",
     "text": [
      "Getting information for page 468\n"
     ]
    },
    {
     "name": "stderr",
     "output_type": "stream",
     "text": [
      " 94%|█████████▍| 468/497 [26:05<01:33,  3.22s/it, amusementPark=Juyoupin Dendrobium Culture Park, coasterName=unknown]        "
     ]
    },
    {
     "name": "stdout",
     "output_type": "stream",
     "text": [
      "Getting information for page 469\n"
     ]
    },
    {
     "name": "stderr",
     "output_type": "stream",
     "text": [
      " 94%|█████████▍| 469/497 [26:08<01:29,  3.20s/it, amusementPark=China Lufeng Jurassic Dinosaur Heritage Park, coasterName=unknown]"
     ]
    },
    {
     "name": "stdout",
     "output_type": "stream",
     "text": [
      "Getting information for page 470\n"
     ]
    },
    {
     "name": "stderr",
     "output_type": "stream",
     "text": [
      " 95%|█████████▍| 470/497 [26:12<01:31,  3.41s/it, amusementPark=Saida Go Kart, coasterName=unknown]                               "
     ]
    },
    {
     "name": "stdout",
     "output_type": "stream",
     "text": [
      "Getting information for page 471\n"
     ]
    },
    {
     "name": "stderr",
     "output_type": "stream",
     "text": [
      " 95%|█████████▍| 471/497 [26:15<01:27,  3.37s/it, amusementPark=Fantawild, coasterName=unknown]                                      "
     ]
    },
    {
     "name": "stdout",
     "output_type": "stream",
     "text": [
      "Getting information for page 472\n"
     ]
    },
    {
     "name": "stderr",
     "output_type": "stream",
     "text": [
      " 95%|█████████▍| 472/497 [26:18<01:23,  3.33s/it, amusementPark=Al Rawdah Amusement Park, coasterName=unknown]             "
     ]
    },
    {
     "name": "stdout",
     "output_type": "stream",
     "text": [
      "Getting information for page 473\n"
     ]
    },
    {
     "name": "stderr",
     "output_type": "stream",
     "text": [
      " 95%|█████████▌| 473/497 [26:21<01:18,  3.27s/it, amusementPark=Zhanghu Park's Happy World, coasterName=unknown]             "
     ]
    },
    {
     "name": "stdout",
     "output_type": "stream",
     "text": [
      "Getting information for page 474\n"
     ]
    },
    {
     "name": "stderr",
     "output_type": "stream",
     "text": [
      " 95%|█████████▌| 474/497 [26:25<01:14,  3.26s/it, amusementPark=Kazuo Yulong Valley Hot Spring Resort, coasterName=unknown]       "
     ]
    },
    {
     "name": "stdout",
     "output_type": "stream",
     "text": [
      "Getting information for page 475\n"
     ]
    },
    {
     "name": "stderr",
     "output_type": "stream",
     "text": [
      " 96%|█████████▌| 475/497 [26:28<01:11,  3.24s/it, amusementPark=Yuehe Land, coasterName=unknown]                                          "
     ]
    },
    {
     "name": "stdout",
     "output_type": "stream",
     "text": [
      "Getting information for page 476\n"
     ]
    },
    {
     "name": "stderr",
     "output_type": "stream",
     "text": [
      " 96%|█████████▌| 476/497 [26:31<01:07,  3.22s/it, amusementPark=Qingcheng Park, coasterName=unknown]                         "
     ]
    },
    {
     "name": "stdout",
     "output_type": "stream",
     "text": [
      "Getting information for page 477\n"
     ]
    },
    {
     "name": "stderr",
     "output_type": "stream",
     "text": [
      " 96%|█████████▌| 477/497 [26:34<01:05,  3.26s/it, amusementPark=Sunac Cultural Tourism City, coasterName=unknown]           "
     ]
    },
    {
     "name": "stdout",
     "output_type": "stream",
     "text": [
      "Getting information for page 478\n"
     ]
    },
    {
     "name": "stderr",
     "output_type": "stream",
     "text": [
      " 96%|█████████▌| 478/497 [26:38<01:02,  3.28s/it, amusementPark=Thu Le Zoo Hanoi, coasterName=unknown]                     "
     ]
    },
    {
     "name": "stdout",
     "output_type": "stream",
     "text": [
      "Getting information for page 479\n"
     ]
    },
    {
     "name": "stderr",
     "output_type": "stream",
     "text": [
      " 96%|█████████▋| 479/497 [26:41<00:59,  3.33s/it, amusementPark=Anniversary Park, coasterName=unknown]                     "
     ]
    },
    {
     "name": "stdout",
     "output_type": "stream",
     "text": [
      "Getting information for page 480\n"
     ]
    },
    {
     "name": "stderr",
     "output_type": "stream",
     "text": [
      " 97%|█████████▋| 480/497 [26:44<00:55,  3.26s/it, amusementPark=Aquatic Paradise, coasterName=unknown]                       "
     ]
    },
    {
     "name": "stdout",
     "output_type": "stream",
     "text": [
      "Getting information for page 481\n"
     ]
    },
    {
     "name": "stderr",
     "output_type": "stream",
     "text": [
      " 97%|█████████▋| 481/497 [26:47<00:51,  3.20s/it, amusementPark=Yuntai Mountain Scenic Area, coasterName=unknown]"
     ]
    },
    {
     "name": "stdout",
     "output_type": "stream",
     "text": [
      "Getting information for page 482\n"
     ]
    },
    {
     "name": "stderr",
     "output_type": "stream",
     "text": [
      " 97%|█████████▋| 482/497 [26:50<00:46,  3.12s/it, amusementPark=Fantawild, coasterName=unknown]                            "
     ]
    },
    {
     "name": "stdout",
     "output_type": "stream",
     "text": [
      "Getting information for page 483\n"
     ]
    },
    {
     "name": "stderr",
     "output_type": "stream",
     "text": [
      " 97%|█████████▋| 483/497 [26:53<00:43,  3.10s/it, amusementPark=Steel Pier, coasterName=unknown]                   "
     ]
    },
    {
     "name": "stdout",
     "output_type": "stream",
     "text": [
      "Getting information for page 484\n"
     ]
    },
    {
     "name": "stderr",
     "output_type": "stream",
     "text": [
      " 97%|█████████▋| 484/497 [26:56<00:40,  3.15s/it, amusementPark=Najaf Amusement Park, coasterName=unknown]           "
     ]
    },
    {
     "name": "stdout",
     "output_type": "stream",
     "text": [
      "Getting information for page 485\n"
     ]
    },
    {
     "name": "stderr",
     "output_type": "stream",
     "text": [
      " 98%|█████████▊| 485/497 [26:59<00:37,  3.09s/it, amusementPark=Idlewild & SoakZone, coasterName=unknown]           "
     ]
    },
    {
     "name": "stdout",
     "output_type": "stream",
     "text": [
      "Getting information for page 486\n"
     ]
    },
    {
     "name": "stderr",
     "output_type": "stream",
     "text": [
      " 98%|█████████▊| 486/497 [27:03<00:34,  3.12s/it, amusementPark=Gouri Park, coasterName=unknown]                    "
     ]
    },
    {
     "name": "stdout",
     "output_type": "stream",
     "text": [
      "Getting information for page 487\n"
     ]
    },
    {
     "name": "stderr",
     "output_type": "stream",
     "text": [
      " 98%|█████████▊| 487/497 [27:06<00:31,  3.20s/it, amusementPark=Wiener Prater, coasterName=unknown]                   "
     ]
    },
    {
     "name": "stdout",
     "output_type": "stream",
     "text": [
      "Getting information for page 488\n"
     ]
    },
    {
     "name": "stderr",
     "output_type": "stream",
     "text": [
      " 98%|█████████▊| 488/497 [27:09<00:28,  3.12s/it, amusementPark=Adhamiyah Amusement Park, coasterName=unknown]                      "
     ]
    },
    {
     "name": "stdout",
     "output_type": "stream",
     "text": [
      "Getting information for page 489\n"
     ]
    },
    {
     "name": "stderr",
     "output_type": "stream",
     "text": [
      " 98%|█████████▊| 489/497 [27:12<00:25,  3.16s/it, amusementPark=Kinderland Trassenheide, coasterName=unknown]                       "
     ]
    },
    {
     "name": "stdout",
     "output_type": "stream",
     "text": [
      "Getting information for page 490\n"
     ]
    },
    {
     "name": "stderr",
     "output_type": "stream",
     "text": [
      " 99%|█████████▊| 490/497 [27:15<00:22,  3.15s/it, amusementPark=Egypt Park, coasterName=unknown]                   "
     ]
    },
    {
     "name": "stdout",
     "output_type": "stream",
     "text": [
      "Getting information for page 491\n"
     ]
    },
    {
     "name": "stderr",
     "output_type": "stream",
     "text": [
      " 99%|█████████▉| 491/497 [27:19<00:19,  3.19s/it, amusementPark=Wonderla Amusement Park Bhubaneswar, coasterName=unknown]    "
     ]
    },
    {
     "name": "stdout",
     "output_type": "stream",
     "text": [
      "Getting information for page 492\n"
     ]
    },
    {
     "name": "stderr",
     "output_type": "stream",
     "text": [
      " 99%|█████████▉| 492/497 [27:22<00:15,  3.16s/it, amusementPark=Huahai Happy World, coasterName=unknown]                   "
     ]
    },
    {
     "name": "stdout",
     "output_type": "stream",
     "text": [
      "Getting information for page 493\n"
     ]
    },
    {
     "name": "stderr",
     "output_type": "stream",
     "text": [
      " 99%|█████████▉| 493/497 [27:25<00:12,  3.21s/it, amusementPark=Suining Happy World, coasterName=unknown]            "
     ]
    },
    {
     "name": "stdout",
     "output_type": "stream",
     "text": [
      "Getting information for page 494\n"
     ]
    },
    {
     "name": "stderr",
     "output_type": "stream",
     "text": [
      " 99%|█████████▉| 494/497 [27:28<00:09,  3.20s/it, amusementPark=Nezha Happy World, coasterName=unknown]               "
     ]
    },
    {
     "name": "stdout",
     "output_type": "stream",
     "text": [
      "Getting information for page 495\n"
     ]
    },
    {
     "name": "stderr",
     "output_type": "stream",
     "text": [
      "100%|█████████▉| 495/497 [27:31<00:06,  3.21s/it, amusementPark=Angel Amusement Park, coasterName=unknown]                       "
     ]
    },
    {
     "name": "stdout",
     "output_type": "stream",
     "text": [
      "Getting information for page 496\n"
     ]
    },
    {
     "name": "stderr",
     "output_type": "stream",
     "text": [
      "100%|█████████▉| 496/497 [27:35<00:03,  3.20s/it, amusementPark=Dingshun Amusement Park, coasterName=unknown]                "
     ]
    },
    {
     "name": "stdout",
     "output_type": "stream",
     "text": [
      "Getting information for page 497\n"
     ]
    },
    {
     "name": "stderr",
     "output_type": "stream",
     "text": [
      "100%|██████████| 497/497 [27:35<00:00,  3.33s/it, amusementPark=Hayy Al Sharq Theme Park, coasterName=unknown] \n"
     ]
    }
   ],
   "source": [
    "rcdb_url = \"https://rcdb.com\"\n",
    "\n",
    "# Path to your ChromeDriver executable\n",
    "chromedriver_path = r'C:\\Users\\gabeb\\Desktop\\programming\\chromedriver-win64\\chromedriver.exe'\n",
    "\n",
    "# Initialize Chrome WebDriver\n",
    "# service = Service(chromedriver_path)\n",
    "# service.start()\n",
    "driver = webdriver.Chrome()\n",
    "# driver = initialize_driver()\n",
    "driver.get(f\"{rcdb_url}/r.htm?ot=2\")\n",
    "soup = BeautifulSoup(driver.page_source, 'html')\n",
    "numPages = int(soup.find('div', {\"id\": \"rfoot\"}).findAll('a')[-2].contents[0])\n",
    "print(f\"Total number of pages to iterate through: {numPages}\")\n",
    "\n",
    "pbar = tqdm(range(numPages))\n",
    "rollercoasters = []\n",
    "\n",
    "for pageNum in pbar:\n",
    "    print(f\"Getting information for page {pageNum+1}\")\n",
    "    driver.get(f\"{rcdb_url}/r.htm?page={pageNum+1}&ot=2\")\n",
    "    soup = BeautifulSoup(driver.page_source, 'html')\n",
    "    table = soup.findAll('table')[1].find('tbody')\n",
    "    rows = table.findAll('tr')\n",
    "    \n",
    "    for row in rows:\n",
    "        rowData = parse_rollercoaster_table_row(row)\n",
    "        pbar.set_postfix(\n",
    "            coasterName=rowData['Name'], \n",
    "            amusementPark=rowData['Amusement Park'])\n",
    "        rollercoasters.append(rowData)\n",
    "        \n",
    "    # every page, save the information to a dataframe\n",
    "    df = pd.DataFrame.from_records(rollercoasters)\n",
    "    df.to_csv(\"data.csv\", index=False)"
   ]
  },
  {
   "cell_type": "code",
   "execution_count": 6,
   "metadata": {},
   "outputs": [],
   "source": [
    "driver.quit()"
   ]
  },
  {
   "cell_type": "code",
   "execution_count": 5,
   "metadata": {},
   "outputs": [
    {
     "data": {
      "text/html": [
       "<div>\n",
       "<style scoped>\n",
       "    .dataframe tbody tr th:only-of-type {\n",
       "        vertical-align: middle;\n",
       "    }\n",
       "\n",
       "    .dataframe tbody tr th {\n",
       "        vertical-align: top;\n",
       "    }\n",
       "\n",
       "    .dataframe thead th {\n",
       "        text-align: right;\n",
       "    }\n",
       "</style>\n",
       "<table border=\"1\" class=\"dataframe\">\n",
       "  <thead>\n",
       "    <tr style=\"text-align: right;\">\n",
       "      <th></th>\n",
       "      <th>Name</th>\n",
       "      <th>Amusement Park</th>\n",
       "      <th>Type</th>\n",
       "      <th>Design</th>\n",
       "      <th>Status</th>\n",
       "      <th>Opened</th>\n",
       "      <th>City</th>\n",
       "      <th>Region</th>\n",
       "      <th>Country</th>\n",
       "      <th>Make</th>\n",
       "      <th>...</th>\n",
       "      <th>Duration</th>\n",
       "      <th>G-Force ()</th>\n",
       "      <th>Vertical Angle (°)</th>\n",
       "      <th>Uphill Length (ft)</th>\n",
       "      <th>Downhill Length (ft)</th>\n",
       "      <th>Δ Elevation (ft)</th>\n",
       "      <th>Airtime Points</th>\n",
       "      <th>Crossings</th>\n",
       "      <th>Bank Angle (°)</th>\n",
       "      <th>Drop</th>\n",
       "    </tr>\n",
       "  </thead>\n",
       "  <tbody>\n",
       "    <tr>\n",
       "      <th>0</th>\n",
       "      <td>€uro-Coaster</td>\n",
       "      <td>Wiener Prater</td>\n",
       "      <td>Steel</td>\n",
       "      <td>Suspended</td>\n",
       "      <td>Removed</td>\n",
       "      <td>5/29/2020</td>\n",
       "      <td>Vienna</td>\n",
       "      <td>Vienna</td>\n",
       "      <td>Austria</td>\n",
       "      <td>Reverchon</td>\n",
       "      <td>...</td>\n",
       "      <td>NaN</td>\n",
       "      <td>NaN</td>\n",
       "      <td>NaN</td>\n",
       "      <td>NaN</td>\n",
       "      <td>NaN</td>\n",
       "      <td>NaN</td>\n",
       "      <td>NaN</td>\n",
       "      <td>NaN</td>\n",
       "      <td>NaN</td>\n",
       "      <td>NaN</td>\n",
       "    </tr>\n",
       "    <tr>\n",
       "      <th>1</th>\n",
       "      <td>€uro Coaster</td>\n",
       "      <td>Funland Theme Park</td>\n",
       "      <td>Steel</td>\n",
       "      <td>Sit Down</td>\n",
       "      <td>Removed</td>\n",
       "      <td>2021</td>\n",
       "      <td>Somerset</td>\n",
       "      <td>England</td>\n",
       "      <td>United Kingdom</td>\n",
       "      <td>SBF Visa Group</td>\n",
       "      <td>...</td>\n",
       "      <td>NaN</td>\n",
       "      <td>NaN</td>\n",
       "      <td>NaN</td>\n",
       "      <td>NaN</td>\n",
       "      <td>NaN</td>\n",
       "      <td>NaN</td>\n",
       "      <td>NaN</td>\n",
       "      <td>NaN</td>\n",
       "      <td>NaN</td>\n",
       "      <td>NaN</td>\n",
       "    </tr>\n",
       "    <tr>\n",
       "      <th>2</th>\n",
       "      <td>1066</td>\n",
       "      <td>Festyland</td>\n",
       "      <td>Steel</td>\n",
       "      <td>Sit Down</td>\n",
       "      <td>Operating</td>\n",
       "      <td>3/27/2005</td>\n",
       "      <td>Bretteville-Sur-Odon</td>\n",
       "      <td>Normandy</td>\n",
       "      <td>France</td>\n",
       "      <td>Soquet</td>\n",
       "      <td>...</td>\n",
       "      <td>1:00</td>\n",
       "      <td>NaN</td>\n",
       "      <td>NaN</td>\n",
       "      <td>NaN</td>\n",
       "      <td>NaN</td>\n",
       "      <td>NaN</td>\n",
       "      <td>NaN</td>\n",
       "      <td>NaN</td>\n",
       "      <td>NaN</td>\n",
       "      <td>NaN</td>\n",
       "    </tr>\n",
       "    <tr>\n",
       "      <th>3</th>\n",
       "      <td>10 Inversion Roller Coaster</td>\n",
       "      <td>Chimelong Paradise</td>\n",
       "      <td>Steel</td>\n",
       "      <td>Sit Down</td>\n",
       "      <td>Operating</td>\n",
       "      <td>2/2006</td>\n",
       "      <td>Guangzhou</td>\n",
       "      <td>Guangdong</td>\n",
       "      <td>China</td>\n",
       "      <td>Intamin Amusement Rides</td>\n",
       "      <td>...</td>\n",
       "      <td>1:32</td>\n",
       "      <td>NaN</td>\n",
       "      <td>NaN</td>\n",
       "      <td>NaN</td>\n",
       "      <td>NaN</td>\n",
       "      <td>NaN</td>\n",
       "      <td>NaN</td>\n",
       "      <td>NaN</td>\n",
       "      <td>NaN</td>\n",
       "      <td>NaN</td>\n",
       "    </tr>\n",
       "    <tr>\n",
       "      <th>4</th>\n",
       "      <td>1970 Galaxy Rip Tide Coaster</td>\n",
       "      <td>Swampy Jack's Wongo Adventure</td>\n",
       "      <td>Steel</td>\n",
       "      <td>Sit Down</td>\n",
       "      <td>Relocated</td>\n",
       "      <td>6/27/2014</td>\n",
       "      <td>Panama City Beach</td>\n",
       "      <td>Florida</td>\n",
       "      <td>United States</td>\n",
       "      <td>S.D.C.</td>\n",
       "      <td>...</td>\n",
       "      <td>NaN</td>\n",
       "      <td>NaN</td>\n",
       "      <td>NaN</td>\n",
       "      <td>NaN</td>\n",
       "      <td>NaN</td>\n",
       "      <td>NaN</td>\n",
       "      <td>NaN</td>\n",
       "      <td>NaN</td>\n",
       "      <td>NaN</td>\n",
       "      <td>NaN</td>\n",
       "    </tr>\n",
       "  </tbody>\n",
       "</table>\n",
       "<p>5 rows × 27 columns</p>\n",
       "</div>"
      ],
      "text/plain": [
       "                           Name                 Amusement Park   Type  \\\n",
       "0                  €uro-Coaster                  Wiener Prater  Steel   \n",
       "1                  €uro Coaster             Funland Theme Park  Steel   \n",
       "2                          1066                      Festyland  Steel   \n",
       "3   10 Inversion Roller Coaster             Chimelong Paradise  Steel   \n",
       "4  1970 Galaxy Rip Tide Coaster  Swampy Jack's Wongo Adventure  Steel   \n",
       "\n",
       "      Design     Status     Opened                  City     Region  \\\n",
       "0  Suspended    Removed  5/29/2020                Vienna     Vienna   \n",
       "1   Sit Down    Removed       2021              Somerset    England   \n",
       "2   Sit Down  Operating  3/27/2005  Bretteville-Sur-Odon   Normandy   \n",
       "3   Sit Down  Operating     2/2006             Guangzhou  Guangdong   \n",
       "4   Sit Down  Relocated  6/27/2014     Panama City Beach    Florida   \n",
       "\n",
       "          Country                     Make  ... Duration  G-Force ()  \\\n",
       "0         Austria                Reverchon  ...      NaN         NaN   \n",
       "1  United Kingdom           SBF Visa Group  ...      NaN         NaN   \n",
       "2          France                   Soquet  ...     1:00         NaN   \n",
       "3           China  Intamin Amusement Rides  ...     1:32         NaN   \n",
       "4   United States                   S.D.C.  ...      NaN         NaN   \n",
       "\n",
       "   Vertical Angle (°)  Uphill Length (ft) Downhill Length (ft)  \\\n",
       "0                 NaN                 NaN                  NaN   \n",
       "1                 NaN                 NaN                  NaN   \n",
       "2                 NaN                 NaN                  NaN   \n",
       "3                 NaN                 NaN                  NaN   \n",
       "4                 NaN                 NaN                  NaN   \n",
       "\n",
       "  Δ Elevation (ft)  Airtime Points Crossings  Bank Angle (°)  Drop  \n",
       "0              NaN             NaN       NaN             NaN   NaN  \n",
       "1              NaN             NaN       NaN             NaN   NaN  \n",
       "2              NaN             NaN       NaN             NaN   NaN  \n",
       "3              NaN             NaN       NaN             NaN   NaN  \n",
       "4              NaN             NaN       NaN             NaN   NaN  \n",
       "\n",
       "[5 rows x 27 columns]"
      ]
     },
     "execution_count": 5,
     "metadata": {},
     "output_type": "execute_result"
    }
   ],
   "source": [
    "df = pd.read_csv('data.csv')\n",
    "df.head()"
   ]
  },
  {
   "cell_type": "code",
   "execution_count": 11,
   "metadata": {},
   "outputs": [
    {
     "name": "stdout",
     "output_type": "stream",
     "text": [
      "\n",
      "\n",
      "\n",
      "\n",
      "\n",
      "\n",
      "\n",
      "\n",
      "\n",
      "\n",
      "\n",
      "\n",
      "\n",
      "\n",
      "\n",
      "\n",
      "\n",
      "\n",
      "\n",
      "\n",
      "\n",
      "\n",
      "\n",
      "\n",
      "\n",
      "\n",
      "\n",
      "\n",
      "\n",
      "\n",
      "\n",
      "\n",
      "\n",
      "\n",
      "\n",
      "\n",
      "\n",
      "\n",
      "\n",
      "\n",
      "\n",
      "\n",
      "\n",
      "\n",
      "\n",
      "\n",
      "\n",
      "\n",
      "\n",
      "\n",
      "\n",
      "\n",
      "\n",
      "\n",
      "\n",
      "\n",
      "\n",
      "\n",
      "\n",
      "\n",
      "\n",
      "\n",
      "\n",
      "\n",
      "\n",
      "\n",
      "\n",
      "\n",
      "\n",
      "\n",
      "\n",
      "\n",
      "\n",
      "\n",
      "\n",
      "\n",
      "\n",
      "\n",
      "\n",
      "\n",
      "\n",
      "\n",
      "\n",
      "\n",
      "\n",
      "\n",
      "\n",
      "\n",
      "\n",
      "\n",
      "\n",
      "\n",
      "\n",
      "\n",
      "\n",
      "\n",
      "\n",
      "\n",
      "\n",
      "\n",
      "\n",
      "\n",
      "\n",
      "\n",
      "\n",
      "\n",
      "\n",
      "\n",
      "\n",
      "\n",
      "\n",
      "\n",
      "\n",
      "\n",
      "\n",
      "\n",
      "\n",
      "\n",
      "\n",
      "\n",
      "\n",
      "\n",
      "\n",
      "\n",
      "\n",
      "\n",
      "\n",
      "\n",
      "\n",
      "\n",
      "\n",
      "\n",
      "\n",
      "\n",
      "\n",
      "\n",
      "\n",
      "\n",
      "\n",
      "\n",
      "\n",
      "\n",
      "\n",
      "\n",
      "\n",
      "\n",
      "\n",
      "\n",
      "\n",
      "\n",
      "\n",
      "\n",
      "\n",
      "\n",
      "\n",
      "\n",
      "\n",
      "\n",
      "\n",
      "\n",
      "\n",
      "\n",
      "\n",
      "\n",
      "\n",
      "\n",
      "\n",
      "\n",
      "\n",
      "\n",
      "\n",
      "\n",
      "\n",
      "\n",
      "\n",
      "\n",
      "\n",
      "\n",
      "\n",
      "\n",
      "\n",
      "\n",
      "\n",
      "\n",
      "\n",
      "\n",
      "\n",
      "\n",
      "\n",
      "\n",
      "\n",
      "\n",
      "\n",
      "\n",
      "\n",
      "\n",
      "\n",
      "\n",
      "\n",
      "\n",
      "\n",
      "\n",
      "\n",
      "\n",
      "\n",
      "\n",
      "\n",
      "\n",
      "\n",
      "\n",
      "\n",
      "\n",
      "\n",
      "\n",
      "\n",
      "\n",
      "\n",
      "\n",
      "\n",
      "\n",
      "\n",
      "\n",
      "\n",
      "\n",
      "\n",
      "\n",
      "\n"
     ]
    },
    {
     "ename": "KeyboardInterrupt",
     "evalue": "",
     "output_type": "error",
     "traceback": [
      "\u001b[1;31m---------------------------------------------------------------------------\u001b[0m",
      "\u001b[1;31mKeyboardInterrupt\u001b[0m                         Traceback (most recent call last)",
      "Cell \u001b[1;32mIn[11], line 42\u001b[0m\n\u001b[0;32m     39\u001b[0m     \u001b[38;5;28;01mreturn\u001b[39;00m df\n\u001b[0;32m     41\u001b[0m \u001b[38;5;66;03m# Add history to DataFrame\u001b[39;00m\n\u001b[1;32m---> 42\u001b[0m df_with_history \u001b[38;5;241m=\u001b[39m \u001b[43madd_history_to_dataframe\u001b[49m\u001b[43m(\u001b[49m\u001b[43mdf\u001b[49m\u001b[43m)\u001b[49m\n\u001b[0;32m     44\u001b[0m \u001b[38;5;66;03m# Save the updated DataFrame to the same CSV file (overwrite)\u001b[39;00m\n\u001b[0;32m     45\u001b[0m df_with_history\u001b[38;5;241m.\u001b[39mto_csv(\u001b[38;5;124m\"\u001b[39m\u001b[38;5;124mdata_with_history.csv\u001b[39m\u001b[38;5;124m\"\u001b[39m, index\u001b[38;5;241m=\u001b[39m\u001b[38;5;28;01mFalse\u001b[39;00m)\n",
      "Cell \u001b[1;32mIn[11], line 36\u001b[0m, in \u001b[0;36madd_history_to_dataframe\u001b[1;34m(df)\u001b[0m\n\u001b[0;32m     34\u001b[0m amusement_park \u001b[38;5;241m=\u001b[39m row[\u001b[38;5;124m'\u001b[39m\u001b[38;5;124mAmusement Park\u001b[39m\u001b[38;5;124m'\u001b[39m]\n\u001b[0;32m     35\u001b[0m \u001b[38;5;66;03m# Fetch history from Wikipedia\u001b[39;00m\n\u001b[1;32m---> 36\u001b[0m history \u001b[38;5;241m=\u001b[39m \u001b[43mfetch_ride_history\u001b[49m\u001b[43m(\u001b[49m\u001b[43mride_name\u001b[49m\u001b[43m,\u001b[49m\u001b[43m \u001b[49m\u001b[43mamusement_park\u001b[49m\u001b[43m)\u001b[49m\n\u001b[0;32m     37\u001b[0m \u001b[38;5;66;03m# Update the 'History' column with the retrieved history\u001b[39;00m\n\u001b[0;32m     38\u001b[0m df\u001b[38;5;241m.\u001b[39mat[index, \u001b[38;5;124m'\u001b[39m\u001b[38;5;124mHistory\u001b[39m\u001b[38;5;124m'\u001b[39m] \u001b[38;5;241m=\u001b[39m history\n",
      "Cell \u001b[1;32mIn[11], line 11\u001b[0m, in \u001b[0;36mfetch_ride_history\u001b[1;34m(ride_name, amusement_park)\u001b[0m\n\u001b[0;32m      9\u001b[0m query \u001b[38;5;241m=\u001b[39m \u001b[38;5;124mf\u001b[39m\u001b[38;5;124m\"\u001b[39m\u001b[38;5;132;01m{\u001b[39;00mride_name\u001b[38;5;132;01m}\u001b[39;00m\u001b[38;5;124m \u001b[39m\u001b[38;5;132;01m{\u001b[39;00m(amusement_park)\u001b[38;5;132;01m}\u001b[39;00m\u001b[38;5;124m\"\u001b[39m\n\u001b[0;32m     10\u001b[0m page \u001b[38;5;241m=\u001b[39m wiki_wiki\u001b[38;5;241m.\u001b[39mpage(query)\n\u001b[1;32m---> 11\u001b[0m \u001b[38;5;28mprint\u001b[39m(\u001b[43mpage\u001b[49m\u001b[38;5;241;43m.\u001b[39;49m\u001b[43mtext\u001b[49m)\n\u001b[0;32m     12\u001b[0m \u001b[38;5;66;03m# Find the section titled \"History\" and extract its text\u001b[39;00m\n\u001b[0;32m     13\u001b[0m history_text \u001b[38;5;241m=\u001b[39m \u001b[38;5;124m\"\u001b[39m\u001b[38;5;124m\"\u001b[39m\n",
      "File \u001b[1;32mc:\\Users\\gabeb\\AppData\\Local\\Programs\\Python\\Python312\\Lib\\site-packages\\wikipediaapi\\__init__.py:975\u001b[0m, in \u001b[0;36mWikipediaPage.text\u001b[1;34m(self)\u001b[0m\n\u001b[0;32m    968\u001b[0m \u001b[38;5;129m@property\u001b[39m\n\u001b[0;32m    969\u001b[0m \u001b[38;5;28;01mdef\u001b[39;00m \u001b[38;5;21mtext\u001b[39m(\u001b[38;5;28mself\u001b[39m) \u001b[38;5;241m-\u001b[39m\u001b[38;5;241m>\u001b[39m \u001b[38;5;28mstr\u001b[39m:\n\u001b[0;32m    970\u001b[0m \u001b[38;5;250m    \u001b[39m\u001b[38;5;124;03m\"\"\"\u001b[39;00m\n\u001b[0;32m    971\u001b[0m \u001b[38;5;124;03m    Returns text of the current page.\u001b[39;00m\n\u001b[0;32m    972\u001b[0m \n\u001b[0;32m    973\u001b[0m \u001b[38;5;124;03m    :return: text of the current page\u001b[39;00m\n\u001b[0;32m    974\u001b[0m \u001b[38;5;124;03m    \"\"\"\u001b[39;00m\n\u001b[1;32m--> 975\u001b[0m     txt \u001b[38;5;241m=\u001b[39m \u001b[38;5;28;43mself\u001b[39;49m\u001b[38;5;241;43m.\u001b[39;49m\u001b[43msummary\u001b[49m\n\u001b[0;32m    976\u001b[0m     \u001b[38;5;28;01mif\u001b[39;00m \u001b[38;5;28mlen\u001b[39m(txt) \u001b[38;5;241m>\u001b[39m \u001b[38;5;241m0\u001b[39m:\n\u001b[0;32m    977\u001b[0m         txt \u001b[38;5;241m+\u001b[39m\u001b[38;5;241m=\u001b[39m \u001b[38;5;124m\"\u001b[39m\u001b[38;5;130;01m\\n\u001b[39;00m\u001b[38;5;130;01m\\n\u001b[39;00m\u001b[38;5;124m\"\u001b[39m\n",
      "File \u001b[1;32mc:\\Users\\gabeb\\AppData\\Local\\Programs\\Python\\Python312\\Lib\\site-packages\\wikipediaapi\\__init__.py:920\u001b[0m, in \u001b[0;36mWikipediaPage.summary\u001b[1;34m(self)\u001b[0m\n\u001b[0;32m    914\u001b[0m \u001b[38;5;250m\u001b[39m\u001b[38;5;124;03m\"\"\"\u001b[39;00m\n\u001b[0;32m    915\u001b[0m \u001b[38;5;124;03mReturns summary of the current page.\u001b[39;00m\n\u001b[0;32m    916\u001b[0m \n\u001b[0;32m    917\u001b[0m \u001b[38;5;124;03m:return: summary\u001b[39;00m\n\u001b[0;32m    918\u001b[0m \u001b[38;5;124;03m\"\"\"\u001b[39;00m\n\u001b[0;32m    919\u001b[0m \u001b[38;5;28;01mif\u001b[39;00m \u001b[38;5;129;01mnot\u001b[39;00m \u001b[38;5;28mself\u001b[39m\u001b[38;5;241m.\u001b[39m_called[\u001b[38;5;124m\"\u001b[39m\u001b[38;5;124mextracts\u001b[39m\u001b[38;5;124m\"\u001b[39m]:\n\u001b[1;32m--> 920\u001b[0m     \u001b[38;5;28;43mself\u001b[39;49m\u001b[38;5;241;43m.\u001b[39;49m\u001b[43m_fetch\u001b[49m\u001b[43m(\u001b[49m\u001b[38;5;124;43m\"\u001b[39;49m\u001b[38;5;124;43mextracts\u001b[39;49m\u001b[38;5;124;43m\"\u001b[39;49m\u001b[43m)\u001b[49m\n\u001b[0;32m    921\u001b[0m \u001b[38;5;28;01mreturn\u001b[39;00m \u001b[38;5;28mself\u001b[39m\u001b[38;5;241m.\u001b[39m_summary\n",
      "File \u001b[1;32mc:\\Users\\gabeb\\AppData\\Local\\Programs\\Python\\Python312\\Lib\\site-packages\\wikipediaapi\\__init__.py:1064\u001b[0m, in \u001b[0;36mWikipediaPage._fetch\u001b[1;34m(self, call)\u001b[0m\n\u001b[0;32m   1062\u001b[0m \u001b[38;5;28;01mdef\u001b[39;00m \u001b[38;5;21m_fetch\u001b[39m(\u001b[38;5;28mself\u001b[39m, call) \u001b[38;5;241m-\u001b[39m\u001b[38;5;241m>\u001b[39m \u001b[38;5;124m\"\u001b[39m\u001b[38;5;124mWikipediaPage\u001b[39m\u001b[38;5;124m\"\u001b[39m:\n\u001b[0;32m   1063\u001b[0m \u001b[38;5;250m    \u001b[39m\u001b[38;5;124;03m\"\"\"Fetches some data?.\"\"\"\u001b[39;00m\n\u001b[1;32m-> 1064\u001b[0m     \u001b[38;5;28;43mgetattr\u001b[39;49m\u001b[43m(\u001b[49m\u001b[38;5;28;43mself\u001b[39;49m\u001b[38;5;241;43m.\u001b[39;49m\u001b[43mwiki\u001b[49m\u001b[43m,\u001b[49m\u001b[43m \u001b[49m\u001b[43mcall\u001b[49m\u001b[43m)\u001b[49m\u001b[43m(\u001b[49m\u001b[38;5;28;43mself\u001b[39;49m\u001b[43m)\u001b[49m\n\u001b[0;32m   1065\u001b[0m     \u001b[38;5;28mself\u001b[39m\u001b[38;5;241m.\u001b[39m_called[call] \u001b[38;5;241m=\u001b[39m \u001b[38;5;28;01mTrue\u001b[39;00m\n\u001b[0;32m   1066\u001b[0m     \u001b[38;5;28;01mreturn\u001b[39;00m \u001b[38;5;28mself\u001b[39m\n",
      "File \u001b[1;32mc:\\Users\\gabeb\\AppData\\Local\\Programs\\Python\\Python312\\Lib\\site-packages\\wikipediaapi\\__init__.py:297\u001b[0m, in \u001b[0;36mWikipedia.extracts\u001b[1;34m(self, page, **kwargs)\u001b[0m\n\u001b[0;32m    294\u001b[0m used_params \u001b[38;5;241m=\u001b[39m kwargs\n\u001b[0;32m    295\u001b[0m used_params\u001b[38;5;241m.\u001b[39mupdate(params)\n\u001b[1;32m--> 297\u001b[0m raw \u001b[38;5;241m=\u001b[39m \u001b[38;5;28;43mself\u001b[39;49m\u001b[38;5;241;43m.\u001b[39;49m\u001b[43m_query\u001b[49m\u001b[43m(\u001b[49m\u001b[43mpage\u001b[49m\u001b[43m,\u001b[49m\u001b[43m \u001b[49m\u001b[43mused_params\u001b[49m\u001b[43m)\u001b[49m\n\u001b[0;32m    298\u001b[0m \u001b[38;5;28mself\u001b[39m\u001b[38;5;241m.\u001b[39m_common_attributes(raw[\u001b[38;5;124m\"\u001b[39m\u001b[38;5;124mquery\u001b[39m\u001b[38;5;124m\"\u001b[39m], page)\n\u001b[0;32m    299\u001b[0m pages \u001b[38;5;241m=\u001b[39m raw[\u001b[38;5;124m\"\u001b[39m\u001b[38;5;124mquery\u001b[39m\u001b[38;5;124m\"\u001b[39m][\u001b[38;5;124m\"\u001b[39m\u001b[38;5;124mpages\u001b[39m\u001b[38;5;124m\"\u001b[39m]\n",
      "File \u001b[1;32mc:\\Users\\gabeb\\AppData\\Local\\Programs\\Python\\Python312\\Lib\\site-packages\\wikipediaapi\\__init__.py:528\u001b[0m, in \u001b[0;36mWikipedia._query\u001b[1;34m(self, page, params)\u001b[0m\n\u001b[0;32m    526\u001b[0m params[\u001b[38;5;124m\"\u001b[39m\u001b[38;5;124mformat\u001b[39m\u001b[38;5;124m\"\u001b[39m] \u001b[38;5;241m=\u001b[39m \u001b[38;5;124m\"\u001b[39m\u001b[38;5;124mjson\u001b[39m\u001b[38;5;124m\"\u001b[39m\n\u001b[0;32m    527\u001b[0m params[\u001b[38;5;124m\"\u001b[39m\u001b[38;5;124mredirects\u001b[39m\u001b[38;5;124m\"\u001b[39m] \u001b[38;5;241m=\u001b[39m \u001b[38;5;241m1\u001b[39m\n\u001b[1;32m--> 528\u001b[0m r \u001b[38;5;241m=\u001b[39m \u001b[38;5;28;43mself\u001b[39;49m\u001b[38;5;241;43m.\u001b[39;49m\u001b[43m_session\u001b[49m\u001b[38;5;241;43m.\u001b[39;49m\u001b[43mget\u001b[49m\u001b[43m(\u001b[49m\u001b[43mbase_url\u001b[49m\u001b[43m,\u001b[49m\u001b[43m \u001b[49m\u001b[43mparams\u001b[49m\u001b[38;5;241;43m=\u001b[39;49m\u001b[43mparams\u001b[49m\u001b[43m,\u001b[49m\u001b[43m \u001b[49m\u001b[38;5;241;43m*\u001b[39;49m\u001b[38;5;241;43m*\u001b[39;49m\u001b[38;5;28;43mself\u001b[39;49m\u001b[38;5;241;43m.\u001b[39;49m\u001b[43m_request_kwargs\u001b[49m\u001b[43m)\u001b[49m\n\u001b[0;32m    529\u001b[0m \u001b[38;5;28;01mreturn\u001b[39;00m r\u001b[38;5;241m.\u001b[39mjson()\n",
      "File \u001b[1;32mc:\\Users\\gabeb\\AppData\\Local\\Programs\\Python\\Python312\\Lib\\site-packages\\requests\\sessions.py:602\u001b[0m, in \u001b[0;36mSession.get\u001b[1;34m(self, url, **kwargs)\u001b[0m\n\u001b[0;32m    594\u001b[0m \u001b[38;5;250m\u001b[39m\u001b[38;5;124mr\u001b[39m\u001b[38;5;124;03m\"\"\"Sends a GET request. Returns :class:`Response` object.\u001b[39;00m\n\u001b[0;32m    595\u001b[0m \n\u001b[0;32m    596\u001b[0m \u001b[38;5;124;03m:param url: URL for the new :class:`Request` object.\u001b[39;00m\n\u001b[0;32m    597\u001b[0m \u001b[38;5;124;03m:param \\*\\*kwargs: Optional arguments that ``request`` takes.\u001b[39;00m\n\u001b[0;32m    598\u001b[0m \u001b[38;5;124;03m:rtype: requests.Response\u001b[39;00m\n\u001b[0;32m    599\u001b[0m \u001b[38;5;124;03m\"\"\"\u001b[39;00m\n\u001b[0;32m    601\u001b[0m kwargs\u001b[38;5;241m.\u001b[39msetdefault(\u001b[38;5;124m\"\u001b[39m\u001b[38;5;124mallow_redirects\u001b[39m\u001b[38;5;124m\"\u001b[39m, \u001b[38;5;28;01mTrue\u001b[39;00m)\n\u001b[1;32m--> 602\u001b[0m \u001b[38;5;28;01mreturn\u001b[39;00m \u001b[38;5;28;43mself\u001b[39;49m\u001b[38;5;241;43m.\u001b[39;49m\u001b[43mrequest\u001b[49m\u001b[43m(\u001b[49m\u001b[38;5;124;43m\"\u001b[39;49m\u001b[38;5;124;43mGET\u001b[39;49m\u001b[38;5;124;43m\"\u001b[39;49m\u001b[43m,\u001b[49m\u001b[43m \u001b[49m\u001b[43murl\u001b[49m\u001b[43m,\u001b[49m\u001b[43m \u001b[49m\u001b[38;5;241;43m*\u001b[39;49m\u001b[38;5;241;43m*\u001b[39;49m\u001b[43mkwargs\u001b[49m\u001b[43m)\u001b[49m\n",
      "File \u001b[1;32mc:\\Users\\gabeb\\AppData\\Local\\Programs\\Python\\Python312\\Lib\\site-packages\\requests\\sessions.py:589\u001b[0m, in \u001b[0;36mSession.request\u001b[1;34m(self, method, url, params, data, headers, cookies, files, auth, timeout, allow_redirects, proxies, hooks, stream, verify, cert, json)\u001b[0m\n\u001b[0;32m    584\u001b[0m send_kwargs \u001b[38;5;241m=\u001b[39m {\n\u001b[0;32m    585\u001b[0m     \u001b[38;5;124m\"\u001b[39m\u001b[38;5;124mtimeout\u001b[39m\u001b[38;5;124m\"\u001b[39m: timeout,\n\u001b[0;32m    586\u001b[0m     \u001b[38;5;124m\"\u001b[39m\u001b[38;5;124mallow_redirects\u001b[39m\u001b[38;5;124m\"\u001b[39m: allow_redirects,\n\u001b[0;32m    587\u001b[0m }\n\u001b[0;32m    588\u001b[0m send_kwargs\u001b[38;5;241m.\u001b[39mupdate(settings)\n\u001b[1;32m--> 589\u001b[0m resp \u001b[38;5;241m=\u001b[39m \u001b[38;5;28;43mself\u001b[39;49m\u001b[38;5;241;43m.\u001b[39;49m\u001b[43msend\u001b[49m\u001b[43m(\u001b[49m\u001b[43mprep\u001b[49m\u001b[43m,\u001b[49m\u001b[43m \u001b[49m\u001b[38;5;241;43m*\u001b[39;49m\u001b[38;5;241;43m*\u001b[39;49m\u001b[43msend_kwargs\u001b[49m\u001b[43m)\u001b[49m\n\u001b[0;32m    591\u001b[0m \u001b[38;5;28;01mreturn\u001b[39;00m resp\n",
      "File \u001b[1;32mc:\\Users\\gabeb\\AppData\\Local\\Programs\\Python\\Python312\\Lib\\site-packages\\requests\\sessions.py:703\u001b[0m, in \u001b[0;36mSession.send\u001b[1;34m(self, request, **kwargs)\u001b[0m\n\u001b[0;32m    700\u001b[0m start \u001b[38;5;241m=\u001b[39m preferred_clock()\n\u001b[0;32m    702\u001b[0m \u001b[38;5;66;03m# Send the request\u001b[39;00m\n\u001b[1;32m--> 703\u001b[0m r \u001b[38;5;241m=\u001b[39m \u001b[43madapter\u001b[49m\u001b[38;5;241;43m.\u001b[39;49m\u001b[43msend\u001b[49m\u001b[43m(\u001b[49m\u001b[43mrequest\u001b[49m\u001b[43m,\u001b[49m\u001b[43m \u001b[49m\u001b[38;5;241;43m*\u001b[39;49m\u001b[38;5;241;43m*\u001b[39;49m\u001b[43mkwargs\u001b[49m\u001b[43m)\u001b[49m\n\u001b[0;32m    705\u001b[0m \u001b[38;5;66;03m# Total elapsed time of the request (approximately)\u001b[39;00m\n\u001b[0;32m    706\u001b[0m elapsed \u001b[38;5;241m=\u001b[39m preferred_clock() \u001b[38;5;241m-\u001b[39m start\n",
      "File \u001b[1;32mc:\\Users\\gabeb\\AppData\\Local\\Programs\\Python\\Python312\\Lib\\site-packages\\requests\\adapters.py:486\u001b[0m, in \u001b[0;36mHTTPAdapter.send\u001b[1;34m(self, request, stream, timeout, verify, cert, proxies)\u001b[0m\n\u001b[0;32m    483\u001b[0m     timeout \u001b[38;5;241m=\u001b[39m TimeoutSauce(connect\u001b[38;5;241m=\u001b[39mtimeout, read\u001b[38;5;241m=\u001b[39mtimeout)\n\u001b[0;32m    485\u001b[0m \u001b[38;5;28;01mtry\u001b[39;00m:\n\u001b[1;32m--> 486\u001b[0m     resp \u001b[38;5;241m=\u001b[39m \u001b[43mconn\u001b[49m\u001b[38;5;241;43m.\u001b[39;49m\u001b[43murlopen\u001b[49m\u001b[43m(\u001b[49m\n\u001b[0;32m    487\u001b[0m \u001b[43m        \u001b[49m\u001b[43mmethod\u001b[49m\u001b[38;5;241;43m=\u001b[39;49m\u001b[43mrequest\u001b[49m\u001b[38;5;241;43m.\u001b[39;49m\u001b[43mmethod\u001b[49m\u001b[43m,\u001b[49m\n\u001b[0;32m    488\u001b[0m \u001b[43m        \u001b[49m\u001b[43murl\u001b[49m\u001b[38;5;241;43m=\u001b[39;49m\u001b[43murl\u001b[49m\u001b[43m,\u001b[49m\n\u001b[0;32m    489\u001b[0m \u001b[43m        \u001b[49m\u001b[43mbody\u001b[49m\u001b[38;5;241;43m=\u001b[39;49m\u001b[43mrequest\u001b[49m\u001b[38;5;241;43m.\u001b[39;49m\u001b[43mbody\u001b[49m\u001b[43m,\u001b[49m\n\u001b[0;32m    490\u001b[0m \u001b[43m        \u001b[49m\u001b[43mheaders\u001b[49m\u001b[38;5;241;43m=\u001b[39;49m\u001b[43mrequest\u001b[49m\u001b[38;5;241;43m.\u001b[39;49m\u001b[43mheaders\u001b[49m\u001b[43m,\u001b[49m\n\u001b[0;32m    491\u001b[0m \u001b[43m        \u001b[49m\u001b[43mredirect\u001b[49m\u001b[38;5;241;43m=\u001b[39;49m\u001b[38;5;28;43;01mFalse\u001b[39;49;00m\u001b[43m,\u001b[49m\n\u001b[0;32m    492\u001b[0m \u001b[43m        \u001b[49m\u001b[43massert_same_host\u001b[49m\u001b[38;5;241;43m=\u001b[39;49m\u001b[38;5;28;43;01mFalse\u001b[39;49;00m\u001b[43m,\u001b[49m\n\u001b[0;32m    493\u001b[0m \u001b[43m        \u001b[49m\u001b[43mpreload_content\u001b[49m\u001b[38;5;241;43m=\u001b[39;49m\u001b[38;5;28;43;01mFalse\u001b[39;49;00m\u001b[43m,\u001b[49m\n\u001b[0;32m    494\u001b[0m \u001b[43m        \u001b[49m\u001b[43mdecode_content\u001b[49m\u001b[38;5;241;43m=\u001b[39;49m\u001b[38;5;28;43;01mFalse\u001b[39;49;00m\u001b[43m,\u001b[49m\n\u001b[0;32m    495\u001b[0m \u001b[43m        \u001b[49m\u001b[43mretries\u001b[49m\u001b[38;5;241;43m=\u001b[39;49m\u001b[38;5;28;43mself\u001b[39;49m\u001b[38;5;241;43m.\u001b[39;49m\u001b[43mmax_retries\u001b[49m\u001b[43m,\u001b[49m\n\u001b[0;32m    496\u001b[0m \u001b[43m        \u001b[49m\u001b[43mtimeout\u001b[49m\u001b[38;5;241;43m=\u001b[39;49m\u001b[43mtimeout\u001b[49m\u001b[43m,\u001b[49m\n\u001b[0;32m    497\u001b[0m \u001b[43m        \u001b[49m\u001b[43mchunked\u001b[49m\u001b[38;5;241;43m=\u001b[39;49m\u001b[43mchunked\u001b[49m\u001b[43m,\u001b[49m\n\u001b[0;32m    498\u001b[0m \u001b[43m    \u001b[49m\u001b[43m)\u001b[49m\n\u001b[0;32m    500\u001b[0m \u001b[38;5;28;01mexcept\u001b[39;00m (ProtocolError, \u001b[38;5;167;01mOSError\u001b[39;00m) \u001b[38;5;28;01mas\u001b[39;00m err:\n\u001b[0;32m    501\u001b[0m     \u001b[38;5;28;01mraise\u001b[39;00m \u001b[38;5;167;01mConnectionError\u001b[39;00m(err, request\u001b[38;5;241m=\u001b[39mrequest)\n",
      "File \u001b[1;32mc:\\Users\\gabeb\\AppData\\Local\\Programs\\Python\\Python312\\Lib\\site-packages\\urllib3\\connectionpool.py:793\u001b[0m, in \u001b[0;36mHTTPConnectionPool.urlopen\u001b[1;34m(self, method, url, body, headers, retries, redirect, assert_same_host, timeout, pool_timeout, release_conn, chunked, body_pos, preload_content, decode_content, **response_kw)\u001b[0m\n\u001b[0;32m    790\u001b[0m response_conn \u001b[38;5;241m=\u001b[39m conn \u001b[38;5;28;01mif\u001b[39;00m \u001b[38;5;129;01mnot\u001b[39;00m release_conn \u001b[38;5;28;01melse\u001b[39;00m \u001b[38;5;28;01mNone\u001b[39;00m\n\u001b[0;32m    792\u001b[0m \u001b[38;5;66;03m# Make the request on the HTTPConnection object\u001b[39;00m\n\u001b[1;32m--> 793\u001b[0m response \u001b[38;5;241m=\u001b[39m \u001b[38;5;28;43mself\u001b[39;49m\u001b[38;5;241;43m.\u001b[39;49m\u001b[43m_make_request\u001b[49m\u001b[43m(\u001b[49m\n\u001b[0;32m    794\u001b[0m \u001b[43m    \u001b[49m\u001b[43mconn\u001b[49m\u001b[43m,\u001b[49m\n\u001b[0;32m    795\u001b[0m \u001b[43m    \u001b[49m\u001b[43mmethod\u001b[49m\u001b[43m,\u001b[49m\n\u001b[0;32m    796\u001b[0m \u001b[43m    \u001b[49m\u001b[43murl\u001b[49m\u001b[43m,\u001b[49m\n\u001b[0;32m    797\u001b[0m \u001b[43m    \u001b[49m\u001b[43mtimeout\u001b[49m\u001b[38;5;241;43m=\u001b[39;49m\u001b[43mtimeout_obj\u001b[49m\u001b[43m,\u001b[49m\n\u001b[0;32m    798\u001b[0m \u001b[43m    \u001b[49m\u001b[43mbody\u001b[49m\u001b[38;5;241;43m=\u001b[39;49m\u001b[43mbody\u001b[49m\u001b[43m,\u001b[49m\n\u001b[0;32m    799\u001b[0m \u001b[43m    \u001b[49m\u001b[43mheaders\u001b[49m\u001b[38;5;241;43m=\u001b[39;49m\u001b[43mheaders\u001b[49m\u001b[43m,\u001b[49m\n\u001b[0;32m    800\u001b[0m \u001b[43m    \u001b[49m\u001b[43mchunked\u001b[49m\u001b[38;5;241;43m=\u001b[39;49m\u001b[43mchunked\u001b[49m\u001b[43m,\u001b[49m\n\u001b[0;32m    801\u001b[0m \u001b[43m    \u001b[49m\u001b[43mretries\u001b[49m\u001b[38;5;241;43m=\u001b[39;49m\u001b[43mretries\u001b[49m\u001b[43m,\u001b[49m\n\u001b[0;32m    802\u001b[0m \u001b[43m    \u001b[49m\u001b[43mresponse_conn\u001b[49m\u001b[38;5;241;43m=\u001b[39;49m\u001b[43mresponse_conn\u001b[49m\u001b[43m,\u001b[49m\n\u001b[0;32m    803\u001b[0m \u001b[43m    \u001b[49m\u001b[43mpreload_content\u001b[49m\u001b[38;5;241;43m=\u001b[39;49m\u001b[43mpreload_content\u001b[49m\u001b[43m,\u001b[49m\n\u001b[0;32m    804\u001b[0m \u001b[43m    \u001b[49m\u001b[43mdecode_content\u001b[49m\u001b[38;5;241;43m=\u001b[39;49m\u001b[43mdecode_content\u001b[49m\u001b[43m,\u001b[49m\n\u001b[0;32m    805\u001b[0m \u001b[43m    \u001b[49m\u001b[38;5;241;43m*\u001b[39;49m\u001b[38;5;241;43m*\u001b[39;49m\u001b[43mresponse_kw\u001b[49m\u001b[43m,\u001b[49m\n\u001b[0;32m    806\u001b[0m \u001b[43m\u001b[49m\u001b[43m)\u001b[49m\n\u001b[0;32m    808\u001b[0m \u001b[38;5;66;03m# Everything went great!\u001b[39;00m\n\u001b[0;32m    809\u001b[0m clean_exit \u001b[38;5;241m=\u001b[39m \u001b[38;5;28;01mTrue\u001b[39;00m\n",
      "File \u001b[1;32mc:\\Users\\gabeb\\AppData\\Local\\Programs\\Python\\Python312\\Lib\\site-packages\\urllib3\\connectionpool.py:537\u001b[0m, in \u001b[0;36mHTTPConnectionPool._make_request\u001b[1;34m(self, conn, method, url, body, headers, retries, timeout, chunked, response_conn, preload_content, decode_content, enforce_content_length)\u001b[0m\n\u001b[0;32m    535\u001b[0m \u001b[38;5;66;03m# Receive the response from the server\u001b[39;00m\n\u001b[0;32m    536\u001b[0m \u001b[38;5;28;01mtry\u001b[39;00m:\n\u001b[1;32m--> 537\u001b[0m     response \u001b[38;5;241m=\u001b[39m \u001b[43mconn\u001b[49m\u001b[38;5;241;43m.\u001b[39;49m\u001b[43mgetresponse\u001b[49m\u001b[43m(\u001b[49m\u001b[43m)\u001b[49m\n\u001b[0;32m    538\u001b[0m \u001b[38;5;28;01mexcept\u001b[39;00m (BaseSSLError, \u001b[38;5;167;01mOSError\u001b[39;00m) \u001b[38;5;28;01mas\u001b[39;00m e:\n\u001b[0;32m    539\u001b[0m     \u001b[38;5;28mself\u001b[39m\u001b[38;5;241m.\u001b[39m_raise_timeout(err\u001b[38;5;241m=\u001b[39me, url\u001b[38;5;241m=\u001b[39murl, timeout_value\u001b[38;5;241m=\u001b[39mread_timeout)\n",
      "File \u001b[1;32mc:\\Users\\gabeb\\AppData\\Local\\Programs\\Python\\Python312\\Lib\\site-packages\\urllib3\\connection.py:466\u001b[0m, in \u001b[0;36mHTTPConnection.getresponse\u001b[1;34m(self)\u001b[0m\n\u001b[0;32m    463\u001b[0m \u001b[38;5;28;01mfrom\u001b[39;00m \u001b[38;5;21;01m.\u001b[39;00m\u001b[38;5;21;01mresponse\u001b[39;00m \u001b[38;5;28;01mimport\u001b[39;00m HTTPResponse\n\u001b[0;32m    465\u001b[0m \u001b[38;5;66;03m# Get the response from http.client.HTTPConnection\u001b[39;00m\n\u001b[1;32m--> 466\u001b[0m httplib_response \u001b[38;5;241m=\u001b[39m \u001b[38;5;28;43msuper\u001b[39;49m\u001b[43m(\u001b[49m\u001b[43m)\u001b[49m\u001b[38;5;241;43m.\u001b[39;49m\u001b[43mgetresponse\u001b[49m\u001b[43m(\u001b[49m\u001b[43m)\u001b[49m\n\u001b[0;32m    468\u001b[0m \u001b[38;5;28;01mtry\u001b[39;00m:\n\u001b[0;32m    469\u001b[0m     assert_header_parsing(httplib_response\u001b[38;5;241m.\u001b[39mmsg)\n",
      "File \u001b[1;32mc:\\Users\\gabeb\\AppData\\Local\\Programs\\Python\\Python312\\Lib\\http\\client.py:1423\u001b[0m, in \u001b[0;36mHTTPConnection.getresponse\u001b[1;34m(self)\u001b[0m\n\u001b[0;32m   1421\u001b[0m \u001b[38;5;28;01mtry\u001b[39;00m:\n\u001b[0;32m   1422\u001b[0m     \u001b[38;5;28;01mtry\u001b[39;00m:\n\u001b[1;32m-> 1423\u001b[0m         \u001b[43mresponse\u001b[49m\u001b[38;5;241;43m.\u001b[39;49m\u001b[43mbegin\u001b[49m\u001b[43m(\u001b[49m\u001b[43m)\u001b[49m\n\u001b[0;32m   1424\u001b[0m     \u001b[38;5;28;01mexcept\u001b[39;00m \u001b[38;5;167;01mConnectionError\u001b[39;00m:\n\u001b[0;32m   1425\u001b[0m         \u001b[38;5;28mself\u001b[39m\u001b[38;5;241m.\u001b[39mclose()\n",
      "File \u001b[1;32mc:\\Users\\gabeb\\AppData\\Local\\Programs\\Python\\Python312\\Lib\\http\\client.py:331\u001b[0m, in \u001b[0;36mHTTPResponse.begin\u001b[1;34m(self)\u001b[0m\n\u001b[0;32m    329\u001b[0m \u001b[38;5;66;03m# read until we get a non-100 response\u001b[39;00m\n\u001b[0;32m    330\u001b[0m \u001b[38;5;28;01mwhile\u001b[39;00m \u001b[38;5;28;01mTrue\u001b[39;00m:\n\u001b[1;32m--> 331\u001b[0m     version, status, reason \u001b[38;5;241m=\u001b[39m \u001b[38;5;28;43mself\u001b[39;49m\u001b[38;5;241;43m.\u001b[39;49m\u001b[43m_read_status\u001b[49m\u001b[43m(\u001b[49m\u001b[43m)\u001b[49m\n\u001b[0;32m    332\u001b[0m     \u001b[38;5;28;01mif\u001b[39;00m status \u001b[38;5;241m!=\u001b[39m CONTINUE:\n\u001b[0;32m    333\u001b[0m         \u001b[38;5;28;01mbreak\u001b[39;00m\n",
      "File \u001b[1;32mc:\\Users\\gabeb\\AppData\\Local\\Programs\\Python\\Python312\\Lib\\http\\client.py:292\u001b[0m, in \u001b[0;36mHTTPResponse._read_status\u001b[1;34m(self)\u001b[0m\n\u001b[0;32m    291\u001b[0m \u001b[38;5;28;01mdef\u001b[39;00m \u001b[38;5;21m_read_status\u001b[39m(\u001b[38;5;28mself\u001b[39m):\n\u001b[1;32m--> 292\u001b[0m     line \u001b[38;5;241m=\u001b[39m \u001b[38;5;28mstr\u001b[39m(\u001b[38;5;28;43mself\u001b[39;49m\u001b[38;5;241;43m.\u001b[39;49m\u001b[43mfp\u001b[49m\u001b[38;5;241;43m.\u001b[39;49m\u001b[43mreadline\u001b[49m\u001b[43m(\u001b[49m\u001b[43m_MAXLINE\u001b[49m\u001b[43m \u001b[49m\u001b[38;5;241;43m+\u001b[39;49m\u001b[43m \u001b[49m\u001b[38;5;241;43m1\u001b[39;49m\u001b[43m)\u001b[49m, \u001b[38;5;124m\"\u001b[39m\u001b[38;5;124miso-8859-1\u001b[39m\u001b[38;5;124m\"\u001b[39m)\n\u001b[0;32m    293\u001b[0m     \u001b[38;5;28;01mif\u001b[39;00m \u001b[38;5;28mlen\u001b[39m(line) \u001b[38;5;241m>\u001b[39m _MAXLINE:\n\u001b[0;32m    294\u001b[0m         \u001b[38;5;28;01mraise\u001b[39;00m LineTooLong(\u001b[38;5;124m\"\u001b[39m\u001b[38;5;124mstatus line\u001b[39m\u001b[38;5;124m\"\u001b[39m)\n",
      "File \u001b[1;32mc:\\Users\\gabeb\\AppData\\Local\\Programs\\Python\\Python312\\Lib\\socket.py:707\u001b[0m, in \u001b[0;36mSocketIO.readinto\u001b[1;34m(self, b)\u001b[0m\n\u001b[0;32m    705\u001b[0m \u001b[38;5;28;01mwhile\u001b[39;00m \u001b[38;5;28;01mTrue\u001b[39;00m:\n\u001b[0;32m    706\u001b[0m     \u001b[38;5;28;01mtry\u001b[39;00m:\n\u001b[1;32m--> 707\u001b[0m         \u001b[38;5;28;01mreturn\u001b[39;00m \u001b[38;5;28;43mself\u001b[39;49m\u001b[38;5;241;43m.\u001b[39;49m\u001b[43m_sock\u001b[49m\u001b[38;5;241;43m.\u001b[39;49m\u001b[43mrecv_into\u001b[49m\u001b[43m(\u001b[49m\u001b[43mb\u001b[49m\u001b[43m)\u001b[49m\n\u001b[0;32m    708\u001b[0m     \u001b[38;5;28;01mexcept\u001b[39;00m timeout:\n\u001b[0;32m    709\u001b[0m         \u001b[38;5;28mself\u001b[39m\u001b[38;5;241m.\u001b[39m_timeout_occurred \u001b[38;5;241m=\u001b[39m \u001b[38;5;28;01mTrue\u001b[39;00m\n",
      "File \u001b[1;32mc:\\Users\\gabeb\\AppData\\Local\\Programs\\Python\\Python312\\Lib\\ssl.py:1252\u001b[0m, in \u001b[0;36mSSLSocket.recv_into\u001b[1;34m(self, buffer, nbytes, flags)\u001b[0m\n\u001b[0;32m   1248\u001b[0m     \u001b[38;5;28;01mif\u001b[39;00m flags \u001b[38;5;241m!=\u001b[39m \u001b[38;5;241m0\u001b[39m:\n\u001b[0;32m   1249\u001b[0m         \u001b[38;5;28;01mraise\u001b[39;00m \u001b[38;5;167;01mValueError\u001b[39;00m(\n\u001b[0;32m   1250\u001b[0m           \u001b[38;5;124m\"\u001b[39m\u001b[38;5;124mnon-zero flags not allowed in calls to recv_into() on \u001b[39m\u001b[38;5;132;01m%s\u001b[39;00m\u001b[38;5;124m\"\u001b[39m \u001b[38;5;241m%\u001b[39m\n\u001b[0;32m   1251\u001b[0m           \u001b[38;5;28mself\u001b[39m\u001b[38;5;241m.\u001b[39m\u001b[38;5;18m__class__\u001b[39m)\n\u001b[1;32m-> 1252\u001b[0m     \u001b[38;5;28;01mreturn\u001b[39;00m \u001b[38;5;28;43mself\u001b[39;49m\u001b[38;5;241;43m.\u001b[39;49m\u001b[43mread\u001b[49m\u001b[43m(\u001b[49m\u001b[43mnbytes\u001b[49m\u001b[43m,\u001b[49m\u001b[43m \u001b[49m\u001b[43mbuffer\u001b[49m\u001b[43m)\u001b[49m\n\u001b[0;32m   1253\u001b[0m \u001b[38;5;28;01melse\u001b[39;00m:\n\u001b[0;32m   1254\u001b[0m     \u001b[38;5;28;01mreturn\u001b[39;00m \u001b[38;5;28msuper\u001b[39m()\u001b[38;5;241m.\u001b[39mrecv_into(buffer, nbytes, flags)\n",
      "File \u001b[1;32mc:\\Users\\gabeb\\AppData\\Local\\Programs\\Python\\Python312\\Lib\\ssl.py:1104\u001b[0m, in \u001b[0;36mSSLSocket.read\u001b[1;34m(self, len, buffer)\u001b[0m\n\u001b[0;32m   1102\u001b[0m \u001b[38;5;28;01mtry\u001b[39;00m:\n\u001b[0;32m   1103\u001b[0m     \u001b[38;5;28;01mif\u001b[39;00m buffer \u001b[38;5;129;01mis\u001b[39;00m \u001b[38;5;129;01mnot\u001b[39;00m \u001b[38;5;28;01mNone\u001b[39;00m:\n\u001b[1;32m-> 1104\u001b[0m         \u001b[38;5;28;01mreturn\u001b[39;00m \u001b[38;5;28;43mself\u001b[39;49m\u001b[38;5;241;43m.\u001b[39;49m\u001b[43m_sslobj\u001b[49m\u001b[38;5;241;43m.\u001b[39;49m\u001b[43mread\u001b[49m\u001b[43m(\u001b[49m\u001b[38;5;28;43mlen\u001b[39;49m\u001b[43m,\u001b[49m\u001b[43m \u001b[49m\u001b[43mbuffer\u001b[49m\u001b[43m)\u001b[49m\n\u001b[0;32m   1105\u001b[0m     \u001b[38;5;28;01melse\u001b[39;00m:\n\u001b[0;32m   1106\u001b[0m         \u001b[38;5;28;01mreturn\u001b[39;00m \u001b[38;5;28mself\u001b[39m\u001b[38;5;241m.\u001b[39m_sslobj\u001b[38;5;241m.\u001b[39mread(\u001b[38;5;28mlen\u001b[39m)\n",
      "\u001b[1;31mKeyboardInterrupt\u001b[0m: "
     ]
    }
   ],
   "source": [
    "import wikipediaapi\n",
    "import re\n",
    "\n",
    "df = df[df['Name'] != 'unknown']\n",
    "wiki_wiki = wikipediaapi.Wikipedia(\n",
    "    user_agent='MyProjectName (gabe@example.com)',\n",
    "        language='en',\n",
    "        extract_format=wikipediaapi.ExtractFormat.WIKI\n",
    ")\n",
    "def fetch_ride_history(ride_name, amusement_park):\n",
    "    try:\n",
    "        # Search Wikipedia for the page of the rolle|r coaster\n",
    "        query = f\"{ride_name} {(amusement_park)}\"\n",
    "        page = wiki_wiki.page(query)\n",
    "        print(page.text)\n",
    "        # Find the section titled \"History\" and extract its text\n",
    "        history_text = \"\"\n",
    "        if page.exists():\n",
    "            sections = page.sections\n",
    "            for section in sections:\n",
    "                if section.title.lower() == 'history':\n",
    "                    history_text = section.text\n",
    "                    break\n",
    "            # Remove any citation numbers (e.g., [1], [2], etc.)\n",
    "            history_text = re.sub(r'\\[\\d+\\]', '', history_text)\n",
    "        return history_text\n",
    "    except Exception as e:\n",
    "        print(f\"Error fetching history for {ride_name} at {amusement_park}: {e}\")\n",
    "        return \"History not found\"\n",
    "    \n",
    "fetch_ride_history('Batman: the Ride',\"(Six Flags México)\")\n",
    "def add_history_to_dataframe(df):\n",
    "    # Create a new column to store the history\n",
    "    df['History'] = \"\"\n",
    "    # Iterate through each row in the DataFrame\n",
    "    for index, row in df.iterrows():\n",
    "        ride_name = row['Name']\n",
    "        amusement_park = row['Amusement Park']\n",
    "        # Fetch history from Wikipedia\n",
    "        history = fetch_ride_history(ride_name, amusement_park)\n",
    "        # Update the 'History' column with the retrieved history\n",
    "        df.at[index, 'History'] = history\n",
    "    return df\n",
    "\n",
    "# Add history to DataFrame\n",
    "df_with_history = add_history_to_dataframe(df)\n",
    "\n",
    "# Save the updated DataFrame to the same CSV file (overwrite)\n",
    "df_with_history.to_csv(\"data_with_history.csv\", index=False)\n"
   ]
  },
  {
   "cell_type": "code",
   "execution_count": 47,
   "metadata": {},
   "outputs": [
    {
     "name": "stdout",
     "output_type": "stream",
     "text": [
      "The original Switchback Railway was the first roller coaster  at Coney Island in Brooklyn, New York City, and one of the earliest designed for amusement in the United States. The 1885 patent states the invention relates to the gravity double track switchback railway, which had predicated the inclined plane railway, patented in 1878 by Richard Knudsen.  Coney Island's version was designed by LaMarcus Adna Thompson in 1881 and constructed in 1884. It appears Thompson based his design, at least in part, on the Mauch Chunk Switchback Railway which was a coal-mining train that had started carrying passengers as a thrill ride in 1827.For five cents, riders would climb a tower to board the large bench-like car and were pushed off to coast 600 ft (183 m) down the track to another tower. The car went just over 6 mph (9.7 km/h). At the top of the other tower the vehicle was switched to a return track or \"switched back\" (hence the name).\n",
      "This track design was soon replaced with an oval complete-circuit ride designed by Charles Alcoke and called the Serpentine Railway. In 1885 Phillip Hinkle developed a lift system which appeared in his ride called Gravity Pleasure. The Gravity Pleasure also featured cars in which the passengers could face forward instead of in the awkward bench-like seats of the first two roller coasters. The next year, Thompson patented his design of coasters that included dark tunnels with painted scenery. Thompson built many more roller coasters under the name \"The L.A. Thompson Scenic Railway\" across the United States. Some of these operated until 1954.\n",
      "\n",
      "Other rides\n",
      "There was also a switchback railway at the Melbourne Centennial Exhibition in 1888.\n",
      "\n",
      "\n",
      "== References ==\n"
     ]
    },
    {
     "ename": "AttributeError",
     "evalue": "'NoneType' object has no attribute 'text'",
     "output_type": "error",
     "traceback": [
      "\u001b[1;31m---------------------------------------------------------------------------\u001b[0m",
      "\u001b[1;31mAttributeError\u001b[0m                            Traceback (most recent call last)",
      "Cell \u001b[1;32mIn[47], line 9\u001b[0m\n\u001b[0;32m      7\u001b[0m \u001b[38;5;28mprint\u001b[39m(p_wiki\u001b[38;5;241m.\u001b[39mtext)\n\u001b[0;32m      8\u001b[0m section_history \u001b[38;5;241m=\u001b[39m p_wiki\u001b[38;5;241m.\u001b[39msection_by_title(\u001b[38;5;124m'\u001b[39m\u001b[38;5;124mHistory\u001b[39m\u001b[38;5;124m'\u001b[39m)\n\u001b[1;32m----> 9\u001b[0m \u001b[38;5;28mprint\u001b[39m((\u001b[43msection_history\u001b[49m\u001b[38;5;241;43m.\u001b[39;49m\u001b[43mtext\u001b[49m))\n",
      "\u001b[1;31mAttributeError\u001b[0m: 'NoneType' object has no attribute 'text'"
     ]
    }
   ],
   "source": [
    "wiki_wiki = wikipediaapi.Wikipedia(\n",
    "    user_agent='MyProjectName (gabe@example.com)',\n",
    "        language='en',\n",
    "        extract_format=wikipediaapi.ExtractFormat.WIKI\n",
    ")\n",
    "p_wiki = wiki_wiki.page(\"Switchback Railway\")\n",
    "print(p_wiki.text)\n",
    "section_history = p_wiki.section_by_title('History')\n",
    "# print((section_history.text))\n"
   ]
  },
  {
   "cell_type": "code",
   "execution_count": 39,
   "metadata": {},
   "outputs": [
    {
     "name": "stderr",
     "output_type": "stream",
     "text": [
      "100%|██████████| 108/108 [13:42<00:00,  7.62s/it]\n"
     ]
    }
   ],
   "source": [
    "import pandas as pd\n",
    "import wikipediaapi\n",
    "\n",
    "def fetch_ride_history(coaster_name):\n",
    "    wiki_wiki = wikipediaapi.Wikipedia(\n",
    "        user_agent='MyProjectName (gabe@example.com)',\n",
    "        language='en',\n",
    "        extract_format=wikipediaapi.ExtractFormat.WIKI\n",
    "    )\n",
    "    page = wiki_wiki.page(coaster_name)\n",
    "    if not page.exists():\n",
    "        return \"History not found\"\n",
    "    section_history = page.section_by_title('History')\n",
    "    if section_history:\n",
    "        return section_history.text\n",
    "    else:\n",
    "        return \"History section not found\"\n",
    "\n",
    "def parse_coaster_infobox(url, coaster_name, filter_cols=False):\n",
    "    try:\n",
    "        df = pd.read_html(url, attrs={'class': 'infobox'})[0]\n",
    "    except ValueError:\n",
    "        return pd.DataFrame()\n",
    "\n",
    "    mycoaster = df.columns[0]\n",
    "    df = df[df.columns[:2]]\n",
    "    df.columns = ['Coaster', 'Value']\n",
    "    df = df.set_index('Coaster')\n",
    "    df = df.loc[~df.index.isna()]\n",
    "    if filter_cols:\n",
    "        MAIN_KEYS = ['coaster_name', 'Length', 'Speed', 'Location', 'Coordinates',\n",
    "                     'Status', 'Opening date',\n",
    "                     'General statistics', 'Type', 'Manufacturer',\n",
    "                     'Height restriction',\n",
    "                     'Model', 'Height', 'Inversions', 'Lift/launch system',\n",
    "                     'Cost', 'Trains',\n",
    "                     'Park section', 'Duration', 'Capacity',\n",
    "                     'G-force', 'Designer',\n",
    "                     'Max vertical angle', 'Drop', 'Soft opening date',\n",
    "                     'Fast Lane available', 'Replaced', 'Track layout',\n",
    "                     'Fastrack available','Soft opening date',\n",
    "                     'Closing date', 'Replaced by', 'General Statistics',\n",
    "                     'Website', 'Flash Pass Available', 'Must transfer from wheelchair',\n",
    "                     'Theme', 'Single rider line available',\n",
    "                     'Restraint Style',\n",
    "                      'Flash Pass available', 'Acceleration',\n",
    "                      'Restraints', 'Name','year_introduced']\n",
    "\n",
    "        FILTERED_KEYS = [v for v in df.index if v in MAIN_KEYS]\n",
    "        df = df.loc[FILTERED_KEYS]\n",
    "    df = df.T\n",
    "    df.index = [mycoaster]\n",
    "    df = dedup_infobox(df)\n",
    "    df['coaster_name'] = coaster_name\n",
    "    \n",
    "    # Fetch history from Wikipedia\n",
    "    history = fetch_ride_history(coaster_name)\n",
    "    df['History'] = history\n",
    "    \n",
    "    return df\n",
    "\n",
    "def dedup_infobox(df):\n",
    "    dup_cols = df.columns[df.columns.duplicated()].unique()\n",
    "    for c in dup_cols:\n",
    "        cols = []\n",
    "        count = 1\n",
    "        for column in df.columns:\n",
    "            if column == c:\n",
    "                cols.append(f'{c}_{count}')\n",
    "                count += 1\n",
    "                continue\n",
    "            cols.append(column)\n",
    "        df.columns = cols\n",
    "    return df\n",
    "\n",
    "DEBUG = False\n",
    "wiki = wikipediaapi.Wikipedia(\n",
    "    user_agent='MyProjectName (gabe@example.com)',\n",
    "    language='en',\n",
    "    extract_format=wikipediaapi.ExtractFormat.WIKI\n",
    ")\n",
    "cat = wiki.page('Category:Roller_coaster_introductions_by_year')\n",
    "i = 0\n",
    "ds = []\n",
    "for year in tqdm(cat.categorymembers):\n",
    "    cat_year = wiki.page(year)\n",
    "    cat_year.categorymembers\n",
    "    for coaster, page in cat_year.categorymembers.items():\n",
    "        url = page.fullurl\n",
    "        parsed_df = parse_coaster_infobox(url, coaster, filter_cols=True)\n",
    "        parsed_df['year_introduced'] = int(year[-4:])\n",
    "        ds.append(parsed_df)\n",
    "        i += 1\n",
    "    if i == 20 and DEBUG:\n",
    "        break\n",
    "if not DEBUG:\n",
    "    coaster_db = pd.concat(ds)\n",
    "\n",
    "# Save the DataFrame to CSV\n",
    "coaster_db.to_csv('coaster_db_v2.csv')\n"
   ]
  },
  {
   "cell_type": "code",
   "execution_count": 1,
   "metadata": {},
   "outputs": [
    {
     "name": "stdout",
     "output_type": "stream",
     "text": [
      "Number of merged rows: 1119\n"
     ]
    }
   ],
   "source": [
    "import pandas as pd\n",
    "\n",
    "# Load the first CSV file\n",
    "df1 = pd.read_csv('data.csv')\n",
    "\n",
    "# Load the second CSV file\n",
    "df2 = pd.read_csv('coaster_db_v2.csv')\n",
    "\n",
    "# Define a function to extract the name from the coaster_name\n",
    "def extract_name(coaster_name):\n",
    "    if isinstance(coaster_name, str) and '(' in coaster_name:\n",
    "        return coaster_name.split(' (')[0]\n",
    "    else:\n",
    "        return coaster_name\n",
    "\n",
    "# Define a function to check if coaster name is similar\n",
    "def similar_name(name1, name2):\n",
    "    if isinstance(name1, float) or isinstance(name2, float):\n",
    "        return False\n",
    "    return str(name1).lower() == str(name2).lower()\n",
    "\n",
    "# Combine the two dataframes\n",
    "merged_df = pd.merge(df1, df2, left_on=['Name', 'Amusement Park'], right_on=['coaster_name', 'Location'], how='outer')\n",
    "\n",
    "\n",
    "# Filter rows based on similar name and location\n",
    "if 'Name' in merged_df.columns:\n",
    "    filtered_df = merged_df[\n",
    "        merged_df.apply(lambda row: similar_name(extract_name(row['Name']), extract_name(row['coaster_name'])), axis=1)\n",
    "    ]\n",
    "else:\n",
    "    filtered_df = merged_df[\n",
    "        merged_df.apply(lambda row: similar_name(extract_name(row['coaster_name']), extract_name(row['coaster_name'])), axis=1)\n",
    "    ]\n",
    "\n",
    "# Print the number of merged rows\n",
    "print(\"Number of merged rows:\", len(filtered_df))\n",
    "\n",
    "# Save the filtered DataFrame to a new CSV file\n",
    "filtered_df.to_csv('filtered_coaster_db.csv', index=False)\n"
   ]
  },
  {
   "cell_type": "code",
   "execution_count": 2,
   "metadata": {},
   "outputs": [],
   "source": [
    "# Load the DataFrame\n",
    "df = pd.read_csv('filtered_coaster_db.csv')\n",
    "\n",
    "# List of columns to drop\n",
    "columns_to_drop = [\n",
    "    'Coordinates_1', 'Coordinates_2', 'Status_1', 'Status_2', 'Opening date_1', 'Opening date_2',\n",
    "    'Coordinates_3', 'Coordinates_4', 'Status_3', 'Status_4', 'Opening date_3', 'Opening date_4',\n",
    "    'Flash Pass Available', 'Closing date_1', 'Closing date_2', 'Closing date_3', 'Closing date_4',\n",
    "    'Fast Lane available', 'Location_1', 'Location_2', 'Location_3', 'Location_4', 'Must transfer from wheelchair',\n",
    "    'Theme', 'Single rider line available', 'Restraint Style', 'Coordinates_5', 'Coordinates_6',\n",
    "    'Status_5', 'Status_6', 'Opening date_5', 'Opening date_6', 'Coordinates_7', 'Coordinates_8',\n",
    "    'Coordinates_9', 'Status_7', 'Status_8', 'Status_9', 'Opening date_7', 'Opening date_8',\n",
    "    'Opening date_9', 'Park section_1', 'Park section_2', 'Park section_3', 'Park section_4',\n",
    "    'Coordinates_10', 'Status_10', 'Opening date_10', 'Replaced by_1', 'Replaced by_2', 'Coordinates_11',\n",
    "    'Coordinates_12', 'Coordinates_13', 'Coordinates_14', 'Coordinates_15', 'Status_11', 'Status_12',\n",
    "    'Status_13', 'Status_14', 'Status_15', 'Opening date_11', 'Opening date_12', 'Opening date_13',\n",
    "    'Opening date_14', 'Opening date_15', 'Closing date_5', 'Closing date_6', 'Closing date_7',\n",
    "    'Closing date_8', 'Replaced by_3', 'Replaced by_4', 'Coordinates_16', 'Coordinates_17', 'Coordinates_18',\n",
    "    'Coordinates_19', 'Coordinates_20', 'Status_16', 'Status_17', 'Status_18', 'Status_19', 'Status_20',\n",
    "    'Opening date_16', 'Opening date_17', 'Opening date_18', 'Opening date_19', 'Opening date_20',\n",
    "    'Closing date_9', 'Closing date_10', 'Closing date_11', 'Closing date_12', 'Coordinates_21',\n",
    "    'Coordinates_22', 'Coordinates_23', 'Coordinates_24', 'Coordinates_25', 'Status_21', 'Status_22',\n",
    "    'Status_23', 'Status_24', 'Status_25', 'Opening date_21', 'Opening date_22', 'Opening date_23',\n",
    "    'Opening date_24', 'Opening date_25', 'Closing date_13', 'Closing date_14', 'Closing date_15',\n",
    "    'Closing date_16', 'Coordinates_26', 'Coordinates_27', 'Coordinates_28', 'Coordinates_29', 'Coordinates_30',\n",
    "    'Status_26', 'Status_27', 'Status_28', 'Status_29', 'Status_30', 'Opening date_26', 'Opening date_27',\n",
    "    'Opening date_28', 'Opening date_29', 'Opening date_30', 'Closing date_17', 'Closing date_18', 'Closing date_19',\n",
    "    'Closing date_20', 'Coordinates_31', 'Coordinates_32', 'Coordinates_33', 'Coordinates_34', 'Coordinates_35',\n",
    "    'Coordinates_36', 'Status_31', 'Status_32', 'Status_33', 'Status_34', 'Status_35', 'Status_36',\n",
    "    'Opening date_31', 'Opening date_32', 'Opening date_33', 'Opening date_34', 'Opening date_35', 'Opening date_36',\n",
    "    'Closing date_21', 'Closing date_22', 'Closing date_23', 'Closing date_24', 'Closing date_25', 'Name_y',\n",
    "    'Cost_1', 'Cost_2', 'Cost_3', 'Cost_4', 'Flash Pass available', 'Soft opening date', 'Park section_5',\n",
    "    'Park section_6', 'Replaced by_5', 'Replaced by_6', 'Park section_7', 'Park section_8', 'Park section_9',\n",
    "    'Replaced by_7', 'Replaced by_8', 'Replaced by_9', 'Acceleration', 'Park section_10', 'Park section_11',\n",
    "    'Park section_12', 'Park section_13', 'Park section_14', 'Park section_15', 'Park section_16', 'Restraints',\n",
    "    'Name_1', 'Name_2', 'Name_3', 'Name_4', 'Name_5', 'Name_6', 'Name_7', 'Name_8', 'Name_9', \n",
    "    'Replaced_1', 'Replaced_2', 'Replaced_3', 'Replaced_4', 'Fastrack available', 'Soft opening date_1', \n",
    "    'Soft opening date_2', 'Soft opening date_3', 'Soft opening date_4', 'Park section_17', 'Park section_18', \n",
    "    'Park section_19', 'Park section_20', 'Park section_21', 'Park section_22', 'Park section_23', \n",
    "    'Park section_24', 'Park section_25', 'Park section_26', 'Park section_27', 'Park section_28', \n",
    "    'Park section_29', 'Park section_30', 'Park section_31', 'Park section_32', 'Park section_33', \n",
    "    'Park section_34', 'Park section_35', 'Park section_36', 'Website_1', 'Website_2', 'Website_3', \n",
    "    'Website_4', 'Cost_5', 'Cost_6', 'Cost_7', 'Cost_8', 'Cost_9','Coordinates',\t'Status_y',\t'Opening date',\t'General statistics','Website','Cost','Unnamed: 0','Height restriction'\n",
    "\n",
    "]\n",
    "\n",
    "# Drop the specified columns\n",
    "df.drop(columns=columns_to_drop, inplace=True)\n",
    "\n",
    "# Remove duplicates\n",
    "df.drop_duplicates(inplace=True)\n",
    "\n",
    "# Save the modified DataFrame to a new CSV file\n",
    "df.to_csv('filtered_data.csv', index=False)"
   ]
  },
  {
   "cell_type": "code",
   "execution_count": 12,
   "metadata": {},
   "outputs": [
    {
     "data": {
      "text/html": [
       "<div>\n",
       "<style scoped>\n",
       "    .dataframe tbody tr th:only-of-type {\n",
       "        vertical-align: middle;\n",
       "    }\n",
       "\n",
       "    .dataframe tbody tr th {\n",
       "        vertical-align: top;\n",
       "    }\n",
       "\n",
       "    .dataframe thead th {\n",
       "        text-align: right;\n",
       "    }\n",
       "</style>\n",
       "<table border=\"1\" class=\"dataframe\">\n",
       "  <thead>\n",
       "    <tr style=\"text-align: right;\">\n",
       "      <th></th>\n",
       "      <th>Name</th>\n",
       "      <th>Amusement Park</th>\n",
       "      <th>Type</th>\n",
       "      <th>Design</th>\n",
       "      <th>Status</th>\n",
       "      <th>Opened</th>\n",
       "      <th>City</th>\n",
       "      <th>Region</th>\n",
       "      <th>Country</th>\n",
       "      <th>Make</th>\n",
       "      <th>...</th>\n",
       "      <th>Capacity</th>\n",
       "      <th>G-force.1</th>\n",
       "      <th>coaster_name</th>\n",
       "      <th>History</th>\n",
       "      <th>Closing date</th>\n",
       "      <th>Inversions_y</th>\n",
       "      <th>Trains</th>\n",
       "      <th>Replaced</th>\n",
       "      <th>Replaced by</th>\n",
       "      <th>General Statistics</th>\n",
       "    </tr>\n",
       "  </thead>\n",
       "  <tbody>\n",
       "    <tr>\n",
       "      <th>0</th>\n",
       "      <td>10 Inversion Roller Coaster</td>\n",
       "      <td>Chimelong Paradise</td>\n",
       "      <td>Steel</td>\n",
       "      <td>Sit Down</td>\n",
       "      <td>Operating</td>\n",
       "      <td>2006</td>\n",
       "      <td>Guangzhou</td>\n",
       "      <td>Guangdong</td>\n",
       "      <td>China</td>\n",
       "      <td>Intamin</td>\n",
       "      <td>...</td>\n",
       "      <td>1,340 riders per hour</td>\n",
       "      <td>NaN</td>\n",
       "      <td>10 Inversion Roller Coaster</td>\n",
       "      <td>History section not found</td>\n",
       "      <td>NaN</td>\n",
       "      <td>10</td>\n",
       "      <td>Single train with 7 cars. Riders are arranged ...</td>\n",
       "      <td>NaN</td>\n",
       "      <td>NaN</td>\n",
       "      <td>NaN</td>\n",
       "    </tr>\n",
       "    <tr>\n",
       "      <th>1</th>\n",
       "      <td>Abyssus</td>\n",
       "      <td>Energylandia</td>\n",
       "      <td>SteelÂ â€“ Launched</td>\n",
       "      <td>Sit Down</td>\n",
       "      <td>Operating</td>\n",
       "      <td>2021</td>\n",
       "      <td>Zator</td>\n",
       "      <td>MaÅ‚opolskie</td>\n",
       "      <td>Poland</td>\n",
       "      <td>Vekoma</td>\n",
       "      <td>...</td>\n",
       "      <td>1000 riders per hour</td>\n",
       "      <td>4.5</td>\n",
       "      <td>Abyssus</td>\n",
       "      <td>In September 2017, Energylandia applied for fu...</td>\n",
       "      <td>NaN</td>\n",
       "      <td>4</td>\n",
       "      <td>3 trains with 4 cars. Riders are arranged 2 ac...</td>\n",
       "      <td>NaN</td>\n",
       "      <td>NaN</td>\n",
       "      <td>NaN</td>\n",
       "    </tr>\n",
       "    <tr>\n",
       "      <th>2</th>\n",
       "      <td>Adrenaline Peak</td>\n",
       "      <td>Oaks Amusement Park</td>\n",
       "      <td>SteelÂ â€“ Euro-Fighter</td>\n",
       "      <td>Sit Down</td>\n",
       "      <td>Operating</td>\n",
       "      <td>2018</td>\n",
       "      <td>Portland</td>\n",
       "      <td>Oregon</td>\n",
       "      <td>United States</td>\n",
       "      <td>Gerstlauer</td>\n",
       "      <td>...</td>\n",
       "      <td>NaN</td>\n",
       "      <td>NaN</td>\n",
       "      <td>Adrenaline Peak</td>\n",
       "      <td>On August 17, 2017, Oaks Amusement Park announ...</td>\n",
       "      <td>NaN</td>\n",
       "      <td>3</td>\n",
       "      <td>3 trains with a single car. Riders are arrange...</td>\n",
       "      <td>Looping Thunder</td>\n",
       "      <td>NaN</td>\n",
       "      <td>NaN</td>\n",
       "    </tr>\n",
       "    <tr>\n",
       "      <th>3</th>\n",
       "      <td>Adventure Express</td>\n",
       "      <td>Kings Island</td>\n",
       "      <td>SteelÂ â€“ Mine Train</td>\n",
       "      <td>Sit Down</td>\n",
       "      <td>Operating</td>\n",
       "      <td>1991</td>\n",
       "      <td>Mason</td>\n",
       "      <td>Ohio</td>\n",
       "      <td>United States</td>\n",
       "      <td>Arrow Dynamics</td>\n",
       "      <td>...</td>\n",
       "      <td>1600 riders per hour</td>\n",
       "      <td>3.8</td>\n",
       "      <td>Adventure Express</td>\n",
       "      <td>Kings Island approached Arrow Dynamics and one...</td>\n",
       "      <td>NaN</td>\n",
       "      <td>0</td>\n",
       "      <td>3 trains with 5 cars. Riders are arranged 2 ac...</td>\n",
       "      <td>NaN</td>\n",
       "      <td>NaN</td>\n",
       "      <td>NaN</td>\n",
       "    </tr>\n",
       "    <tr>\n",
       "      <th>4</th>\n",
       "      <td>Alpen Blitz</td>\n",
       "      <td>Six Flags Great Adventure</td>\n",
       "      <td>Steel</td>\n",
       "      <td>Sit Down</td>\n",
       "      <td>Removed</td>\n",
       "      <td>1976</td>\n",
       "      <td>Jackson</td>\n",
       "      <td>New Jersey</td>\n",
       "      <td>United States</td>\n",
       "      <td>Anton Schwarzkopf</td>\n",
       "      <td>...</td>\n",
       "      <td>NaN</td>\n",
       "      <td>1</td>\n",
       "      <td>Alpen Blitz</td>\n",
       "      <td>History section not found</td>\n",
       "      <td>1978</td>\n",
       "      <td>NaN</td>\n",
       "      <td>NaN</td>\n",
       "      <td>Jumbo Jet</td>\n",
       "      <td>Haunted Castle</td>\n",
       "      <td>NaN</td>\n",
       "    </tr>\n",
       "  </tbody>\n",
       "</table>\n",
       "<p>5 rows × 52 columns</p>\n",
       "</div>"
      ],
      "text/plain": [
       "                          Name             Amusement Park  \\\n",
       "0  10 Inversion Roller Coaster         Chimelong Paradise   \n",
       "1                      Abyssus               Energylandia   \n",
       "2              Adrenaline Peak        Oaks Amusement Park   \n",
       "3            Adventure Express               Kings Island   \n",
       "4                  Alpen Blitz  Six Flags Great Adventure   \n",
       "\n",
       "                      Type    Design     Status  Opened       City  \\\n",
       "0                    Steel  Sit Down  Operating    2006  Guangzhou   \n",
       "1      SteelÂ â€“ Launched  Sit Down  Operating    2021      Zator   \n",
       "2  SteelÂ â€“ Euro-Fighter  Sit Down  Operating    2018   Portland   \n",
       "3    SteelÂ â€“ Mine Train  Sit Down  Operating    1991      Mason   \n",
       "4                    Steel  Sit Down    Removed    1976    Jackson   \n",
       "\n",
       "         Region        Country               Make  ...               Capacity  \\\n",
       "0     Guangdong          China            Intamin  ...  1,340 riders per hour   \n",
       "1  MaÅ‚opolskie         Poland             Vekoma  ...   1000 riders per hour   \n",
       "2        Oregon  United States         Gerstlauer  ...                    NaN   \n",
       "3          Ohio  United States     Arrow Dynamics  ...   1600 riders per hour   \n",
       "4    New Jersey  United States  Anton Schwarzkopf  ...                    NaN   \n",
       "\n",
       "  G-force.1                 coaster_name  \\\n",
       "0       NaN  10 Inversion Roller Coaster   \n",
       "1       4.5                      Abyssus   \n",
       "2       NaN              Adrenaline Peak   \n",
       "3       3.8            Adventure Express   \n",
       "4         1                  Alpen Blitz   \n",
       "\n",
       "                                             History Closing date  \\\n",
       "0                          History section not found          NaN   \n",
       "1  In September 2017, Energylandia applied for fu...          NaN   \n",
       "2  On August 17, 2017, Oaks Amusement Park announ...          NaN   \n",
       "3  Kings Island approached Arrow Dynamics and one...          NaN   \n",
       "4                          History section not found         1978   \n",
       "\n",
       "  Inversions_y                                             Trains  \\\n",
       "0           10  Single train with 7 cars. Riders are arranged ...   \n",
       "1            4  3 trains with 4 cars. Riders are arranged 2 ac...   \n",
       "2            3  3 trains with a single car. Riders are arrange...   \n",
       "3            0  3 trains with 5 cars. Riders are arranged 2 ac...   \n",
       "4          NaN                                                NaN   \n",
       "\n",
       "          Replaced     Replaced by General Statistics  \n",
       "0              NaN             NaN                NaN  \n",
       "1              NaN             NaN                NaN  \n",
       "2  Looping Thunder             NaN                NaN  \n",
       "3              NaN             NaN                NaN  \n",
       "4        Jumbo Jet  Haunted Castle                NaN  \n",
       "\n",
       "[5 rows x 52 columns]"
      ]
     },
     "execution_count": 12,
     "metadata": {},
     "output_type": "execute_result"
    }
   ],
   "source": [
    "df = pd.read_excel('new_data.xlsx')\n",
    "df.head()"
   ]
  },
  {
   "cell_type": "code",
   "execution_count": null,
   "metadata": {},
   "outputs": [],
   "source": []
  }
 ],
 "metadata": {
  "kernelspec": {
   "display_name": "Python 3",
   "language": "python",
   "name": "python3"
  },
  "language_info": {
   "codemirror_mode": {
    "name": "ipython",
    "version": 3
   },
   "file_extension": ".py",
   "mimetype": "text/x-python",
   "name": "python",
   "nbconvert_exporter": "python",
   "pygments_lexer": "ipython3",
   "version": "3.12.2"
  }
 },
 "nbformat": 4,
 "nbformat_minor": 2
}
