{
 "cells": [
  {
   "cell_type": "code",
   "execution_count": 1,
   "metadata": {},
   "outputs": [
    {
     "name": "stderr",
     "output_type": "stream",
     "text": [
      "C:\\Users\\gabeb\\AppData\\Local\\Temp\\ipykernel_27348\\2226318540.py:15: TqdmWarning: IProgress not found. Please update jupyter and ipywidgets. See https://ipywidgets.readthedocs.io/en/stable/user_install.html\n",
      "  from tqdm.autonotebook import tqdm\n"
     ]
    }
   ],
   "source": [
    "\n",
    "import numpy as np\n",
    "import pandas as pd\n",
    "import json\n",
    "import os\n",
    "\n",
    "import requests\n",
    "from bs4 import BeautifulSoup\n",
    "from selenium import webdriver\n",
    "from selenium.webdriver.chrome.options import Options\n",
    "from selenium.webdriver.chrome.service import Service\n",
    "from selenium.webdriver.common.by import By\n",
    "from selenium.webdriver.support.ui import WebDriverWait\n",
    "from selenium.webdriver.support import expected_conditions as EC\n",
    "\n",
    "from tqdm.autonotebook import tqdm"
   ]
  },
  {
   "cell_type": "code",
   "execution_count": 2,
   "metadata": {},
   "outputs": [],
   "source": [
    "# CHROME_BINARY_LOCATION = \"/usr/bin/chrome-linux64/chrome\"\n",
    "# CHROMEDRIVER_BINARY_LOCATION = \"/usr/bin/chromedriver-linux64/chromedriver\"\n",
    "chromedriver_path = 'C:/Users/gabeb/Desktop/programming/chromedriver-win64/chromedriver.exe'\n",
    "\n",
    "def add_driver_options(options):\n",
    "    \"\"\"\n",
    "    Add configurable options\n",
    "    \"\"\"\n",
    "    chrome_options = Options()\n",
    "    for opt in options:\n",
    "        chrome_options.add_argument(opt)\n",
    "    return chrome_options\n",
    "\n",
    "def initialize_driver():\n",
    "    \"\"\"\n",
    "    Initialize the web driver\n",
    "    \"\"\"\n",
    "    driver_config = {\n",
    "        \"options\": [\n",
    "            \"--headless\",\n",
    "            \"--no-sandbox\",\n",
    "            \"--start-fullscreen\",\n",
    "            \"--allow-insecure-localhost\",\n",
    "            \"--disable-dev-shm-usage\",\n",
    "            \"user-agent=Chrome/116.0.5845.96\"\n",
    "        ],\n",
    "    }\n",
    "    options = add_driver_options(driver_config[\"options\"])\n",
    "    # options.binary_location = CHROME_BINARY_LOCATION\n",
    "    driver = webdriver.Chrome(\n",
    "        executable_path=chromedriver_path,\n",
    "        options=options)\n",
    "    return driver"
   ]
  },
  {
   "cell_type": "code",
   "execution_count": 3,
   "metadata": {},
   "outputs": [],
   "source": [
    "def parse_rollercoaster_page(soup):\n",
    "    # Initialize variables to store information\n",
    "    city = region = country = make = None\n",
    "    trackStats = {}\n",
    "    image_urls = []\n",
    "\n",
    "    # Find location information\n",
    "    feature = soup.find('div', {\"id\": \"feature\"})\n",
    "    if feature:\n",
    "        descList = feature.findAll('div')\n",
    "        if descList:\n",
    "            desc = descList[0]\n",
    "            locationLinks = desc.findAll('a')\n",
    "            if len(locationLinks) == 3: # amusement park, city, country\n",
    "                city = locationLinks[1].contents[0]\n",
    "                region = locationLinks[1].contents[0]  # Assuming region is the same as city\n",
    "                country = locationLinks[2].contents[0]\n",
    "            else:\n",
    "                city = locationLinks[-3].contents[0]\n",
    "                region = locationLinks[-2].contents[0]\n",
    "                country = locationLinks[-1].contents[0]\n",
    "\n",
    "            # Find make information\n",
    "            if len(descList) >= 2:\n",
    "                make_link = descList[1].find('a')\n",
    "                if make_link:\n",
    "                    make = make_link.contents[0]\n",
    "\n",
    "    # Find track information\n",
    "    trackStatsTable = soup.find('table', {'class': 'stat-tbl'})\n",
    "    if trackStatsTable:\n",
    "        trackStatsTag = trackStatsTable.findAll('tr')\n",
    "        for tr in trackStatsTag:\n",
    "            key = tr.find('th').text.strip()\n",
    "            valueTag = tr.find('td')\n",
    "            if valueTag:\n",
    "                value = valueTag.text.strip()\n",
    "                if key == \"Elements\": # list of links\n",
    "                    value = [a.contents[0] for a in valueTag.findAll('a')]\n",
    "                elif valueTag.find('span', {'class': 'float'}) is not None: # float value\n",
    "                    unit = valueTag.contents[1].strip() if len(valueTag.contents) >= 2 else \"\"\n",
    "                    key = f\"{key} ({unit})\"\n",
    "                    value = valueTag.find('span', {'class': 'float'}).text.strip()\n",
    "            else:\n",
    "                value = None\n",
    "            trackStats[key] = value\n",
    "\n",
    "    # Find images\n",
    "    image_tags = soup.find_all('img', {'class': 'image'})\n",
    "    for img in image_tags:\n",
    "        image_url = urljoin(rcdb_url, img['src'])\n",
    "        image_urls.append(image_url)\n",
    "\n",
    "    return city, region, country, make, trackStats, image_urls\n",
    "\n",
    "def parse_rollercoaster_table_row(row):\n",
    "    # Get data from the table row\n",
    "    elements = row.findAll('td')\n",
    "    coasterName = elements[1].find('a').text.strip()\n",
    "    coasterLink = elements[1].find('a')['href']\n",
    "    amusementPark = elements[2].find('a').text.strip()\n",
    "    coasterType = elements[3].find('a').text.strip()\n",
    "    coasterDesign = elements[4].find('a').text.strip()\n",
    "    statusTag = elements[5].find('a')\n",
    "    status = statusTag.contents[0] if statusTag else \"Removed\"\n",
    "    openedTag = elements[6].find('time')\n",
    "    opened = openedTag.contents[0] if openedTag else \"unknown\"\n",
    "\n",
    "    # Get data from the coaster specific link\n",
    "    driver.get(f\"{rcdb_url}{coasterLink}\")\n",
    "    coaster_soup = BeautifulSoup(driver.page_source, 'html')\n",
    "    city, region, country, make, trackStats, image_urls = parse_rollercoaster_page(coaster_soup)\n",
    "\n",
    "    return {\n",
    "        'Name': coasterName, \n",
    "        'Amusement Park': amusementPark, \n",
    "        'Type': coasterType, \n",
    "        'Design': coasterDesign, \n",
    "        'Status': status, \n",
    "        'Opened': opened, \n",
    "        'City': city, \n",
    "        'Region': region, \n",
    "        'Country': country, \n",
    "        'Make': make,\n",
    "        **trackStats,\n",
    "        'Image URLs': image_urls\n",
    "    }\n"
   ]
  },
  {
   "cell_type": "code",
   "execution_count": 4,
   "metadata": {},
   "outputs": [
    {
     "name": "stdout",
     "output_type": "stream",
     "text": [
      "Total number of pages to iterate through: 496\n"
     ]
    },
    {
     "name": "stderr",
     "output_type": "stream",
     "text": [
      "  0%|          | 0/496 [00:00<?, ?it/s]"
     ]
    },
    {
     "name": "stdout",
     "output_type": "stream",
     "text": [
      "Getting information for page 1\n"
     ]
    },
    {
     "name": "stderr",
     "output_type": "stream",
     "text": [
      "  0%|          | 1/496 [00:03<26:26,  3.21s/it, amusementPark=Parque de Atracciones de Madrid, coasterName=Abismo]            "
     ]
    },
    {
     "name": "stdout",
     "output_type": "stream",
     "text": [
      "Getting information for page 2\n"
     ]
    },
    {
     "name": "stderr",
     "output_type": "stream",
     "text": [
      "  0%|          | 2/496 [00:06<26:52,  3.26s/it, amusementPark=Tatzmania Löffingen, coasterName=Achterbahn]          "
     ]
    },
    {
     "name": "stdout",
     "output_type": "stream",
     "text": [
      "Getting information for page 3\n"
     ]
    },
    {
     "name": "stderr",
     "output_type": "stream",
     "text": [
      "  1%|          | 3/496 [00:09<26:31,  3.23s/it, amusementPark=Riverview Park, coasterName=Aerial Coaster]           "
     ]
    },
    {
     "name": "stdout",
     "output_type": "stream",
     "text": [
      "Getting information for page 4\n"
     ]
    },
    {
     "name": "stderr",
     "output_type": "stream",
     "text": [
      "  1%|          | 4/496 [00:12<26:21,  3.22s/it, amusementPark=Star Park Lunapark, coasterName=Air Coaster]                "
     ]
    },
    {
     "name": "stdout",
     "output_type": "stream",
     "text": [
      "Getting information for page 5\n"
     ]
    },
    {
     "name": "stderr",
     "output_type": "stream",
     "text": [
      "  1%|          | 5/496 [00:16<26:57,  3.29s/it, amusementPark=Bobbejaanland, coasterName=Alpenblitz]                                   "
     ]
    },
    {
     "name": "stdout",
     "output_type": "stream",
     "text": [
      "Getting information for page 6\n"
     ]
    },
    {
     "name": "stderr",
     "output_type": "stream",
     "text": [
      "  1%|          | 6/496 [00:19<26:48,  3.28s/it, amusementPark=Golm, coasterName=Alpine-Coaster]                  "
     ]
    },
    {
     "name": "stdout",
     "output_type": "stream",
     "text": [
      "Getting information for page 7\n"
     ]
    },
    {
     "name": "stderr",
     "output_type": "stream",
     "text": [
      "  1%|▏         | 7/496 [00:23<27:44,  3.40s/it, amusementPark=Jindian Park, coasterName=Alpine Coaster]                    "
     ]
    },
    {
     "name": "stdout",
     "output_type": "stream",
     "text": [
      "Getting information for page 8\n"
     ]
    },
    {
     "name": "stderr",
     "output_type": "stream",
     "text": [
      "  2%|▏         | 8/496 [00:26<27:20,  3.36s/it, amusementPark=AltmühlBOB, coasterName=AltmühlBOB]                                                  "
     ]
    },
    {
     "name": "stdout",
     "output_type": "stream",
     "text": [
      "Getting information for page 9\n"
     ]
    },
    {
     "name": "stderr",
     "output_type": "stream",
     "text": [
      "  2%|▏         | 9/496 [00:29<26:56,  3.32s/it, amusementPark=Fantasy World, coasterName=Anaconda]                         "
     ]
    },
    {
     "name": "stdout",
     "output_type": "stream",
     "text": [
      "Getting information for page 10\n"
     ]
    },
    {
     "name": "stderr",
     "output_type": "stream",
     "text": [
      "  2%|▏         | 10/496 [00:33<26:52,  3.32s/it, amusementPark=Fantasia Luna Park, coasterName=Apple Coaster]               "
     ]
    },
    {
     "name": "stdout",
     "output_type": "stream",
     "text": [
      "Getting information for page 11\n"
     ]
    },
    {
     "name": "stderr",
     "output_type": "stream",
     "text": [
      "  2%|▏         | 11/496 [00:36<26:58,  3.34s/it, amusementPark=Sans Souci Park, coasterName=Ariel Railway]                   "
     ]
    },
    {
     "name": "stdout",
     "output_type": "stream",
     "text": [
      "Getting information for page 12\n"
     ]
    },
    {
     "name": "stderr",
     "output_type": "stream",
     "text": [
      "  2%|▏         | 12/496 [00:40<27:29,  3.41s/it, amusementPark=Beijing Shijingshan Amusement Park, coasterName=Atomic Coaster]     "
     ]
    },
    {
     "name": "stdout",
     "output_type": "stream",
     "text": [
      "Getting information for page 13\n"
     ]
    },
    {
     "name": "stderr",
     "output_type": "stream",
     "text": [
      "  3%|▎         | 13/496 [00:43<26:53,  3.34s/it, amusementPark=Babylon Park, coasterName=Babylon Spinning Coaster]                                      "
     ]
    },
    {
     "name": "stdout",
     "output_type": "stream",
     "text": [
      "Getting information for page 14\n"
     ]
    },
    {
     "name": "stderr",
     "output_type": "stream",
     "text": [
      "  3%|▎         | 14/496 [00:46<26:46,  3.33s/it, amusementPark=Yas Waterworld, coasterName=Bandit Bomber]                     "
     ]
    },
    {
     "name": "stdout",
     "output_type": "stream",
     "text": [
      "Getting information for page 15\n"
     ]
    },
    {
     "name": "stderr",
     "output_type": "stream",
     "text": [
      "  3%|▎         | 15/496 [00:49<26:13,  3.27s/it, amusementPark=Hamanako Pal Pal, coasterName=Batflyer]                     "
     ]
    },
    {
     "name": "stdout",
     "output_type": "stream",
     "text": [
      "Getting information for page 16\n"
     ]
    },
    {
     "name": "stderr",
     "output_type": "stream",
     "text": [
      "  3%|▎         | 16/496 [00:53<26:48,  3.35s/it, amusementPark=Six Flags Fiesta Texas, coasterName=Batman The Ride]        "
     ]
    },
    {
     "name": "stdout",
     "output_type": "stream",
     "text": [
      "Getting information for page 17\n"
     ]
    },
    {
     "name": "stderr",
     "output_type": "stream",
     "text": [
      "  3%|▎         | 17/496 [00:56<26:34,  3.33s/it, amusementPark=Canada's Wonderland, coasterName=Behemoth]                         "
     ]
    },
    {
     "name": "stdout",
     "output_type": "stream",
     "text": [
      "Getting information for page 18\n"
     ]
    },
    {
     "name": "stderr",
     "output_type": "stream",
     "text": [
      "  4%|▎         | 18/496 [00:59<26:22,  3.31s/it, amusementPark=Southport Pleasureland, coasterName=Big Apple]                   "
     ]
    },
    {
     "name": "stdout",
     "output_type": "stream",
     "text": [
      "Getting information for page 19\n"
     ]
    },
    {
     "name": "stderr",
     "output_type": "stream",
     "text": [
      "  4%|▍         | 19/496 [01:02<25:59,  3.27s/it, amusementPark=Busch Gardens Williamsburg, coasterName=Big Bad Wolf]            "
     ]
    },
    {
     "name": "stdout",
     "output_type": "stream",
     "text": [
      "Getting information for page 20\n"
     ]
    },
    {
     "name": "stderr",
     "output_type": "stream",
     "text": [
      "  4%|▍         | 20/496 [01:06<26:14,  3.31s/it, amusementPark=Battersea Fun Fair, coasterName=Big Dipper]             "
     ]
    },
    {
     "name": "stdout",
     "output_type": "stream",
     "text": [
      "Getting information for page 21\n"
     ]
    },
    {
     "name": "stderr",
     "output_type": "stream",
     "text": [
      "  4%|▍         | 21/496 [01:09<25:52,  3.27s/it, amusementPark=Luna Park, coasterName=Big Dipper]                     "
     ]
    },
    {
     "name": "stdout",
     "output_type": "stream",
     "text": [
      "Getting information for page 22\n"
     ]
    },
    {
     "name": "stderr",
     "output_type": "stream",
     "text": [
      "  4%|▍         | 22/496 [01:12<26:17,  3.33s/it, amusementPark=Longhu Park, coasterName=Big Worm]                                           "
     ]
    },
    {
     "name": "stdout",
     "output_type": "stream",
     "text": [
      "Getting information for page 23\n"
     ]
    },
    {
     "name": "stderr",
     "output_type": "stream",
     "text": [
      "  5%|▍         | 23/496 [01:16<26:28,  3.36s/it, amusementPark=Magic Harbor, coasterName=Black Witch]                                                "
     ]
    },
    {
     "name": "stdout",
     "output_type": "stream",
     "text": [
      "Getting information for page 24\n"
     ]
    },
    {
     "name": "stderr",
     "output_type": "stream",
     "text": [
      "  5%|▍         | 24/496 [01:19<26:19,  3.35s/it, amusementPark=Lucky Star Park, coasterName=Blizzard]                     "
     ]
    },
    {
     "name": "stdout",
     "output_type": "stream",
     "text": [
      "Getting information for page 25\n"
     ]
    },
    {
     "name": "stderr",
     "output_type": "stream",
     "text": [
      "  5%|▌         | 25/496 [01:22<26:06,  3.33s/it, amusementPark=Wonderland, coasterName=Blue Streak Racer]                                       "
     ]
    },
    {
     "name": "stdout",
     "output_type": "stream",
     "text": [
      "Getting information for page 26\n"
     ]
    },
    {
     "name": "stderr",
     "output_type": "stream",
     "text": [
      "  5%|▌         | 26/496 [01:26<25:59,  3.32s/it, amusementPark=Artesina, coasterName=Bob Estivo]                            "
     ]
    },
    {
     "name": "stdout",
     "output_type": "stream",
     "text": [
      "Getting information for page 27\n"
     ]
    },
    {
     "name": "stderr",
     "output_type": "stream",
     "text": [
      "  5%|▌         | 27/496 [01:29<25:12,  3.22s/it, amusementPark=Bobovka Němčičky, coasterName=Bobovka]                            "
     ]
    },
    {
     "name": "stdout",
     "output_type": "stream",
     "text": [
      "Getting information for page 28\n"
     ]
    },
    {
     "name": "stderr",
     "output_type": "stream",
     "text": [
      "  6%|▌         | 28/496 [01:32<24:41,  3.17s/it, amusementPark=Sendaviva, coasterName=Bobsleigh]                                    "
     ]
    },
    {
     "name": "stdout",
     "output_type": "stream",
     "text": [
      "Getting information for page 29\n"
     ]
    },
    {
     "name": "stderr",
     "output_type": "stream",
     "text": [
      "  6%|▌         | 29/496 [01:35<24:36,  3.16s/it, amusementPark=Six Flags Darien Lake, coasterName=Boomerang]              "
     ]
    },
    {
     "name": "stdout",
     "output_type": "stream",
     "text": [
      "Getting information for page 30\n"
     ]
    },
    {
     "name": "stderr",
     "output_type": "stream",
     "text": [
      "  6%|▌         | 30/496 [01:39<25:40,  3.31s/it, amusementPark=Rafaela Padilla, coasterName=Boomerang]                  "
     ]
    },
    {
     "name": "stdout",
     "output_type": "stream",
     "text": [
      "Getting information for page 31\n"
     ]
    },
    {
     "name": "stderr",
     "output_type": "stream",
     "text": [
      "  6%|▋         | 31/496 [01:42<25:38,  3.31s/it, amusementPark=Wonder Zone, coasterName=Boramae Coaser]                                "
     ]
    },
    {
     "name": "stdout",
     "output_type": "stream",
     "text": [
      "Getting information for page 32\n"
     ]
    },
    {
     "name": "stderr",
     "output_type": "stream",
     "text": [
      "  6%|▋         | 32/496 [01:45<25:17,  3.27s/it, amusementPark=City Games, coasterName=Brocomela]                                "
     ]
    },
    {
     "name": "stdout",
     "output_type": "stream",
     "text": [
      "Getting information for page 33\n"
     ]
    },
    {
     "name": "stderr",
     "output_type": "stream",
     "text": [
      "  7%|▋         | 33/496 [01:48<24:57,  3.23s/it, amusementPark=Edenlandia, coasterName=Bruco]                                             "
     ]
    },
    {
     "name": "stdout",
     "output_type": "stream",
     "text": [
      "Getting information for page 34\n"
     ]
    },
    {
     "name": "stderr",
     "output_type": "stream",
     "text": [
      "  7%|▋         | 34/496 [01:52<24:59,  3.25s/it, amusementPark=Adventure City, coasterName=Brucomela]                 "
     ]
    },
    {
     "name": "stdout",
     "output_type": "stream",
     "text": [
      "Getting information for page 35\n"
     ]
    },
    {
     "name": "stderr",
     "output_type": "stream",
     "text": [
      "  7%|▋         | 35/496 [01:55<24:52,  3.24s/it, amusementPark=Peter Park, coasterName=Brucomela]             "
     ]
    },
    {
     "name": "stdout",
     "output_type": "stream",
     "text": [
      "Getting information for page 36\n"
     ]
    },
    {
     "name": "stderr",
     "output_type": "stream",
     "text": [
      "  7%|▋         | 36/496 [01:58<24:40,  3.22s/it, amusementPark=American Park, coasterName=Bufallo Bill]                         "
     ]
    },
    {
     "name": "stdout",
     "output_type": "stream",
     "text": [
      "Getting information for page 37\n"
     ]
    },
    {
     "name": "stderr",
     "output_type": "stream",
     "text": [
      "  7%|▋         | 37/496 [02:01<24:35,  3.22s/it, amusementPark=Sun Tribe, coasterName=Bull Fight in the Sky]           "
     ]
    },
    {
     "name": "stdout",
     "output_type": "stream",
     "text": [
      "Getting information for page 38\n"
     ]
    },
    {
     "name": "stderr",
     "output_type": "stream",
     "text": [
      "  8%|▊         | 38/496 [02:04<24:53,  3.26s/it, amusementPark=Sport+Freizeitzentrum Hohenbogen, coasterName=Butterfly]"
     ]
    },
    {
     "name": "stdout",
     "output_type": "stream",
     "text": [
      "Getting information for page 39\n"
     ]
    },
    {
     "name": "stderr",
     "output_type": "stream",
     "text": [
      "  8%|▊         | 39/496 [02:08<25:23,  3.33s/it, amusementPark=1. Kärntner Erlebnispark, coasterName=Butterfly]        "
     ]
    },
    {
     "name": "stdout",
     "output_type": "stream",
     "text": [
      "Getting information for page 40\n"
     ]
    },
    {
     "name": "stderr",
     "output_type": "stream",
     "text": [
      "  8%|▊         | 40/496 [02:11<24:58,  3.29s/it, amusementPark=Affen- und Vogelpark, coasterName=Butterfly]                "
     ]
    },
    {
     "name": "stdout",
     "output_type": "stream",
     "text": [
      "Getting information for page 41\n"
     ]
    },
    {
     "name": "stderr",
     "output_type": "stream",
     "text": [
      "  8%|▊         | 41/496 [02:14<24:51,  3.28s/it, amusementPark=Nasu Highland Park, coasterName=Camel Coaster]        "
     ]
    },
    {
     "name": "stdout",
     "output_type": "stream",
     "text": [
      "Getting information for page 42\n"
     ]
    },
    {
     "name": "stderr",
     "output_type": "stream",
     "text": [
      "  8%|▊         | 42/496 [02:18<24:33,  3.25s/it, amusementPark=Canobie Lake Park, coasterName=Canobie Corkscrew]                         "
     ]
    },
    {
     "name": "stdout",
     "output_type": "stream",
     "text": [
      "Getting information for page 43\n"
     ]
    },
    {
     "name": "stderr",
     "output_type": "stream",
     "text": [
      "  9%|▊         | 43/496 [02:21<24:17,  3.22s/it, amusementPark=Parque Fiesta Aventuras, coasterName=Catariños]                                     "
     ]
    },
    {
     "name": "stdout",
     "output_type": "stream",
     "text": [
      "Getting information for page 44\n"
     ]
    },
    {
     "name": "stderr",
     "output_type": "stream",
     "text": [
      "  9%|▉         | 44/496 [02:24<23:47,  3.16s/it, amusementPark=Flamingo Park, coasterName=Caterpillar]                   "
     ]
    },
    {
     "name": "stdout",
     "output_type": "stream",
     "text": [
      "Getting information for page 45\n"
     ]
    },
    {
     "name": "stderr",
     "output_type": "stream",
     "text": [
      "  9%|▉         | 45/496 [02:27<23:42,  3.16s/it, amusementPark=Gorky Park, coasterName=Caterpillar]                        "
     ]
    },
    {
     "name": "stdout",
     "output_type": "stream",
     "text": [
      "Getting information for page 46\n"
     ]
    },
    {
     "name": "stderr",
     "output_type": "stream",
     "text": [
      "  9%|▉         | 46/496 [02:30<23:36,  3.15s/it, amusementPark=PKiO im.Yu.Gagarina, coasterName=Caterpillar]                 "
     ]
    },
    {
     "name": "stdout",
     "output_type": "stream",
     "text": [
      "Getting information for page 47\n"
     ]
    },
    {
     "name": "stderr",
     "output_type": "stream",
     "text": [
      "  9%|▉         | 47/496 [02:33<23:48,  3.18s/it, amusementPark=Alabama Adventure & Splash Adventure, coasterName=Centi-SPEED]           "
     ]
    },
    {
     "name": "stdout",
     "output_type": "stream",
     "text": [
      "Getting information for page 48\n"
     ]
    },
    {
     "name": "stderr",
     "output_type": "stream",
     "text": [
      " 10%|▉         | 48/496 [02:37<23:53,  3.20s/it, amusementPark=Flamingo Park, coasterName=Chenille]                                      "
     ]
    },
    {
     "name": "stdout",
     "output_type": "stream",
     "text": [
      "Getting information for page 49\n"
     ]
    },
    {
     "name": "stderr",
     "output_type": "stream",
     "text": [
      " 10%|▉         | 49/496 [02:40<23:30,  3.16s/it, amusementPark=Happy World, coasterName=Children Coaster]       "
     ]
    },
    {
     "name": "stdout",
     "output_type": "stream",
     "text": [
      "Getting information for page 50\n"
     ]
    },
    {
     "name": "stderr",
     "output_type": "stream",
     "text": [
      " 10%|█         | 50/496 [02:43<23:32,  3.17s/it, amusementPark=Sir Goony's Fun Zone, coasterName=Choo Choo Express]                "
     ]
    },
    {
     "name": "stdout",
     "output_type": "stream",
     "text": [
      "Getting information for page 51\n"
     ]
    },
    {
     "name": "stderr",
     "output_type": "stream",
     "text": [
      " 10%|█         | 51/496 [02:47<24:52,  3.35s/it, amusementPark=Luna Park, coasterName=Circus Coaster]                      "
     ]
    },
    {
     "name": "stdout",
     "output_type": "stream",
     "text": [
      "Getting information for page 52\n"
     ]
    },
    {
     "name": "stderr",
     "output_type": "stream",
     "text": [
      " 10%|█         | 52/496 [02:50<24:32,  3.32s/it, amusementPark=Joyland, coasterName=Clouds of Fairyland]                "
     ]
    },
    {
     "name": "stdout",
     "output_type": "stream",
     "text": [
      "Getting information for page 53\n"
     ]
    },
    {
     "name": "stderr",
     "output_type": "stream",
     "text": [
      " 11%|█         | 53/496 [02:53<23:54,  3.24s/it, amusementPark=Bloomsbury Park, coasterName=Coaster]                             "
     ]
    },
    {
     "name": "stdout",
     "output_type": "stream",
     "text": [
      "Getting information for page 54\n"
     ]
    },
    {
     "name": "stderr",
     "output_type": "stream",
     "text": [
      " 11%|█         | 54/496 [02:56<23:38,  3.21s/it, amusementPark=Cobra Entertainment City, coasterName=Cobra]                               "
     ]
    },
    {
     "name": "stdout",
     "output_type": "stream",
     "text": [
      "Getting information for page 55\n"
     ]
    },
    {
     "name": "stderr",
     "output_type": "stream",
     "text": [
      " 11%|█         | 55/496 [02:59<23:47,  3.24s/it, amusementPark=Walygator Sud-Ouest, coasterName=Coccinelle]               "
     ]
    },
    {
     "name": "stdout",
     "output_type": "stream",
     "text": [
      "Getting information for page 56\n"
     ]
    },
    {
     "name": "stderr",
     "output_type": "stream",
     "text": [
      " 11%|█▏        | 56/496 [03:03<23:54,  3.26s/it, amusementPark=Six Flags Great Escape, coasterName=Comet]                                                    "
     ]
    },
    {
     "name": "stdout",
     "output_type": "stream",
     "text": [
      "Getting information for page 57\n"
     ]
    },
    {
     "name": "stderr",
     "output_type": "stream",
     "text": [
      " 11%|█▏        | 57/496 [03:06<23:39,  3.23s/it, amusementPark=Kishacoquillas Park, coasterName=Comet]                            "
     ]
    },
    {
     "name": "stdout",
     "output_type": "stream",
     "text": [
      "Getting information for page 58\n"
     ]
    },
    {
     "name": "stderr",
     "output_type": "stream",
     "text": [
      " 12%|█▏        | 58/496 [03:09<23:07,  3.17s/it, amusementPark=Walibi Holland, coasterName=Condor]                       "
     ]
    },
    {
     "name": "stdout",
     "output_type": "stream",
     "text": [
      "Getting information for page 59\n"
     ]
    },
    {
     "name": "stderr",
     "output_type": "stream",
     "text": [
      " 12%|█▏        | 59/496 [03:12<22:58,  3.16s/it, amusementPark=Toshimaen, coasterName=Corkscrew]                                   "
     ]
    },
    {
     "name": "stdout",
     "output_type": "stream",
     "text": [
      "Getting information for page 60\n"
     ]
    },
    {
     "name": "stderr",
     "output_type": "stream",
     "text": [
      " 12%|█▏        | 60/496 [03:15<23:20,  3.21s/it, amusementPark=Kezouji Park, coasterName=Cosmic Express]                                         "
     ]
    },
    {
     "name": "stdout",
     "output_type": "stream",
     "text": [
      "Getting information for page 61\n"
     ]
    },
    {
     "name": "stderr",
     "output_type": "stream",
     "text": [
      " 12%|█▏        | 61/496 [03:18<23:02,  3.18s/it, amusementPark=Kid City, coasterName=Crazy Cab Coaster]                            "
     ]
    },
    {
     "name": "stdout",
     "output_type": "stream",
     "text": [
      "Getting information for page 62\n"
     ]
    },
    {
     "name": "stderr",
     "output_type": "stream",
     "text": [
      " 12%|█▎        | 62/496 [03:22<23:09,  3.20s/it, amusementPark=Funland Theme Park, coasterName=Crazy Coaster]                "
     ]
    },
    {
     "name": "stdout",
     "output_type": "stream",
     "text": [
      "Getting information for page 63\n"
     ]
    },
    {
     "name": "stderr",
     "output_type": "stream",
     "text": [
      " 13%|█▎        | 63/496 [03:25<22:57,  3.18s/it, amusementPark=Brean Theme Park, coasterName=Crazy Loop]                       "
     ]
    },
    {
     "name": "stdout",
     "output_type": "stream",
     "text": [
      "Getting information for page 64\n"
     ]
    },
    {
     "name": "stderr",
     "output_type": "stream",
     "text": [
      " 13%|█▎        | 64/496 [03:28<23:22,  3.25s/it, amusementPark=Wild West World, coasterName=Crazy Mouse]                      "
     ]
    },
    {
     "name": "stdout",
     "output_type": "stream",
     "text": [
      "Getting information for page 65\n"
     ]
    },
    {
     "name": "stderr",
     "output_type": "stream",
     "text": [
      " 13%|█▎        | 65/496 [03:32<24:55,  3.47s/it, amusementPark=Sakura Valley Theme Paradise, coasterName=Crazy Mouse]                                   "
     ]
    },
    {
     "name": "stdout",
     "output_type": "stream",
     "text": [
      "Getting information for page 66\n"
     ]
    },
    {
     "name": "stderr",
     "output_type": "stream",
     "text": [
      " 13%|█▎        | 66/496 [03:35<24:29,  3.42s/it, amusementPark=Chanba National Wetland Park, coasterName=Crazy Mouse]      "
     ]
    },
    {
     "name": "stdout",
     "output_type": "stream",
     "text": [
      "Getting information for page 67\n"
     ]
    },
    {
     "name": "stderr",
     "output_type": "stream",
     "text": [
      " 14%|█▎        | 67/496 [03:39<24:05,  3.37s/it, amusementPark=Quan Lin Happy World, coasterName=Crazy Roller Coaster]       "
     ]
    },
    {
     "name": "stdout",
     "output_type": "stream",
     "text": [
      "Getting information for page 68\n"
     ]
    },
    {
     "name": "stderr",
     "output_type": "stream",
     "text": [
      " 14%|█▎        | 68/496 [03:42<23:50,  3.34s/it, amusementPark=Trans Studio Mini, coasterName=Crazy Taxi India]                 "
     ]
    },
    {
     "name": "stdout",
     "output_type": "stream",
     "text": [
      "Getting information for page 69\n"
     ]
    },
    {
     "name": "stderr",
     "output_type": "stream",
     "text": [
      " 14%|█▍        | 69/496 [03:45<23:25,  3.29s/it, amusementPark=Funtastic Park, coasterName=Creature Coaster]                      "
     ]
    },
    {
     "name": "stdout",
     "output_type": "stream",
     "text": [
      "Getting information for page 70\n"
     ]
    },
    {
     "name": "stderr",
     "output_type": "stream",
     "text": [
      " 14%|█▍        | 70/496 [03:49<23:32,  3.32s/it, amusementPark=Grove Land, coasterName=Cyber Space]                                          "
     ]
    },
    {
     "name": "stdout",
     "output_type": "stream",
     "text": [
      "Getting information for page 71\n"
     ]
    },
    {
     "name": "stderr",
     "output_type": "stream",
     "text": [
      " 14%|█▍        | 71/496 [03:52<23:15,  3.28s/it, amusementPark=Southport Pleasureland, coasterName=Cyclone]                        "
     ]
    },
    {
     "name": "stdout",
     "output_type": "stream",
     "text": [
      "Getting information for page 72\n"
     ]
    },
    {
     "name": "stderr",
     "output_type": "stream",
     "text": [
      " 15%|█▍        | 72/496 [03:55<22:54,  3.24s/it, amusementPark=Fantasy Forest at the Flushing Meadows Carousel, coasterName=Cyclone]"
     ]
    },
    {
     "name": "stdout",
     "output_type": "stream",
     "text": [
      "Getting information for page 73\n"
     ]
    },
    {
     "name": "stderr",
     "output_type": "stream",
     "text": [
      " 15%|█▍        | 73/496 [03:58<22:35,  3.20s/it, amusementPark=P-6 Farms, coasterName=Cyclone]                                      "
     ]
    },
    {
     "name": "stdout",
     "output_type": "stream",
     "text": [
      "Getting information for page 74\n"
     ]
    },
    {
     "name": "stderr",
     "output_type": "stream",
     "text": [
      " 15%|█▍        | 74/496 [04:01<22:25,  3.19s/it, amusementPark=Expoland, coasterName=Daidarasaurus]                         "
     ]
    },
    {
     "name": "stdout",
     "output_type": "stream",
     "text": [
      "Getting information for page 75\n"
     ]
    },
    {
     "name": "stderr",
     "output_type": "stream",
     "text": [
      " 15%|█▌        | 75/496 [04:04<22:09,  3.16s/it, amusementPark=Electric Park, coasterName=Dazy Dazer]                   "
     ]
    },
    {
     "name": "stdout",
     "output_type": "stream",
     "text": [
      "Getting information for page 76\n"
     ]
    },
    {
     "name": "stderr",
     "output_type": "stream",
     "text": [
      " 15%|█▌        | 76/496 [04:07<21:56,  3.13s/it, amusementPark=Kolmården, coasterName=Delfinexpressen]                      "
     ]
    },
    {
     "name": "stdout",
     "output_type": "stream",
     "text": [
      "Getting information for page 77\n"
     ]
    },
    {
     "name": "stderr",
     "output_type": "stream",
     "text": [
      " 16%|█▌        | 77/496 [04:11<22:01,  3.15s/it, amusementPark=Castles n' Coasters, coasterName=Desert Storm]   "
     ]
    },
    {
     "name": "stdout",
     "output_type": "stream",
     "text": [
      "Getting information for page 78\n"
     ]
    },
    {
     "name": "stderr",
     "output_type": "stream",
     "text": [
      " 16%|█▌        | 78/496 [04:14<22:28,  3.23s/it, amusementPark=RitterRost - Magic Park Verden, coasterName=Die! Wilde Maus]     "
     ]
    },
    {
     "name": "stdout",
     "output_type": "stream",
     "text": [
      "Getting information for page 79\n"
     ]
    },
    {
     "name": "stderr",
     "output_type": "stream",
     "text": [
      " 16%|█▌        | 79/496 [04:17<22:36,  3.25s/it, amusementPark=Wicksteed Park, coasterName=Dinosaur Valley]                "
     ]
    },
    {
     "name": "stdout",
     "output_type": "stream",
     "text": [
      "Getting information for page 80\n"
     ]
    },
    {
     "name": "stderr",
     "output_type": "stream",
     "text": [
      " 16%|█▌        | 80/496 [04:20<21:47,  3.14s/it, amusementPark=Mainstay Farm, coasterName=Dipsy Doodle]                "
     ]
    },
    {
     "name": "stdout",
     "output_type": "stream",
     "text": [
      "Getting information for page 81\n"
     ]
    },
    {
     "name": "stderr",
     "output_type": "stream",
     "text": [
      " 16%|█▋        | 81/496 [04:23<21:45,  3.15s/it, amusementPark=Janfusun Fancyworld, coasterName=Diving Machine G5]             "
     ]
    },
    {
     "name": "stdout",
     "output_type": "stream",
     "text": [
      "Getting information for page 82\n"
     ]
    },
    {
     "name": "stderr",
     "output_type": "stream",
     "text": [
      " 17%|█▋        | 82/496 [04:26<21:36,  3.13s/it, amusementPark=Jiguan Cave, coasterName=Dongtian Flying Dragon]                 "
     ]
    },
    {
     "name": "stdout",
     "output_type": "stream",
     "text": [
      "Getting information for page 83\n"
     ]
    },
    {
     "name": "stderr",
     "output_type": "stream",
     "text": [
      " 17%|█▋        | 83/496 [04:30<23:29,  3.41s/it, amusementPark=Freizeitpark Plohn, coasterName=Drachenwirbel]                        "
     ]
    },
    {
     "name": "stdout",
     "output_type": "stream",
     "text": [
      "Getting information for page 84\n"
     ]
    },
    {
     "name": "stderr",
     "output_type": "stream",
     "text": [
      " 17%|█▋        | 84/496 [04:34<22:44,  3.31s/it, amusementPark=Legoland Windsor, coasterName=Dragon]              "
     ]
    },
    {
     "name": "stdout",
     "output_type": "stream",
     "text": [
      "Getting information for page 85\n"
     ]
    },
    {
     "name": "stderr",
     "output_type": "stream",
     "text": [
      " 17%|█▋        | 85/496 [04:37<22:28,  3.28s/it, amusementPark=Gulf Shores Amusement Park, coasterName=Dragon]                "
     ]
    },
    {
     "name": "stdout",
     "output_type": "stream",
     "text": [
      "Getting information for page 86\n"
     ]
    },
    {
     "name": "stderr",
     "output_type": "stream",
     "text": [
      " 17%|█▋        | 86/496 [04:40<22:12,  3.25s/it, amusementPark=Black Thunder, coasterName=Dragon]                          "
     ]
    },
    {
     "name": "stdout",
     "output_type": "stream",
     "text": [
      "Getting information for page 87\n"
     ]
    },
    {
     "name": "stderr",
     "output_type": "stream",
     "text": [
      " 18%|█▊        | 87/496 [04:43<22:05,  3.24s/it, amusementPark=Parque J.M. Romo, coasterName=Dragon]       "
     ]
    },
    {
     "name": "stdout",
     "output_type": "stream",
     "text": [
      "Getting information for page 88\n"
     ]
    },
    {
     "name": "stderr",
     "output_type": "stream",
     "text": [
      " 18%|█▊        | 88/496 [04:46<21:42,  3.19s/it, amusementPark=Jannat Al-Ahlam, coasterName=Dragon]         "
     ]
    },
    {
     "name": "stdout",
     "output_type": "stream",
     "text": [
      "Getting information for page 89\n"
     ]
    },
    {
     "name": "stderr",
     "output_type": "stream",
     "text": [
      " 18%|█▊        | 89/496 [04:49<21:45,  3.21s/it, amusementPark=Tatrapolis Ostrov Fantázie, coasterName=Dragon]            "
     ]
    },
    {
     "name": "stdout",
     "output_type": "stream",
     "text": [
      "Getting information for page 90\n"
     ]
    },
    {
     "name": "stderr",
     "output_type": "stream",
     "text": [
      " 18%|█▊        | 90/496 [04:53<21:28,  3.17s/it, amusementPark=Gyeongju World, coasterName=Dragon 2 Loop Coaster]                 "
     ]
    },
    {
     "name": "stdout",
     "output_type": "stream",
     "text": [
      "Getting information for page 91\n"
     ]
    },
    {
     "name": "stderr",
     "output_type": "stream",
     "text": [
      " 18%|█▊        | 91/496 [04:56<21:28,  3.18s/it, amusementPark=Obihiro Zoo, coasterName=Dragon Coaster]                             "
     ]
    },
    {
     "name": "stdout",
     "output_type": "stream",
     "text": [
      "Getting information for page 92\n"
     ]
    },
    {
     "name": "stderr",
     "output_type": "stream",
     "text": [
      " 19%|█▊        | 92/496 [04:59<21:24,  3.18s/it, amusementPark=Haunted Trails, coasterName=Dragon Coaster]                          "
     ]
    },
    {
     "name": "stdout",
     "output_type": "stream",
     "text": [
      "Getting information for page 93\n"
     ]
    },
    {
     "name": "stderr",
     "output_type": "stream",
     "text": [
      " 19%|█▉        | 93/496 [05:02<20:44,  3.09s/it, amusementPark=Julinek Park, coasterName=Dragon Coaster]                     "
     ]
    },
    {
     "name": "stdout",
     "output_type": "stream",
     "text": [
      "Getting information for page 94\n"
     ]
    },
    {
     "name": "stderr",
     "output_type": "stream",
     "text": [
      " 19%|█▉        | 94/496 [05:05<21:01,  3.14s/it, amusementPark=Motiongate, coasterName=Dragon Gliders]                           "
     ]
    },
    {
     "name": "stdout",
     "output_type": "stream",
     "text": [
      "Getting information for page 95\n"
     ]
    },
    {
     "name": "stderr",
     "output_type": "stream",
     "text": [
      " 19%|█▉        | 95/496 [05:08<21:19,  3.19s/it, amusementPark=Kolomenskoye, coasterName=Dragon Roller Coaster]                       "
     ]
    },
    {
     "name": "stdout",
     "output_type": "stream",
     "text": [
      "Getting information for page 96\n"
     ]
    },
    {
     "name": "stderr",
     "output_type": "stream",
     "text": [
      " 19%|█▉        | 96/496 [05:11<21:11,  3.18s/it, amusementPark=Istiqlol Bolalar Bog’i, coasterName=Dragon Train]                    "
     ]
    },
    {
     "name": "stdout",
     "output_type": "stream",
     "text": [
      "Getting information for page 97\n"
     ]
    },
    {
     "name": "stderr",
     "output_type": "stream",
     "text": [
      " 20%|█▉        | 97/496 [05:14<20:45,  3.12s/it, amusementPark=Gillian's Wonderland Pier, coasterName=Dragon Wagon]           "
     ]
    },
    {
     "name": "stdout",
     "output_type": "stream",
     "text": [
      "Getting information for page 98\n"
     ]
    },
    {
     "name": "stderr",
     "output_type": "stream",
     "text": [
      " 20%|█▉        | 98/496 [05:18<20:45,  3.13s/it, amusementPark=Carron Dream Park, coasterName=Dream Liner]                           "
     ]
    },
    {
     "name": "stdout",
     "output_type": "stream",
     "text": [
      "Getting information for page 99\n"
     ]
    },
    {
     "name": "stderr",
     "output_type": "stream",
     "text": [
      " 20%|█▉        | 99/496 [05:21<21:12,  3.21s/it, amusementPark=VinWonders, coasterName=Eagle Warrior]                       "
     ]
    },
    {
     "name": "stdout",
     "output_type": "stream",
     "text": [
      "Getting information for page 100\n"
     ]
    },
    {
     "name": "stderr",
     "output_type": "stream",
     "text": [
      " 20%|██        | 100/496 [05:24<21:03,  3.19s/it, amusementPark=SeaWorld San Diego, coasterName=Electric Eel]                 "
     ]
    },
    {
     "name": "stdout",
     "output_type": "stream",
     "text": [
      "Getting information for page 101\n"
     ]
    },
    {
     "name": "stderr",
     "output_type": "stream",
     "text": [
      " 20%|██        | 101/496 [05:27<20:57,  3.18s/it, amusementPark=Riyadh Winter Wonderland, coasterName=Energizer]                                "
     ]
    },
    {
     "name": "stdout",
     "output_type": "stream",
     "text": [
      "Getting information for page 102\n"
     ]
    },
    {
     "name": "stderr",
     "output_type": "stream",
     "text": [
      " 21%|██        | 102/496 [05:31<21:02,  3.20s/it, amusementPark=Fabrikus World, coasterName=EuroLoop]                           "
     ]
    },
    {
     "name": "stdout",
     "output_type": "stream",
     "text": [
      "Getting information for page 103\n"
     ]
    },
    {
     "name": "stderr",
     "output_type": "stream",
     "text": [
      " 21%|██        | 103/496 [05:34<20:57,  3.20s/it, amusementPark=Qatif Entertainment Castle, coasterName=Express Train]                      "
     ]
    },
    {
     "name": "stdout",
     "output_type": "stream",
     "text": [
      "Getting information for page 104\n"
     ]
    },
    {
     "name": "stderr",
     "output_type": "stream",
     "text": [
      " 21%|██        | 104/496 [05:37<21:18,  3.26s/it, amusementPark=Jagdmärchenpark Hirschalm, coasterName=Familienachterbahn]             "
     ]
    },
    {
     "name": "stdout",
     "output_type": "stream",
     "text": [
      "Getting information for page 105\n"
     ]
    },
    {
     "name": "stderr",
     "output_type": "stream",
     "text": [
      " 21%|██        | 105/496 [05:41<22:33,  3.46s/it, amusementPark=Sea Train Land, coasterName=Family Coaster]               "
     ]
    },
    {
     "name": "stdout",
     "output_type": "stream",
     "text": [
      "Getting information for page 106\n"
     ]
    },
    {
     "name": "stderr",
     "output_type": "stream",
     "text": [
      " 21%|██▏       | 106/496 [05:44<21:50,  3.36s/it, amusementPark=Al Zawraa Land, coasterName=Family Coaster]                    "
     ]
    },
    {
     "name": "stdout",
     "output_type": "stream",
     "text": [
      "Getting information for page 107\n"
     ]
    },
    {
     "name": "stderr",
     "output_type": "stream",
     "text": [
      " 22%|██▏       | 107/496 [05:47<21:22,  3.30s/it, amusementPark=Churpfalzpark, coasterName=Family Coaster]                        "
     ]
    },
    {
     "name": "stdout",
     "output_type": "stream",
     "text": [
      "Getting information for page 108\n"
     ]
    },
    {
     "name": "stderr",
     "output_type": "stream",
     "text": [
      " 22%|██▏       | 108/496 [05:51<21:05,  3.26s/it, amusementPark=Twina, coasterName=Family Ride]                        "
     ]
    },
    {
     "name": "stdout",
     "output_type": "stream",
     "text": [
      "Getting information for page 109\n"
     ]
    },
    {
     "name": "stderr",
     "output_type": "stream",
     "text": [
      " 22%|██▏       | 109/496 [05:54<20:42,  3.21s/it, amusementPark=Baghdad Island, coasterName=Family Roller Coaster]                   "
     ]
    },
    {
     "name": "stdout",
     "output_type": "stream",
     "text": [
      "Getting information for page 110\n"
     ]
    },
    {
     "name": "stderr",
     "output_type": "stream",
     "text": [
      " 22%|██▏       | 110/496 [05:57<20:28,  3.18s/it, amusementPark=Santa's Village AZoosment Park, coasterName=Farmers Fling]            "
     ]
    },
    {
     "name": "stdout",
     "output_type": "stream",
     "text": [
      "Getting information for page 111\n"
     ]
    },
    {
     "name": "stderr",
     "output_type": "stream",
     "text": [
      " 22%|██▏       | 111/496 [06:00<20:27,  3.19s/it, amusementPark=Austin's Park, coasterName=Fiesta Express]                           "
     ]
    },
    {
     "name": "stdout",
     "output_type": "stream",
     "text": [
      "Getting information for page 112\n"
     ]
    },
    {
     "name": "stderr",
     "output_type": "stream",
     "text": [
      " 23%|██▎       | 112/496 [06:03<20:03,  3.13s/it, amusementPark=Greater Island Park, coasterName=Figure 8]          "
     ]
    },
    {
     "name": "stdout",
     "output_type": "stream",
     "text": [
      "Getting information for page 113\n"
     ]
    },
    {
     "name": "stderr",
     "output_type": "stream",
     "text": [
      " 23%|██▎       | 113/496 [06:06<19:24,  3.04s/it, amusementPark=Silver Lake Amusement Park, coasterName=Figure 8]"
     ]
    },
    {
     "name": "stdout",
     "output_type": "stream",
     "text": [
      "Getting information for page 114\n"
     ]
    },
    {
     "name": "stderr",
     "output_type": "stream",
     "text": [
      " 23%|██▎       | 114/496 [06:09<18:55,  2.97s/it, amusementPark=Cleethorpes Promenade, coasterName=Figure 8]     "
     ]
    },
    {
     "name": "stdout",
     "output_type": "stream",
     "text": [
      "Getting information for page 115\n"
     ]
    },
    {
     "name": "stderr",
     "output_type": "stream",
     "text": [
      " 23%|██▎       | 115/496 [06:11<18:37,  2.93s/it, amusementPark=Buckeye Lake, coasterName=Figure Eight]              "
     ]
    },
    {
     "name": "stdout",
     "output_type": "stream",
     "text": [
      "Getting information for page 116\n"
     ]
    },
    {
     "name": "stderr",
     "output_type": "stream",
     "text": [
      " 23%|██▎       | 116/496 [06:14<18:39,  2.95s/it, amusementPark=Pabst Park, coasterName=Figure Eight Toboggan]                "
     ]
    },
    {
     "name": "stdout",
     "output_type": "stream",
     "text": [
      "Getting information for page 117\n"
     ]
    },
    {
     "name": "stderr",
     "output_type": "stream",
     "text": [
      " 24%|██▎       | 117/496 [06:18<19:10,  3.03s/it, amusementPark=Phoenix Fairlyland, coasterName=Five Ring Roller Coaster]     "
     ]
    },
    {
     "name": "stdout",
     "output_type": "stream",
     "text": [
      "Getting information for page 118\n"
     ]
    },
    {
     "name": "stderr",
     "output_type": "stream",
     "text": [
      " 24%|██▍       | 118/496 [06:20<18:42,  2.97s/it, amusementPark=Warner Bros. Movie World, coasterName=Flash: Speed Force]  "
     ]
    },
    {
     "name": "stdout",
     "output_type": "stream",
     "text": [
      "Getting information for page 119\n"
     ]
    },
    {
     "name": "stderr",
     "output_type": "stream",
     "text": [
      " 24%|██▍       | 119/496 [06:23<18:37,  2.96s/it, amusementPark=Jolly Roger at the Pier, coasterName=Flitzer]                                "
     ]
    },
    {
     "name": "stdout",
     "output_type": "stream",
     "text": [
      "Getting information for page 120\n"
     ]
    },
    {
     "name": "stderr",
     "output_type": "stream",
     "text": [
      " 24%|██▍       | 120/496 [06:27<18:48,  3.00s/it, amusementPark=Dinosaur Beach, coasterName=Flyer]                              "
     ]
    },
    {
     "name": "stdout",
     "output_type": "stream",
     "text": [
      "Getting information for page 121\n"
     ]
    },
    {
     "name": "stderr",
     "output_type": "stream",
     "text": [
      " 24%|██▍       | 121/496 [06:30<19:21,  3.10s/it, amusementPark=Walled Lake Park, coasterName=Flying Dragon]                                          "
     ]
    },
    {
     "name": "stdout",
     "output_type": "stream",
     "text": [
      "Getting information for page 122\n"
     ]
    },
    {
     "name": "stderr",
     "output_type": "stream",
     "text": [
      " 25%|██▍       | 122/496 [06:33<19:21,  3.11s/it, amusementPark=Wuhan Zhongshan Park, coasterName=Flying Saucer]                       "
     ]
    },
    {
     "name": "stdout",
     "output_type": "stream",
     "text": [
      "Getting information for page 123\n"
     ]
    },
    {
     "name": "stderr",
     "output_type": "stream",
     "text": [
      " 25%|██▍       | 123/496 [06:36<19:37,  3.16s/it, amusementPark=Happy Valley, coasterName=Fly Over Mediterranean]              "
     ]
    },
    {
     "name": "stdout",
     "output_type": "stream",
     "text": [
      "Getting information for page 124\n"
     ]
    },
    {
     "name": "stderr",
     "output_type": "stream",
     "text": [
      " 25%|██▌       | 124/496 [06:39<19:36,  3.16s/it, amusementPark=Park Attraktsionov, coasterName=Formula 1]                   "
     ]
    },
    {
     "name": "stdout",
     "output_type": "stream",
     "text": [
      "Getting information for page 125\n"
     ]
    },
    {
     "name": "stderr",
     "output_type": "stream",
     "text": [
      " 25%|██▌       | 125/496 [06:43<19:36,  3.17s/it, amusementPark=Shen Jun Ecological Culture Town, coasterName=Four Ring Roller Coaster]"
     ]
    },
    {
     "name": "stdout",
     "output_type": "stream",
     "text": [
      "Getting information for page 126\n"
     ]
    },
    {
     "name": "stderr",
     "output_type": "stream",
     "text": [
      " 25%|██▌       | 126/496 [06:46<19:44,  3.20s/it, amusementPark=Fanta Park Glorious Orient, coasterName=Frontline Charge]              "
     ]
    },
    {
     "name": "stdout",
     "output_type": "stream",
     "text": [
      "Getting information for page 127\n"
     ]
    },
    {
     "name": "stderr",
     "output_type": "stream",
     "text": [
      " 26%|██▌       | 127/496 [06:50<20:39,  3.36s/it, amusementPark=Crab Island Children's Theme Park, coasterName=Fruit Worm Coaster]"
     ]
    },
    {
     "name": "stdout",
     "output_type": "stream",
     "text": [
      "Getting information for page 128\n"
     ]
    },
    {
     "name": "stderr",
     "output_type": "stream",
     "text": [
      " 26%|██▌       | 128/496 [06:53<20:37,  3.36s/it, amusementPark=Nanhu Park, coasterName=Fruit Worm Coaster]                                     "
     ]
    },
    {
     "name": "stdout",
     "output_type": "stream",
     "text": [
      "Getting information for page 129\n"
     ]
    },
    {
     "name": "stderr",
     "output_type": "stream",
     "text": [
      " 26%|██▌       | 129/496 [06:56<20:21,  3.33s/it, amusementPark=Harbin Sunac Land, coasterName=Fruitworm Train]                      "
     ]
    },
    {
     "name": "stdout",
     "output_type": "stream",
     "text": [
      "Getting information for page 130\n"
     ]
    },
    {
     "name": "stderr",
     "output_type": "stream",
     "text": [
      " 26%|██▌       | 130/496 [06:59<20:09,  3.31s/it, amusementPark=Pipers Funfair, coasterName=Fun Mouse]                       "
     ]
    },
    {
     "name": "stdout",
     "output_type": "stream",
     "text": [
      "Getting information for page 131\n"
     ]
    },
    {
     "name": "stderr",
     "output_type": "stream",
     "text": [
      " 26%|██▋       | 131/496 [07:03<19:47,  3.25s/it, amusementPark=Joyland Amusement Park, coasterName=Galaxi]                 "
     ]
    },
    {
     "name": "stdout",
     "output_type": "stream",
     "text": [
      "Getting information for page 132\n"
     ]
    },
    {
     "name": "stderr",
     "output_type": "stream",
     "text": [
      " 27%|██▋       | 132/496 [07:06<19:39,  3.24s/it, amusementPark=Coney Island on the Boardwalk, coasterName=Galaxi] "
     ]
    },
    {
     "name": "stdout",
     "output_type": "stream",
     "text": [
      "Getting information for page 133\n"
     ]
    },
    {
     "name": "stderr",
     "output_type": "stream",
     "text": [
      " 27%|██▋       | 133/496 [07:09<19:49,  3.28s/it, amusementPark=Jolly Roger Amusement Park, coasterName=Gallassia]                    "
     ]
    },
    {
     "name": "stdout",
     "output_type": "stream",
     "text": [
      "Getting information for page 134\n"
     ]
    },
    {
     "name": "stderr",
     "output_type": "stream",
     "text": [
      " 27%|██▋       | 134/496 [07:14<21:42,  3.60s/it, amusementPark=Cedar Point, coasterName=Red]                               "
     ]
    },
    {
     "name": "stdout",
     "output_type": "stream",
     "text": [
      "Getting information for page 135\n"
     ]
    },
    {
     "name": "stderr",
     "output_type": "stream",
     "text": [
      " 27%|██▋       | 135/496 [07:17<21:27,  3.57s/it, amusementPark=Palisades Amusement Park, coasterName=Giant Coaster]           "
     ]
    },
    {
     "name": "stdout",
     "output_type": "stream",
     "text": [
      "Getting information for page 136\n"
     ]
    },
    {
     "name": "stderr",
     "output_type": "stream",
     "text": [
      " 27%|██▋       | 136/496 [07:20<20:23,  3.40s/it, amusementPark=Luna Park, coasterName=Giant Racer]                                  "
     ]
    },
    {
     "name": "stdout",
     "output_type": "stream",
     "text": [
      "Getting information for page 137\n"
     ]
    },
    {
     "name": "stderr",
     "output_type": "stream",
     "text": [
      " 28%|██▊       | 137/496 [07:23<19:54,  3.33s/it, amusementPark=Bogus Basin Mountain Recreation Area, coasterName=Glade Runner]      "
     ]
    },
    {
     "name": "stdout",
     "output_type": "stream",
     "text": [
      "Getting information for page 138\n"
     ]
    },
    {
     "name": "stderr",
     "output_type": "stream",
     "text": [
      " 28%|██▊       | 138/496 [07:26<19:19,  3.24s/it, amusementPark=Binhai Amusement Park, coasterName=Gliding Dragon]             "
     ]
    },
    {
     "name": "stdout",
     "output_type": "stream",
     "text": [
      "Getting information for page 139\n"
     ]
    },
    {
     "name": "stderr",
     "output_type": "stream",
     "text": [
      " 28%|██▊       | 139/496 [07:29<19:10,  3.22s/it, amusementPark=Bruce Lee Paradise, coasterName=Gliding Dragon]                             "
     ]
    },
    {
     "name": "stdout",
     "output_type": "stream",
     "text": [
      "Getting information for page 140\n"
     ]
    },
    {
     "name": "stderr",
     "output_type": "stream",
     "text": [
      " 28%|██▊       | 140/496 [07:33<18:51,  3.18s/it, amusementPark=Liuhua Park, coasterName=Gliding Dragon]                       "
     ]
    },
    {
     "name": "stdout",
     "output_type": "stream",
     "text": [
      "Getting information for page 141\n"
     ]
    },
    {
     "name": "stderr",
     "output_type": "stream",
     "text": [
      " 28%|██▊       | 141/496 [07:36<18:47,  3.18s/it, amusementPark=Yangpu Park, coasterName=Gliding Dragon]                         "
     ]
    },
    {
     "name": "stdout",
     "output_type": "stream",
     "text": [
      "Getting information for page 142\n"
     ]
    },
    {
     "name": "stderr",
     "output_type": "stream",
     "text": [
      " 29%|██▊       | 142/496 [07:39<18:31,  3.14s/it, amusementPark=Clifton Park Amusements, coasterName=Go-Gator]                                 "
     ]
    },
    {
     "name": "stdout",
     "output_type": "stream",
     "text": [
      "Getting information for page 143\n"
     ]
    },
    {
     "name": "stderr",
     "output_type": "stream",
     "text": [
      " 29%|██▉       | 143/496 [07:42<18:33,  3.15s/it, amusementPark=Zhongshan Park, coasterName=Golden Dragon]                "
     ]
    },
    {
     "name": "stdout",
     "output_type": "stream",
     "text": [
      "Getting information for page 144\n"
     ]
    },
    {
     "name": "stderr",
     "output_type": "stream",
     "text": [
      " 29%|██▉       | 144/496 [07:45<18:15,  3.11s/it, amusementPark=Jiufeng Park, coasterName=Golden Dragon Roller Coaster]                     "
     ]
    },
    {
     "name": "stdout",
     "output_type": "stream",
     "text": [
      "Getting information for page 145\n"
     ]
    },
    {
     "name": "stderr",
     "output_type": "stream",
     "text": [
      " 29%|██▉       | 145/496 [07:48<18:16,  3.12s/it, amusementPark=Schnepf Farms, coasterName=Gold Mine Express]                  "
     ]
    },
    {
     "name": "stdout",
     "output_type": "stream",
     "text": [
      "Getting information for page 146\n"
     ]
    },
    {
     "name": "stderr",
     "output_type": "stream",
     "text": [
      " 29%|██▉       | 146/496 [07:51<18:19,  3.14s/it, amusementPark=Fort Jefferson Fun Park, coasterName=Gold Rush Express]         "
     ]
    },
    {
     "name": "stdout",
     "output_type": "stream",
     "text": [
      "Getting information for page 147\n"
     ]
    },
    {
     "name": "stderr",
     "output_type": "stream",
     "text": [
      " 30%|██▉       | 147/496 [07:55<18:26,  3.17s/it, amusementPark=Greenland, coasterName=Grampus Jet]                                               "
     ]
    },
    {
     "name": "stdout",
     "output_type": "stream",
     "text": [
      "Getting information for page 148\n"
     ]
    },
    {
     "name": "stderr",
     "output_type": "stream",
     "text": [
      " 30%|██▉       | 148/496 [07:58<18:42,  3.23s/it, amusementPark=Pirate's World, coasterName=Outside (left)]                            "
     ]
    },
    {
     "name": "stdout",
     "output_type": "stream",
     "text": [
      "Getting information for page 149\n"
     ]
    },
    {
     "name": "stderr",
     "output_type": "stream",
     "text": [
      " 30%|███       | 149/496 [08:01<18:48,  3.25s/it, amusementPark=Zjeżdżalnia Grawitacyjna, coasterName=Gravity Slide]                               "
     ]
    },
    {
     "name": "stdout",
     "output_type": "stream",
     "text": [
      "Getting information for page 150\n"
     ]
    },
    {
     "name": "stderr",
     "output_type": "stream",
     "text": [
      " 30%|███       | 150/496 [08:04<18:48,  3.26s/it, amusementPark=Morey's Piers, coasterName=Great White]                               "
     ]
    },
    {
     "name": "stdout",
     "output_type": "stream",
     "text": [
      "Getting information for page 151\n"
     ]
    },
    {
     "name": "stderr",
     "output_type": "stream",
     "text": [
      " 30%|███       | 151/496 [08:08<18:54,  3.29s/it, amusementPark=Bay Beach Amusement Park, coasterName=Greyhound]                  "
     ]
    },
    {
     "name": "stdout",
     "output_type": "stream",
     "text": [
      "Getting information for page 152\n"
     ]
    },
    {
     "name": "stderr",
     "output_type": "stream",
     "text": [
      " 31%|███       | 152/496 [08:11<18:31,  3.23s/it, amusementPark=Safari Extreme, coasterName=Guayakill Ride]                                   "
     ]
    },
    {
     "name": "stdout",
     "output_type": "stream",
     "text": [
      "Getting information for page 153\n"
     ]
    },
    {
     "name": "stderr",
     "output_type": "stream",
     "text": [
      " 31%|███       | 153/496 [08:14<18:36,  3.25s/it, amusementPark=Parque Los Valentinos, coasterName=Gusanito]           "
     ]
    },
    {
     "name": "stdout",
     "output_type": "stream",
     "text": [
      "Getting information for page 154\n"
     ]
    },
    {
     "name": "stderr",
     "output_type": "stream",
     "text": [
      " 31%|███       | 154/496 [08:17<18:30,  3.25s/it, amusementPark=Super Park, coasterName=Gusano Manzana]           "
     ]
    },
    {
     "name": "stdout",
     "output_type": "stream",
     "text": [
      "Getting information for page 155\n"
     ]
    },
    {
     "name": "stderr",
     "output_type": "stream",
     "text": [
      " 31%|███▏      | 155/496 [08:21<18:40,  3.29s/it, amusementPark=Kota Fantasi, coasterName=Halilintar]                                                              "
     ]
    },
    {
     "name": "stdout",
     "output_type": "stream",
     "text": [
      "Getting information for page 156\n"
     ]
    },
    {
     "name": "stderr",
     "output_type": "stream",
     "text": [
      " 31%|███▏      | 156/496 [08:24<18:42,  3.30s/it, amusementPark=Kyrlay Amusement Park, coasterName=Happy Caterpillar]            "
     ]
    },
    {
     "name": "stdout",
     "output_type": "stream",
     "text": [
      "Getting information for page 157\n"
     ]
    },
    {
     "name": "stderr",
     "output_type": "stream",
     "text": [
      " 32%|███▏      | 157/496 [08:27<18:25,  3.26s/it, amusementPark=Aoyun Fuwa Paradise, coasterName=Happy Racing Boat]           "
     ]
    },
    {
     "name": "stdout",
     "output_type": "stream",
     "text": [
      "Getting information for page 158\n"
     ]
    },
    {
     "name": "stderr",
     "output_type": "stream",
     "text": [
      " 32%|███▏      | 158/496 [08:31<18:21,  3.26s/it, amusementPark=Plopsaland De Panne, coasterName=Heidi The Ride]                                  "
     ]
    },
    {
     "name": "stdout",
     "output_type": "stream",
     "text": [
      "Getting information for page 159\n"
     ]
    },
    {
     "name": "stderr",
     "output_type": "stream",
     "text": [
      " 32%|███▏      | 159/496 [08:34<18:33,  3.30s/it, amusementPark=Nasu Highland Park, coasterName=High Loop Coaster]                 "
     ]
    },
    {
     "name": "stdout",
     "output_type": "stream",
     "text": [
      "Getting information for page 160\n"
     ]
    },
    {
     "name": "stderr",
     "output_type": "stream",
     "text": [
      " 32%|███▏      | 160/496 [08:37<18:34,  3.32s/it, amusementPark=Adhari Park, coasterName=Himalaya]                                    "
     ]
    },
    {
     "name": "stdout",
     "output_type": "stream",
     "text": [
      "Getting information for page 161\n"
     ]
    },
    {
     "name": "stderr",
     "output_type": "stream",
     "text": [
      " 32%|███▏      | 161/496 [08:40<18:02,  3.23s/it, amusementPark=Rasti-Land, coasterName=Holta Di Polta]                            "
     ]
    },
    {
     "name": "stdout",
     "output_type": "stream",
     "text": [
      "Getting information for page 162\n"
     ]
    },
    {
     "name": "stderr",
     "output_type": "stream",
     "text": [
      " 33%|███▎      | 162/496 [08:44<17:57,  3.23s/it, amusementPark=Holiday World, coasterName=Howler]                                          "
     ]
    },
    {
     "name": "stdout",
     "output_type": "stream",
     "text": [
      "Getting information for page 163\n"
     ]
    },
    {
     "name": "stderr",
     "output_type": "stream",
     "text": [
      " 33%|███▎      | 163/496 [08:47<18:11,  3.28s/it, amusementPark=Santa Cruz Beach Boardwalk, coasterName=Hurricane]             "
     ]
    },
    {
     "name": "stdout",
     "output_type": "stream",
     "text": [
      "Getting information for page 164\n"
     ]
    },
    {
     "name": "stderr",
     "output_type": "stream",
     "text": [
      " 33%|███▎      | 164/496 [08:50<18:25,  3.33s/it, amusementPark=Land of Legends Theme Park, coasterName=Hyper Coaster]            "
     ]
    },
    {
     "name": "stdout",
     "output_type": "stream",
     "text": [
      "Getting information for page 165\n"
     ]
    },
    {
     "name": "stderr",
     "output_type": "stream",
     "text": [
      " 33%|███▎      | 165/496 [08:54<18:15,  3.31s/it, amusementPark=John's Incredible Pizza Company, coasterName=Incredible Express]"
     ]
    },
    {
     "name": "stdout",
     "output_type": "stream",
     "text": [
      "Getting information for page 166\n"
     ]
    },
    {
     "name": "stderr",
     "output_type": "stream",
     "text": [
      " 33%|███▎      | 166/496 [08:57<18:07,  3.30s/it, amusementPark=Purgatory Resort, coasterName=Inferno Mountain Coaster]                             "
     ]
    },
    {
     "name": "stdout",
     "output_type": "stream",
     "text": [
      "Getting information for page 167\n"
     ]
    },
    {
     "name": "stderr",
     "output_type": "stream",
     "text": [
      " 34%|███▎      | 167/496 [09:00<18:25,  3.36s/it, amusementPark=Cedar Point, coasterName=Iron Dragon]                                 "
     ]
    },
    {
     "name": "stdout",
     "output_type": "stream",
     "text": [
      "Getting information for page 168\n"
     ]
    },
    {
     "name": "stderr",
     "output_type": "stream",
     "text": [
      " 34%|███▍      | 168/496 [09:04<18:08,  3.32s/it, amusementPark=Rocky Springs Park, coasterName=Jack Rabbit]                     "
     ]
    },
    {
     "name": "stdout",
     "output_type": "stream",
     "text": [
      "Getting information for page 169\n"
     ]
    },
    {
     "name": "stderr",
     "output_type": "stream",
     "text": [
      " 34%|███▍      | 169/496 [09:07<17:44,  3.26s/it, amusementPark=Lakeview Amusement Park, coasterName=Jack Rabbit] "
     ]
    },
    {
     "name": "stdout",
     "output_type": "stream",
     "text": [
      "Getting information for page 170\n"
     ]
    },
    {
     "name": "stderr",
     "output_type": "stream",
     "text": [
      " 34%|███▍      | 170/496 [09:11<19:51,  3.65s/it, amusementPark=Nagashima Spa Land, coasterName=Jet Coaster]                "
     ]
    },
    {
     "name": "stdout",
     "output_type": "stream",
     "text": [
      "Getting information for page 171\n"
     ]
    },
    {
     "name": "stderr",
     "output_type": "stream",
     "text": [
      " 34%|███▍      | 171/496 [09:15<18:57,  3.50s/it, amusementPark=Takakonuma Greenland, coasterName=Jet Coaster]                 "
     ]
    },
    {
     "name": "stdout",
     "output_type": "stream",
     "text": [
      "Getting information for page 172\n"
     ]
    },
    {
     "name": "stderr",
     "output_type": "stream",
     "text": [
      " 35%|███▍      | 172/496 [09:17<17:57,  3.33s/it, amusementPark=Nagasaki Penguin Aquarium, coasterName=Jet Coaster]  "
     ]
    },
    {
     "name": "stdout",
     "output_type": "stream",
     "text": [
      "Getting information for page 173\n"
     ]
    },
    {
     "name": "stderr",
     "output_type": "stream",
     "text": [
      " 35%|███▍      | 173/496 [09:21<17:38,  3.28s/it, amusementPark=Spreepark, coasterName=Jet Star]                                   "
     ]
    },
    {
     "name": "stdout",
     "output_type": "stream",
     "text": [
      "Getting information for page 174\n"
     ]
    },
    {
     "name": "stderr",
     "output_type": "stream",
     "text": [
      " 35%|███▌      | 174/496 [09:24<17:38,  3.29s/it, amusementPark=Lunapark Robland, coasterName=Jet Star 3]             "
     ]
    },
    {
     "name": "stdout",
     "output_type": "stream",
     "text": [
      "Getting information for page 175\n"
     ]
    },
    {
     "name": "stderr",
     "output_type": "stream",
     "text": [
      " 35%|███▌      | 175/496 [09:27<17:35,  3.29s/it, amusementPark=Astana Central Park, coasterName=Joker Coaster]              "
     ]
    },
    {
     "name": "stdout",
     "output_type": "stream",
     "text": [
      "Getting information for page 176\n"
     ]
    },
    {
     "name": "stderr",
     "output_type": "stream",
     "text": [
      " 35%|███▌      | 176/496 [09:30<17:23,  3.26s/it, amusementPark=Cedar Point, coasterName=Jumbo Jet]                           "
     ]
    },
    {
     "name": "stdout",
     "output_type": "stream",
     "text": [
      "Getting information for page 177\n"
     ]
    },
    {
     "name": "stderr",
     "output_type": "stream",
     "text": [
      " 36%|███▌      | 177/496 [09:34<17:06,  3.22s/it, amusementPark=Pongyang Adventure Park, coasterName=Jungle Coaster]  "
     ]
    },
    {
     "name": "stdout",
     "output_type": "stream",
     "text": [
      "Getting information for page 178\n"
     ]
    },
    {
     "name": "stderr",
     "output_type": "stream",
     "text": [
      " 36%|███▌      | 178/496 [09:37<16:47,  3.17s/it, amusementPark=Foshan Amusement Park, coasterName=Jungle Flying Squirrel]       "
     ]
    },
    {
     "name": "stdout",
     "output_type": "stream",
     "text": [
      "Getting information for page 179\n"
     ]
    },
    {
     "name": "stderr",
     "output_type": "stream",
     "text": [
      " 36%|███▌      | 179/496 [09:40<16:35,  3.14s/it, amusementPark=Guangdong Guanyinshan National Forest Park, coasterName=Jungle Flying Squirrel]"
     ]
    },
    {
     "name": "stdout",
     "output_type": "stream",
     "text": [
      "Getting information for page 180\n"
     ]
    },
    {
     "name": "stderr",
     "output_type": "stream",
     "text": [
      " 36%|███▋      | 180/496 [09:43<16:23,  3.11s/it, amusementPark=Oriental Park, coasterName=Jungle Mouse]                                            "
     ]
    },
    {
     "name": "stdout",
     "output_type": "stream",
     "text": [
      "Getting information for page 181\n"
     ]
    },
    {
     "name": "stderr",
     "output_type": "stream",
     "text": [
      " 36%|███▋      | 181/496 [09:46<16:15,  3.10s/it, amusementPark=Dream Kingdom, coasterName=Jungle Mouse]                "
     ]
    },
    {
     "name": "stdout",
     "output_type": "stream",
     "text": [
      "Getting information for page 182\n"
     ]
    },
    {
     "name": "stderr",
     "output_type": "stream",
     "text": [
      " 37%|███▋      | 182/496 [09:49<16:28,  3.15s/it, amusementPark=Fantawild Asian Legend, coasterName=Jungle Trailblazer]         "
     ]
    },
    {
     "name": "stdout",
     "output_type": "stream",
     "text": [
      "Getting information for page 183\n"
     ]
    },
    {
     "name": "stderr",
     "output_type": "stream",
     "text": [
      " 37%|███▋      | 183/496 [09:52<16:37,  3.19s/it, amusementPark=Beijing Shijingshan Amusement Park, coasterName=Jurassic Adventure]"
     ]
    },
    {
     "name": "stdout",
     "output_type": "stream",
     "text": [
      "Getting information for page 184\n"
     ]
    },
    {
     "name": "stderr",
     "output_type": "stream",
     "text": [
      " 37%|███▋      | 184/496 [09:56<16:40,  3.21s/it, amusementPark=Dinosaur Beach, coasterName=Kamikaze]                              "
     ]
    },
    {
     "name": "stdout",
     "output_type": "stream",
     "text": [
      "Getting information for page 185\n"
     ]
    },
    {
     "name": "stderr",
     "output_type": "stream",
     "text": [
      " 37%|███▋      | 185/496 [09:59<17:01,  3.28s/it, amusementPark=Kentucky Kingdom, coasterName=Kentucky Flyer]              "
     ]
    },
    {
     "name": "stdout",
     "output_type": "stream",
     "text": [
      "Getting information for page 186\n"
     ]
    },
    {
     "name": "stderr",
     "output_type": "stream",
     "text": [
      " 38%|███▊      | 186/496 [10:02<16:56,  3.28s/it, amusementPark=Don Hanson's Amusement Park, coasterName=Kiddie Coaster]            "
     ]
    },
    {
     "name": "stdout",
     "output_type": "stream",
     "text": [
      "Getting information for page 187\n"
     ]
    },
    {
     "name": "stderr",
     "output_type": "stream",
     "text": [
      " 38%|███▊      | 187/496 [10:05<16:34,  3.22s/it, amusementPark=Adventure Land, coasterName=Kiddie Roller Coaster]                            "
     ]
    },
    {
     "name": "stdout",
     "output_type": "stream",
     "text": [
      "Getting information for page 188\n"
     ]
    },
    {
     "name": "stderr",
     "output_type": "stream",
     "text": [
      " 38%|███▊      | 188/496 [10:09<16:30,  3.22s/it, amusementPark=Skyline Park, coasterName=Kids Spin]                            "
     ]
    },
    {
     "name": "stdout",
     "output_type": "stream",
     "text": [
      "Getting information for page 189\n"
     ]
    },
    {
     "name": "stderr",
     "output_type": "stream",
     "text": [
      " 38%|███▊      | 189/496 [10:13<18:20,  3.58s/it, amusementPark=Green Valley, coasterName=Knight Dragon]                        "
     ]
    },
    {
     "name": "stdout",
     "output_type": "stream",
     "text": [
      "Getting information for page 190\n"
     ]
    },
    {
     "name": "stderr",
     "output_type": "stream",
     "text": [
      " 38%|███▊      | 190/496 [10:16<17:37,  3.46s/it, amusementPark=Drievliet Family Park, coasterName=Kopermijn]                             "
     ]
    },
    {
     "name": "stdout",
     "output_type": "stream",
     "text": [
      "Getting information for page 191\n"
     ]
    },
    {
     "name": "stderr",
     "output_type": "stream",
     "text": [
      " 39%|███▊      | 191/496 [10:20<17:36,  3.46s/it, amusementPark=Kumdori Land, coasterName=Kumdori Coaster]                     "
     ]
    },
    {
     "name": "stdout",
     "output_type": "stream",
     "text": [
      "Getting information for page 192\n"
     ]
    },
    {
     "name": "stderr",
     "output_type": "stream",
     "text": [
      " 39%|███▊      | 192/496 [10:23<17:06,  3.38s/it, amusementPark=Feira Popular de Lisboa, coasterName=Lagarta]                "
     ]
    },
    {
     "name": "stdout",
     "output_type": "stream",
     "text": [
      "Getting information for page 193\n"
     ]
    },
    {
     "name": "stderr",
     "output_type": "stream",
     "text": [
      " 39%|███▉      | 193/496 [10:26<16:42,  3.31s/it, amusementPark=Wonderland Eurasia, coasterName=Lav Macera]                          "
     ]
    },
    {
     "name": "stdout",
     "output_type": "stream",
     "text": [
      "Getting information for page 194\n"
     ]
    },
    {
     "name": "stderr",
     "output_type": "stream",
     "text": [
      " 39%|███▉      | 194/496 [10:29<16:26,  3.27s/it, amusementPark=Canada's Wonderland, coasterName=Leviathan]                        "
     ]
    },
    {
     "name": "stdout",
     "output_type": "stream",
     "text": [
      "Getting information for page 195\n"
     ]
    },
    {
     "name": "stderr",
     "output_type": "stream",
     "text": [
      " 39%|███▉      | 195/496 [10:32<16:02,  3.20s/it, amusementPark=Wonderland Eurasia, coasterName=Lightspeed]            "
     ]
    },
    {
     "name": "stdout",
     "output_type": "stream",
     "text": [
      "Getting information for page 196\n"
     ]
    },
    {
     "name": "stderr",
     "output_type": "stream",
     "text": [
      " 40%|███▉      | 196/496 [10:35<16:01,  3.20s/it, amusementPark=Conneaut Lake Park, coasterName=Little Dipper]                    "
     ]
    },
    {
     "name": "stdout",
     "output_type": "stream",
     "text": [
      "Getting information for page 197\n"
     ]
    },
    {
     "name": "stderr",
     "output_type": "stream",
     "text": [
      " 40%|███▉      | 197/496 [10:38<15:39,  3.14s/it, amusementPark=Niagara Amusement Park & Splash World, coasterName=Little Dipper]"
     ]
    },
    {
     "name": "stdout",
     "output_type": "stream",
     "text": [
      "Getting information for page 198\n"
     ]
    },
    {
     "name": "stderr",
     "output_type": "stream",
     "text": [
      " 40%|███▉      | 198/496 [10:41<15:28,  3.12s/it, amusementPark=Gwynn Oak Park, coasterName=Little Dipper]                       "
     ]
    },
    {
     "name": "stdout",
     "output_type": "stream",
     "text": [
      "Getting information for page 199\n"
     ]
    },
    {
     "name": "stderr",
     "output_type": "stream",
     "text": [
      " 40%|████      | 199/496 [10:45<15:33,  3.14s/it, amusementPark=Sluggers & Putters, coasterName=Little Dipper]             "
     ]
    },
    {
     "name": "stdout",
     "output_type": "stream",
     "text": [
      "Getting information for page 200\n"
     ]
    },
    {
     "name": "stderr",
     "output_type": "stream",
     "text": [
      " 40%|████      | 200/496 [10:48<15:09,  3.07s/it, amusementPark=Broadway Grand Prix, coasterName=Little Eagle]                   "
     ]
    },
    {
     "name": "stdout",
     "output_type": "stream",
     "text": [
      "Getting information for page 201\n"
     ]
    },
    {
     "name": "stderr",
     "output_type": "stream",
     "text": [
      " 41%|████      | 201/496 [10:51<15:08,  3.08s/it, amusementPark=Parque de Atracciones de Montjuic, coasterName=Loco Ratón]              "
     ]
    },
    {
     "name": "stdout",
     "output_type": "stream",
     "text": [
      "Getting information for page 202\n"
     ]
    },
    {
     "name": "stderr",
     "output_type": "stream",
     "text": [
      " 41%|████      | 202/496 [10:54<15:08,  3.09s/it, amusementPark=Tojoko Toy Kingdom, coasterName=Loop Coaster]                            "
     ]
    },
    {
     "name": "stdout",
     "output_type": "stream",
     "text": [
      "Getting information for page 203\n"
     ]
    },
    {
     "name": "stderr",
     "output_type": "stream",
     "text": [
      " 41%|████      | 203/496 [10:57<15:16,  3.13s/it, amusementPark=Miyun International Amusement Park, coasterName=Looping Roller Coaster]"
     ]
    },
    {
     "name": "stdout",
     "output_type": "stream",
     "text": [
      "Getting information for page 204\n"
     ]
    },
    {
     "name": "stderr",
     "output_type": "stream",
     "text": [
      " 41%|████      | 204/496 [11:00<15:26,  3.17s/it, amusementPark=Kunming International Convention & Exhibition Center, coasterName=Looping Star]"
     ]
    },
    {
     "name": "stdout",
     "output_type": "stream",
     "text": [
      "Getting information for page 205\n"
     ]
    },
    {
     "name": "stderr",
     "output_type": "stream",
     "text": [
      " 41%|████▏     | 205/496 [11:04<15:36,  3.22s/it, amusementPark=Louisiana Land, coasterName=Loop n' Loop]                                      "
     ]
    },
    {
     "name": "stdout",
     "output_type": "stream",
     "text": [
      "Getting information for page 206\n"
     ]
    },
    {
     "name": "stderr",
     "output_type": "stream",
     "text": [
      " 42%|████▏     | 206/496 [11:07<15:43,  3.25s/it, amusementPark=Electric Park, coasterName=Loop the Loop]                                   "
     ]
    },
    {
     "name": "stdout",
     "output_type": "stream",
     "text": [
      "Getting information for page 207\n"
     ]
    },
    {
     "name": "stderr",
     "output_type": "stream",
     "text": [
      " 42%|████▏     | 207/496 [11:10<15:17,  3.18s/it, amusementPark=Lucky Flitzer Flachau, coasterName=Lucky Flitzer]                              "
     ]
    },
    {
     "name": "stdout",
     "output_type": "stream",
     "text": [
      "Getting information for page 208\n"
     ]
    },
    {
     "name": "stderr",
     "output_type": "stream",
     "text": [
      " 42%|████▏     | 208/496 [11:13<14:58,  3.12s/it, amusementPark=Luge Torgon, coasterName=Luge Torgon]                          "
     ]
    },
    {
     "name": "stdout",
     "output_type": "stream",
     "text": [
      "Getting information for page 209\n"
     ]
    },
    {
     "name": "stderr",
     "output_type": "stream",
     "text": [
      " 42%|████▏     | 209/496 [11:16<15:10,  3.17s/it, amusementPark=Valleyfair!, coasterName=Mad Mouse]                       "
     ]
    },
    {
     "name": "stdout",
     "output_type": "stream",
     "text": [
      "Getting information for page 210\n"
     ]
    },
    {
     "name": "stderr",
     "output_type": "stream",
     "text": [
      " 42%|████▏     | 210/496 [11:19<15:08,  3.18s/it, amusementPark=Playland Park, coasterName=Mad Mouse]                   "
     ]
    },
    {
     "name": "stdout",
     "output_type": "stream",
     "text": [
      "Getting information for page 211\n"
     ]
    },
    {
     "name": "stderr",
     "output_type": "stream",
     "text": [
      " 43%|████▎     | 211/496 [11:22<14:29,  3.05s/it, amusementPark=Tokyo Dome City, coasterName=Mad Mouse]              "
     ]
    },
    {
     "name": "stdout",
     "output_type": "stream",
     "text": [
      "Getting information for page 212\n"
     ]
    },
    {
     "name": "stderr",
     "output_type": "stream",
     "text": [
      " 43%|████▎     | 212/496 [11:25<14:21,  3.03s/it, amusementPark=Pareo Park, coasterName=Magic Mountain]                     "
     ]
    },
    {
     "name": "stdout",
     "output_type": "stream",
     "text": [
      "Getting information for page 213\n"
     ]
    },
    {
     "name": "stderr",
     "output_type": "stream",
     "text": [
      " 43%|████▎     | 213/496 [11:30<17:09,  3.64s/it, amusementPark=Cedar Point, coasterName=Magnum XL-200]                                    "
     ]
    },
    {
     "name": "stdout",
     "output_type": "stream",
     "text": [
      "Getting information for page 214\n"
     ]
    },
    {
     "name": "stderr",
     "output_type": "stream",
     "text": [
      " 43%|████▎     | 214/496 [11:34<16:41,  3.55s/it, amusementPark=Pleasurewood Hills, coasterName=Marble Madness]                    "
     ]
    },
    {
     "name": "stdout",
     "output_type": "stream",
     "text": [
      "Getting information for page 215\n"
     ]
    },
    {
     "name": "stderr",
     "output_type": "stream",
     "text": [
      " 43%|████▎     | 215/496 [11:37<16:20,  3.49s/it, amusementPark=Europa Park, coasterName=Matterhorn Blitz]                     "
     ]
    },
    {
     "name": "stdout",
     "output_type": "stream",
     "text": [
      "Getting information for page 216\n"
     ]
    },
    {
     "name": "stderr",
     "output_type": "stream",
     "text": [
      " 44%|████▎     | 216/496 [11:40<16:01,  3.43s/it, amusementPark=Oakwood Theme Park, coasterName=Megafobia]                                 "
     ]
    },
    {
     "name": "stdout",
     "output_type": "stream",
     "text": [
      "Getting information for page 217\n"
     ]
    },
    {
     "name": "stderr",
     "output_type": "stream",
     "text": [
      " 44%|████▍     | 217/496 [11:43<15:18,  3.29s/it, amusementPark=Fun Factory, coasterName=Micro 8]                            "
     ]
    },
    {
     "name": "stdout",
     "output_type": "stream",
     "text": [
      "Getting information for page 218\n"
     ]
    },
    {
     "name": "stderr",
     "output_type": "stream",
     "text": [
      " 44%|████▍     | 218/496 [11:46<14:45,  3.18s/it, amusementPark=Splendid World Fantasy Land, coasterName=Mine Adventure]            "
     ]
    },
    {
     "name": "stdout",
     "output_type": "stream",
     "text": [
      "Getting information for page 219\n"
     ]
    },
    {
     "name": "stderr",
     "output_type": "stream",
     "text": [
      " 44%|████▍     | 219/496 [11:49<14:12,  3.08s/it, amusementPark=Gulf Shores Amusement Park, coasterName=Miner Mike]               "
     ]
    },
    {
     "name": "stdout",
     "output_type": "stream",
     "text": [
      "Getting information for page 220\n"
     ]
    },
    {
     "name": "stderr",
     "output_type": "stream",
     "text": [
      " 44%|████▍     | 220/496 [11:52<14:16,  3.10s/it, amusementPark=Boomers!, coasterName=Miners Mike]                                   "
     ]
    },
    {
     "name": "stdout",
     "output_type": "stream",
     "text": [
      "Getting information for page 221\n"
     ]
    },
    {
     "name": "stderr",
     "output_type": "stream",
     "text": [
      " 45%|████▍     | 221/496 [11:55<14:14,  3.11s/it, amusementPark=Central Fantasy Town, coasterName=Minetrain Coaster]          "
     ]
    },
    {
     "name": "stdout",
     "output_type": "stream",
     "text": [
      "Getting information for page 222\n"
     ]
    },
    {
     "name": "stderr",
     "output_type": "stream",
     "text": [
      " 45%|████▍     | 222/496 [11:58<13:58,  3.06s/it, amusementPark=Mirage Land, coasterName=Mini Coaster]                 "
     ]
    },
    {
     "name": "stdout",
     "output_type": "stream",
     "text": [
      "Getting information for page 223\n"
     ]
    },
    {
     "name": "stderr",
     "output_type": "stream",
     "text": [
      " 45%|████▍     | 223/496 [12:01<13:56,  3.06s/it, amusementPark=Fiabilandia, coasterName=Miniera d'Oro Del West]                  "
     ]
    },
    {
     "name": "stdout",
     "output_type": "stream",
     "text": [
      "Getting information for page 224\n"
     ]
    },
    {
     "name": "stderr",
     "output_type": "stream",
     "text": [
      " 45%|████▌     | 224/496 [12:04<14:04,  3.10s/it, amusementPark=Luna Park, coasterName=Mini Mouse]                               "
     ]
    },
    {
     "name": "stdout",
     "output_type": "stream",
     "text": [
      "Getting information for page 225\n"
     ]
    },
    {
     "name": "stderr",
     "output_type": "stream",
     "text": [
      " 45%|████▌     | 225/496 [12:07<13:54,  3.08s/it, amusementPark=Celebration Station, coasterName=Minor Mike]                    "
     ]
    },
    {
     "name": "stdout",
     "output_type": "stream",
     "text": [
      "Getting information for page 226\n"
     ]
    },
    {
     "name": "stderr",
     "output_type": "stream",
     "text": [
      " 46%|████▌     | 226/496 [12:10<13:43,  3.05s/it, amusementPark=Japan Monkey Park, coasterName=Monkey Coaster]             "
     ]
    },
    {
     "name": "stdout",
     "output_type": "stream",
     "text": [
      "Getting information for page 227\n"
     ]
    },
    {
     "name": "stderr",
     "output_type": "stream",
     "text": [
      " 46%|████▌     | 227/496 [12:14<13:45,  3.07s/it, amusementPark=Parque Acuatico Rey Park, coasterName=Monster Mouse]                "
     ]
    },
    {
     "name": "stdout",
     "output_type": "stream",
     "text": [
      "Getting information for page 228\n"
     ]
    },
    {
     "name": "stderr",
     "output_type": "stream",
     "text": [
      " 46%|████▌     | 228/496 [12:17<13:50,  3.10s/it, amusementPark=Mampato, coasterName=Montaña Power Dragon]                        "
     ]
    },
    {
     "name": "stdout",
     "output_type": "stream",
     "text": [
      "Getting information for page 229\n"
     ]
    },
    {
     "name": "stderr",
     "output_type": "stream",
     "text": [
      " 46%|████▌     | 229/496 [12:20<13:46,  3.10s/it, amusementPark=Isla del Coco, coasterName=Montaña Rusa]         "
     ]
    },
    {
     "name": "stdout",
     "output_type": "stream",
     "text": [
      "Getting information for page 230\n"
     ]
    },
    {
     "name": "stderr",
     "output_type": "stream",
     "text": [
      " 46%|████▋     | 230/496 [12:23<13:34,  3.06s/it, amusementPark=Parque Luna, coasterName=Montaña Rusa]                      "
     ]
    },
    {
     "name": "stdout",
     "output_type": "stream",
     "text": [
      "Getting information for page 231\n"
     ]
    },
    {
     "name": "stderr",
     "output_type": "stream",
     "text": [
      " 47%|████▋     | 231/496 [12:26<13:52,  3.14s/it, amusementPark=American Park, coasterName=Montanha Russa]                           "
     ]
    },
    {
     "name": "stdout",
     "output_type": "stream",
     "text": [
      "Getting information for page 232\n"
     ]
    },
    {
     "name": "stderr",
     "output_type": "stream",
     "text": [
      " 47%|████▋     | 232/496 [12:29<13:53,  3.16s/it, amusementPark=Ilha do Tesouro, coasterName=Montanha Russa]                    "
     ]
    },
    {
     "name": "stdout",
     "output_type": "stream",
     "text": [
      "Getting information for page 233\n"
     ]
    },
    {
     "name": "stderr",
     "output_type": "stream",
     "text": [
      " 47%|████▋     | 233/496 [12:32<13:39,  3.12s/it, amusementPark=Hopi Hari, coasterName=Montezum]                                     "
     ]
    },
    {
     "name": "stdout",
     "output_type": "stream",
     "text": [
      "Getting information for page 234\n"
     ]
    },
    {
     "name": "stderr",
     "output_type": "stream",
     "text": [
      " 47%|████▋     | 234/496 [12:36<13:47,  3.16s/it, amusementPark=Sinma Kingdom, coasterName=Motorized Roller Coaster]                "
     ]
    },
    {
     "name": "stdout",
     "output_type": "stream",
     "text": [
      "Getting information for page 235\n"
     ]
    },
    {
     "name": "stderr",
     "output_type": "stream",
     "text": [
      " 47%|████▋     | 235/496 [12:39<13:28,  3.10s/it, amusementPark=Hautacam Parc de Loisirs, coasterName=Mountain-Luge]             "
     ]
    },
    {
     "name": "stdout",
     "output_type": "stream",
     "text": [
      "Getting information for page 236\n"
     ]
    },
    {
     "name": "stderr",
     "output_type": "stream",
     "text": [
      " 48%|████▊     | 236/496 [12:41<13:12,  3.05s/it, amusementPark=Happy Land, coasterName=Mouse Coaster]                                                  "
     ]
    },
    {
     "name": "stdout",
     "output_type": "stream",
     "text": [
      "Getting information for page 237\n"
     ]
    },
    {
     "name": "stderr",
     "output_type": "stream",
     "text": [
      " 48%|████▊     | 237/496 [12:45<13:24,  3.11s/it, amusementPark=Bobbejaanland, coasterName=Naga Bay]                                            "
     ]
    },
    {
     "name": "stdout",
     "output_type": "stream",
     "text": [
      "Getting information for page 238\n"
     ]
    },
    {
     "name": "stderr",
     "output_type": "stream",
     "text": [
      " 48%|████▊     | 238/496 [12:48<13:27,  3.13s/it, amusementPark=Winter Wonderland Kuwait, coasterName=Nessi Coaster]                         "
     ]
    },
    {
     "name": "stdout",
     "output_type": "stream",
     "text": [
      "Getting information for page 239\n"
     ]
    },
    {
     "name": "stderr",
     "output_type": "stream",
     "text": [
      " 48%|████▊     | 239/496 [12:51<13:36,  3.18s/it, amusementPark=Pleasure Beach Resort, coasterName=Nickelodeon Streak]                "
     ]
    },
    {
     "name": "stdout",
     "output_type": "stream",
     "text": [
      "Getting information for page 240\n"
     ]
    },
    {
     "name": "stderr",
     "output_type": "stream",
     "text": [
      " 48%|████▊     | 240/496 [12:54<13:12,  3.10s/it, amusementPark=Greek Peak Mountain Resort, coasterName=Nor'easter Mountain Coaster]"
     ]
    },
    {
     "name": "stdout",
     "output_type": "stream",
     "text": [
      "Getting information for page 241\n"
     ]
    },
    {
     "name": "stderr",
     "output_type": "stream",
     "text": [
      " 49%|████▊     | 241/496 [12:57<13:02,  3.07s/it, amusementPark=Happy Valley, coasterName=OCT Thrust SSC1000]                       "
     ]
    },
    {
     "name": "stdout",
     "output_type": "stream",
     "text": [
      "Getting information for page 242\n"
     ]
    },
    {
     "name": "stderr",
     "output_type": "stream",
     "text": [
      " 49%|████▉     | 242/496 [13:00<13:02,  3.08s/it, amusementPark=Revere Beach, coasterName=Oriental Ride]                                    "
     ]
    },
    {
     "name": "stdout",
     "output_type": "stream",
     "text": [
      "Getting information for page 243\n"
     ]
    },
    {
     "name": "stderr",
     "output_type": "stream",
     "text": [
      " 49%|████▉     | 243/496 [13:03<13:08,  3.12s/it, amusementPark=Parque Lenin, coasterName=Oruga]                                                       "
     ]
    },
    {
     "name": "stdout",
     "output_type": "stream",
     "text": [
      "Getting information for page 244\n"
     ]
    },
    {
     "name": "stderr",
     "output_type": "stream",
     "text": [
      " 49%|████▉     | 244/496 [13:07<13:10,  3.14s/it, amusementPark=Cultural Palace Amusement Park, coasterName=Outer Space Flying Car]    "
     ]
    },
    {
     "name": "stdout",
     "output_type": "stream",
     "text": [
      "Getting information for page 245\n"
     ]
    },
    {
     "name": "stderr",
     "output_type": "stream",
     "text": [
      " 49%|████▉     | 245/496 [13:10<13:10,  3.15s/it, amusementPark=Meyer's Lake Park, coasterName=Over The Top]                           "
     ]
    },
    {
     "name": "stdout",
     "output_type": "stream",
     "text": [
      "Getting information for page 246\n"
     ]
    },
    {
     "name": "stderr",
     "output_type": "stream",
     "text": [
      " 50%|████▉     | 246/496 [13:13<13:09,  3.16s/it, amusementPark=Oriental Heritage, coasterName=Parent-Child Roller Coaster]          "
     ]
    },
    {
     "name": "stdout",
     "output_type": "stream",
     "text": [
      "Getting information for page 247\n"
     ]
    },
    {
     "name": "stderr",
     "output_type": "stream",
     "text": [
      " 50%|████▉     | 247/496 [13:16<12:57,  3.12s/it, amusementPark=Erlebnispark Steinau, coasterName=Pendelbahn]                            "
     ]
    },
    {
     "name": "stdout",
     "output_type": "stream",
     "text": [
      "Getting information for page 248\n"
     ]
    },
    {
     "name": "stderr",
     "output_type": "stream",
     "text": [
      " 50%|█████     | 248/496 [13:19<12:56,  3.13s/it, amusementPark=Lake Compounce, coasterName=Phobia Phear Coaster]       "
     ]
    },
    {
     "name": "stdout",
     "output_type": "stream",
     "text": [
      "Getting information for page 249\n"
     ]
    },
    {
     "name": "stderr",
     "output_type": "stream",
     "text": [
      " 50%|█████     | 249/496 [13:22<12:44,  3.09s/it, amusementPark=Shennong Park, coasterName=Pine Forest Flying Mouse]           "
     ]
    },
    {
     "name": "stdout",
     "output_type": "stream",
     "text": [
      "Getting information for page 250\n"
     ]
    },
    {
     "name": "stderr",
     "output_type": "stream",
     "text": [
      " 50%|█████     | 250/496 [13:25<12:45,  3.11s/it, amusementPark=Yutan Park, coasterName=Pine Forest Flying Mouse]                       "
     ]
    },
    {
     "name": "stdout",
     "output_type": "stream",
     "text": [
      "Getting information for page 251\n"
     ]
    },
    {
     "name": "stderr",
     "output_type": "stream",
     "text": [
      " 51%|█████     | 251/496 [13:29<13:04,  3.20s/it, amusementPark=Wild Water & Wheels, coasterName=Pipeline Express]                          "
     ]
    },
    {
     "name": "stdout",
     "output_type": "stream",
     "text": [
      "Getting information for page 252\n"
     ]
    },
    {
     "name": "stderr",
     "output_type": "stream",
     "text": [
      " 51%|█████     | 252/496 [13:32<12:54,  3.18s/it, amusementPark=Terra Encantada, coasterName=Piuí]                       "
     ]
    },
    {
     "name": "stdout",
     "output_type": "stream",
     "text": [
      "Getting information for page 253\n"
     ]
    },
    {
     "name": "stderr",
     "output_type": "stream",
     "text": [
      " 51%|█████     | 253/496 [13:35<12:34,  3.11s/it, amusementPark=Antibes Land, coasterName=Pomme]                              "
     ]
    },
    {
     "name": "stdout",
     "output_type": "stream",
     "text": [
      "Getting information for page 254\n"
     ]
    },
    {
     "name": "stderr",
     "output_type": "stream",
     "text": [
      " 51%|█████     | 254/496 [13:38<12:43,  3.15s/it, amusementPark=Lagoon, coasterName=Primordial]                                         "
     ]
    },
    {
     "name": "stdout",
     "output_type": "stream",
     "text": [
      "Getting information for page 255\n"
     ]
    },
    {
     "name": "stderr",
     "output_type": "stream",
     "text": [
      " 51%|█████▏    | 255/496 [13:41<12:50,  3.20s/it, amusementPark=Gagarin Park, coasterName=Puss in Boots]                              "
     ]
    },
    {
     "name": "stdout",
     "output_type": "stream",
     "text": [
      "Getting information for page 256\n"
     ]
    },
    {
     "name": "stderr",
     "output_type": "stream",
     "text": [
      " 52%|█████▏    | 256/496 [13:45<13:04,  3.27s/it, amusementPark=Jeepers, coasterName=Python Pit]                                      "
     ]
    },
    {
     "name": "stdout",
     "output_type": "stream",
     "text": [
      "Getting information for page 257\n"
     ]
    },
    {
     "name": "stderr",
     "output_type": "stream",
     "text": [
      " 52%|█████▏    | 257/496 [13:48<12:47,  3.21s/it, amusementPark=Gilroy Gardens Family Theme Park, coasterName=Quicksilver Express]"
     ]
    },
    {
     "name": "stdout",
     "output_type": "stream",
     "text": [
      "Getting information for page 258\n"
     ]
    },
    {
     "name": "stderr",
     "output_type": "stream",
     "text": [
      " 52%|█████▏    | 258/496 [13:51<12:38,  3.18s/it, amusementPark=White City, coasterName=Racing Coaster]                           "
     ]
    },
    {
     "name": "stdout",
     "output_type": "stream",
     "text": [
      "Getting information for page 259\n"
     ]
    },
    {
     "name": "stderr",
     "output_type": "stream",
     "text": [
      " 52%|█████▏    | 259/496 [13:54<12:51,  3.25s/it, amusementPark=Xiuquan Park, coasterName=Railcar]                                  "
     ]
    },
    {
     "name": "stdout",
     "output_type": "stream",
     "text": [
      "Getting information for page 260\n"
     ]
    },
    {
     "name": "stderr",
     "output_type": "stream",
     "text": [
      " 52%|█████▏    | 260/496 [13:58<12:54,  3.28s/it, amusementPark=Leolandia, coasterName=Ramses]                                  "
     ]
    },
    {
     "name": "stdout",
     "output_type": "stream",
     "text": [
      "Getting information for page 261\n"
     ]
    },
    {
     "name": "stderr",
     "output_type": "stream",
     "text": [
      " 53%|█████▎    | 261/496 [14:01<12:53,  3.29s/it, amusementPark=Baima Park, coasterName=Rattlesnake Roller Coaster]         "
     ]
    },
    {
     "name": "stdout",
     "output_type": "stream",
     "text": [
      "Getting information for page 262\n"
     ]
    },
    {
     "name": "stderr",
     "output_type": "stream",
     "text": [
      " 53%|█████▎    | 262/496 [14:04<12:49,  3.29s/it, amusementPark=Glücks Königreich, coasterName=Reindeer Coaster]                  "
     ]
    },
    {
     "name": "stdout",
     "output_type": "stream",
     "text": [
      "Getting information for page 263\n"
     ]
    },
    {
     "name": "stderr",
     "output_type": "stream",
     "text": [
      " 53%|█████▎    | 263/496 [14:08<12:58,  3.34s/it, amusementPark=West Midland Safari Park, coasterName=Rhino Coaster]                   "
     ]
    },
    {
     "name": "stdout",
     "output_type": "stream",
     "text": [
      "Getting information for page 264\n"
     ]
    },
    {
     "name": "stderr",
     "output_type": "stream",
     "text": [
      " 53%|█████▎    | 264/496 [14:11<13:10,  3.41s/it, amusementPark=Avonturenpark Hellendoorn, coasterName=Rioolrat]                   "
     ]
    },
    {
     "name": "stdout",
     "output_type": "stream",
     "text": [
      "Getting information for page 265\n"
     ]
    },
    {
     "name": "stderr",
     "output_type": "stream",
     "text": [
      " 53%|█████▎    | 265/496 [14:15<13:04,  3.40s/it, amusementPark=Zatorland, coasterName=RobalCoaster]                              "
     ]
    },
    {
     "name": "stdout",
     "output_type": "stream",
     "text": [
      "Getting information for page 266\n"
     ]
    },
    {
     "name": "stderr",
     "output_type": "stream",
     "text": [
      " 54%|█████▎    | 266/496 [14:18<13:00,  3.39s/it, amusementPark=Gulliver's Valley Resort, coasterName=Rocky Ridge Railway]                          "
     ]
    },
    {
     "name": "stdout",
     "output_type": "stream",
     "text": [
      "Getting information for page 267\n"
     ]
    },
    {
     "name": "stderr",
     "output_type": "stream",
     "text": [
      " 54%|█████▍    | 267/496 [14:24<15:21,  4.03s/it, amusementPark=Dream Land, coasterName=Roler Coaster]                             "
     ]
    },
    {
     "name": "stdout",
     "output_type": "stream",
     "text": [
      "Getting information for page 268\n"
     ]
    },
    {
     "name": "stderr",
     "output_type": "stream",
     "text": [
      " 54%|█████▍    | 268/496 [14:27<14:10,  3.73s/it, amusementPark=Hanayashiki, coasterName=Roller Coaster]                             "
     ]
    },
    {
     "name": "stdout",
     "output_type": "stream",
     "text": [
      "Getting information for page 269\n"
     ]
    },
    {
     "name": "stderr",
     "output_type": "stream",
     "text": [
      " 54%|█████▍    | 269/496 [14:30<13:28,  3.56s/it, amusementPark=Enchanted Forest, coasterName=Roller Coaster]             "
     ]
    },
    {
     "name": "stdout",
     "output_type": "stream",
     "text": [
      "Getting information for page 270\n"
     ]
    },
    {
     "name": "stderr",
     "output_type": "stream",
     "text": [
      " 54%|█████▍    | 270/496 [14:33<12:41,  3.37s/it, amusementPark=Tri-City Park, coasterName=Roller Coaster]                     "
     ]
    },
    {
     "name": "stdout",
     "output_type": "stream",
     "text": [
      "Getting information for page 271\n"
     ]
    },
    {
     "name": "stderr",
     "output_type": "stream",
     "text": [
      " 55%|█████▍    | 271/496 [14:36<12:22,  3.30s/it, amusementPark=Wuhan Zhongshan Park, coasterName=Roller Coaster]         "
     ]
    },
    {
     "name": "stdout",
     "output_type": "stream",
     "text": [
      "Getting information for page 272\n"
     ]
    },
    {
     "name": "stderr",
     "output_type": "stream",
     "text": [
      " 55%|█████▍    | 272/496 [14:39<12:10,  3.26s/it, amusementPark=Papéa Parc, coasterName=Roller Coaster]                                     "
     ]
    },
    {
     "name": "stdout",
     "output_type": "stream",
     "text": [
      "Getting information for page 273\n"
     ]
    },
    {
     "name": "stderr",
     "output_type": "stream",
     "text": [
      " 55%|█████▌    | 273/496 [14:42<11:58,  3.22s/it, amusementPark=Tashan Park, coasterName=Roller Coaster]                  "
     ]
    },
    {
     "name": "stdout",
     "output_type": "stream",
     "text": [
      "Getting information for page 274\n"
     ]
    },
    {
     "name": "stderr",
     "output_type": "stream",
     "text": [
      " 55%|█████▌    | 274/496 [14:45<11:46,  3.18s/it, amusementPark=Country Mercantile, coasterName=Roller Coaster]                     "
     ]
    },
    {
     "name": "stdout",
     "output_type": "stream",
     "text": [
      "Getting information for page 275\n"
     ]
    },
    {
     "name": "stderr",
     "output_type": "stream",
     "text": [
      " 55%|█████▌    | 275/496 [14:48<11:45,  3.19s/it, amusementPark=Woodlawn Park, coasterName=Roller Coaster]                     "
     ]
    },
    {
     "name": "stdout",
     "output_type": "stream",
     "text": [
      "Getting information for page 276\n"
     ]
    },
    {
     "name": "stderr",
     "output_type": "stream",
     "text": [
      " 56%|█████▌    | 276/496 [14:52<11:44,  3.20s/it, amusementPark=Khu vui chơi Phú Mỹ Hưng, coasterName=Roller Coaster]        "
     ]
    },
    {
     "name": "stdout",
     "output_type": "stream",
     "text": [
      "Getting information for page 277\n"
     ]
    },
    {
     "name": "stderr",
     "output_type": "stream",
     "text": [
      " 56%|█████▌    | 277/496 [14:55<11:53,  3.26s/it, amusementPark=Enchanted Forest Water Safari, coasterName=Roller Coaster]           "
     ]
    },
    {
     "name": "stdout",
     "output_type": "stream",
     "text": [
      "Getting information for page 278\n"
     ]
    },
    {
     "name": "stderr",
     "output_type": "stream",
     "text": [
      " 56%|█████▌    | 278/496 [14:58<11:38,  3.20s/it, amusementPark=New Saniro Dream Paradise, coasterName=Roller Coaster]           "
     ]
    },
    {
     "name": "stdout",
     "output_type": "stream",
     "text": [
      "Getting information for page 279\n"
     ]
    },
    {
     "name": "stderr",
     "output_type": "stream",
     "text": [
      " 56%|█████▋    | 279/496 [15:02<11:46,  3.26s/it, amusementPark=San Antonio Aquarium, coasterName=Roller Coaster]             "
     ]
    },
    {
     "name": "stdout",
     "output_type": "stream",
     "text": [
      "Getting information for page 280\n"
     ]
    },
    {
     "name": "stderr",
     "output_type": "stream",
     "text": [
      " 56%|█████▋    | 280/496 [15:05<11:43,  3.26s/it, amusementPark=Adventure World, coasterName=Roller Coaster]              "
     ]
    },
    {
     "name": "stdout",
     "output_type": "stream",
     "text": [
      "Getting information for page 281\n"
     ]
    },
    {
     "name": "stderr",
     "output_type": "stream",
     "text": [
      " 57%|█████▋    | 281/496 [15:08<11:27,  3.20s/it, amusementPark=Nanhu Park, coasterName=Roller Coaster]                      "
     ]
    },
    {
     "name": "stdout",
     "output_type": "stream",
     "text": [
      "Getting information for page 282\n"
     ]
    },
    {
     "name": "stderr",
     "output_type": "stream",
     "text": [
      " 57%|█████▋    | 282/496 [15:11<11:31,  3.23s/it, amusementPark=Adventure World, coasterName=Roller Coaster]                  "
     ]
    },
    {
     "name": "stdout",
     "output_type": "stream",
     "text": [
      "Getting information for page 283\n"
     ]
    },
    {
     "name": "stderr",
     "output_type": "stream",
     "text": [
      " 57%|█████▋    | 283/496 [15:15<12:12,  3.44s/it, amusementPark=Sunset Park, coasterName=Roller Coaster]               "
     ]
    },
    {
     "name": "stdout",
     "output_type": "stream",
     "text": [
      "Getting information for page 284\n"
     ]
    },
    {
     "name": "stderr",
     "output_type": "stream",
     "text": [
      " 57%|█████▋    | 284/496 [15:18<12:05,  3.42s/it, amusementPark=Energylandia, coasterName=Roller Coaster Mayan]                                 "
     ]
    },
    {
     "name": "stdout",
     "output_type": "stream",
     "text": [
      "Getting information for page 285\n"
     ]
    },
    {
     "name": "stderr",
     "output_type": "stream",
     "text": [
      " 57%|█████▋    | 285/496 [15:22<11:59,  3.41s/it, amusementPark=Six Flags Great Adventure, coasterName=Rolling Thunder]                     "
     ]
    },
    {
     "name": "stdout",
     "output_type": "stream",
     "text": [
      "Getting information for page 286\n"
     ]
    },
    {
     "name": "stderr",
     "output_type": "stream",
     "text": [
      " 58%|█████▊    | 286/496 [15:25<11:50,  3.38s/it, amusementPark=Panorama Park, coasterName=Rothaarblitz]                               "
     ]
    },
    {
     "name": "stdout",
     "output_type": "stream",
     "text": [
      "Getting information for page 287\n"
     ]
    },
    {
     "name": "stderr",
     "output_type": "stream",
     "text": [
      " 58%|█████▊    | 287/496 [15:28<11:41,  3.36s/it, amusementPark=Donley's Wild West Town, coasterName=Run Away Mine Cars]              "
     ]
    },
    {
     "name": "stdout",
     "output_type": "stream",
     "text": [
      "Getting information for page 288\n"
     ]
    },
    {
     "name": "stderr",
     "output_type": "stream",
     "text": [
      " 58%|█████▊    | 288/496 [15:32<11:37,  3.35s/it, amusementPark=Fort Fun Amusement Park, coasterName=Runaway Train]              "
     ]
    },
    {
     "name": "stdout",
     "output_type": "stream",
     "text": [
      "Getting information for page 289\n"
     ]
    },
    {
     "name": "stderr",
     "output_type": "stream",
     "text": [
      " 58%|█████▊    | 289/496 [15:35<11:15,  3.26s/it, amusementPark=Morey's Piers, coasterName=Runaway Tram]                  "
     ]
    },
    {
     "name": "stdout",
     "output_type": "stream",
     "text": [
      "Getting information for page 290\n"
     ]
    },
    {
     "name": "stderr",
     "output_type": "stream",
     "text": [
      " 58%|█████▊    | 290/496 [15:38<11:09,  3.25s/it, amusementPark=Saunders County Fairgrounds, coasterName=Safari]                      "
     ]
    },
    {
     "name": "stdout",
     "output_type": "stream",
     "text": [
      "Getting information for page 291\n"
     ]
    },
    {
     "name": "stderr",
     "output_type": "stream",
     "text": [
      " 59%|█████▊    | 291/496 [15:42<11:18,  3.31s/it, amusementPark=Thorpe Park, coasterName=Saw - The Ride]                             "
     ]
    },
    {
     "name": "stdout",
     "output_type": "stream",
     "text": [
      "Getting information for page 292\n"
     ]
    },
    {
     "name": "stderr",
     "output_type": "stream",
     "text": [
      " 59%|█████▉    | 292/496 [15:45<11:10,  3.29s/it, amusementPark=Rocky Point Park, coasterName=Scenic Railway]                      "
     ]
    },
    {
     "name": "stdout",
     "output_type": "stream",
     "text": [
      "Getting information for page 293\n"
     ]
    },
    {
     "name": "stderr",
     "output_type": "stream",
     "text": [
      " 59%|█████▉    | 293/496 [15:48<10:55,  3.23s/it, amusementPark=State Fair of Texas, coasterName=Scenic Railway]                  "
     ]
    },
    {
     "name": "stdout",
     "output_type": "stream",
     "text": [
      "Getting information for page 294\n"
     ]
    },
    {
     "name": "stderr",
     "output_type": "stream",
     "text": [
      " 59%|█████▉    | 294/496 [15:51<10:36,  3.15s/it, amusementPark=California Midwinter International Exposition, coasterName=Scenic Railway]"
     ]
    },
    {
     "name": "stdout",
     "output_type": "stream",
     "text": [
      "Getting information for page 295\n"
     ]
    },
    {
     "name": "stderr",
     "output_type": "stream",
     "text": [
      " 59%|█████▉    | 295/496 [15:54<10:47,  3.22s/it, amusementPark=Lütge Land, coasterName=Schmetterling]                                    "
     ]
    },
    {
     "name": "stdout",
     "output_type": "stream",
     "text": [
      "Getting information for page 296\n"
     ]
    },
    {
     "name": "stderr",
     "output_type": "stream",
     "text": [
      " 60%|█████▉    | 296/496 [15:58<10:57,  3.29s/it, amusementPark=Old Indiana Fun-n-Water Park, coasterName=Screamin' Delta Demon]                "
     ]
    },
    {
     "name": "stdout",
     "output_type": "stream",
     "text": [
      "Getting information for page 297\n"
     ]
    },
    {
     "name": "stderr",
     "output_type": "stream",
     "text": [
      " 60%|█████▉    | 297/496 [16:01<11:09,  3.37s/it, amusementPark=Playland's Castaway Cove, coasterName=Sea Serpent]                               "
     ]
    },
    {
     "name": "stdout",
     "output_type": "stream",
     "text": [
      "Getting information for page 298\n"
     ]
    },
    {
     "name": "stderr",
     "output_type": "stream",
     "text": [
      " 60%|██████    | 298/496 [16:05<11:13,  3.40s/it, amusementPark=Funtimes Fun Park, coasterName=Serial Serpent]                 "
     ]
    },
    {
     "name": "stdout",
     "output_type": "stream",
     "text": [
      "Getting information for page 299\n"
     ]
    },
    {
     "name": "stderr",
     "output_type": "stream",
     "text": [
      " 60%|██████    | 299/496 [16:08<11:06,  3.38s/it, amusementPark=Starland Amusement Park, coasterName=Shark]                            "
     ]
    },
    {
     "name": "stdout",
     "output_type": "stream",
     "text": [
      "Getting information for page 300\n"
     ]
    },
    {
     "name": "stderr",
     "output_type": "stream",
     "text": [
      " 60%|██████    | 300/496 [16:11<10:49,  3.31s/it, amusementPark=Akasya Luna Park, coasterName=Shark Trip]              "
     ]
    },
    {
     "name": "stdout",
     "output_type": "stream",
     "text": [
      "Getting information for page 301\n"
     ]
    },
    {
     "name": "stderr",
     "output_type": "stream",
     "text": [
      " 61%|██████    | 301/496 [16:14<10:43,  3.30s/it, amusementPark=Nasu Highland Park, coasterName=Shinpi]                          "
     ]
    },
    {
     "name": "stdout",
     "output_type": "stream",
     "text": [
      "Getting information for page 302\n"
     ]
    },
    {
     "name": "stderr",
     "output_type": "stream",
     "text": [
      " 61%|██████    | 302/496 [16:18<10:38,  3.29s/it, amusementPark=People's Park, coasterName=Shuttle]                              "
     ]
    },
    {
     "name": "stdout",
     "output_type": "stream",
     "text": [
      "Getting information for page 303\n"
     ]
    },
    {
     "name": "stderr",
     "output_type": "stream",
     "text": [
      " 61%|██████    | 303/496 [16:21<10:35,  3.29s/it, amusementPark=Silbersee Bob, coasterName=Silbersee Bob]                  "
     ]
    },
    {
     "name": "stdout",
     "output_type": "stream",
     "text": [
      "Getting information for page 304\n"
     ]
    },
    {
     "name": "stderr",
     "output_type": "stream",
     "text": [
      " 61%|██████▏   | 304/496 [16:24<10:36,  3.31s/it, amusementPark=Floraland, coasterName=Skate Madness]                           "
     ]
    },
    {
     "name": "stdout",
     "output_type": "stream",
     "text": [
      "Getting information for page 305\n"
     ]
    },
    {
     "name": "stderr",
     "output_type": "stream",
     "text": [
      " 61%|██████▏   | 305/496 [16:28<10:29,  3.29s/it, amusementPark=Odakyu Mukogaoka Yuen, coasterName=Sky Hurricane]                           "
     ]
    },
    {
     "name": "stdout",
     "output_type": "stream",
     "text": [
      "Getting information for page 306\n"
     ]
    },
    {
     "name": "stderr",
     "output_type": "stream",
     "text": [
      " 62%|██████▏   | 306/496 [16:31<10:28,  3.31s/it, amusementPark=Fairyland Park, coasterName=Skyrocket]               "
     ]
    },
    {
     "name": "stdout",
     "output_type": "stream",
     "text": [
      "Getting information for page 307\n"
     ]
    },
    {
     "name": "stderr",
     "output_type": "stream",
     "text": [
      " 62%|██████▏   | 307/496 [16:34<10:32,  3.35s/it, amusementPark=Kyungyu Park, coasterName=Sky Train]                     "
     ]
    },
    {
     "name": "stdout",
     "output_type": "stream",
     "text": [
      "Getting information for page 308\n"
     ]
    },
    {
     "name": "stderr",
     "output_type": "stream",
     "text": [
      " 62%|██████▏   | 308/496 [16:38<10:39,  3.40s/it, amusementPark=Shanghai Zoological Park, coasterName=Sliding Dragon]                    "
     ]
    },
    {
     "name": "stdout",
     "output_type": "stream",
     "text": [
      "Getting information for page 309\n"
     ]
    },
    {
     "name": "stderr",
     "output_type": "stream",
     "text": [
      " 62%|██████▏   | 309/496 [16:41<10:25,  3.34s/it, amusementPark=Canada's Wonderland, coasterName=Snoopy's Racing Railway]                   "
     ]
    },
    {
     "name": "stdout",
     "output_type": "stream",
     "text": [
      "Getting information for page 310\n"
     ]
    },
    {
     "name": "stderr",
     "output_type": "stream",
     "text": [
      " 62%|██████▎   | 310/496 [16:45<10:29,  3.39s/it, amusementPark=Sommerrodelbahn Gutach, coasterName=Sommerrodelbahn]               "
     ]
    },
    {
     "name": "stdout",
     "output_type": "stream",
     "text": [
      "Getting information for page 311\n"
     ]
    },
    {
     "name": "stderr",
     "output_type": "stream",
     "text": [
      " 63%|██████▎   | 311/496 [16:48<10:26,  3.39s/it, amusementPark=People's Park, coasterName=Space Car]                         "
     ]
    },
    {
     "name": "stdout",
     "output_type": "stream",
     "text": [
      "Getting information for page 312\n"
     ]
    },
    {
     "name": "stderr",
     "output_type": "stream",
     "text": [
      " 63%|██████▎   | 312/496 [16:51<10:07,  3.30s/it, amusementPark=Disneyland, coasterName=Space Mountain]                       "
     ]
    },
    {
     "name": "stdout",
     "output_type": "stream",
     "text": [
      "Getting information for page 313\n"
     ]
    },
    {
     "name": "stderr",
     "output_type": "stream",
     "text": [
      " 63%|██████▎   | 313/496 [16:54<09:48,  3.22s/it, amusementPark=Xixiakou China, coasterName=Space Trip]                             "
     ]
    },
    {
     "name": "stdout",
     "output_type": "stream",
     "text": [
      "Getting information for page 314\n"
     ]
    },
    {
     "name": "stderr",
     "output_type": "stream",
     "text": [
      " 63%|██████▎   | 314/496 [16:57<09:39,  3.19s/it, amusementPark=Flamingo Park, coasterName=Speed Coaster]            "
     ]
    },
    {
     "name": "stdout",
     "output_type": "stream",
     "text": [
      "Getting information for page 315\n"
     ]
    },
    {
     "name": "stderr",
     "output_type": "stream",
     "text": [
      " 64%|██████▎   | 315/496 [17:01<10:14,  3.39s/it, amusementPark=Jardin d'Acclimatation, coasterName=Speed Rockets]       "
     ]
    },
    {
     "name": "stdout",
     "output_type": "stream",
     "text": [
      "Getting information for page 316\n"
     ]
    },
    {
     "name": "stderr",
     "output_type": "stream",
     "text": [
      " 64%|██████▎   | 316/496 [17:04<10:06,  3.37s/it, amusementPark=Leisureranch, coasterName=Speedy Coaster]                        "
     ]
    },
    {
     "name": "stdout",
     "output_type": "stream",
     "text": [
      "Getting information for page 317\n"
     ]
    },
    {
     "name": "stderr",
     "output_type": "stream",
     "text": [
      " 64%|██████▍   | 317/496 [17:08<10:07,  3.39s/it, amusementPark=Magic Land, coasterName=Speedy Mouse]                                "
     ]
    },
    {
     "name": "stdout",
     "output_type": "stream",
     "text": [
      "Getting information for page 318\n"
     ]
    },
    {
     "name": "stderr",
     "output_type": "stream",
     "text": [
      " 64%|██████▍   | 318/496 [17:12<10:21,  3.49s/it, amusementPark=Yokohama Cosmoworld, coasterName=Spinning Coaster]                "
     ]
    },
    {
     "name": "stdout",
     "output_type": "stream",
     "text": [
      "Getting information for page 319\n"
     ]
    },
    {
     "name": "stderr",
     "output_type": "stream",
     "text": [
      " 64%|██████▍   | 319/496 [17:15<10:13,  3.46s/it, amusementPark=Zhongnan Baicao Field, coasterName=Spinning Coaster]             "
     ]
    },
    {
     "name": "stdout",
     "output_type": "stream",
     "text": [
      "Getting information for page 320\n"
     ]
    },
    {
     "name": "stderr",
     "output_type": "stream",
     "text": [
      " 65%|██████▍   | 320/496 [17:19<10:16,  3.50s/it, amusementPark=Fun City, coasterName=Spinning Coaster]                               "
     ]
    },
    {
     "name": "stdout",
     "output_type": "stream",
     "text": [
      "Getting information for page 321\n"
     ]
    },
    {
     "name": "stderr",
     "output_type": "stream",
     "text": [
      " 65%|██████▍   | 321/496 [17:22<10:28,  3.59s/it, amusementPark=Century Park, coasterName=Spinning Coaster]           "
     ]
    },
    {
     "name": "stdout",
     "output_type": "stream",
     "text": [
      "Getting information for page 322\n"
     ]
    },
    {
     "name": "stderr",
     "output_type": "stream",
     "text": [
      " 65%|██████▍   | 322/496 [17:26<10:15,  3.53s/it, amusementPark=Shilinxia Resort, coasterName=Spinning Coaster]                "
     ]
    },
    {
     "name": "stdout",
     "output_type": "stream",
     "text": [
      "Getting information for page 323\n"
     ]
    },
    {
     "name": "stderr",
     "output_type": "stream",
     "text": [
      " 65%|██████▌   | 323/496 [17:29<10:04,  3.50s/it, amusementPark=Faby Land, coasterName=Spinning Coaster]                                 "
     ]
    },
    {
     "name": "stdout",
     "output_type": "stream",
     "text": [
      "Getting information for page 324\n"
     ]
    },
    {
     "name": "stderr",
     "output_type": "stream",
     "text": [
      " 65%|██████▌   | 324/496 [17:33<09:53,  3.45s/it, amusementPark=Cidade da Criança, coasterName=Spinning Coaster]            "
     ]
    },
    {
     "name": "stdout",
     "output_type": "stream",
     "text": [
      "Getting information for page 325\n"
     ]
    },
    {
     "name": "stderr",
     "output_type": "stream",
     "text": [
      " 66%|██████▌   | 325/496 [17:36<09:29,  3.33s/it, amusementPark=1001 Fairyland, coasterName=Spinning Yacht]                       "
     ]
    },
    {
     "name": "stdout",
     "output_type": "stream",
     "text": [
      "Getting information for page 326\n"
     ]
    },
    {
     "name": "stderr",
     "output_type": "stream",
     "text": [
      " 66%|██████▌   | 326/496 [17:39<09:20,  3.30s/it, amusementPark=Joyland Rawalpindi, coasterName=Splash Mountain]                                 "
     ]
    },
    {
     "name": "stdout",
     "output_type": "stream",
     "text": [
      "Getting information for page 327\n"
     ]
    },
    {
     "name": "stderr",
     "output_type": "stream",
     "text": [
      " 66%|██████▌   | 327/496 [17:43<09:43,  3.45s/it, amusementPark=Skara Sommarland, coasterName=Stand Up]                                    "
     ]
    },
    {
     "name": "stdout",
     "output_type": "stream",
     "text": [
      "Getting information for page 328\n"
     ]
    },
    {
     "name": "stderr",
     "output_type": "stream",
     "text": [
      " 66%|██████▌   | 328/496 [17:46<09:54,  3.54s/it, amusementPark=Six Flags Great Escape, coasterName=Steamin' Demon]                                          "
     ]
    },
    {
     "name": "stdout",
     "output_type": "stream",
     "text": [
      "Getting information for page 329\n"
     ]
    },
    {
     "name": "stderr",
     "output_type": "stream",
     "text": [
      " 66%|██████▋   | 329/496 [17:50<09:56,  3.57s/it, amusementPark=Steeplechase Island, coasterName=Track 1]                                  "
     ]
    },
    {
     "name": "stdout",
     "output_type": "stream",
     "text": [
      "Getting information for page 330\n"
     ]
    },
    {
     "name": "stderr",
     "output_type": "stream",
     "text": [
      " 67%|██████▋   | 330/496 [17:53<09:38,  3.48s/it, amusementPark=Fantasy Island, coasterName=Strawberry Junior Coaster]            "
     ]
    },
    {
     "name": "stdout",
     "output_type": "stream",
     "text": [
      "Getting information for page 331\n"
     ]
    },
    {
     "name": "stderr",
     "output_type": "stream",
     "text": [
      " 67%|██████▋   | 331/496 [17:57<09:27,  3.44s/it, amusementPark=Chelyuskintsev Park, coasterName=Super 8]                      "
     ]
    },
    {
     "name": "stdout",
     "output_type": "stream",
     "text": [
      "Getting information for page 332\n"
     ]
    },
    {
     "name": "stderr",
     "output_type": "stream",
     "text": [
      " 67%|██████▋   | 332/496 [18:00<09:30,  3.48s/it, amusementPark=Republica de los Niños, coasterName=Super Dragon]                     "
     ]
    },
    {
     "name": "stdout",
     "output_type": "stream",
     "text": [
      "Getting information for page 333\n"
     ]
    },
    {
     "name": "stderr",
     "output_type": "stream",
     "text": [
      " 67%|██████▋   | 333/496 [18:03<09:13,  3.39s/it, amusementPark=Parque Warner Madrid, coasterName=Superman / la Atracción de Acero]"
     ]
    },
    {
     "name": "stdout",
     "output_type": "stream",
     "text": [
      "Getting information for page 334\n"
     ]
    },
    {
     "name": "stderr",
     "output_type": "stream",
     "text": [
      " 67%|██████▋   | 334/496 [18:07<08:55,  3.31s/it, amusementPark=Beijing Amusement Park, coasterName=Superspeed Cool-Cool Bear]           "
     ]
    },
    {
     "name": "stdout",
     "output_type": "stream",
     "text": [
      "Getting information for page 335\n"
     ]
    },
    {
     "name": "stderr",
     "output_type": "stream",
     "text": [
      " 68%|██████▊   | 335/496 [18:13<11:16,  4.20s/it, amusementPark=Victory Kingdom, coasterName=Suspended Looping Coaster]       "
     ]
    },
    {
     "name": "stdout",
     "output_type": "stream",
     "text": [
      "Getting information for page 336\n"
     ]
    },
    {
     "name": "stderr",
     "output_type": "stream",
     "text": [
      " 68%|██████▊   | 336/496 [18:16<10:27,  3.92s/it, amusementPark=Pleasure Beach Resort, coasterName=Switchback]                           "
     ]
    },
    {
     "name": "stdout",
     "output_type": "stream",
     "text": [
      "Getting information for page 337\n"
     ]
    },
    {
     "name": "stderr",
     "output_type": "stream",
     "text": [
      " 68%|██████▊   | 337/496 [18:19<09:42,  3.66s/it, amusementPark=Scheveningen Beach, coasterName=Switchback Railway]                                       "
     ]
    },
    {
     "name": "stdout",
     "output_type": "stream",
     "text": [
      "Getting information for page 338\n"
     ]
    },
    {
     "name": "stderr",
     "output_type": "stream",
     "text": [
      " 68%|██████▊   | 338/496 [18:22<09:20,  3.54s/it, amusementPark=Phantasialand, coasterName=Taron]                               "
     ]
    },
    {
     "name": "stdout",
     "output_type": "stream",
     "text": [
      "Getting information for page 339\n"
     ]
    },
    {
     "name": "stderr",
     "output_type": "stream",
     "text": [
      " 68%|██████▊   | 339/496 [18:26<09:09,  3.50s/it, amusementPark=Dollywood, coasterName=Tennessee Tornado]                             "
     ]
    },
    {
     "name": "stdout",
     "output_type": "stream",
     "text": [
      "Getting information for page 340\n"
     ]
    },
    {
     "name": "stderr",
     "output_type": "stream",
     "text": [
      " 69%|██████▊   | 340/496 [18:29<09:00,  3.47s/it, amusementPark=Ocean Park, coasterName=The Dragon]                            "
     ]
    },
    {
     "name": "stdout",
     "output_type": "stream",
     "text": [
      "Getting information for page 341\n"
     ]
    },
    {
     "name": "stderr",
     "output_type": "stream",
     "text": [
      " 69%|██████▉   | 341/496 [18:33<08:51,  3.43s/it, amusementPark=Monarch Park, coasterName=Thriller]                                  "
     ]
    },
    {
     "name": "stdout",
     "output_type": "stream",
     "text": [
      "Getting information for page 342\n"
     ]
    },
    {
     "name": "stderr",
     "output_type": "stream",
     "text": [
      " 69%|██████▉   | 342/496 [18:36<08:38,  3.37s/it, amusementPark=Revere Beach, coasterName=Thunderbolt]                         "
     ]
    },
    {
     "name": "stdout",
     "output_type": "stream",
     "text": [
      "Getting information for page 343\n"
     ]
    },
    {
     "name": "stderr",
     "output_type": "stream",
     "text": [
      " 69%|██████▉   | 343/496 [18:39<08:50,  3.47s/it, amusementPark=Alton Towers, coasterName=Thunderlooper]                 "
     ]
    },
    {
     "name": "stdout",
     "output_type": "stream",
     "text": [
      "Getting information for page 344\n"
     ]
    },
    {
     "name": "stderr",
     "output_type": "stream",
     "text": [
      " 69%|██████▉   | 344/496 [18:43<08:28,  3.35s/it, amusementPark=Crescent Park, coasterName=Tickler]                        "
     ]
    },
    {
     "name": "stdout",
     "output_type": "stream",
     "text": [
      "Getting information for page 345\n"
     ]
    },
    {
     "name": "stderr",
     "output_type": "stream",
     "text": [
      " 70%|██████▉   | 345/496 [18:46<08:23,  3.33s/it, amusementPark=Seoul Land, coasterName=Tikitoc Train]                     "
     ]
    },
    {
     "name": "stdout",
     "output_type": "stream",
     "text": [
      "Getting information for page 346\n"
     ]
    },
    {
     "name": "stderr",
     "output_type": "stream",
     "text": [
      " 70%|██████▉   | 346/496 [18:49<08:17,  3.31s/it, amusementPark=Mogan Lake Park, coasterName=Tirtil]                                 "
     ]
    },
    {
     "name": "stdout",
     "output_type": "stream",
     "text": [
      "Getting information for page 347\n"
     ]
    },
    {
     "name": "stderr",
     "output_type": "stream",
     "text": [
      " 70%|██████▉   | 347/496 [18:52<08:05,  3.26s/it, amusementPark=Seven Peaks Water Park Duneland, coasterName=Toboggan]            "
     ]
    },
    {
     "name": "stdout",
     "output_type": "stream",
     "text": [
      "Getting information for page 348\n"
     ]
    },
    {
     "name": "stderr",
     "output_type": "stream",
     "text": [
      " 70%|███████   | 348/496 [18:55<07:37,  3.09s/it, amusementPark=Yakhroma Park, coasterName=Toboggan]                  "
     ]
    },
    {
     "name": "stdout",
     "output_type": "stream",
     "text": [
      "Getting information for page 349\n"
     ]
    },
    {
     "name": "stderr",
     "output_type": "stream",
     "text": [
      " 70%|███████   | 349/496 [18:58<07:18,  2.98s/it, amusementPark=Brandywine Springs, coasterName=Toboggan slide]                  "
     ]
    },
    {
     "name": "stdout",
     "output_type": "stream",
     "text": [
      "Getting information for page 350\n"
     ]
    },
    {
     "name": "stderr",
     "output_type": "stream",
     "text": [
      " 71%|███████   | 350/496 [19:01<07:28,  3.07s/it, amusementPark=Suncity Amusement & Water Park, coasterName=Toofan Mail]                  "
     ]
    },
    {
     "name": "stdout",
     "output_type": "stream",
     "text": [
      "Getting information for page 351\n"
     ]
    },
    {
     "name": "stderr",
     "output_type": "stream",
     "text": [
      " 71%|███████   | 351/496 [19:04<07:39,  3.17s/it, amusementPark=Tokyo SummerLand, coasterName=Tornado]                  "
     ]
    },
    {
     "name": "stdout",
     "output_type": "stream",
     "text": [
      "Getting information for page 352\n"
     ]
    },
    {
     "name": "stderr",
     "output_type": "stream",
     "text": [
      " 71%|███████   | 352/496 [19:08<07:48,  3.25s/it, amusementPark=Parc Ange Michel, coasterName=Tornado]                   "
     ]
    },
    {
     "name": "stdout",
     "output_type": "stream",
     "text": [
      "Getting information for page 353\n"
     ]
    },
    {
     "name": "stderr",
     "output_type": "stream",
     "text": [
      " 71%|███████   | 353/496 [19:11<07:49,  3.28s/it, amusementPark=Dreamworld, coasterName=Tower of Terror II]                                   "
     ]
    },
    {
     "name": "stdout",
     "output_type": "stream",
     "text": [
      "Getting information for page 354\n"
     ]
    },
    {
     "name": "stderr",
     "output_type": "stream",
     "text": [
      " 71%|███████▏  | 354/496 [19:14<07:42,  3.26s/it, amusementPark=Great Xingdong Tourist World, coasterName=Train Type Spin Trochlear]"
     ]
    },
    {
     "name": "stdout",
     "output_type": "stream",
     "text": [
      "Getting information for page 355\n"
     ]
    },
    {
     "name": "stderr",
     "output_type": "stream",
     "text": [
      " 72%|███████▏  | 355/496 [19:18<07:43,  3.29s/it, amusementPark=Fantasilandia, coasterName=Tren Minero]                               "
     ]
    },
    {
     "name": "stdout",
     "output_type": "stream",
     "text": [
      "Getting information for page 356\n"
     ]
    },
    {
     "name": "stderr",
     "output_type": "stream",
     "text": [
      " 72%|███████▏  | 356/496 [19:21<07:32,  3.23s/it, amusementPark=Electric Park, coasterName=Trip Thru the Clouds]           "
     ]
    },
    {
     "name": "stdout",
     "output_type": "stream",
     "text": [
      "Getting information for page 357\n"
     ]
    },
    {
     "name": "stderr",
     "output_type": "stream",
     "text": [
      " 72%|███████▏  | 357/496 [19:24<07:33,  3.26s/it, amusementPark=Linnanmäki, coasterName=Tulireki]                                    "
     ]
    },
    {
     "name": "stdout",
     "output_type": "stream",
     "text": [
      "Getting information for page 358\n"
     ]
    },
    {
     "name": "stderr",
     "output_type": "stream",
     "text": [
      " 72%|███████▏  | 358/496 [19:27<07:30,  3.26s/it, amusementPark=Le Pal, coasterName=Twist]                                   "
     ]
    },
    {
     "name": "stdout",
     "output_type": "stream",
     "text": [
      "Getting information for page 359\n"
     ]
    },
    {
     "name": "stderr",
     "output_type": "stream",
     "text": [
      " 72%|███████▏  | 359/496 [19:31<07:26,  3.26s/it, amusementPark=McCullough Lake Park, coasterName=Twister]                    "
     ]
    },
    {
     "name": "stdout",
     "output_type": "stream",
     "text": [
      "Getting information for page 360\n"
     ]
    },
    {
     "name": "stderr",
     "output_type": "stream",
     "text": [
      " 73%|███████▎  | 360/496 [19:34<07:14,  3.19s/it, amusementPark=Flamingo Land, coasterName=Twistosaurus]                        "
     ]
    },
    {
     "name": "stdout",
     "output_type": "stream",
     "text": [
      "Getting information for page 361\n"
     ]
    },
    {
     "name": "stderr",
     "output_type": "stream",
     "text": [
      " 73%|███████▎  | 361/496 [19:37<07:07,  3.17s/it, amusementPark=Linnanmäki, coasterName=Ukko]                                "
     ]
    },
    {
     "name": "stdout",
     "output_type": "stream",
     "text": [
      "Getting information for page 362\n"
     ]
    },
    {
     "name": "stderr",
     "output_type": "stream",
     "text": [
      " 73%|███████▎  | 362/496 [19:40<07:09,  3.21s/it, amusementPark=Park of Maternal Glory, coasterName=Underwater World]             "
     ]
    },
    {
     "name": "stdout",
     "output_type": "stream",
     "text": [
      "Getting information for page 363\n"
     ]
    },
    {
     "name": "stderr",
     "output_type": "stream",
     "text": [
      " 73%|███████▎  | 363/496 [19:43<07:13,  3.26s/it, amusementPark=Fantasy Dome Seiro, coasterName=Vegas Panic]          "
     ]
    },
    {
     "name": "stdout",
     "output_type": "stream",
     "text": [
      "Getting information for page 364\n"
     ]
    },
    {
     "name": "stderr",
     "output_type": "stream",
     "text": [
      " 73%|███████▎  | 364/496 [19:47<07:18,  3.32s/it, amusementPark=Busch Gardens Williamsburg, coasterName=Verbolten]                     "
     ]
    },
    {
     "name": "stdout",
     "output_type": "stream",
     "text": [
      "Getting information for page 365\n"
     ]
    },
    {
     "name": "stderr",
     "output_type": "stream",
     "text": [
      " 74%|███████▎  | 365/496 [19:51<07:34,  3.47s/it, amusementPark=Wiener Prater, coasterName=Vierer-Bob]                               "
     ]
    },
    {
     "name": "stdout",
     "output_type": "stream",
     "text": [
      "Getting information for page 366\n"
     ]
    },
    {
     "name": "stderr",
     "output_type": "stream",
     "text": [
      " 74%|███████▍  | 366/496 [19:54<07:23,  3.41s/it, amusementPark=Knowsley Safari, coasterName=Viper]                        "
     ]
    },
    {
     "name": "stdout",
     "output_type": "stream",
     "text": [
      "Getting information for page 367\n"
     ]
    },
    {
     "name": "stderr",
     "output_type": "stream",
     "text": [
      " 74%|███████▍  | 367/496 [19:57<07:13,  3.36s/it, amusementPark=Wonderland Eurasia, coasterName=Volare Hiz Kizagi]     "
     ]
    },
    {
     "name": "stdout",
     "output_type": "stream",
     "text": [
      "Getting information for page 368\n"
     ]
    },
    {
     "name": "stderr",
     "output_type": "stream",
     "text": [
      " 74%|███████▍  | 368/496 [20:01<07:11,  3.37s/it, amusementPark=Lake Winnepesaukah, coasterName=Wacky Worm]                 "
     ]
    },
    {
     "name": "stdout",
     "output_type": "stream",
     "text": [
      "Getting information for page 369\n"
     ]
    },
    {
     "name": "stderr",
     "output_type": "stream",
     "text": [
      " 74%|███████▍  | 369/496 [20:04<06:56,  3.28s/it, amusementPark=Parque Infantil Sonora, coasterName=Wacky Worm]    "
     ]
    },
    {
     "name": "stdout",
     "output_type": "stream",
     "text": [
      "Getting information for page 370\n"
     ]
    },
    {
     "name": "stderr",
     "output_type": "stream",
     "text": [
      " 75%|███████▍  | 370/496 [20:07<06:48,  3.24s/it, amusementPark=Sharptown Firemen's Carnival, coasterName=Wacky Worm]  "
     ]
    },
    {
     "name": "stdout",
     "output_type": "stream",
     "text": [
      "Getting information for page 371\n"
     ]
    },
    {
     "name": "stderr",
     "output_type": "stream",
     "text": [
      " 75%|███████▍  | 371/496 [20:10<06:52,  3.30s/it, amusementPark=VGP Universal Kingdom, coasterName=Water Chute]                                  "
     ]
    },
    {
     "name": "stdout",
     "output_type": "stream",
     "text": [
      "Getting information for page 372\n"
     ]
    },
    {
     "name": "stderr",
     "output_type": "stream",
     "text": [
      " 75%|███████▌  | 372/496 [20:13<06:38,  3.22s/it, amusementPark=Adventure Island, coasterName=Wendy Glide]                         "
     ]
    },
    {
     "name": "stdout",
     "output_type": "stream",
     "text": [
      "Getting information for page 373\n"
     ]
    },
    {
     "name": "stderr",
     "output_type": "stream",
     "text": [
      " 75%|███████▌  | 373/496 [20:16<06:30,  3.18s/it, amusementPark=Great Yarmouth Pleasure Beach, coasterName=Whirlwind]                     "
     ]
    },
    {
     "name": "stdout",
     "output_type": "stream",
     "text": [
      "Getting information for page 374\n"
     ]
    },
    {
     "name": "stderr",
     "output_type": "stream",
     "text": [
      " 75%|███████▌  | 374/496 [20:20<06:30,  3.20s/it, amusementPark=California's Great America, coasterName=Whizzer]            "
     ]
    },
    {
     "name": "stdout",
     "output_type": "stream",
     "text": [
      "Getting information for page 375\n"
     ]
    },
    {
     "name": "stderr",
     "output_type": "stream",
     "text": [
      " 76%|███████▌  | 375/496 [20:23<06:34,  3.26s/it, amusementPark=Jolly Roger Amusement Park, coasterName=Wildcat]            "
     ]
    },
    {
     "name": "stdout",
     "output_type": "stream",
     "text": [
      "Getting information for page 376\n"
     ]
    },
    {
     "name": "stderr",
     "output_type": "stream",
     "text": [
      " 76%|███████▌  | 376/496 [20:26<06:34,  3.29s/it, amusementPark=Enna Jettick Park, coasterName=Wildcat]                    "
     ]
    },
    {
     "name": "stdout",
     "output_type": "stream",
     "text": [
      "Getting information for page 377\n"
     ]
    },
    {
     "name": "stderr",
     "output_type": "stream",
     "text": [
      " 76%|███████▌  | 377/496 [20:30<06:29,  3.27s/it, amusementPark=Long Branch Park, coasterName=Wildcat]         "
     ]
    },
    {
     "name": "stdout",
     "output_type": "stream",
     "text": [
      "Getting information for page 378\n"
     ]
    },
    {
     "name": "stderr",
     "output_type": "stream",
     "text": [
      " 76%|███████▌  | 378/496 [20:33<06:29,  3.30s/it, amusementPark=Fabrikus World, coasterName=Wilde Maus]                         "
     ]
    },
    {
     "name": "stdout",
     "output_type": "stream",
     "text": [
      "Getting information for page 379\n"
     ]
    },
    {
     "name": "stderr",
     "output_type": "stream",
     "text": [
      " 76%|███████▋  | 379/496 [20:36<06:25,  3.30s/it, amusementPark=Cavallino Matto, coasterName=Wild Mine]                                  "
     ]
    },
    {
     "name": "stdout",
     "output_type": "stream",
     "text": [
      "Getting information for page 380\n"
     ]
    },
    {
     "name": "stderr",
     "output_type": "stream",
     "text": [
      " 77%|███████▋  | 380/496 [20:40<06:26,  3.34s/it, amusementPark=Lagoon, coasterName=Wild Mouse]                           "
     ]
    },
    {
     "name": "stdout",
     "output_type": "stream",
     "text": [
      "Getting information for page 381\n"
     ]
    },
    {
     "name": "stderr",
     "output_type": "stream",
     "text": [
      " 77%|███████▋  | 381/496 [20:43<06:18,  3.29s/it, amusementPark=Kennywood, coasterName=Wild Mouse]                            "
     ]
    },
    {
     "name": "stdout",
     "output_type": "stream",
     "text": [
      "Getting information for page 382\n"
     ]
    },
    {
     "name": "stderr",
     "output_type": "stream",
     "text": [
      " 77%|███████▋  | 382/496 [20:46<06:07,  3.22s/it, amusementPark=Funland Amusement Park, coasterName=Wild Mouse]         "
     ]
    },
    {
     "name": "stdout",
     "output_type": "stream",
     "text": [
      "Getting information for page 383\n"
     ]
    },
    {
     "name": "stderr",
     "output_type": "stream",
     "text": [
      " 77%|███████▋  | 383/496 [20:49<06:05,  3.24s/it, amusementPark=State Fair of Texas, coasterName=Wild Mouse]         "
     ]
    },
    {
     "name": "stdout",
     "output_type": "stream",
     "text": [
      "Getting information for page 384\n"
     ]
    },
    {
     "name": "stderr",
     "output_type": "stream",
     "text": [
      " 77%|███████▋  | 384/496 [20:52<05:56,  3.18s/it, amusementPark=Saratoga Resort, coasterName=Wild Mouse]                                "
     ]
    },
    {
     "name": "stdout",
     "output_type": "stream",
     "text": [
      "Getting information for page 385\n"
     ]
    },
    {
     "name": "stderr",
     "output_type": "stream",
     "text": [
      " 78%|███████▊  | 385/496 [20:55<05:51,  3.16s/it, amusementPark=Fun Fair Park, coasterName=Wild Mouse]                    "
     ]
    },
    {
     "name": "stdout",
     "output_type": "stream",
     "text": [
      "Getting information for page 386\n"
     ]
    },
    {
     "name": "stderr",
     "output_type": "stream",
     "text": [
      " 78%|███████▊  | 386/496 [20:59<05:48,  3.17s/it, amusementPark=O-World, coasterName=Wild Storm]                         "
     ]
    },
    {
     "name": "stdout",
     "output_type": "stream",
     "text": [
      "Getting information for page 387\n"
     ]
    },
    {
     "name": "stderr",
     "output_type": "stream",
     "text": [
      " 78%|███████▊  | 387/496 [21:02<05:53,  3.24s/it, amusementPark=Motor World, coasterName=Wild Wind]                            "
     ]
    },
    {
     "name": "stdout",
     "output_type": "stream",
     "text": [
      "Getting information for page 388\n"
     ]
    },
    {
     "name": "stderr",
     "output_type": "stream",
     "text": [
      " 78%|███████▊  | 388/496 [21:06<05:56,  3.30s/it, amusementPark=Canada's Wonderland, coasterName=Wonder Mountain's Guardian]            "
     ]
    },
    {
     "name": "stdout",
     "output_type": "stream",
     "text": [
      "Getting information for page 389\n"
     ]
    },
    {
     "name": "stderr",
     "output_type": "stream",
     "text": [
      " 78%|███████▊  | 389/496 [21:09<05:56,  3.33s/it, amusementPark=Funland Amusement Park, coasterName=Woody's Children's Roller Coaster]"
     ]
    },
    {
     "name": "stdout",
     "output_type": "stream",
     "text": [
      "Getting information for page 390\n"
     ]
    },
    {
     "name": "stderr",
     "output_type": "stream",
     "text": [
      " 79%|███████▊  | 390/496 [21:12<05:50,  3.31s/it, amusementPark=Sunac Land Chengdu, coasterName=Worm Coaster]                              "
     ]
    },
    {
     "name": "stdout",
     "output_type": "stream",
     "text": [
      "Getting information for page 391\n"
     ]
    },
    {
     "name": "stderr",
     "output_type": "stream",
     "text": [
      " 79%|███████▉  | 391/496 [21:15<05:47,  3.31s/it, amusementPark=Drievliet Family Park, coasterName=Xtreme]                "
     ]
    },
    {
     "name": "stdout",
     "output_type": "stream",
     "text": [
      "Getting information for page 392\n"
     ]
    },
    {
     "name": "stderr",
     "output_type": "stream",
     "text": [
      " 79%|███████▉  | 392/496 [21:19<05:41,  3.28s/it, amusementPark=DippieDoe Attractiepark, coasterName=Zeeslang]              "
     ]
    },
    {
     "name": "stdout",
     "output_type": "stream",
     "text": [
      "Getting information for page 393\n"
     ]
    },
    {
     "name": "stderr",
     "output_type": "stream",
     "text": [
      " 79%|███████▉  | 393/496 [21:22<05:37,  3.28s/it, amusementPark=Bay Beach Amusement Park, coasterName=Zippin Pippin]          "
     ]
    },
    {
     "name": "stdout",
     "output_type": "stream",
     "text": [
      "Getting information for page 394\n"
     ]
    },
    {
     "name": "stderr",
     "output_type": "stream",
     "text": [
      " 79%|███████▉  | 394/496 [21:25<05:27,  3.21s/it, amusementPark=Kishkinta  Theme Park, coasterName=Zyclone]                    "
     ]
    },
    {
     "name": "stdout",
     "output_type": "stream",
     "text": [
      "Getting information for page 395\n"
     ]
    },
    {
     "name": "stderr",
     "output_type": "stream",
     "text": [
      " 80%|███████▉  | 395/496 [21:28<05:19,  3.16s/it, amusementPark=Star City, coasterName=Zyklon Loop]                    "
     ]
    },
    {
     "name": "stdout",
     "output_type": "stream",
     "text": [
      "Getting information for page 396\n"
     ]
    },
    {
     "name": "stderr",
     "output_type": "stream",
     "text": [
      " 80%|███████▉  | 396/496 [21:31<05:11,  3.12s/it, amusementPark=Showbiz City, coasterName=unknown]                              "
     ]
    },
    {
     "name": "stdout",
     "output_type": "stream",
     "text": [
      "Getting information for page 397\n"
     ]
    },
    {
     "name": "stderr",
     "output_type": "stream",
     "text": [
      " 80%|████████  | 397/496 [21:34<04:59,  3.03s/it, amusementPark=Hamel's Park, coasterName=unknown]                 "
     ]
    },
    {
     "name": "stdout",
     "output_type": "stream",
     "text": [
      "Getting information for page 398\n"
     ]
    },
    {
     "name": "stderr",
     "output_type": "stream",
     "text": [
      " 80%|████████  | 398/496 [21:37<04:54,  3.01s/it, amusementPark=Wicksteed Park, coasterName=unknown]                "
     ]
    },
    {
     "name": "stdout",
     "output_type": "stream",
     "text": [
      "Getting information for page 399\n"
     ]
    },
    {
     "name": "stderr",
     "output_type": "stream",
     "text": [
      " 80%|████████  | 399/496 [21:40<04:52,  3.02s/it, amusementPark=Luna Park, coasterName=unknown]                   "
     ]
    },
    {
     "name": "stdout",
     "output_type": "stream",
     "text": [
      "Getting information for page 400\n"
     ]
    },
    {
     "name": "stderr",
     "output_type": "stream",
     "text": [
      " 81%|████████  | 400/496 [21:43<04:48,  3.00s/it, amusementPark=Chippewa Lake Park, coasterName=unknown]                            "
     ]
    },
    {
     "name": "stdout",
     "output_type": "stream",
     "text": [
      "Getting information for page 401\n"
     ]
    },
    {
     "name": "stderr",
     "output_type": "stream",
     "text": [
      " 81%|████████  | 401/496 [21:46<04:47,  3.02s/it, amusementPark=Xiangnian Happy World, coasterName=unknown]                "
     ]
    },
    {
     "name": "stdout",
     "output_type": "stream",
     "text": [
      "Getting information for page 402\n"
     ]
    },
    {
     "name": "stderr",
     "output_type": "stream",
     "text": [
      " 81%|████████  | 402/496 [21:49<04:40,  2.99s/it, amusementPark=Yiwu Paradise, coasterName=unknown]           "
     ]
    },
    {
     "name": "stdout",
     "output_type": "stream",
     "text": [
      "Getting information for page 403\n"
     ]
    },
    {
     "name": "stderr",
     "output_type": "stream",
     "text": [
      " 81%|████████▏ | 403/496 [21:52<04:40,  3.01s/it, amusementPark=Indian Nations Park, coasterName=unknown]             "
     ]
    },
    {
     "name": "stdout",
     "output_type": "stream",
     "text": [
      "Getting information for page 404\n"
     ]
    },
    {
     "name": "stderr",
     "output_type": "stream",
     "text": [
      " 81%|████████▏ | 404/496 [21:55<04:34,  2.99s/it, amusementPark=Sunrise Park, coasterName=unknown]                     "
     ]
    },
    {
     "name": "stdout",
     "output_type": "stream",
     "text": [
      "Getting information for page 405\n"
     ]
    },
    {
     "name": "stderr",
     "output_type": "stream",
     "text": [
      " 82%|████████▏ | 405/496 [21:58<04:27,  2.94s/it, amusementPark=Bagatelle, coasterName=unknown]                      "
     ]
    },
    {
     "name": "stdout",
     "output_type": "stream",
     "text": [
      "Getting information for page 406\n"
     ]
    },
    {
     "name": "stderr",
     "output_type": "stream",
     "text": [
      " 82%|████████▏ | 406/496 [22:00<04:21,  2.91s/it, amusementPark=Paradise Lake, coasterName=unknown]           "
     ]
    },
    {
     "name": "stdout",
     "output_type": "stream",
     "text": [
      "Getting information for page 407\n"
     ]
    },
    {
     "name": "stderr",
     "output_type": "stream",
     "text": [
      " 82%|████████▏ | 407/496 [22:03<04:15,  2.87s/it, amusementPark=Hubin Park, coasterName=unknown]                    "
     ]
    },
    {
     "name": "stdout",
     "output_type": "stream",
     "text": [
      "Getting information for page 408\n"
     ]
    },
    {
     "name": "stderr",
     "output_type": "stream",
     "text": [
      " 82%|████████▏ | 408/496 [22:06<04:14,  2.90s/it, amusementPark=Bayi Park, coasterName=unknown]               "
     ]
    },
    {
     "name": "stdout",
     "output_type": "stream",
     "text": [
      "Getting information for page 409\n"
     ]
    },
    {
     "name": "stderr",
     "output_type": "stream",
     "text": [
      " 82%|████████▏ | 409/496 [22:09<04:19,  2.99s/it, amusementPark=Ehu Park, coasterName=unknown]                          "
     ]
    },
    {
     "name": "stdout",
     "output_type": "stream",
     "text": [
      "Getting information for page 410\n"
     ]
    },
    {
     "name": "stderr",
     "output_type": "stream",
     "text": [
      " 83%|████████▎ | 410/496 [22:12<04:15,  2.97s/it, amusementPark=Zhongshan Park, coasterName=unknown]           "
     ]
    },
    {
     "name": "stdout",
     "output_type": "stream",
     "text": [
      "Getting information for page 411\n"
     ]
    },
    {
     "name": "stderr",
     "output_type": "stream",
     "text": [
      " 83%|████████▎ | 411/496 [22:15<04:11,  2.96s/it, amusementPark=Yuhu Park, coasterName=unknown]                  "
     ]
    },
    {
     "name": "stdout",
     "output_type": "stream",
     "text": [
      "Getting information for page 412\n"
     ]
    },
    {
     "name": "stderr",
     "output_type": "stream",
     "text": [
      " 83%|████████▎ | 412/496 [22:18<04:08,  2.96s/it, amusementPark=Daqing Children's Paradise, coasterName=unknown]         "
     ]
    },
    {
     "name": "stdout",
     "output_type": "stream",
     "text": [
      "Getting information for page 413\n"
     ]
    },
    {
     "name": "stderr",
     "output_type": "stream",
     "text": [
      " 83%|████████▎ | 413/496 [22:21<04:02,  2.93s/it, amusementPark=Aonenhu, coasterName=unknown]                     "
     ]
    },
    {
     "name": "stdout",
     "output_type": "stream",
     "text": [
      "Getting information for page 414\n"
     ]
    },
    {
     "name": "stderr",
     "output_type": "stream",
     "text": [
      " 83%|████████▎ | 414/496 [22:24<04:04,  2.98s/it, amusementPark=Sunny Island, coasterName=unknown]                   "
     ]
    },
    {
     "name": "stdout",
     "output_type": "stream",
     "text": [
      "Getting information for page 415\n"
     ]
    },
    {
     "name": "stderr",
     "output_type": "stream",
     "text": [
      " 84%|████████▎ | 415/496 [22:27<04:01,  2.98s/it, amusementPark=Longjaing Park, coasterName=unknown]         "
     ]
    },
    {
     "name": "stdout",
     "output_type": "stream",
     "text": [
      "Getting information for page 416\n"
     ]
    },
    {
     "name": "stderr",
     "output_type": "stream",
     "text": [
      " 84%|████████▍ | 416/496 [22:30<03:59,  2.99s/it, amusementPark=Jianghui Amusement Park, coasterName=unknown]                  "
     ]
    },
    {
     "name": "stdout",
     "output_type": "stream",
     "text": [
      "Getting information for page 417\n"
     ]
    },
    {
     "name": "stderr",
     "output_type": "stream",
     "text": [
      " 84%|████████▍ | 417/496 [22:33<04:03,  3.08s/it, amusementPark=Qilizhen People's Park, coasterName=unknown]           "
     ]
    },
    {
     "name": "stdout",
     "output_type": "stream",
     "text": [
      "Getting information for page 418\n"
     ]
    },
    {
     "name": "stderr",
     "output_type": "stream",
     "text": [
      " 84%|████████▍ | 418/496 [22:36<03:53,  3.00s/it, amusementPark=Taipinghu Amusement Park, coasterName=unknown]        "
     ]
    },
    {
     "name": "stdout",
     "output_type": "stream",
     "text": [
      "Getting information for page 419\n"
     ]
    },
    {
     "name": "stderr",
     "output_type": "stream",
     "text": [
      " 84%|████████▍ | 419/496 [22:39<03:47,  2.95s/it, amusementPark=Little Playground, coasterName=unknown]               "
     ]
    },
    {
     "name": "stdout",
     "output_type": "stream",
     "text": [
      "Getting information for page 420\n"
     ]
    },
    {
     "name": "stderr",
     "output_type": "stream",
     "text": [
      " 85%|████████▍ | 420/496 [22:42<03:48,  3.01s/it, amusementPark=Parque de Diversiones la Monumental, coasterName=unknown]"
     ]
    },
    {
     "name": "stdout",
     "output_type": "stream",
     "text": [
      "Getting information for page 421\n"
     ]
    },
    {
     "name": "stderr",
     "output_type": "stream",
     "text": [
      " 85%|████████▍ | 421/496 [22:45<03:44,  2.99s/it, amusementPark=Chifeng Botanical Garden, coasterName=unknown]           "
     ]
    },
    {
     "name": "stdout",
     "output_type": "stream",
     "text": [
      "Getting information for page 422\n"
     ]
    },
    {
     "name": "stderr",
     "output_type": "stream",
     "text": [
      " 85%|████████▌ | 422/496 [22:48<03:43,  3.02s/it, amusementPark=Weibin Park, coasterName=unknown]             "
     ]
    },
    {
     "name": "stdout",
     "output_type": "stream",
     "text": [
      "Getting information for page 423\n"
     ]
    },
    {
     "name": "stderr",
     "output_type": "stream",
     "text": [
      " 85%|████████▌ | 423/496 [22:55<05:00,  4.12s/it, amusementPark=City of Games, coasterName=unknown]          "
     ]
    },
    {
     "name": "stdout",
     "output_type": "stream",
     "text": [
      "Getting information for page 424\n"
     ]
    },
    {
     "name": "stderr",
     "output_type": "stream",
     "text": [
      " 85%|████████▌ | 424/496 [22:58<04:30,  3.75s/it, amusementPark=Parque de Atracciones de Plaza Mayor, coasterName=unknown]"
     ]
    },
    {
     "name": "stdout",
     "output_type": "stream",
     "text": [
      "Getting information for page 425\n"
     ]
    },
    {
     "name": "stderr",
     "output_type": "stream",
     "text": [
      " 86%|████████▌ | 425/496 [23:01<04:14,  3.58s/it, amusementPark=Respublika, coasterName=unknown]                          "
     ]
    },
    {
     "name": "stdout",
     "output_type": "stream",
     "text": [
      "Getting information for page 426\n"
     ]
    },
    {
     "name": "stderr",
     "output_type": "stream",
     "text": [
      " 86%|████████▌ | 426/496 [23:04<03:58,  3.40s/it, amusementPark=Beidaihe Jifa Sightseeing Garden, coasterName=unknown]  "
     ]
    },
    {
     "name": "stdout",
     "output_type": "stream",
     "text": [
      "Getting information for page 427\n"
     ]
    },
    {
     "name": "stderr",
     "output_type": "stream",
     "text": [
      " 86%|████████▌ | 427/496 [23:07<03:43,  3.24s/it, amusementPark=People's Park, coasterName=unknown]                     "
     ]
    },
    {
     "name": "stdout",
     "output_type": "stream",
     "text": [
      "Getting information for page 428\n"
     ]
    },
    {
     "name": "stderr",
     "output_type": "stream",
     "text": [
      " 86%|████████▋ | 428/496 [23:10<03:39,  3.22s/it, amusementPark=Maumee Kiddieland, coasterName=unknown]                "
     ]
    },
    {
     "name": "stdout",
     "output_type": "stream",
     "text": [
      "Getting information for page 429\n"
     ]
    },
    {
     "name": "stderr",
     "output_type": "stream",
     "text": [
      " 86%|████████▋ | 429/496 [23:13<03:34,  3.20s/it, amusementPark=Fuzhou National Forest Park, coasterName=unknown]            "
     ]
    },
    {
     "name": "stdout",
     "output_type": "stream",
     "text": [
      "Getting information for page 430\n"
     ]
    },
    {
     "name": "stderr",
     "output_type": "stream",
     "text": [
      " 87%|████████▋ | 430/496 [23:16<03:30,  3.20s/it, amusementPark=Belinsky Park, coasterName=unknown]               "
     ]
    },
    {
     "name": "stdout",
     "output_type": "stream",
     "text": [
      "Getting information for page 431\n"
     ]
    },
    {
     "name": "stderr",
     "output_type": "stream",
     "text": [
      " 87%|████████▋ | 431/496 [23:19<03:24,  3.15s/it, amusementPark=Dreamworld Family Entertainment Centre, coasterName=unknown]"
     ]
    },
    {
     "name": "stdout",
     "output_type": "stream",
     "text": [
      "Getting information for page 432\n"
     ]
    },
    {
     "name": "stderr",
     "output_type": "stream",
     "text": [
      " 87%|████████▋ | 432/496 [23:22<03:17,  3.09s/it, amusementPark=Công viên thiếu nhi Đức Trọng, coasterName=unknown]         "
     ]
    },
    {
     "name": "stdout",
     "output_type": "stream",
     "text": [
      "Getting information for page 433\n"
     ]
    },
    {
     "name": "stderr",
     "output_type": "stream",
     "text": [
      " 87%|████████▋ | 433/496 [23:26<03:16,  3.13s/it, amusementPark=Wild West World, coasterName=unknown]              "
     ]
    },
    {
     "name": "stdout",
     "output_type": "stream",
     "text": [
      "Getting information for page 434\n"
     ]
    },
    {
     "name": "stderr",
     "output_type": "stream",
     "text": [
      " 88%|████████▊ | 434/496 [23:29<03:13,  3.12s/it, amusementPark=Dragon Lake Beach Happy World, coasterName=unknown]         "
     ]
    },
    {
     "name": "stdout",
     "output_type": "stream",
     "text": [
      "Getting information for page 435\n"
     ]
    },
    {
     "name": "stderr",
     "output_type": "stream",
     "text": [
      " 88%|████████▊ | 435/496 [23:32<03:08,  3.10s/it, amusementPark=Tweetsie Railroad, coasterName=unknown]            "
     ]
    },
    {
     "name": "stdout",
     "output_type": "stream",
     "text": [
      "Getting information for page 436\n"
     ]
    },
    {
     "name": "stderr",
     "output_type": "stream",
     "text": [
      " 88%|████████▊ | 436/496 [23:35<03:06,  3.10s/it, amusementPark=Lake Amusement Park, coasterName=unknown]           "
     ]
    },
    {
     "name": "stdout",
     "output_type": "stream",
     "text": [
      "Getting information for page 437\n"
     ]
    },
    {
     "name": "stderr",
     "output_type": "stream",
     "text": [
      " 88%|████████▊ | 437/496 [23:38<02:59,  3.05s/it, amusementPark=Victory Park, coasterName=unknown]                     "
     ]
    },
    {
     "name": "stdout",
     "output_type": "stream",
     "text": [
      "Getting information for page 438\n"
     ]
    },
    {
     "name": "stderr",
     "output_type": "stream",
     "text": [
      " 88%|████████▊ | 438/496 [23:41<03:00,  3.11s/it, amusementPark=Toy Town, coasterName=unknown]                         "
     ]
    },
    {
     "name": "stdout",
     "output_type": "stream",
     "text": [
      "Getting information for page 439\n"
     ]
    },
    {
     "name": "stderr",
     "output_type": "stream",
     "text": [
      " 89%|████████▊ | 439/496 [23:44<02:59,  3.15s/it, amusementPark=Deyang City Zoo, coasterName=unknown]               "
     ]
    },
    {
     "name": "stdout",
     "output_type": "stream",
     "text": [
      "Getting information for page 440\n"
     ]
    },
    {
     "name": "stderr",
     "output_type": "stream",
     "text": [
      " 89%|████████▊ | 440/496 [23:48<02:57,  3.17s/it, amusementPark=SS World Bahawalpur, coasterName=unknown]             "
     ]
    },
    {
     "name": "stdout",
     "output_type": "stream",
     "text": [
      "Getting information for page 441\n"
     ]
    },
    {
     "name": "stderr",
     "output_type": "stream",
     "text": [
      " 89%|████████▉ | 441/496 [23:51<02:55,  3.18s/it, amusementPark=Joyland, coasterName=unknown]                               "
     ]
    },
    {
     "name": "stdout",
     "output_type": "stream",
     "text": [
      "Getting information for page 442\n"
     ]
    },
    {
     "name": "stderr",
     "output_type": "stream",
     "text": [
      " 89%|████████▉ | 442/496 [23:54<02:47,  3.11s/it, amusementPark=Yangzhong Garden Expo, coasterName=unknown]        "
     ]
    },
    {
     "name": "stdout",
     "output_type": "stream",
     "text": [
      "Getting information for page 443\n"
     ]
    },
    {
     "name": "stderr",
     "output_type": "stream",
     "text": [
      " 89%|████████▉ | 443/496 [23:57<02:43,  3.08s/it, amusementPark=Tochal Telecabin & Entertainment Complex, coasterName=unknown]"
     ]
    },
    {
     "name": "stdout",
     "output_type": "stream",
     "text": [
      "Getting information for page 444\n"
     ]
    },
    {
     "name": "stderr",
     "output_type": "stream",
     "text": [
      " 90%|████████▉ | 444/496 [24:02<03:17,  3.81s/it, amusementPark=Lakeview Amusement Park, coasterName=unknown]                 "
     ]
    },
    {
     "name": "stdout",
     "output_type": "stream",
     "text": [
      "Getting information for page 445\n"
     ]
    },
    {
     "name": "stderr",
     "output_type": "stream",
     "text": [
      " 90%|████████▉ | 445/496 [24:06<03:07,  3.68s/it, amusementPark=Ruyang Park, coasterName=unknown]                   "
     ]
    },
    {
     "name": "stdout",
     "output_type": "stream",
     "text": [
      "Getting information for page 446\n"
     ]
    },
    {
     "name": "stderr",
     "output_type": "stream",
     "text": [
      " 90%|████████▉ | 446/496 [24:09<03:01,  3.63s/it, amusementPark=South Hot Springs Park, coasterName=unknown]         "
     ]
    },
    {
     "name": "stdout",
     "output_type": "stream",
     "text": [
      "Getting information for page 447\n"
     ]
    },
    {
     "name": "stderr",
     "output_type": "stream",
     "text": [
      " 90%|█████████ | 447/496 [24:12<02:50,  3.47s/it, amusementPark=Sparky's, coasterName=unknown]                            "
     ]
    },
    {
     "name": "stdout",
     "output_type": "stream",
     "text": [
      "Getting information for page 448\n"
     ]
    },
    {
     "name": "stderr",
     "output_type": "stream",
     "text": [
      " 90%|█████████ | 448/496 [24:15<02:40,  3.34s/it, amusementPark=Alshalal Park, coasterName=unknown]                     "
     ]
    },
    {
     "name": "stdout",
     "output_type": "stream",
     "text": [
      "Getting information for page 449\n"
     ]
    },
    {
     "name": "stderr",
     "output_type": "stream",
     "text": [
      " 91%|█████████ | 449/496 [24:18<02:33,  3.27s/it, amusementPark=Water Park, coasterName=unknown]                     "
     ]
    },
    {
     "name": "stdout",
     "output_type": "stream",
     "text": [
      "Getting information for page 450\n"
     ]
    },
    {
     "name": "stderr",
     "output_type": "stream",
     "text": [
      " 91%|█████████ | 450/496 [24:21<02:26,  3.19s/it, amusementPark=Linhe Happy Park, coasterName=unknown]             "
     ]
    },
    {
     "name": "stdout",
     "output_type": "stream",
     "text": [
      "Getting information for page 451\n"
     ]
    },
    {
     "name": "stderr",
     "output_type": "stream",
     "text": [
      " 91%|█████████ | 451/496 [24:24<02:20,  3.13s/it, amusementPark=Luna Park, coasterName=unknown]                     "
     ]
    },
    {
     "name": "stdout",
     "output_type": "stream",
     "text": [
      "Getting information for page 452\n"
     ]
    },
    {
     "name": "stderr",
     "output_type": "stream",
     "text": [
      " 91%|█████████ | 452/496 [24:27<02:16,  3.11s/it, amusementPark=Sarzamin-e Khorshid, coasterName=unknown]        "
     ]
    },
    {
     "name": "stdout",
     "output_type": "stream",
     "text": [
      "Getting information for page 453\n"
     ]
    },
    {
     "name": "stderr",
     "output_type": "stream",
     "text": [
      " 91%|█████████▏| 453/496 [24:30<02:13,  3.10s/it, amusementPark=Yinjiang Happy Island, coasterName=unknown]          "
     ]
    },
    {
     "name": "stdout",
     "output_type": "stream",
     "text": [
      "Getting information for page 454\n"
     ]
    },
    {
     "name": "stderr",
     "output_type": "stream",
     "text": [
      " 92%|█████████▏| 454/496 [24:33<02:08,  3.07s/it, amusementPark=Jadyly Kenar, coasterName=unknown]                     "
     ]
    },
    {
     "name": "stdout",
     "output_type": "stream",
     "text": [
      "Getting information for page 455\n"
     ]
    },
    {
     "name": "stderr",
     "output_type": "stream",
     "text": [
      " 92%|█████████▏| 455/496 [24:37<02:06,  3.09s/it, amusementPark=Guizhou Yelang West National Park, coasterName=unknown]"
     ]
    },
    {
     "name": "stdout",
     "output_type": "stream",
     "text": [
      "Getting information for page 456\n"
     ]
    },
    {
     "name": "stderr",
     "output_type": "stream",
     "text": [
      " 92%|█████████▏| 456/496 [24:40<02:01,  3.04s/it, amusementPark=Magic Paradise Park, coasterName=unknown]              "
     ]
    },
    {
     "name": "stdout",
     "output_type": "stream",
     "text": [
      "Getting information for page 457\n"
     ]
    },
    {
     "name": "stderr",
     "output_type": "stream",
     "text": [
      " 92%|█████████▏| 457/496 [24:43<01:58,  3.03s/it, amusementPark=Liangjiang Park, coasterName=unknown]             "
     ]
    },
    {
     "name": "stdout",
     "output_type": "stream",
     "text": [
      "Getting information for page 458\n"
     ]
    },
    {
     "name": "stderr",
     "output_type": "stream",
     "text": [
      " 92%|█████████▏| 458/496 [24:46<01:56,  3.06s/it, amusementPark=Fruit Man Theme World, coasterName=unknown]                  "
     ]
    },
    {
     "name": "stdout",
     "output_type": "stream",
     "text": [
      "Getting information for page 459\n"
     ]
    },
    {
     "name": "stderr",
     "output_type": "stream",
     "text": [
      " 93%|█████████▎| 459/496 [24:49<01:52,  3.04s/it, amusementPark=Tiancheng Happy Valley, coasterName=unknown]          "
     ]
    },
    {
     "name": "stdout",
     "output_type": "stream",
     "text": [
      "Getting information for page 460\n"
     ]
    },
    {
     "name": "stderr",
     "output_type": "stream",
     "text": [
      " 93%|█████████▎| 460/496 [24:52<01:52,  3.11s/it, amusementPark=Detskiy Gorodok, coasterName=unknown]                             "
     ]
    },
    {
     "name": "stdout",
     "output_type": "stream",
     "text": [
      "Getting information for page 461\n"
     ]
    },
    {
     "name": "stderr",
     "output_type": "stream",
     "text": [
      " 93%|█████████▎| 461/496 [24:55<01:49,  3.11s/it, amusementPark=Jingdong Large Cave, coasterName=unknown]                   "
     ]
    },
    {
     "name": "stdout",
     "output_type": "stream",
     "text": [
      "Getting information for page 462\n"
     ]
    },
    {
     "name": "stderr",
     "output_type": "stream",
     "text": [
      " 93%|█████████▎| 462/496 [24:58<01:48,  3.18s/it, amusementPark=Park Kul'tury I Otdykha Im. S.m.kirova, coasterName=unknown]   "
     ]
    },
    {
     "name": "stdout",
     "output_type": "stream",
     "text": [
      "Getting information for page 463\n"
     ]
    },
    {
     "name": "stderr",
     "output_type": "stream",
     "text": [
      " 93%|█████████▎| 463/496 [25:01<01:40,  3.03s/it, amusementPark=Sanbuyama Sky Park, coasterName=unknown]                    "
     ]
    },
    {
     "name": "stdout",
     "output_type": "stream",
     "text": [
      "Getting information for page 464\n"
     ]
    },
    {
     "name": "stderr",
     "output_type": "stream",
     "text": [
      " 94%|█████████▎| 464/496 [25:04<01:36,  3.02s/it, amusementPark=Yam Carmel, coasterName=unknown]                            "
     ]
    },
    {
     "name": "stdout",
     "output_type": "stream",
     "text": [
      "Getting information for page 465\n"
     ]
    },
    {
     "name": "stderr",
     "output_type": "stream",
     "text": [
      " 94%|█████████▍| 465/496 [25:07<01:36,  3.10s/it, amusementPark=Snober Land, coasterName=unknown]                         "
     ]
    },
    {
     "name": "stdout",
     "output_type": "stream",
     "text": [
      "Getting information for page 466\n"
     ]
    },
    {
     "name": "stderr",
     "output_type": "stream",
     "text": [
      " 94%|█████████▍| 466/496 [25:10<01:30,  3.03s/it, amusementPark=Oriental Wetlands, coasterName=unknown]                       "
     ]
    },
    {
     "name": "stdout",
     "output_type": "stream",
     "text": [
      "Getting information for page 467\n"
     ]
    },
    {
     "name": "stderr",
     "output_type": "stream",
     "text": [
      " 94%|█████████▍| 467/496 [25:13<01:28,  3.07s/it, amusementPark=Beidahu Ski Resort, coasterName=unknown]                   "
     ]
    },
    {
     "name": "stdout",
     "output_type": "stream",
     "text": [
      "Getting information for page 468\n"
     ]
    },
    {
     "name": "stderr",
     "output_type": "stream",
     "text": [
      " 94%|█████████▍| 468/496 [25:17<01:26,  3.09s/it, amusementPark=Dinosaur Theme Park, coasterName=unknown]                     "
     ]
    },
    {
     "name": "stdout",
     "output_type": "stream",
     "text": [
      "Getting information for page 469\n"
     ]
    },
    {
     "name": "stderr",
     "output_type": "stream",
     "text": [
      " 95%|█████████▍| 469/496 [25:20<01:23,  3.10s/it, amusementPark=Wonder Island, coasterName=unknown]                               "
     ]
    },
    {
     "name": "stdout",
     "output_type": "stream",
     "text": [
      "Getting information for page 470\n"
     ]
    },
    {
     "name": "stderr",
     "output_type": "stream",
     "text": [
      " 95%|█████████▍| 470/496 [25:23<01:20,  3.11s/it, amusementPark=Fantasy World, coasterName=unknown]                         "
     ]
    },
    {
     "name": "stdout",
     "output_type": "stream",
     "text": [
      "Getting information for page 471\n"
     ]
    },
    {
     "name": "stderr",
     "output_type": "stream",
     "text": [
      " 95%|█████████▍| 471/496 [25:26<01:17,  3.09s/it, amusementPark=Happy World of Qilu, coasterName=unknown]                            "
     ]
    },
    {
     "name": "stdout",
     "output_type": "stream",
     "text": [
      "Getting information for page 472\n"
     ]
    },
    {
     "name": "stderr",
     "output_type": "stream",
     "text": [
      " 95%|█████████▌| 472/496 [25:29<01:14,  3.09s/it, amusementPark=Le Jia Life Aestheics Farm, coasterName=unknown]           "
     ]
    },
    {
     "name": "stdout",
     "output_type": "stream",
     "text": [
      "Getting information for page 473\n"
     ]
    },
    {
     "name": "stderr",
     "output_type": "stream",
     "text": [
      " 95%|█████████▌| 473/496 [25:32<01:10,  3.05s/it, amusementPark=Tianlu Mountain Water Park, coasterName=unknown]             "
     ]
    },
    {
     "name": "stdout",
     "output_type": "stream",
     "text": [
      "Getting information for page 474\n"
     ]
    },
    {
     "name": "stderr",
     "output_type": "stream",
     "text": [
      " 96%|█████████▌| 474/496 [25:35<01:07,  3.06s/it, amusementPark=Fish Bird River Park, coasterName=unknown]                        "
     ]
    },
    {
     "name": "stdout",
     "output_type": "stream",
     "text": [
      "Getting information for page 475\n"
     ]
    },
    {
     "name": "stderr",
     "output_type": "stream",
     "text": [
      " 96%|█████████▌| 475/496 [25:38<01:04,  3.08s/it, amusementPark=Yibang Universal Theme Park, coasterName=unknown]                         "
     ]
    },
    {
     "name": "stdout",
     "output_type": "stream",
     "text": [
      "Getting information for page 476\n"
     ]
    },
    {
     "name": "stderr",
     "output_type": "stream",
     "text": [
      " 96%|█████████▌| 476/496 [25:41<01:00,  3.03s/it, amusementPark=Sherbakov Culture & Leisure Park, coasterName=unknown]       "
     ]
    },
    {
     "name": "stdout",
     "output_type": "stream",
     "text": [
      "Getting information for page 477\n"
     ]
    },
    {
     "name": "stderr",
     "output_type": "stream",
     "text": [
      " 96%|█████████▌| 477/496 [25:44<00:58,  3.10s/it, amusementPark=Haiyu Dreamland, coasterName=unknown]                       "
     ]
    },
    {
     "name": "stdout",
     "output_type": "stream",
     "text": [
      "Getting information for page 478\n"
     ]
    },
    {
     "name": "stderr",
     "output_type": "stream",
     "text": [
      " 96%|█████████▋| 478/496 [25:47<00:56,  3.13s/it, amusementPark=Dapu Happy Island, coasterName=unknown]                    "
     ]
    },
    {
     "name": "stdout",
     "output_type": "stream",
     "text": [
      "Getting information for page 479\n"
     ]
    },
    {
     "name": "stderr",
     "output_type": "stream",
     "text": [
      " 97%|█████████▋| 479/496 [25:51<00:54,  3.18s/it, amusementPark=Zhoukou Wildlife World, coasterName=unknown]               "
     ]
    },
    {
     "name": "stdout",
     "output_type": "stream",
     "text": [
      "Getting information for page 480\n"
     ]
    },
    {
     "name": "stderr",
     "output_type": "stream",
     "text": [
      " 97%|█████████▋| 480/496 [25:54<00:49,  3.10s/it, amusementPark=Xile Island Amusement Park, coasterName=unknown]             "
     ]
    },
    {
     "name": "stdout",
     "output_type": "stream",
     "text": [
      "Getting information for page 481\n"
     ]
    },
    {
     "name": "stderr",
     "output_type": "stream",
     "text": [
      " 97%|█████████▋| 481/496 [25:57<00:46,  3.07s/it, amusementPark=Magic Park Land, coasterName=unknown]            "
     ]
    },
    {
     "name": "stdout",
     "output_type": "stream",
     "text": [
      "Getting information for page 482\n"
     ]
    },
    {
     "name": "stderr",
     "output_type": "stream",
     "text": [
      " 97%|█████████▋| 482/496 [26:00<00:42,  3.04s/it, amusementPark=Zhumadian Forest Park, coasterName=unknown]                "
     ]
    },
    {
     "name": "stdout",
     "output_type": "stream",
     "text": [
      "Getting information for page 483\n"
     ]
    },
    {
     "name": "stderr",
     "output_type": "stream",
     "text": [
      " 97%|█████████▋| 483/496 [26:03<00:40,  3.08s/it, amusementPark=Sun World Bà Nà Hills, coasterName=unknown]        "
     ]
    },
    {
     "name": "stdout",
     "output_type": "stream",
     "text": [
      "Getting information for page 484\n"
     ]
    },
    {
     "name": "stderr",
     "output_type": "stream",
     "text": [
      " 98%|█████████▊| 484/496 [26:06<00:37,  3.10s/it, amusementPark=Pushui Amusement Park, coasterName=unknown]          "
     ]
    },
    {
     "name": "stdout",
     "output_type": "stream",
     "text": [
      "Getting information for page 485\n"
     ]
    },
    {
     "name": "stderr",
     "output_type": "stream",
     "text": [
      " 98%|█████████▊| 485/496 [26:09<00:34,  3.10s/it, amusementPark=Hồ Mây Park, coasterName=unknown]                   "
     ]
    },
    {
     "name": "stdout",
     "output_type": "stream",
     "text": [
      "Getting information for page 486\n"
     ]
    },
    {
     "name": "stderr",
     "output_type": "stream",
     "text": [
      " 98%|█████████▊| 486/496 [26:12<00:30,  3.09s/it, amusementPark=Al-Qidah Park, coasterName=unknown]                 "
     ]
    },
    {
     "name": "stdout",
     "output_type": "stream",
     "text": [
      "Getting information for page 487\n"
     ]
    },
    {
     "name": "stderr",
     "output_type": "stream",
     "text": [
      " 98%|█████████▊| 487/496 [26:15<00:27,  3.03s/it, amusementPark=Dream Garden, coasterName=unknown]                    "
     ]
    },
    {
     "name": "stdout",
     "output_type": "stream",
     "text": [
      "Getting information for page 488\n"
     ]
    },
    {
     "name": "stderr",
     "output_type": "stream",
     "text": [
      " 98%|█████████▊| 488/496 [26:18<00:23,  2.97s/it, amusementPark=Qicai Amusement Park, coasterName=unknown]                          "
     ]
    },
    {
     "name": "stdout",
     "output_type": "stream",
     "text": [
      "Getting information for page 489\n"
     ]
    },
    {
     "name": "stderr",
     "output_type": "stream",
     "text": [
      " 99%|█████████▊| 489/496 [26:21<00:21,  3.10s/it, amusementPark=Carron Dream Park, coasterName=unknown]                             "
     ]
    },
    {
     "name": "stdout",
     "output_type": "stream",
     "text": [
      "Getting information for page 490\n"
     ]
    },
    {
     "name": "stderr",
     "output_type": "stream",
     "text": [
      " 99%|█████████▉| 490/496 [26:24<00:18,  3.00s/it, amusementPark=Malaysia Heritage Studios, coasterName=unknown]    "
     ]
    },
    {
     "name": "stdout",
     "output_type": "stream",
     "text": [
      "Getting information for page 491\n"
     ]
    },
    {
     "name": "stderr",
     "output_type": "stream",
     "text": [
      " 99%|█████████▉| 491/496 [26:27<00:15,  3.04s/it, amusementPark=Happy World, coasterName=unknown]                            "
     ]
    },
    {
     "name": "stdout",
     "output_type": "stream",
     "text": [
      "Getting information for page 492\n"
     ]
    },
    {
     "name": "stderr",
     "output_type": "stream",
     "text": [
      " 99%|█████████▉| 492/496 [26:30<00:12,  3.07s/it, amusementPark=Pali River Scenic Area, coasterName=unknown]               "
     ]
    },
    {
     "name": "stdout",
     "output_type": "stream",
     "text": [
      "Getting information for page 493\n"
     ]
    },
    {
     "name": "stderr",
     "output_type": "stream",
     "text": [
      " 99%|█████████▉| 493/496 [26:33<00:09,  3.05s/it, amusementPark=Ganesh Udhyan, coasterName=unknown]                  "
     ]
    },
    {
     "name": "stdout",
     "output_type": "stream",
     "text": [
      "Getting information for page 494\n"
     ]
    },
    {
     "name": "stderr",
     "output_type": "stream",
     "text": [
      "100%|█████████▉| 494/496 [26:36<00:06,  3.00s/it, amusementPark=Fenghu Park, coasterName=unknown]                     "
     ]
    },
    {
     "name": "stdout",
     "output_type": "stream",
     "text": [
      "Getting information for page 495\n"
     ]
    },
    {
     "name": "stderr",
     "output_type": "stream",
     "text": [
      "100%|█████████▉| 495/496 [26:39<00:03,  3.02s/it, amusementPark=Hongshan Happy Valley, coasterName=unknown]                      "
     ]
    },
    {
     "name": "stdout",
     "output_type": "stream",
     "text": [
      "Getting information for page 496\n"
     ]
    },
    {
     "name": "stderr",
     "output_type": "stream",
     "text": [
      "100%|██████████| 496/496 [26:41<00:00,  3.23s/it, amusementPark=Vorontsovskiy Park, coasterName=unknown]                     \n"
     ]
    }
   ],
   "source": [
    "rcdb_url = \"https://rcdb.com\"\n",
    "\n",
    "# Path to your ChromeDriver executable\n",
    "chromedriver_path = r'C:\\Users\\gabeb\\Desktop\\programming\\chromedriver-win64\\chromedriver.exe'\n",
    "\n",
    "# Initialize Chrome WebDriver\n",
    "# service = Service(chromedriver_path)\n",
    "# service.start()\n",
    "driver = webdriver.Chrome()\n",
    "# driver = initialize_driver()\n",
    "driver.get(f\"{rcdb_url}/r.htm?ot=2\")\n",
    "soup = BeautifulSoup(driver.page_source, 'html')\n",
    "numPages = int(soup.find('div', {\"id\": \"rfoot\"}).findAll('a')[-2].contents[0])\n",
    "print(f\"Total number of pages to iterate through: {numPages}\")\n",
    "\n",
    "pbar = tqdm(range(numPages))\n",
    "rollercoasters = []\n",
    "\n",
    "for pageNum in pbar:\n",
    "    print(f\"Getting information for page {pageNum+1}\")\n",
    "    driver.get(f\"{rcdb_url}/r.htm?page={pageNum+1}&ot=2\")\n",
    "    soup = BeautifulSoup(driver.page_source, 'html')\n",
    "    table = soup.findAll('table')[1].find('tbody')\n",
    "    rows = table.findAll('tr')\n",
    "    \n",
    "    for row in rows:\n",
    "        rowData = parse_rollercoaster_table_row(row)\n",
    "        pbar.set_postfix(\n",
    "            coasterName=rowData['Name'], \n",
    "            amusementPark=rowData['Amusement Park'])\n",
    "        rollercoasters.append(rowData)\n",
    "        \n",
    "    # every page, save the information to a dataframe\n",
    "    df = pd.DataFrame.from_records(rollercoasters)\n",
    "    df.to_csv(\"data.csv\", index=False)"
   ]
  },
  {
   "cell_type": "code",
   "execution_count": 5,
   "metadata": {},
   "outputs": [],
   "source": [
    "driver.quit()"
   ]
  },
  {
   "cell_type": "code",
   "execution_count": 16,
   "metadata": {},
   "outputs": [
    {
     "data": {
      "text/html": [
       "<div>\n",
       "<style scoped>\n",
       "    .dataframe tbody tr th:only-of-type {\n",
       "        vertical-align: middle;\n",
       "    }\n",
       "\n",
       "    .dataframe tbody tr th {\n",
       "        vertical-align: top;\n",
       "    }\n",
       "\n",
       "    .dataframe thead th {\n",
       "        text-align: right;\n",
       "    }\n",
       "</style>\n",
       "<table border=\"1\" class=\"dataframe\">\n",
       "  <thead>\n",
       "    <tr style=\"text-align: right;\">\n",
       "      <th></th>\n",
       "      <th>Name</th>\n",
       "      <th>Amusement Park</th>\n",
       "      <th>Type</th>\n",
       "      <th>Design</th>\n",
       "      <th>Status</th>\n",
       "      <th>Opened</th>\n",
       "      <th>City</th>\n",
       "      <th>Region</th>\n",
       "      <th>Country</th>\n",
       "      <th>Make</th>\n",
       "      <th>...</th>\n",
       "      <th>Duration</th>\n",
       "      <th>G-Force ()</th>\n",
       "      <th>Vertical Angle (°)</th>\n",
       "      <th>Uphill Length (ft)</th>\n",
       "      <th>Downhill Length (ft)</th>\n",
       "      <th>Δ Elevation (ft)</th>\n",
       "      <th>Airtime Points</th>\n",
       "      <th>Crossings</th>\n",
       "      <th>Bank Angle (°)</th>\n",
       "      <th>Drop</th>\n",
       "    </tr>\n",
       "  </thead>\n",
       "  <tbody>\n",
       "    <tr>\n",
       "      <th>0</th>\n",
       "      <td>€uro-Coaster</td>\n",
       "      <td>Wiener Prater</td>\n",
       "      <td>Steel</td>\n",
       "      <td>Suspended</td>\n",
       "      <td>Removed</td>\n",
       "      <td>5/29/2020</td>\n",
       "      <td>Vienna</td>\n",
       "      <td>Vienna</td>\n",
       "      <td>Austria</td>\n",
       "      <td>Reverchon</td>\n",
       "      <td>...</td>\n",
       "      <td>NaN</td>\n",
       "      <td>NaN</td>\n",
       "      <td>NaN</td>\n",
       "      <td>NaN</td>\n",
       "      <td>NaN</td>\n",
       "      <td>NaN</td>\n",
       "      <td>NaN</td>\n",
       "      <td>NaN</td>\n",
       "      <td>NaN</td>\n",
       "      <td>NaN</td>\n",
       "    </tr>\n",
       "    <tr>\n",
       "      <th>1</th>\n",
       "      <td>€uro Coaster</td>\n",
       "      <td>Funland Theme Park</td>\n",
       "      <td>Steel</td>\n",
       "      <td>Sit Down</td>\n",
       "      <td>Removed</td>\n",
       "      <td>2021</td>\n",
       "      <td>Somerset</td>\n",
       "      <td>England</td>\n",
       "      <td>United Kingdom</td>\n",
       "      <td>SBF Visa Group</td>\n",
       "      <td>...</td>\n",
       "      <td>NaN</td>\n",
       "      <td>NaN</td>\n",
       "      <td>NaN</td>\n",
       "      <td>NaN</td>\n",
       "      <td>NaN</td>\n",
       "      <td>NaN</td>\n",
       "      <td>NaN</td>\n",
       "      <td>NaN</td>\n",
       "      <td>NaN</td>\n",
       "      <td>NaN</td>\n",
       "    </tr>\n",
       "    <tr>\n",
       "      <th>2</th>\n",
       "      <td>1066</td>\n",
       "      <td>Festyland</td>\n",
       "      <td>Steel</td>\n",
       "      <td>Sit Down</td>\n",
       "      <td>Operating</td>\n",
       "      <td>3/27/2005</td>\n",
       "      <td>Bretteville-Sur-Odon</td>\n",
       "      <td>Normandy</td>\n",
       "      <td>France</td>\n",
       "      <td>Soquet</td>\n",
       "      <td>...</td>\n",
       "      <td>1:00</td>\n",
       "      <td>NaN</td>\n",
       "      <td>NaN</td>\n",
       "      <td>NaN</td>\n",
       "      <td>NaN</td>\n",
       "      <td>NaN</td>\n",
       "      <td>NaN</td>\n",
       "      <td>NaN</td>\n",
       "      <td>NaN</td>\n",
       "      <td>NaN</td>\n",
       "    </tr>\n",
       "    <tr>\n",
       "      <th>3</th>\n",
       "      <td>10 Inversion Roller Coaster</td>\n",
       "      <td>Chimelong Paradise</td>\n",
       "      <td>Steel</td>\n",
       "      <td>Sit Down</td>\n",
       "      <td>Operating</td>\n",
       "      <td>2/2006</td>\n",
       "      <td>Guangzhou</td>\n",
       "      <td>Guangdong</td>\n",
       "      <td>China</td>\n",
       "      <td>Intamin Amusement Rides</td>\n",
       "      <td>...</td>\n",
       "      <td>1:32</td>\n",
       "      <td>NaN</td>\n",
       "      <td>NaN</td>\n",
       "      <td>NaN</td>\n",
       "      <td>NaN</td>\n",
       "      <td>NaN</td>\n",
       "      <td>NaN</td>\n",
       "      <td>NaN</td>\n",
       "      <td>NaN</td>\n",
       "      <td>NaN</td>\n",
       "    </tr>\n",
       "    <tr>\n",
       "      <th>4</th>\n",
       "      <td>1970 Galaxy Rip Tide Coaster</td>\n",
       "      <td>Swampy Jack's Wongo Adventure</td>\n",
       "      <td>Steel</td>\n",
       "      <td>Sit Down</td>\n",
       "      <td>Relocated</td>\n",
       "      <td>6/27/2014</td>\n",
       "      <td>Panama City Beach</td>\n",
       "      <td>Florida</td>\n",
       "      <td>United States</td>\n",
       "      <td>S.D.C.</td>\n",
       "      <td>...</td>\n",
       "      <td>NaN</td>\n",
       "      <td>NaN</td>\n",
       "      <td>NaN</td>\n",
       "      <td>NaN</td>\n",
       "      <td>NaN</td>\n",
       "      <td>NaN</td>\n",
       "      <td>NaN</td>\n",
       "      <td>NaN</td>\n",
       "      <td>NaN</td>\n",
       "      <td>NaN</td>\n",
       "    </tr>\n",
       "  </tbody>\n",
       "</table>\n",
       "<p>5 rows × 27 columns</p>\n",
       "</div>"
      ],
      "text/plain": [
       "                           Name                 Amusement Park   Type  \\\n",
       "0                  €uro-Coaster                  Wiener Prater  Steel   \n",
       "1                  €uro Coaster             Funland Theme Park  Steel   \n",
       "2                          1066                      Festyland  Steel   \n",
       "3   10 Inversion Roller Coaster             Chimelong Paradise  Steel   \n",
       "4  1970 Galaxy Rip Tide Coaster  Swampy Jack's Wongo Adventure  Steel   \n",
       "\n",
       "      Design     Status     Opened                  City     Region  \\\n",
       "0  Suspended    Removed  5/29/2020                Vienna     Vienna   \n",
       "1   Sit Down    Removed       2021              Somerset    England   \n",
       "2   Sit Down  Operating  3/27/2005  Bretteville-Sur-Odon   Normandy   \n",
       "3   Sit Down  Operating     2/2006             Guangzhou  Guangdong   \n",
       "4   Sit Down  Relocated  6/27/2014     Panama City Beach    Florida   \n",
       "\n",
       "          Country                     Make  ... Duration G-Force ()  \\\n",
       "0         Austria                Reverchon  ...      NaN        NaN   \n",
       "1  United Kingdom           SBF Visa Group  ...      NaN        NaN   \n",
       "2          France                   Soquet  ...     1:00        NaN   \n",
       "3           China  Intamin Amusement Rides  ...     1:32        NaN   \n",
       "4   United States                   S.D.C.  ...      NaN        NaN   \n",
       "\n",
       "  Vertical Angle (°) Uphill Length (ft) Downhill Length (ft) Δ Elevation (ft)  \\\n",
       "0                NaN                NaN                  NaN              NaN   \n",
       "1                NaN                NaN                  NaN              NaN   \n",
       "2                NaN                NaN                  NaN              NaN   \n",
       "3                NaN                NaN                  NaN              NaN   \n",
       "4                NaN                NaN                  NaN              NaN   \n",
       "\n",
       "  Airtime Points Crossings Bank Angle (°) Drop  \n",
       "0            NaN       NaN            NaN  NaN  \n",
       "1            NaN       NaN            NaN  NaN  \n",
       "2            NaN       NaN            NaN  NaN  \n",
       "3            NaN       NaN            NaN  NaN  \n",
       "4            NaN       NaN            NaN  NaN  \n",
       "\n",
       "[5 rows x 27 columns]"
      ]
     },
     "execution_count": 16,
     "metadata": {},
     "output_type": "execute_result"
    }
   ],
   "source": [
    "df.head()"
   ]
  },
  {
   "cell_type": "code",
   "execution_count": 8,
   "metadata": {},
   "outputs": [],
   "source": [
    "df = df[df['Name'] != 'unknown']\n"
   ]
  },
  {
   "cell_type": "code",
   "execution_count": 25,
   "metadata": {},
   "outputs": [
    {
     "name": "stderr",
     "output_type": "stream",
     "text": [
      "Exception in Tkinter callback\n",
      "Traceback (most recent call last):\n",
      "  File \"c:\\Users\\gabeb\\AppData\\Local\\Programs\\Python\\Python311\\Lib\\tkinter\\__init__.py\", line 1948, in __call__\n",
      "    return self.func(*args)\n",
      "           ^^^^^^^^^^^^^^^^\n",
      "  File \"C:\\Users\\gabeb\\AppData\\Local\\Temp\\ipykernel_27348\\4058786717.py\", line 41, in display_rollercoaster_info\n",
      "    if pd.notna(value):\n",
      "ValueError: The truth value of an array with more than one element is ambiguous. Use a.any() or a.all()\n",
      "C:\\Users\\gabeb\\AppData\\Local\\Temp\\ipykernel_27348\\4058786717.py:41: DeprecationWarning: The truth value of an empty array is ambiguous. Returning False, but in future this will result in an error. Use `array.size > 0` to check that an array is not empty.\n",
      "  if pd.notna(value):\n",
      "Exception in Tkinter callback\n",
      "Traceback (most recent call last):\n",
      "  File \"c:\\Users\\gabeb\\AppData\\Local\\Programs\\Python\\Python311\\Lib\\tkinter\\__init__.py\", line 1948, in __call__\n",
      "    return self.func(*args)\n",
      "           ^^^^^^^^^^^^^^^^\n",
      "  File \"C:\\Users\\gabeb\\AppData\\Local\\Temp\\ipykernel_27348\\4058786717.py\", line 41, in display_rollercoaster_info\n",
      "    if pd.notna(value):\n",
      "ValueError: The truth value of an array with more than one element is ambiguous. Use a.any() or a.all()\n",
      "Exception in Tkinter callback\n",
      "Traceback (most recent call last):\n",
      "  File \"c:\\Users\\gabeb\\AppData\\Local\\Programs\\Python\\Python311\\Lib\\tkinter\\__init__.py\", line 1948, in __call__\n",
      "    return self.func(*args)\n",
      "           ^^^^^^^^^^^^^^^^\n",
      "  File \"C:\\Users\\gabeb\\AppData\\Local\\Temp\\ipykernel_27348\\4058786717.py\", line 41, in display_rollercoaster_info\n",
      "    if pd.notna(value):\n",
      "ValueError: The truth value of an array with more than one element is ambiguous. Use a.any() or a.all()\n",
      "Exception in Tkinter callback\n",
      "Traceback (most recent call last):\n",
      "  File \"c:\\Users\\gabeb\\AppData\\Local\\Programs\\Python\\Python311\\Lib\\tkinter\\__init__.py\", line 1948, in __call__\n",
      "    return self.func(*args)\n",
      "           ^^^^^^^^^^^^^^^^\n",
      "  File \"C:\\Users\\gabeb\\AppData\\Local\\Temp\\ipykernel_27348\\4058786717.py\", line 41, in display_rollercoaster_info\n",
      "    if pd.notna(value):\n",
      "ValueError: The truth value of an array with more than one element is ambiguous. Use a.any() or a.all()\n"
     ]
    }
   ],
   "source": [
    "import pandas as pd\n",
    "import tkinter as tk\n",
    "from tkinter import messagebox, ttk\n",
    "from PIL import ImageTk, Image\n",
    "import requests\n",
    "from io import BytesIO\n",
    "\n",
    "def search_and_display_rollercoasters(df):\n",
    "    results = pd.DataFrame()  # Define results globally\n",
    "\n",
    "    # Function to filter rollercoasters based on user input\n",
    "    def filter_rollercoasters(query):\n",
    "        nonlocal results  # Use nonlocal to modify the results DataFrame\n",
    "        results = df[df.apply(lambda row: any(query.lower() in str(cell).lower() for cell in row), axis=1)]\n",
    "        return results\n",
    "\n",
    "    def display_rollercoasters(rollercoasters):\n",
    "        rollercoasters_list.delete(0, tk.END)\n",
    "        for i, (_, rollercoaster) in enumerate(rollercoasters.iterrows(), start=1):\n",
    "            rollercoasters_list.insert(tk.END, f\"{i}. {rollercoaster['Name']} - {rollercoaster['Amusement Park']}\")\n",
    "\n",
    "    def search():\n",
    "        query = query_entry.get().strip()\n",
    "        global results  # Declare results as global\n",
    "        results = filter_rollercoasters(query)\n",
    "        if results.empty:\n",
    "            messagebox.showinfo(\"Info\", \"No rollercoasters found matching the search query.\")\n",
    "        else:\n",
    "            display_rollercoasters(results)\n",
    "            display_rollercoaster_info()\n",
    "\n",
    "    def display_rollercoaster_info(event=None):\n",
    "        selection = rollercoasters_list.curselection()\n",
    "        if selection:\n",
    "            selected_index = int(selection[0])\n",
    "            if selected_index < len(results):\n",
    "                selected_coaster = results.iloc[selected_index]\n",
    "                rollercoaster_info_text.delete(1.0, tk.END)\n",
    "                for key, value in selected_coaster.items():\n",
    "                    try:\n",
    "                        if pd.notna(value):\n",
    "                            rollercoaster_info_text.insert(tk.END, f\"{key}: {value}\\n\")\n",
    "                    except TypeError:\n",
    "                        pass\n",
    "\n",
    "    def display_rollercoaster_image(coaster):\n",
    "        img_url = coaster.get('Image_URL')\n",
    "        if img_url:\n",
    "            response = requests.get(img_url)\n",
    "            if response.status_code == 200:\n",
    "                img_data = response.content\n",
    "                img = Image.open(BytesIO(img_data))\n",
    "                img = img.resize((200, 200), Image.ANTIALIAS)\n",
    "                rollercoaster_image.image = ImageTk.PhotoImage(img)\n",
    "                rollercoaster_image.config(image=rollercoaster_image.image)\n",
    "        else:\n",
    "            rollercoaster_image.config(image=\"\")  # Clear image if URL is not available\n",
    "\n",
    "    # Initialize Tkinter window\n",
    "    window = tk.Tk()\n",
    "    window.title(\"Rollercoaster Search\")\n",
    "\n",
    "    # Styling\n",
    "    window.configure(background=\"white\")\n",
    "    window.geometry(\"600x500\")\n",
    "\n",
    "    # Search query entry\n",
    "    query_label = tk.Label(window, text=\"Enter search query:\", bg=\"white\")\n",
    "    query_label.grid(row=0, column=0, padx=5, pady=5, sticky=\"w\")\n",
    "    query_entry = tk.Entry(window)\n",
    "    query_entry.grid(row=0, column=1, padx=5, pady=5)\n",
    "\n",
    "    # Search button\n",
    "    search_button = tk.Button(window, text=\"Search\", command=search)\n",
    "    search_button.grid(row=0, column=2, padx=5, pady=5)\n",
    "\n",
    "    # Rollercoasters listbox\n",
    "    rollercoasters_frame = tk.LabelFrame(window, text=\"Rollercoasters\", bg=\"white\")\n",
    "    rollercoasters_frame.grid(row=1, column=0, columnspan=3, padx=5, pady=5, sticky=\"we\")\n",
    "    rollercoasters_list = tk.Listbox(rollercoasters_frame, width=50, height=10, bg=\"white\", borderwidth=0)\n",
    "    rollercoasters_list.grid(row=0, column=0, padx=5, pady=5, sticky=\"ns\")\n",
    "    rollercoasters_list.bind(\"<<ListboxSelect>>\", display_rollercoaster_info)\n",
    "    scrollbar = tk.Scrollbar(rollercoasters_frame, orient=\"vertical\", command=rollercoasters_list.yview)\n",
    "    scrollbar.grid(row=0, column=1, sticky=\"ns\")\n",
    "    rollercoasters_list.config(yscrollcommand=scrollbar.set)\n",
    "\n",
    "    # Rollercoaster information text\n",
    "    info_frame = tk.LabelFrame(window, text=\"Rollercoaster Information\", bg=\"white\")\n",
    "    info_frame.grid(row=2, column=0, columnspan=3, padx=5, pady=5, sticky=\"we\")\n",
    "    rollercoaster_info_text = tk.Text(info_frame, width=50, height=10, bg=\"white\", wrap=\"word\", borderwidth=0)\n",
    "    rollercoaster_info_text.grid(row=0, column=0, padx=5, pady=5, sticky=\"w\")\n",
    "    scrollbar = tk.Scrollbar(info_frame, orient=\"vertical\", command=rollercoaster_info_text.yview)\n",
    "    scrollbar.grid(row=0, column=1, sticky=\"ns\")\n",
    "    rollercoaster_info_text.config(yscrollcommand=scrollbar.set)\n",
    "\n",
    "    # Rollercoaster image display\n",
    "    rollercoaster_image = tk.Label(window, bg=\"white\")\n",
    "    rollercoaster_image.grid(row=3, column=0, columnspan=3, padx=5, pady=5)\n",
    "\n",
    "    # Display window\n",
    "    window.mainloop()\n",
    "\n",
    "# Example usage:\n",
    "# Assuming df is your Pandas DataFrame containing rollercoaster information\n",
    "# Call the function passing the DataFrame as argument\n",
    "search_and_display_rollercoasters(df)\n"
   ]
  },
  {
   "cell_type": "code",
   "execution_count": null,
   "metadata": {},
   "outputs": [],
   "source": []
  }
 ],
 "metadata": {
  "kernelspec": {
   "display_name": "Python 3",
   "language": "python",
   "name": "python3"
  },
  "language_info": {
   "codemirror_mode": {
    "name": "ipython",
    "version": 3
   },
   "file_extension": ".py",
   "mimetype": "text/x-python",
   "name": "python",
   "nbconvert_exporter": "python",
   "pygments_lexer": "ipython3",
   "version": "3.11.7"
  }
 },
 "nbformat": 4,
 "nbformat_minor": 2
}
